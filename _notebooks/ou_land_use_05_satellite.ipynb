{
 "cells": [
  {
   "cell_type": "markdown",
   "id": "5c2483d8-572f-4a99-a886-7471fed4bc7f",
   "metadata": {},
   "source": [
    "# Notebook 5: Accessing satellite imagery of OU campus\n",
    "\n",
    "In previous notebooks we have begun to explore vector and raster data related to land use on the OU campus. Now we are going to learn about using Python to access and work with satellite imagery.\n",
    "\n",
    "In this notebook we will:\n",
    "\n",
    "- **acquire satellite image data** (both Sentinel-2 and Landsat) from **Microsoft's Planetary Computer**,\n",
    "- build a basic understanding of the **structure and data content** of these satellite created images,\n",
    "- explore basic **viewing and manipulation of satellite imagery**."
   ]
  },
  {
   "cell_type": "code",
   "execution_count": null,
   "id": "52b74f1b-d870-46fe-abfc-c4e0cbd9b942",
   "metadata": {},
   "outputs": [],
   "source": [
    "# Need to do some date math and need to work with file paths\n",
    "from datetime import timedelta\n",
    "from pathlib import Path"
   ]
  },
  {
   "cell_type": "code",
   "execution_count": null,
   "id": "cb70def9-94fc-4ce5-9cd7-a7e396ad8c7f",
   "metadata": {
    "Collapsed": "false"
   },
   "outputs": [],
   "source": [
    "import matplotlib.pyplot as plt\n",
    "import numpy as np\n",
    "import pandas as pd\n",
    "import geopandas as gpd"
   ]
  },
  {
   "cell_type": "code",
   "execution_count": null,
   "id": "e877a2be-80ca-4d8a-a44b-7bc29050490c",
   "metadata": {},
   "outputs": [],
   "source": [
    "from IPython.display import Image\n",
    "#from PIL import Image as PILImage"
   ]
  },
  {
   "cell_type": "code",
   "execution_count": null,
   "id": "e6acd370-9c68-49a9-885c-bb7b684033cb",
   "metadata": {},
   "outputs": [],
   "source": [
    "%matplotlib inline"
   ]
  },
  {
   "cell_type": "markdown",
   "id": "28b7056b-8e65-464e-a8d7-e6e3bbec7e39",
   "metadata": {},
   "source": [
    "The general steps we'll use to pull satellite data are:\n",
    "\n",
    "   1. Establish a connection to the Planetary Computer's STAC API using the `planetary_computer` and `pystac_client` Python packages.\n",
    "\n",
    "   2. Query the STAC API for recent scenes that capture the OU campus. We will use only Sentinel-2 L2A data.\n",
    "\n",
    "   3. Select one image that is recent and has low cloud cover."
   ]
  },
  {
   "cell_type": "markdown",
   "id": "d234fa9a-6c95-4fcd-8de1-e05d59900a5e",
   "metadata": {},
   "source": [
    "Using the Planetary Computer's STAC browswer, I searched for images containing the OU campus. I picked one from early April 1, 2024 that looked relatively cloud free. After selecting an image item, you'll be able to click on the squiqqly brackets icon to get a Python code snippet for accessing this item via the PyStac API. Here's the snippet:"
   ]
  },
  {
   "cell_type": "code",
   "execution_count": null,
   "id": "a00a123f-28ba-48e2-837c-298b26c58474",
   "metadata": {
    "scrolled": true
   },
   "outputs": [],
   "source": [
    "import pystac\n",
    "import planetary_computer\n",
    "import rioxarray\n",
    "\n",
    "item_url = \"https://planetarycomputer.microsoft.com/api/stac/v1/collections/sentinel-2-l2a/items/S2A_MSIL2A_20240401T162831_R083_T17TLH_20240402T014917\"\n",
    "\n",
    "# Load the individual item metadata and sign the assets\n",
    "item = pystac.Item.from_file(item_url)\n",
    "\n",
    "signed_item = planetary_computer.sign(item)\n",
    "\n",
    "# Open one of the data assets (other asset keys to use: 'B01', 'B02', 'B03', 'B04', 'B05', 'B06', 'B07', 'B08', 'B09', 'B11', 'B12', 'B8A', 'SCL', 'WVP', 'visual', 'preview')\n",
    "asset_href = signed_item.assets[\"AOT\"].href\n",
    "ds = rioxarray.open_rasterio(asset_href)\n",
    "ds\n",
    "\n",
    "\n"
   ]
  },
  {
   "cell_type": "markdown",
   "id": "26e9d5b9-4444-4f92-873f-7cc720cd699b",
   "metadata": {},
   "source": [
    "There's much to be learned from a careful look at this code. First, the imports.\n",
    "\n",
    "- `pystac` - we need this work work with MPC's STAC API\n",
    "- `planetary_computer` - even though MPC allows free access via the STAC API, we need this library in order to *sign* the item we are trying to retrieve. As we'll see later, this results in a long token string getting appended to the item URL. More on signing later.\n",
    "- `rioxarray` - as we saw in the introduction to raster data, rioxarray is needed to open the actual raster image file and tuck it into an xarray `DataArray`."
   ]
  },
  {
   "cell_type": "markdown",
   "id": "bc31738f-0c38-4ba3-8b19-c51f374c7cdd",
   "metadata": {},
   "source": [
    "Now for the `item_url`. It looks like this:\n",
    "\n",
    "    https://planetarycomputer.microsoft.com/api/stac/v1/collections/sentinel-2-l2a/items/\n",
    "    S2A_MSIL2A_20240401T162831_R083_T17TLH_20240402T014917\n",
    "    \n",
    "We see from the URL that:\n",
    "\n",
    "- we are going to be using the STAC API\n",
    "- this image is from the Sentinel-2 mission\n",
    "- this is Level 2A data\n",
    "- this particular image is one of a larger collection of image items\n",
    "- the particular image has a unique id of `S2A_MSIL2A_20240401T162831_R083_T17TLH_20240402T014917`\n",
    "\n",
    "Notice that the *datatake sensing time* (a date and time) are embedded in the `id`. The `id` naming conventions are explained at [https://sentinels.copernicus.eu/web/sentinel/user-guides/sentinel-2-msi/naming-convention](https://sentinels.copernicus.eu/web/sentinel/user-guides/sentinel-2-msi/naming-convention) which also includes links to detailed product specification pages.\n",
    "\n",
    "The `S2A` is the *mission id* and the `MSIL2A` is:\n",
    "\n",
    "> MSIL2A denotes the Level-2A product level\n",
    "\n",
    "The `R083` is is the *relative orbit number* and the `T17TLH` is a *tile number field* and the second datetime is:\n",
    "\n",
    "> The second date is the \\<Product Discriminator> field, which is 15 characters in length, and is used to distinguish between different end user products from the same datatake. Depending on the instance, the time in this field can be earlier or slightly later than the datatake sensing time.\n"
   ]
  },
  {
   "cell_type": "markdown",
   "id": "70924107-f720-4bd8-a978-8e13267b266a",
   "metadata": {},
   "source": [
    "Grab the image item and sign it.\n",
    "\n",
    "```python\n",
    "item = pystac.Item.from_file(item_url)\n",
    "signed_item = planetary_computer.sign(item)\n",
    "```\n",
    "\n",
    "We are just passing the URL for the item we want and using `pystac` to get it and `planetary_computer` to sign it. If it's not signed, we won't be able to access its details. Let's explore this PyStac `Item` object."
   ]
  },
  {
   "cell_type": "code",
   "execution_count": null,
   "id": "994e79cb-b9eb-49f7-9ce8-65351259b8bb",
   "metadata": {},
   "outputs": [],
   "source": [
    "print(signed_item)"
   ]
  },
  {
   "cell_type": "markdown",
   "id": "104e82e0-162e-4f7e-a616-5f0b87d22f07",
   "metadata": {},
   "source": [
    "What about the attributes of an `Item`?"
   ]
  },
  {
   "cell_type": "code",
   "execution_count": null,
   "id": "1825ce6f-3047-43db-8e75-40378700c9c1",
   "metadata": {
    "tags": []
   },
   "outputs": [],
   "source": [
    "[att for att in dir(signed_item) if not att.startswith('_')]"
   ]
  },
  {
   "cell_type": "markdown",
   "id": "6b83af9c-bd34-4270-8d64-3fef07608e5e",
   "metadata": {},
   "source": [
    "Let's check out a few basic things."
   ]
  },
  {
   "cell_type": "code",
   "execution_count": null,
   "id": "8c5ed396-2c07-47b0-9c57-aa848c091f11",
   "metadata": {},
   "outputs": [],
   "source": [
    "print(f'The item is id {signed_item.id}')\n",
    "print(f'The bounding box for this item is {signed_item.bbox}')"
   ]
  },
  {
   "cell_type": "code",
   "execution_count": null,
   "id": "8e764b6b-7f70-4d64-9454-fe6f7c97b49c",
   "metadata": {},
   "outputs": [],
   "source": [
    "signed_item.self_href"
   ]
  },
  {
   "cell_type": "markdown",
   "id": "1a7b28e7-8fe7-49e3-b8db-2ace9cea5343",
   "metadata": {},
   "source": [
    "The `properties` property is a dictionary containing quite a bit of information."
   ]
  },
  {
   "cell_type": "code",
   "execution_count": null,
   "id": "aaa0a429-7e13-4dc4-9796-61730ad8a1cd",
   "metadata": {},
   "outputs": [],
   "source": [
    "signed_item.properties"
   ]
  },
  {
   "cell_type": "markdown",
   "id": "73fdde6c-15b6-4d93-a1f9-e46607977b66",
   "metadata": {},
   "source": [
    "The `'proj:epsg': 32617` corresponds to the WGS 84 / UTM zone 17N coordinate reference system. See [https://epsg.io/32617](https://epsg.io/32617). The units are in meters. "
   ]
  },
  {
   "cell_type": "markdown",
   "id": "5adc4fc2-2ca4-4e04-9a40-b112dabe2cc4",
   "metadata": {},
   "source": [
    "The actual data we are after lives in the `assets` dictionary. Before diving in, let's see what assets are available."
   ]
  },
  {
   "cell_type": "code",
   "execution_count": null,
   "id": "c45c67bc-a9fa-4dde-9de1-3d3d39448b5b",
   "metadata": {},
   "outputs": [],
   "source": [
    "for asset_key, asset in signed_item.assets.items():\n",
    "    print(f\"{asset_key:<25} - {asset.title}\")"
   ]
  },
  {
   "cell_type": "markdown",
   "id": "c162710a-1b61-41c5-9a26-def6b7a3cb77",
   "metadata": {
    "tags": []
   },
   "source": [
    "There are visible bands (red, green, and blue), as well as a number of other spectral ranges and a few algorithmic bands. The Sentinel-2 [mission guide](https://docs.sentinel-hub.com/api/latest/data/sentinel-2-l2a/#available-bands-and-data) has more details about what these bands are and how to use them.\n",
    "\n",
    "The SLC, AOT (haze), and WVP are considered *Quality Assurance* bands and can be useful in filtering out low quality images. See [https://docs.digitalearthafrica.org/en/latest/data_specs/Sentinel-2_Level-2A_specs.html](https://docs.digitalearthafrica.org/en/latest/data_specs/Sentinel-2_Level-2A_specs.html)\n",
    "for a nice summary of these."
   ]
  },
  {
   "cell_type": "markdown",
   "id": "6224a004-5a24-4b4b-99a2-276b6c1acc4e",
   "metadata": {
    "tags": []
   },
   "source": [
    "As we'll soon see, the `visual` band contains the red, green, and blue bands (not surprising). The `rendered_preview` is a png file. So, that is pretty straightforward to view using `IPython.display.Image`."
   ]
  },
  {
   "cell_type": "code",
   "execution_count": null,
   "id": "19a001f8-5810-4b4e-b9fc-b3acb7bfeba4",
   "metadata": {
    "scrolled": true
   },
   "outputs": [],
   "source": [
    "Image(url=signed_item.assets['rendered_preview'].href)"
   ]
  },
  {
   "cell_type": "markdown",
   "id": "b5ad48e7-4860-41ef-96b7-f78ffec85e9f",
   "metadata": {},
   "source": [
    "Obviously, we are only interested in a small portion of this image. In a future notebook, we'll learn how to *clip* or *crop* images using **rioxarray**. \n",
    "\n",
    "Also, we manually found our area of interest and obtained the code snippet for acquiring that image based on a specific URL. Now, let's learn how to do this programmatically by finding images that intersect our area of interest."
   ]
  },
  {
   "cell_type": "markdown",
   "id": "2d2d9830-77fc-4f4c-9d85-19eaa8354b12",
   "metadata": {},
   "source": [
    "# Code driven search for images with the STAC API\n",
    "\n",
    "We used the Planetary Computer's Explore feature to find an image of interest. Now, we'll use a bounding box along with a date range to find all the images available for that location at that time. For the bounding box, we'll use the bounds we found for the OU campus polygon back in the **ou_land_use_03_crs.ipynb** notebook.\n"
   ]
  },
  {
   "cell_type": "code",
   "execution_count": null,
   "id": "733bf4f5-02cb-4852-b53b-2cbf8df5b6a9",
   "metadata": {},
   "outputs": [],
   "source": [
    "ou_boundary_file = Path('../data', 'ou_boundary.geojson')\n",
    "ou_boundary_gdf = gpd.read_file(ou_boundary_file)\n",
    "bbox = ou_boundary_gdf.total_bounds\n",
    "bbox"
   ]
  },
  {
   "cell_type": "markdown",
   "id": "631ff5d5-5fcb-4577-99ee-d1f90566d738",
   "metadata": {},
   "source": [
    "We can pass a date range to the Planetary Computer as a string such as `2024-02-29/2024-03-30`. Let's create a function in which we can pass an end date and the number of days back to include in the search."
   ]
  },
  {
   "cell_type": "code",
   "execution_count": null,
   "id": "d4145c48-93f1-4ce9-9f6f-8b9f31f0d55f",
   "metadata": {},
   "outputs": [],
   "source": [
    "# get our date range to search, and format correctly for query\n",
    "def get_date_range(end_date, time_buffer_days=10):\n",
    "    \"\"\"Get a date range to search for in the planetary computer based\n",
    "    on a sample's date. The time range will include the sample date\n",
    "    and time_buffer_days days prior\n",
    "\n",
    "    Returns a string\"\"\"\n",
    "    datetime_format = \"%Y-%m-%d\"\n",
    "    range_start = pd.to_datetime(end_date) - timedelta(days=time_buffer_days)\n",
    "    date_range = f\"{range_start.strftime(datetime_format)}/{pd.to_datetime(end_date).strftime(datetime_format)}\"\n",
    "\n",
    "    return date_range"
   ]
  },
  {
   "cell_type": "code",
   "execution_count": null,
   "id": "6825bfee-80b6-4b21-bdca-a53bbe6cbce3",
   "metadata": {},
   "outputs": [],
   "source": [
    "target_date = \"2024-04-03\""
   ]
  },
  {
   "cell_type": "code",
   "execution_count": null,
   "id": "772a9788-86ba-4c17-9aab-b85467fc2045",
   "metadata": {},
   "outputs": [],
   "source": [
    "target_date_range = get_date_range(target_date, time_buffer_days=10)\n",
    "target_date_range"
   ]
  },
  {
   "cell_type": "markdown",
   "id": "2ed291c1-3937-4ff8-af1a-c4757fba1f6d",
   "metadata": {},
   "source": [
    "This next step essentially \"signs in\" to the MPC catalog of data so that we can search and acquire the data we are interested in."
   ]
  },
  {
   "cell_type": "code",
   "execution_count": null,
   "id": "e27fb1ab-be62-444b-bc33-3cdadbd90bad",
   "metadata": {},
   "outputs": [],
   "source": [
    "# Establish a connection to the STAC API\n",
    "from pystac_client import Client"
   ]
  },
  {
   "cell_type": "code",
   "execution_count": null,
   "id": "c67ee9b7-4382-4d98-a585-55eaa79b458e",
   "metadata": {},
   "outputs": [],
   "source": [
    "catalog = Client.open(\n",
    "    \"https://planetarycomputer.microsoft.com/api/stac/v1\", modifier=planetary_computer.sign_inplace\n",
    ")\n",
    "\n",
    "catalog"
   ]
  },
  {
   "cell_type": "markdown",
   "id": "777573ba-bc67-4125-bf0b-1b0989f415bb",
   "metadata": {},
   "source": [
    "To search the catalog we will supply three different types of criteria:\n",
    "\n",
    "- which collections to search (e.g. \"sentinel-2-l2a\")\n",
    "- a bounding box of coordinates\n",
    "- a date range\n",
    "\n",
    "Any item with the specified collection(s), that intersect the bounding box and were acquired within the date range will be returned."
   ]
  },
  {
   "cell_type": "code",
   "execution_count": null,
   "id": "ef34d927-fa47-48d7-87a3-ae847203dc83",
   "metadata": {
    "tags": []
   },
   "outputs": [],
   "source": [
    "#help(Client.search)"
   ]
  },
  {
   "cell_type": "code",
   "execution_count": null,
   "id": "bf7582bc-b11e-4800-9e94-1d0d8057c6c3",
   "metadata": {},
   "outputs": [],
   "source": [
    "# search the planetary computer sentinel-l2a collection\n",
    "search = catalog.search(\n",
    "    collections=[\"sentinel-2-l2a\"], bbox=bbox, datetime=target_date_range\n",
    ")\n",
    "\n",
    "# see how many items were returned\n",
    "items = search.item_collection()\n",
    "print(f'{len(items)} items found')\n",
    "print(f'items is a {type(items)}')\n",
    "print(f'items[0] is a {type(items[0])}')"
   ]
  },
  {
   "cell_type": "markdown",
   "id": "01e2cb07-0669-48d6-bce2-23c0db52fbcf",
   "metadata": {},
   "source": [
    "Great, it worked. By looking at the `id` values, we can see the specific Sentinel-2 images we found."
   ]
  },
  {
   "cell_type": "code",
   "execution_count": null,
   "id": "b01f7bd2-a5c2-4800-a808-0f80c40b0846",
   "metadata": {},
   "outputs": [],
   "source": [
    "for item in items:\n",
    "    print(item.id)"
   ]
  },
  {
   "cell_type": "markdown",
   "id": "4ffe4bdf-329a-4fc1-a119-90ad45fbc03c",
   "metadata": {},
   "source": [
    "Look at the properties for one of the items."
   ]
  },
  {
   "cell_type": "code",
   "execution_count": null,
   "id": "c9b1dbcd-4166-4fe5-bad6-6dce4966e13b",
   "metadata": {},
   "outputs": [],
   "source": [
    "# Sentinel-2 item\n",
    "items[0].properties"
   ]
  },
  {
   "cell_type": "markdown",
   "id": "151d7167-0a8a-4456-91b8-6d4aebed087a",
   "metadata": {},
   "source": [
    "We can use the `eo` extension to sort by cloudiness."
   ]
  },
  {
   "cell_type": "code",
   "execution_count": null,
   "id": "e5b55774-e175-4b9b-a163-a2894e48dae7",
   "metadata": {},
   "outputs": [],
   "source": [
    "selected_item = min(items, key=lambda item: item.properties[\"eo:cloud_cover\"])\n",
    "print(selected_item)\n",
    "print(selected_item.properties[\"eo:cloud_cover\"])"
   ]
  },
  {
   "cell_type": "markdown",
   "id": "644558b0-0d04-45e0-b469-5e07e6e7082a",
   "metadata": {},
   "source": [
    "### Previewing the item imagery"
   ]
  },
  {
   "cell_type": "markdown",
   "id": "4a151075-77b2-4ba1-993b-7671d2d12cac",
   "metadata": {},
   "source": [
    "As we saw earlier, each STAC item has one or more [Assets](https://github.com/radiantearth/stac-spec/blob/master/item-spec/item-spec.md#asset-object), which include links to the actual files.\n",
    "\n",
    "Let's take a look at the `rendered_preview` asset as it contains the viewable image that we are interested in right now. You might wonder what all those other spectral bands are used or. We'll revisit that topic later."
   ]
  },
  {
   "cell_type": "code",
   "execution_count": null,
   "id": "b9590b87-15ba-4774-9603-101c0bfcf8dc",
   "metadata": {},
   "outputs": [],
   "source": [
    "selected_item.assets[\"rendered_preview\"].to_dict()"
   ]
  },
  {
   "cell_type": "markdown",
   "id": "483f5fa4-e66e-4ad8-9c36-387c4f82aaf0",
   "metadata": {},
   "source": [
    "Ah, so the `href` key contains the URL of the actual image file (a png file). Let's take a look!"
   ]
  },
  {
   "cell_type": "code",
   "execution_count": null,
   "id": "8956d4cc-b6be-4b69-930e-54ce3ca52ace",
   "metadata": {},
   "outputs": [],
   "source": [
    "Image(url=selected_item.assets[\"rendered_preview\"].href, width=500)"
   ]
  },
  {
   "cell_type": "markdown",
   "id": "5f3673ff-61ba-4dce-a2ba-febd22175b85",
   "metadata": {},
   "source": [
    "You can see the clouds near the top of the image. Hopefully, they aren't over the OU campus. \n",
    "\n",
    "Now let's take a look at the `visual` asset. This is raw data and is stored in what is known as a [cloud optimized GeoTIFF (COG)](https://www.cogeo.org/) in Azure Blog Storage.\n",
    "\n"
   ]
  },
  {
   "cell_type": "code",
   "execution_count": null,
   "id": "fd04507b-ef7c-4360-bb53-c2624e06bb8e",
   "metadata": {},
   "outputs": [],
   "source": [
    "selected_item.assets[\"visual\"].to_dict()"
   ]
  },
  {
   "cell_type": "markdown",
   "id": "b63c3aed-49b7-486a-839e-7d88d8f0f16b",
   "metadata": {},
   "source": [
    "A few things to note:\n",
    "\n",
    "- This is the 'True color image', so we'd expect to find red, green and blue bands included in it.\n",
    "- Yep, the three included bands are B04, B03, and B02 (red, green and blue).\n",
    "- The raster is 10980 rows by 10980 columns.\n",
    "- The bounding box is expressed in a projected CRS set of coordinates (i.e. those aren't lat-lon values). Earlier we saw that this item uses EPSG:32617 (WGS84 UTM Zone 17N).\n",
    "- There is a URL from which we can grab the TIFF file.\n",
    "\n",
    "Obviously, this image contains much more data than we actually need. How can we select just the part of the raster corresponding to the OU campus? We'll address this in the next section on raster file manipulation.\n",
    "\n",
    "Before ending this notebook, let's save the `visual` asset as a GeoTIFF to disk. "
   ]
  },
  {
   "cell_type": "code",
   "execution_count": null,
   "id": "2baf4955-eb89-48b3-ba91-632d052fed4f",
   "metadata": {},
   "outputs": [],
   "source": [
    "import requests"
   ]
  },
  {
   "cell_type": "code",
   "execution_count": null,
   "id": "65f7e0a1-5589-4ae6-b3d1-a1dac4e30e8d",
   "metadata": {},
   "outputs": [],
   "source": [
    "signed_href = signed_item.assets['visual'].href"
   ]
  },
  {
   "cell_type": "markdown",
   "id": "3f4bd7df-eabc-401a-92ef-d96a67168e85",
   "metadata": {},
   "source": [
    "We'll keep the original filename and we can extract it from the URL by splitting on the `'?'` and then using Pathlib's `name` attribute."
   ]
  },
  {
   "cell_type": "code",
   "execution_count": null,
   "id": "d0f3decd-eaca-4927-b5f1-f0a15b2bdf4f",
   "metadata": {},
   "outputs": [],
   "source": [
    "base_url = signed_item.assets['visual'].href.split('?')[0]\n",
    "print(base_url)\n",
    "filename = Path(base_url).name\n",
    "print(filename)"
   ]
  },
  {
   "cell_type": "markdown",
   "id": "5fdf1ee1-20da-4692-85d2-2425986cc4d0",
   "metadata": {},
   "source": [
    "Ok, let's save it in the `../data` subfolder.\n"
   ]
  },
  {
   "cell_type": "code",
   "execution_count": null,
   "id": "ea5c8b43-89eb-4032-89af-95cfa2e32c2b",
   "metadata": {},
   "outputs": [],
   "source": [
    "# use requests to grab the file and write it out\n",
    "\n",
    "redownload = False # Avoiding redownloading after we've done it once.\n",
    "\n",
    "if redownload:\n",
    "    response = requests.get(signed_href)\n",
    "    with open(Path('../data', filename), \"wb\") as f:\n",
    "        f.write(response.content)"
   ]
  },
  {
   "cell_type": "markdown",
   "id": "1e677dba-d95a-4c8e-aba1-6d197a47296f",
   "metadata": {},
   "source": [
    "Now, this is a big file (>130Mb). Not surprising as it's approximately a 10k by 10k matrix with 3 bands. Later we will learn how to find just the part of large TIFF files that we need."
   ]
  },
  {
   "cell_type": "markdown",
   "id": "b7907997-b062-44ba-84e1-11bd6d09a282",
   "metadata": {},
   "source": [
    "### Using rioxarray to load a satellite image\n",
    "\n",
    "One of the bands in the Sentinel-2 COGs is B08, the near infrared band. This band is used in computing things like the NVDI, a commonly used vegetation index for classifying raster data."
   ]
  },
  {
   "cell_type": "code",
   "execution_count": null,
   "id": "501d8234-0205-4e83-b1cf-5619051bab35",
   "metadata": {},
   "outputs": [],
   "source": [
    "nir_href = signed_item.assets['B08'].href"
   ]
  },
  {
   "cell_type": "code",
   "execution_count": null,
   "id": "8db754b1-5bfc-4ba3-b0f4-3775ab4e7f40",
   "metadata": {},
   "outputs": [],
   "source": [
    "import rioxarray"
   ]
  },
  {
   "cell_type": "code",
   "execution_count": null,
   "id": "873318cb-a35d-4d9f-bcba-85eef8a4cd73",
   "metadata": {},
   "outputs": [],
   "source": [
    "nir_da = rioxarray.open_rasterio(nir_href)\n",
    "nir_da"
   ]
  },
  {
   "cell_type": "code",
   "execution_count": null,
   "id": "b45f13e1-1738-4e10-8ad6-af69c2dcd3dc",
   "metadata": {},
   "outputs": [],
   "source": [
    "base_url = signed_item.assets['B08'].href.split('?')[0]\n",
    "print(base_url)\n",
    "filename = Path(base_url).name\n",
    "print(filename)"
   ]
  },
  {
   "cell_type": "markdown",
   "id": "3199eca2-3689-40ef-8277-d032242e5133",
   "metadata": {},
   "source": [
    "Now we can save it to disk using the `to_raster()` function in **rioxarray**."
   ]
  },
  {
   "cell_type": "code",
   "execution_count": null,
   "id": "3516b8f5-9670-4553-9900-b5a3aa000234",
   "metadata": {},
   "outputs": [],
   "source": [
    "#nir_da.rio.to_raster(Path('../data/', filename))"
   ]
  },
  {
   "cell_type": "markdown",
   "id": "4293f5cc-68df-4822-ac8e-f6078cb2dca9",
   "metadata": {},
   "source": [
    "Let's plot it to see what it looks like. However, this is a huge raster and may very well crash our Jupyter kernel. So, let's just plot a subset of it."
   ]
  },
  {
   "cell_type": "code",
   "execution_count": null,
   "id": "b5d83001-646e-40cf-947d-b93ab1d1541a",
   "metadata": {},
   "outputs": [],
   "source": [
    "nir_da[0, 3000:3100, 3000:3100].plot()"
   ]
  },
  {
   "cell_type": "markdown",
   "id": "b971edfd-fedd-4db3-859c-9fc353ea5be1",
   "metadata": {},
   "source": [
    "### Landsat challenge\n",
    "\n",
    "Repeat the above search for satellite images, but only search the Landsat Level 2 collection (\"landsat-c2-l2\"). Some questions and tasks to attempt:\n",
    "\n",
    "- Does the Landsat item contain a visual asset like Sentinel?\n",
    "- Plot the rendered preview\n",
    "- What is the resolution of Landsat images and what property tells us this?\n",
    "\n",
    "The following two resources have some useful information but are not critical to completing the task.\n",
    "\n",
    "- [https://bitsofanalytics.org/posts/algaebloom-part3/#what-about-those-landsat-images](https://bitsofanalytics.org/posts/algaebloom-part3/#what-about-those-landsat-images)\n",
    "- [https://planetarycomputer.microsoft.com/docs/quickstarts/reading-stac/](https://planetarycomputer.microsoft.com/docs/quickstarts/reading-stac/)\n",
    "\n"
   ]
  },
  {
   "cell_type": "markdown",
   "id": "8063160f-750f-456a-b873-b0b44ee41fa5",
   "metadata": {
    "jp-MarkdownHeadingCollapsed": true,
    "tags": []
   },
   "source": [
    "### Answer"
   ]
  },
  {
   "cell_type": "code",
   "execution_count": null,
   "id": "d1b560b5-690a-41cf-8f4c-645a87e27b60",
   "metadata": {},
   "outputs": [],
   "source": [
    "catalog = Client.open(\n",
    "    \"https://planetarycomputer.microsoft.com/api/stac/v1\", modifier=planetary_computer.sign_inplace\n",
    ")\n",
    "\n",
    "search = catalog.search(\n",
    "    collections=[\"landsat-c2-l2\"], bbox=bbox, datetime=target_date_range\n",
    ")\n",
    "\n",
    "# see how many items were returned\n",
    "items_landsat = search.item_collection()\n",
    "print(f'{len(items_landsat)} items found')\n",
    "print(f'items_landsat is a {type(items_landsat)}')\n",
    "print(f'items_landsat[0] is a {type(items_landsat[0])}')"
   ]
  },
  {
   "cell_type": "markdown",
   "id": "01ccc73d-1c81-4e52-a77e-62504a209266",
   "metadata": {},
   "source": [
    "Great, it worked. By looking at the `id` values, we can see the specific Sentinel-2 images we found."
   ]
  },
  {
   "cell_type": "code",
   "execution_count": null,
   "id": "d49d49ce-0853-4a63-b86d-12b1f158c1eb",
   "metadata": {},
   "outputs": [],
   "source": [
    "for item in items_landsat:\n",
    "    print(item.id)"
   ]
  },
  {
   "cell_type": "markdown",
   "id": "2481114c-4430-487c-8c43-52cf29122546",
   "metadata": {},
   "source": [
    "Look at the properties for one of the items."
   ]
  },
  {
   "cell_type": "code",
   "execution_count": null,
   "id": "6351b3dd-ac8e-46e3-bee6-0e5457e2920d",
   "metadata": {},
   "outputs": [],
   "source": [
    "# Sentinel-2 item\n",
    "item.properties"
   ]
  },
  {
   "cell_type": "markdown",
   "id": "e32edb13-d205-4d55-894b-e1c40f6bc9e1",
   "metadata": {},
   "source": [
    "Let's look at the `assets`.\n"
   ]
  },
  {
   "cell_type": "code",
   "execution_count": null,
   "id": "e7fd3c25-cda9-420b-a2cf-afb9b083f14b",
   "metadata": {},
   "outputs": [],
   "source": [
    "for asset_key, asset in item.assets.items():\n",
    "    print(f\"{asset_key:<25} - {asset.title}\")"
   ]
  },
  {
   "cell_type": "markdown",
   "id": "181ba67a-8218-4f65-a0da-c1b05fdd2223",
   "metadata": {},
   "source": [
    "Yep, some of the assets are different, though some are shared. \n",
    "\n",
    "- Sentinel-2 contains a 'visual' band that includes the red, green, and blue bands\n",
    "- Landsat has individual red, green and blue bands, but not a convenient 'visual' band\n",
    "- The `gsd` property of the Landsat item indicates that the resolution is 30m. Sentinel-2 gives us 10m resolution for several of the bands."
   ]
  },
  {
   "cell_type": "code",
   "execution_count": null,
   "id": "0196fe6a-3b7a-413e-8217-b228f44abacd",
   "metadata": {},
   "outputs": [],
   "source": [
    "Image(url=item.assets[\"rendered_preview\"].href, width=500)"
   ]
  }
 ],
 "metadata": {
  "kernelspec": {
   "display_name": "Python [conda env:geonewb]",
   "language": "python",
   "name": "conda-env-geonewb-py"
  },
  "language_info": {
   "codemirror_mode": {
    "name": "ipython",
    "version": 3
   },
   "file_extension": ".py",
   "mimetype": "text/x-python",
   "name": "python",
   "nbconvert_exporter": "python",
   "pygments_lexer": "ipython3",
   "version": "3.10.14"
  }
 },
 "nbformat": 4,
 "nbformat_minor": 5
}
