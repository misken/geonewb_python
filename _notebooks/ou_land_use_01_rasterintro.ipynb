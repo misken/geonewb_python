{
 "cells": [
  {
   "cell_type": "markdown",
   "id": "5c2483d8-572f-4a99-a886-7471fed4bc7f",
   "metadata": {},
   "source": [
    "# Notebook 1: Introduction to the land use analysis case and to raster data\n",
    "\n",
    "We are going to do a simple land use analysis of the Oakland University (OU) campus. We will look at current land use and how it has changed over the past twenty years. If you think about how land is used on campus, you might list some of the common uses as:\n",
    "\n",
    "- buildings\n",
    "- parking lots\n",
    "- sports facilities\n",
    "- sidewalks\n",
    "- roads\n",
    "- golf courses\n",
    "- green space\n",
    "\n",
    "Over the course of several Jupyter notebooks we will explore these questions in more detail as we learn the basic of geospatial data and analysis. There is a wealth of freely available data, in both raster and vector formats. Let's start by learning about the National Land Cover Database."
   ]
  },
  {
   "cell_type": "markdown",
   "id": "616eafb1-6deb-4c8e-a3cd-b2cb0a5fbbfd",
   "metadata": {
    "tags": []
   },
   "source": [
    "## National Land Cover Database\n",
    "\n",
    "> The National Land Cover Database (NLCD) provides nationwide data on land cover and land cover change at a 30m resolution with a 16-class legend based on a modified Anderson Level II classification system. The database is designed to provide cyclical updates of United States land cover and associated changes. Systematically aligned over time, the database provides the ability to understand both current and historical land cover and land cover change, and enables monitoring and trend assessments. The latest evolution of NLCD products are designed for widespread application in biology, climate, education, land management, hydrology, environmental planning, risk and disease analysis, telecommunications and visualization.\n",
    "\n",
    "**Source:** [https://www.mrlc.gov/data/type/land-cover](https://www.mrlc.gov/data/type/land-cover)\n",
    "\n",
    "**Main site:** [https://www.usgs.gov/centers/eros/science/national-land-cover-database](https://www.usgs.gov/centers/eros/science/national-land-cover-database)"
   ]
  },
  {
   "cell_type": "markdown",
   "id": "06778f24-ffe4-4767-a5ca-893ea9e0dcd0",
   "metadata": {},
   "source": [
    "A few things to note from the quote above:\n",
    "\n",
    "- the NLCD covers the entire nation,\n",
    "- it's raster data with pixels being 30m on each side,\n",
    "- the raster values are discrete values based on a modification of a standard land use classification scale,\n",
    "- data is available at different points in time.\n",
    "\n",
    "There's a bunch of things that need to be done in order be able to easily use this data to look at the land use on our campus. But, we'll skip those details for now and just work with one GeoTIFF file that I've already created for us. This file is named `ou_land_cover_2021.tif` and you can find it in the `data` subfolder. As you can tell from the filename, this data is for 2021, the latest data available in the NLCD.\n",
    "\n",
    "This is raster data, so we expect that there are going to be arrays involved. TIFF files also contain spatial metadata that will be extremely important later. So, how do we read and explore this file? You might have guessed that numpy would be involved. It is, in some ways, but there are libraries specifically designed to work with multidimensional raster data. The two we will use are **xarray** and **rioxarray**."
   ]
  },
  {
   "cell_type": "markdown",
   "id": "8a57cfba-fc4c-4f25-ba74-248c88b2c667",
   "metadata": {
    "tags": []
   },
   "source": [
    "## xarray and rioxarray\n",
    "\n",
    "### [xarray](https://docs.xarray.dev/en/stable/) - work with labelled multidimension arrays\n",
    "\n",
    "Xarray builds on top of NumPy N-d arrays and adds ability to create and work with labels for the dimensions. \n",
    "\n",
    "> Xarray makes working with labelled multi-dimensional arrays in Python simple, efficient, and fun!\n",
    "\n",
    "The two main data structures are `DataArray` (an N-d generalization of a `pandas.Series`) and `DataSet` (an N-d generalization of a `pandas.DataFrame`). The [Overview: Why xarray?](https://docs.xarray.dev/en/stable/getting-started-guide/why-xarray.html) page has a nice level of detail on the case for xarray and its link to geospatial analysis.\n",
    "\n",
    "### [rioxarray](https://corteva.github.io/rioxarray/html/readme.html) - read raster data into xarray objects\n",
    "\n",
    "The rioxarray package extends the xarray package to facilitate reading raster data into xarray objects. The actual reading of the raster file is done using another Python package known as [rasterio](https://rasterio.readthedocs.io/en/latest/). From the rasterio docs:\n",
    "\n",
    "> Geographic information systems use GeoTIFF and other formats to organize and store gridded raster datasets such as satellite imagery and terrain models. Rasterio reads and writes these formats and provides a Python API based on Numpy N-dimensional arrays and GeoJSON.\n",
    "\n",
    "> Before Rasterio there was one Python option for accessing the many different kind of raster data files used in the GIS field: the Python bindings distributed with the Geospatial Data Abstraction Library, GDAL. These bindings extend Python, but provide little abstraction for GDAL’s C API. This means that Python programs using them tend to read and run like C programs. \n",
    "\n",
    "We will learn more about GDAL later in the module.\n"
   ]
  },
  {
   "cell_type": "markdown",
   "id": "b51f96a2-0cfa-4147-98fc-65451d62a2e9",
   "metadata": {},
   "source": [
    "## Reading a GeoTIFF file"
   ]
  },
  {
   "cell_type": "code",
   "execution_count": null,
   "id": "fe8082e9-e4f0-4aab-bd84-2d2c32eb783e",
   "metadata": {},
   "outputs": [],
   "source": [
    "# Load libraries\n",
    "from pathlib import Path\n",
    "import matplotlib.pyplot as plt\n",
    "import numpy as np\n"
   ]
  },
  {
   "cell_type": "markdown",
   "id": "36134419-1c78-4b6d-b421-22bf40ddadb0",
   "metadata": {},
   "source": [
    "We also need to import rioxarray."
   ]
  },
  {
   "cell_type": "code",
   "execution_count": null,
   "id": "fd263508-bc6b-41fb-a5c8-cf8b5f96b860",
   "metadata": {},
   "outputs": [],
   "source": [
    "import rioxarray"
   ]
  },
  {
   "cell_type": "markdown",
   "id": "d26069d3-7a28-43da-9103-dd8d57e6107b",
   "metadata": {},
   "source": [
    "Use rioxarray's [open_rasterio()](https://corteva.github.io/rioxarray/html/rioxarray.html) method to read the TIFF file into an xarray `DataArray`. This function has numerous optional input arguments, but for our file we can simply pass in the path to the file and leave everything else at their default values."
   ]
  },
  {
   "cell_type": "code",
   "execution_count": null,
   "id": "6055f57b-cd3e-4bed-927e-969ed33e1e65",
   "metadata": {},
   "outputs": [],
   "source": [
    "ou_landcover_2021_da = rioxarray.open_rasterio(Path(Path.cwd(), '../data', 'ou_land_cover_2021.tif'))\n",
    "ou_landcover_2021_da"
   ]
  },
  {
   "cell_type": "markdown",
   "id": "c94a7284-f163-4c1b-82ef-bfe80ec56680",
   "metadata": {},
   "source": [
    "We've got ourselves a `DataArray` containing the raster data."
   ]
  },
  {
   "cell_type": "markdown",
   "id": "9e9d1893-e018-4da0-a28c-abfbad8aca7e",
   "metadata": {
    "tags": []
   },
   "source": [
    "## Working with `DataArray` objects\n",
    "\n",
    "From the output above we can see that `ou_landcover_2021_da` consists of a single band with an associated data matrix for that band. Use the `shape` property to see the matrix dimensions."
   ]
  },
  {
   "cell_type": "code",
   "execution_count": null,
   "id": "cbd90b85-10b6-42a7-a061-8c802b73b193",
   "metadata": {},
   "outputs": [],
   "source": [
    "ou_landcover_2021_da.shape"
   ]
  },
  {
   "cell_type": "markdown",
   "id": "84a232cc-9e05-421d-b280-3258a20ce447",
   "metadata": {},
   "source": [
    "The first dimension is the band, the second is associated with latitude (`y`) and the third is associated with longitude (`x`). So, our matrix has 166 rows and 375 columns.\n",
    "\n",
    "To get at the actual values we use the `values` property of the `DataArray`. For TIFFs with multiple bands, each band has an associated (y, x) matrix."
   ]
  },
  {
   "cell_type": "code",
   "execution_count": null,
   "id": "f160507f-939d-43bb-a730-49c0f9c3de11",
   "metadata": {},
   "outputs": [],
   "source": [
    "ou_landcover_2021_da.values"
   ]
  },
  {
   "cell_type": "markdown",
   "id": "d0096633-2f49-4288-bb46-01824abebd8d",
   "metadata": {},
   "source": [
    "What is the data type of this matrix?"
   ]
  },
  {
   "cell_type": "code",
   "execution_count": null,
   "id": "dce5b10b-d714-44a6-b150-d8d1ed4ae47f",
   "metadata": {},
   "outputs": [],
   "source": [
    "type(ou_landcover_2021_da.values)"
   ]
  },
  {
   "cell_type": "markdown",
   "id": "ff9f43f3-e956-4ec1-8b4c-35c1e9bb2fe2",
   "metadata": {},
   "source": [
    "Ah, so **xarray** is using **numpy** under the hood. That means we can use standard **numpy** methods to explore and modify the array. By now, you've probably realized that this array is the raster data. That's it. Raster data is just an array of values. Well, there's a little more to it. In a bit we'll look at the actual `x` and `y` coordinate values.\n",
    "\n",
    "In this case, the array values are discrete classification levels describing land use in the NLCD. From their website, I found the legend defining the values. Notice that there are groupings of values. For example, all values whose leading digit is a `2` (i.e in \\[20,29\\]) are classified as \"Developed\". \n",
    "\n",
    "```\n",
    "National Land Cover Database Class Legend and Description\n",
    "Class\\ Value\n",
    "Classification Description\n",
    "\n",
    "Water\n",
    "- 11 Open Water- areas of open water, generally with less than 25% cover of vegetation\n",
    "or soil.\n",
    "- 12 Perennial Ice/Snow- areas characterized by a perennial cover of ice and/or snow,\n",
    "generally greater than 25% of total cover.\n",
    "\n",
    "Developed\n",
    "- 21 Developed, Open Space- areas with a mixture of some constructed materials, but\n",
    "mostly vegetation in the form of lawn grasses. Impervious surfaces account for less\n",
    "than 20% of total cover. These areas most commonly include large-lot single-family\n",
    "housing units, parks, golf courses, and vegetation planted in developed settings for\n",
    "recreation, erosion control, or aesthetic purposes.\n",
    "- 22 Developed, Low Intensity- areas with a mixture of constructed materials and\n",
    "vegetation. Impervious surfaces account for 20% to 49% percent of total cover.\n",
    "These areas most commonly include single-family housing units.\n",
    "- 23 Developed, Medium Intensity -areas with a mixture of constructed materials and\n",
    "vegetation. Impervious surfaces account for 50% to 79% of the total cover. These\n",
    "areas most commonly include single-family housing units.\n",
    "- 24 Developed High Intensity-highly developed areas where people reside or work in\n",
    "high numbers. Examples include apartment complexes, row houses and\n",
    "commercial/industrial. Impervious surfaces account for 80% to 100% of the total\n",
    "cover.\n",
    "\n",
    "Barren\n",
    "- 31 Barren Land (Rock/Sand/Clay) - areas of bedrock, desert pavement, scarps, talus,\n",
    "slides, volcanic material, glacial debris, sand dunes, strip mines, gravel pits and other\n",
    "accumulations of earthen material. Generally, vegetation accounts for less than 15%\n",
    "of total cover.\n",
    "\n",
    "Forest\n",
    "- 41 Deciduous Forest- areas dominated by trees generally greater than 5 meters tall,\n",
    "and greater than 20% of total vegetation cover. More than 75% of the tree species\n",
    "shed foliage simultaneously in response to seasonal change.\n",
    "- 42 Evergreen Forest- areas dominated by trees generally greater than 5 meters tall,\n",
    "and greater than 20% of total vegetation cover. More than 75% of the tree species\n",
    "maintain their leaves all year. Canopy is never without green foliage.43\n",
    "Mixed Forest- areas dominated by trees generally greater than 5 meters tall, and\n",
    "greater than 20% of total vegetation cover. Neither deciduous nor evergreen species\n",
    "are greater than 75% of total tree cover.\n",
    "\n",
    "Shrubland\n",
    "- 51 Dwarf Scrub- Alaska only areas dominated by shrubs less than 20 centimeters tall\n",
    "with shrub canopy typically greater than 20% of total vegetation. This type is often\n",
    "co-associated with grasses, sedges, herbs, and non-vascular vegetation.\n",
    "- 52 Shrub/Scrub- areas dominated by shrubs; less than 5 meters tall with shrub canopy\n",
    "typically greater than 20% of total vegetation. This class includes true shrubs, young\n",
    "trees in an early successional stage or trees stunted from environmental conditions.\n",
    "\n",
    "Herbaceous\n",
    "- 71 Grassland/Herbaceous- areas dominated by gramanoid or herbaceous vegetation,\n",
    "generally greater than 80% of total vegetation. These areas are not subject to\n",
    "intensive management such as tilling, but can be utilized for grazing.\n",
    "- 72 Sedge/Herbaceous- Alaska only areas dominated by sedges and forbs, generally\n",
    "greater than 80% of total vegetation. This type can occur with significant other\n",
    "grasses or other grass like plants, and includes sedge tundra, and sedge tussock\n",
    "tundra.\n",
    "- 73 Lichens- Alaska only areas dominated by fruticose or foliose lichens generally\n",
    "greater than 80% of total vegetation.\n",
    "- 74 Moss- Alaska only areas dominated by mosses, generally greater than 80% of total\n",
    "vegetation.\n",
    "\n",
    "Planted/Cultivated\n",
    "- 81 Pasture/Hay-areas of grasses, legumes, or grass-legume mixtures planted for\n",
    "livestock grazing or the production of seed or hay crops, typically on a perennial\n",
    "cycle. Pasture/hay vegetation accounts for greater than 20% of total vegetation.\n",
    "- 82 Cultivated Crops -areas used for the production of annual crops, such as corn,\n",
    "soybeans, vegetables, tobacco, and cotton, and also perennial woody crops such as\n",
    "orchards and vineyards. Crop vegetation accounts for greater than 20% of total\n",
    "vegetation. This class also includes all land being actively tilled.\n",
    "\n",
    "Wetlands\n",
    "- 90 Woody Wetlands- areas where forest or shrubland vegetation accounts for greater\n",
    "than 20% of vegetative cover and the soil or substrate is periodically saturated with\n",
    "or covered with water.\n",
    "- 95 Emergent Herbaceous Wetlands- Areas where perennial herbaceous vegetation\n",
    "accounts for greater than 80% of vegetative cover and the soil or substrate is\n",
    "periodically saturated with or covered with water.\n",
    "```"
   ]
  },
  {
   "cell_type": "markdown",
   "id": "3c03bd50-1433-44fa-b998-afc7a6b9d864",
   "metadata": {},
   "source": [
    "### Question\n",
    "\n",
    "You can use the [numpy.unique](https://numpy.org/doc/stable/reference/generated/numpy.unique.html) function to get a count of the number of cells corresponding to each classification value. Try it."
   ]
  },
  {
   "cell_type": "code",
   "execution_count": null,
   "id": "57c3e6f4-acfc-4db4-8d60-fa80753380c3",
   "metadata": {},
   "outputs": [],
   "source": [
    "# Counts by class\n"
   ]
  },
  {
   "cell_type": "markdown",
   "id": "4a7a5876-447d-49e0-8176-ebbd0d72aa46",
   "metadata": {
    "jp-MarkdownHeadingCollapsed": true,
    "tags": []
   },
   "source": [
    "### Answer"
   ]
  },
  {
   "cell_type": "code",
   "execution_count": null,
   "id": "b3770fd2-f0b3-4a07-bca7-e6fb850c5acf",
   "metadata": {},
   "outputs": [],
   "source": [
    "class_vals, class_counts = np.unique(ou_landcover_2021_da.values, return_counts=True)\n",
    "print(np.asarray((class_vals, class_counts)).T)"
   ]
  },
  {
   "cell_type": "markdown",
   "id": "b21a04ad-f70c-4972-925f-0be91c1b95cb",
   "metadata": {},
   "source": [
    "### The `x` and `y` coordinates\n",
    "\n",
    "What kind of values do the array dimensions take on? This is what **xarray** means by *named dimenions* - the names here are `x` and `y`."
   ]
  },
  {
   "cell_type": "code",
   "execution_count": null,
   "id": "2c5bcef3-4ae7-4283-aabd-57b95530b144",
   "metadata": {},
   "outputs": [],
   "source": [
    "ou_landcover_2021_da['x']"
   ]
  },
  {
   "cell_type": "markdown",
   "id": "6d2b00ee-554d-42f1-939c-bf7fb0d4718a",
   "metadata": {},
   "source": [
    "What do the `y` coordinates look like?"
   ]
  },
  {
   "cell_type": "code",
   "execution_count": null,
   "id": "806d9a2d-88ef-461b-a721-dd4e9967634e",
   "metadata": {},
   "outputs": [],
   "source": [
    "# y-coordinates\n"
   ]
  },
  {
   "cell_type": "markdown",
   "id": "8a2d94c9-ed03-4443-ab33-2dd0c148b7fd",
   "metadata": {},
   "source": [
    "The `x` values are integers on the order of one million and the `y` values are integers on the order of two million. Million what? Clearly they aren't latitude and longitude values that you are used to seeing. But, they are numbers that represent locations on our earth. In the next section we'll learn about coordinate reference systems and these numbers will make more sense to you."
   ]
  },
  {
   "cell_type": "markdown",
   "id": "bb46ddfe-5e04-45f7-bba7-68e9e6b6c1d6",
   "metadata": {},
   "source": [
    "## Plotting the raster\n",
    "\n",
    "You can plot a `DataArray` directly with matplotlib by using the `plot()` method."
   ]
  },
  {
   "cell_type": "code",
   "execution_count": null,
   "id": "612f499d-ff13-4a13-9362-bc7296fe9b01",
   "metadata": {},
   "outputs": [],
   "source": [
    "f, ax = plt.subplots()\n",
    "ou_landcover_2021_da.plot(ax=ax, cmap='Pastel2')\n",
    "\n",
    "ax.set(title=\"Raster Layer\")\n",
    "plt.show()\n"
   ]
  },
  {
   "cell_type": "markdown",
   "id": "99b93d40-7676-4cdd-a67e-6179551dd4ca",
   "metadata": {},
   "source": [
    "We can use the xarray `where()` method to subset the `DataArray`. For example, let's just plot the wetlands."
   ]
  },
  {
   "cell_type": "code",
   "execution_count": null,
   "id": "f65fa2bc-d780-4c25-9ff7-1251a22b61d1",
   "metadata": {},
   "outputs": [],
   "source": [
    "f, ax = plt.subplots()\n",
    "ou_landcover_2021_da.where(ou_landcover_2021_da >= 90).plot(ax=ax)\n",
    "\n",
    "ax.set(title=\"Wetlands on OU Campus\")\n",
    "\n",
    "plt.show()\n"
   ]
  },
  {
   "cell_type": "markdown",
   "id": "565a89e2-b623-484b-9666-077dc275494f",
   "metadata": {},
   "source": [
    "Obviously, these colors aren't great. Turns out that creating a discretely valued color map and associated color bar is non-trivial. The general topic of color map manipulation is covered in the docs at [https://matplotlib.org/stable/users/explain/colors/colormap-manipulation.html](https://matplotlib.org/stable/users/explain/colors/colormap-manipulation.html). However it was this SO post that proved most useful:\n",
    "\n",
    "- https://stackoverflow.com/questions/14777066/matplotlib-discrete-colorbar\n",
    "\n",
    "The key is understanding how matplotlib colormaps work. A colormap converts float values in [0, 1] to RGBA (red, green, blue, alpha) colors. Our land use categories are not floats between 0 and 1. They are integers. The process of converting the integer values to such floats is called normalization. The process of mapping data values to colors using a colormap is a two step process ([https://matplotlib.org/stable/api/colors_api.html](https://matplotlib.org/stable/api/colors_api.html)).\n",
    "\n",
    "1. Use a subclass of `Normalize` to convert a data value to a float in [0,1].\n",
    "2. Map this float value to a color using a subclass of `ColorMap`.\n",
    "\n",
    "Since we have a list of discrete values to map:\n",
    "\n",
    "- the subclass of `Normalize` that we need to use is [BoundaryNorm](https://matplotlib.org/stable/api/_as_gen/matplotlib.colors.BoundaryNorm.html#matplotlib.colors.BoundaryNorm). This normalization produces\n",
    "- the subclass of `ColorMap` that we need to use is the [ListedColormap](https://matplotlib.org/stable/api/_as_gen/matplotlib.colors.ListedColormap.html#matplotlib.colors.ListedColormap). \n",
    "\n"
   ]
  },
  {
   "cell_type": "code",
   "execution_count": null,
   "id": "96a0e4f3-9bc8-4e81-b777-c37bdb8926b4",
   "metadata": {},
   "outputs": [],
   "source": [
    "import numpy as np\n",
    "import matplotlib\n",
    "from matplotlib import pyplot as plt\n",
    "from matplotlib.colors import ListedColormap"
   ]
  },
  {
   "cell_type": "code",
   "execution_count": null,
   "id": "27078f50-d828-4b19-b859-dc1cc0d9be5c",
   "metadata": {},
   "outputs": [],
   "source": [
    "# Raster matrix\n",
    "A = ou_landcover_2021_da[0]\n",
    "\n",
    "# Define the discrete values and their corresponding colors\n",
    "col_dict = {\n",
    "    11: 'dodgerblue',\n",
    "    21: 'gainsboro',\n",
    "    22: 'lightgrey',\n",
    "    23: 'darkgrey',\n",
    "    24: 'grey',\n",
    "    31: 'sandybrown',\n",
    "    41: 'forestgreen',\n",
    "    42: 'green',\n",
    "    43: 'darkgreen',\n",
    "    52: 'olivedrab',\n",
    "    71: 'lawngreen',\n",
    "    81: 'yellow',\n",
    "    82: 'gold',\n",
    "    90: 'greenyellow',\n",
    "    95: 'darkseagreen'\n",
    "}\n",
    "\n",
    "# Create a colormap from our list of colors\n",
    "cm = ListedColormap([col_dict[x] for x in col_dict.keys()])\n",
    "\n",
    "# Let's also define the description of each category \n",
    "labels = np.array([\"Open Water\", \"Dev-Open\", \"Dev-Low\", \"Dev-Med\", \"Dev-High\",\n",
    "                  \"Barren\", \"Deciduous\", \"Evergreen\", \"43\", \"Shrub/Scrub\", \n",
    "                  \"Grassland/Herbaceous\",\n",
    "                  \"Pasture\", \"Crops\", \"Woody Wetlands\", \"Emerg Herb Wetlands\"])\n",
    "len_lab = len(labels)\n",
    "\n",
    "# prepare normalizer\n",
    "# Prepare bins for the normalizer\n",
    "norm_bins = np.sort([*col_dict.keys()]) + 0.5\n",
    "norm_bins = np.insert(norm_bins, 0, np.min(norm_bins) - 1.0)\n",
    "print(norm_bins)"
   ]
  },
  {
   "cell_type": "code",
   "execution_count": null,
   "id": "ede2895f-c527-43c3-aecf-9db31a9737d2",
   "metadata": {},
   "outputs": [],
   "source": [
    "print(f'len_lab = {len_lab} and number of bins in norm_bins is {len(norm_bins)}')"
   ]
  },
  {
   "cell_type": "markdown",
   "id": "cc33f030-fb5c-4abc-82c1-2c40412c0db8",
   "metadata": {},
   "source": [
    "So, we have 15 land use categories and 16 bins in our normalizer. The first bin (10.5) is just less than our first category value (11). Subsequent bins are 0.5 higher than our category values. Now we can use these bins to create the actual normalizer needed to work with a color map."
   ]
  },
  {
   "cell_type": "code",
   "execution_count": null,
   "id": "c9e7b209-8247-4d21-9a53-581e6cfdd666",
   "metadata": {},
   "outputs": [],
   "source": [
    "# Make normalizer \n",
    "norm = matplotlib.colors.BoundaryNorm(norm_bins, len_lab, clip=True)"
   ]
  },
  {
   "cell_type": "code",
   "execution_count": null,
   "id": "ec19f1d4-28fb-4984-94cd-4d1cfe86d7f9",
   "metadata": {},
   "outputs": [],
   "source": [
    "norm.boundaries"
   ]
  },
  {
   "cell_type": "code",
   "execution_count": null,
   "id": "3cbd74a2-72b9-4c26-9dd6-b0390a8833fe",
   "metadata": {},
   "outputs": [],
   "source": [
    "cm.colors"
   ]
  },
  {
   "cell_type": "markdown",
   "id": "41cccac0-0c09-4003-af59-86c3708f9336",
   "metadata": {},
   "source": [
    "So, the `norm` acts like the \"lookup\" column with the colors corresponding to each bin in `norm`."
   ]
  },
  {
   "cell_type": "code",
   "execution_count": null,
   "id": "483dd492-5c70-4ea5-8820-8e6d95d3e676",
   "metadata": {},
   "outputs": [],
   "source": [
    "# Create the tick label formatter. The pos argument is required per the API.\n",
    "fmt = matplotlib.ticker.FuncFormatter(lambda x, pos=None: labels[norm(x)])\n",
    "\n",
    "# Plot our figure\n",
    "fig, ax = plt.subplots()\n",
    "\n",
    "fig.set_figheight(9)\n",
    "fig.set_figwidth(16)\n",
    "\n",
    "im = ax.imshow(A, cmap=cm, norm=norm)\n",
    "\n",
    "# Create the associated colorbar\n",
    "diff = norm_bins[1:] - norm_bins[:-1] # Compute bin size\n",
    "tickz = norm_bins[:-1] + diff / 2     # Compute tick position at midpoint of bin\n",
    "cb = fig.colorbar(im, format=fmt, ticks=tickz)\n",
    "plt.show()"
   ]
  },
  {
   "cell_type": "markdown",
   "id": "b362a978-4768-435c-9a40-e207c17692e7",
   "metadata": {},
   "source": [
    "Ok, that's a good start. We'll improve on this as we go. For example, this map includes a lot of area outside the OU campus. Later we'll learn how to *clip* rasters to focus in on an area of interest."
   ]
  },
  {
   "cell_type": "markdown",
   "id": "bd9341ad-9009-4906-a5e6-d4b1c83371fb",
   "metadata": {},
   "source": [
    "## More Practice\n",
    "\n",
    "Modify the above example so that only one color is used for each decile. In other words, all the values in 20-29 get the same color, the values in 30-39 get a different color and so on. Experiment with different color schemes.\n",
    "\n",
    "Also, you can experiment with the `tickz` expression to see how you can move the label towards the top or bottom of each color."
   ]
  }
 ],
 "metadata": {
  "kernelspec": {
   "display_name": "Python [conda env:geonewb]",
   "language": "python",
   "name": "conda-env-geonewb-py"
  },
  "language_info": {
   "codemirror_mode": {
    "name": "ipython",
    "version": 3
   },
   "file_extension": ".py",
   "mimetype": "text/x-python",
   "name": "python",
   "nbconvert_exporter": "python",
   "pygments_lexer": "ipython3",
   "version": "3.10.14"
  }
 },
 "nbformat": 4,
 "nbformat_minor": 5
}
