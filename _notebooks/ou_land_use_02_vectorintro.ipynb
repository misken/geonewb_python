{
 "cells": [
  {
   "cell_type": "markdown",
   "id": "bbe56c88-40c6-4124-b542-dcbd56ce15d2",
   "metadata": {},
   "source": [
    "# Notebook 2: Intro to vector data\n",
    "\n",
    "In Notebook 1, we created a basic land use raster plot of the OU campus and the area surrounding it. In this notebook, we'll start to work with vector data. In particular, we'll work with a shapefile of Michigan city boundaries so that we can see which municipalities are part of the OU campus. As described in the section on vector files, we can find boundary shapefiles at [https://www.census.gov/geographies/mapping-files/time-series/geo/carto-boundary-file.html](https://www.census.gov/geographies/mapping-files/time-series/geo/carto-boundary-file.html). I've already downloaded the one for Michigan."
   ]
  },
  {
   "cell_type": "code",
   "execution_count": 3,
   "id": "0ffcefc7-812d-48f8-92da-1e5ed6bbdba0",
   "metadata": {},
   "outputs": [],
   "source": [
    "from pathlib import Path\n",
    "import geopandas as gpd\n"
   ]
  },
  {
   "cell_type": "code",
   "execution_count": 4,
   "id": "03c0bb5d-1833-4ea6-a33f-08d33f094fd1",
   "metadata": {},
   "outputs": [
    {
     "data": {
      "text/html": [
       "<div>\n",
       "<style scoped>\n",
       "    .dataframe tbody tr th:only-of-type {\n",
       "        vertical-align: middle;\n",
       "    }\n",
       "\n",
       "    .dataframe tbody tr th {\n",
       "        vertical-align: top;\n",
       "    }\n",
       "\n",
       "    .dataframe thead th {\n",
       "        text-align: right;\n",
       "    }\n",
       "</style>\n",
       "<table border=\"1\" class=\"dataframe\">\n",
       "  <thead>\n",
       "    <tr style=\"text-align: right;\">\n",
       "      <th></th>\n",
       "      <th>STATEFP</th>\n",
       "      <th>PLACEFP</th>\n",
       "      <th>PLACENS</th>\n",
       "      <th>AFFGEOID</th>\n",
       "      <th>GEOID</th>\n",
       "      <th>NAME</th>\n",
       "      <th>NAMELSAD</th>\n",
       "      <th>STUSPS</th>\n",
       "      <th>STATE_NAME</th>\n",
       "      <th>LSAD</th>\n",
       "      <th>ALAND</th>\n",
       "      <th>AWATER</th>\n",
       "      <th>geometry</th>\n",
       "    </tr>\n",
       "  </thead>\n",
       "  <tbody>\n",
       "    <tr>\n",
       "      <th>0</th>\n",
       "      <td>26</td>\n",
       "      <td>82780</td>\n",
       "      <td>01627204</td>\n",
       "      <td>1600000US2682780</td>\n",
       "      <td>2682780</td>\n",
       "      <td>Wakefield</td>\n",
       "      <td>Wakefield city</td>\n",
       "      <td>MI</td>\n",
       "      <td>Michigan</td>\n",
       "      <td>25</td>\n",
       "      <td>20389505</td>\n",
       "      <td>1465294</td>\n",
       "      <td>POLYGON ((-89.98990 46.47580, -89.98972 46.477...</td>\n",
       "    </tr>\n",
       "    <tr>\n",
       "      <th>1</th>\n",
       "      <td>26</td>\n",
       "      <td>37860</td>\n",
       "      <td>02398497</td>\n",
       "      <td>1600000US2637860</td>\n",
       "      <td>2637860</td>\n",
       "      <td>Hesperia</td>\n",
       "      <td>Hesperia village</td>\n",
       "      <td>MI</td>\n",
       "      <td>Michigan</td>\n",
       "      <td>47</td>\n",
       "      <td>2118889</td>\n",
       "      <td>97382</td>\n",
       "      <td>POLYGON ((-86.04946 43.57584, -86.03964 43.575...</td>\n",
       "    </tr>\n",
       "    <tr>\n",
       "      <th>2</th>\n",
       "      <td>26</td>\n",
       "      <td>10760</td>\n",
       "      <td>02397458</td>\n",
       "      <td>1600000US2610760</td>\n",
       "      <td>2610760</td>\n",
       "      <td>Britton</td>\n",
       "      <td>Britton village</td>\n",
       "      <td>MI</td>\n",
       "      <td>Michigan</td>\n",
       "      <td>47</td>\n",
       "      <td>2049902</td>\n",
       "      <td>0</td>\n",
       "      <td>POLYGON ((-83.84044 41.98837, -83.83784 41.987...</td>\n",
       "    </tr>\n",
       "    <tr>\n",
       "      <th>3</th>\n",
       "      <td>26</td>\n",
       "      <td>89320</td>\n",
       "      <td>01627304</td>\n",
       "      <td>1600000US2689320</td>\n",
       "      <td>2689320</td>\n",
       "      <td>Zilwaukee</td>\n",
       "      <td>Zilwaukee city</td>\n",
       "      <td>MI</td>\n",
       "      <td>Michigan</td>\n",
       "      <td>25</td>\n",
       "      <td>5726169</td>\n",
       "      <td>403460</td>\n",
       "      <td>POLYGON ((-83.93590 43.47955, -83.93557 43.494...</td>\n",
       "    </tr>\n",
       "    <tr>\n",
       "      <th>4</th>\n",
       "      <td>26</td>\n",
       "      <td>89260</td>\n",
       "      <td>01627302</td>\n",
       "      <td>1600000US2689260</td>\n",
       "      <td>2689260</td>\n",
       "      <td>Zeeland</td>\n",
       "      <td>Zeeland city</td>\n",
       "      <td>MI</td>\n",
       "      <td>Michigan</td>\n",
       "      <td>25</td>\n",
       "      <td>7747148</td>\n",
       "      <td>48803</td>\n",
       "      <td>POLYGON ((-86.03850 42.80958, -86.03564 42.812...</td>\n",
       "    </tr>\n",
       "    <tr>\n",
       "      <th>...</th>\n",
       "      <td>...</td>\n",
       "      <td>...</td>\n",
       "      <td>...</td>\n",
       "      <td>...</td>\n",
       "      <td>...</td>\n",
       "      <td>...</td>\n",
       "      <td>...</td>\n",
       "      <td>...</td>\n",
       "      <td>...</td>\n",
       "      <td>...</td>\n",
       "      <td>...</td>\n",
       "      <td>...</td>\n",
       "      <td>...</td>\n",
       "    </tr>\n",
       "    <tr>\n",
       "      <th>740</th>\n",
       "      <td>26</td>\n",
       "      <td>47240</td>\n",
       "      <td>02583750</td>\n",
       "      <td>1600000US2647240</td>\n",
       "      <td>2647240</td>\n",
       "      <td>Levering</td>\n",
       "      <td>Levering CDP</td>\n",
       "      <td>MI</td>\n",
       "      <td>Michigan</td>\n",
       "      <td>57</td>\n",
       "      <td>1129783</td>\n",
       "      <td>0</td>\n",
       "      <td>POLYGON ((-84.79238 45.63911, -84.78716 45.638...</td>\n",
       "    </tr>\n",
       "    <tr>\n",
       "      <th>741</th>\n",
       "      <td>26</td>\n",
       "      <td>12290</td>\n",
       "      <td>02583725</td>\n",
       "      <td>1600000US2612290</td>\n",
       "      <td>2612290</td>\n",
       "      <td>Caberfae</td>\n",
       "      <td>Caberfae CDP</td>\n",
       "      <td>MI</td>\n",
       "      <td>Michigan</td>\n",
       "      <td>57</td>\n",
       "      <td>1145291</td>\n",
       "      <td>0</td>\n",
       "      <td>POLYGON ((-85.73545 44.24772, -85.73040 44.247...</td>\n",
       "    </tr>\n",
       "    <tr>\n",
       "      <th>742</th>\n",
       "      <td>26</td>\n",
       "      <td>60640</td>\n",
       "      <td>02583758</td>\n",
       "      <td>1600000US2660640</td>\n",
       "      <td>2660640</td>\n",
       "      <td>Omena</td>\n",
       "      <td>Omena CDP</td>\n",
       "      <td>MI</td>\n",
       "      <td>Michigan</td>\n",
       "      <td>57</td>\n",
       "      <td>11704146</td>\n",
       "      <td>129899</td>\n",
       "      <td>POLYGON ((-85.61798 45.07651, -85.59513 45.076...</td>\n",
       "    </tr>\n",
       "    <tr>\n",
       "      <th>743</th>\n",
       "      <td>26</td>\n",
       "      <td>74960</td>\n",
       "      <td>01627097</td>\n",
       "      <td>1600000US2674960</td>\n",
       "      <td>2674960</td>\n",
       "      <td>Southgate</td>\n",
       "      <td>Southgate city</td>\n",
       "      <td>MI</td>\n",
       "      <td>Michigan</td>\n",
       "      <td>25</td>\n",
       "      <td>17805442</td>\n",
       "      <td>0</td>\n",
       "      <td>POLYGON ((-83.22984 42.22754, -83.22439 42.227...</td>\n",
       "    </tr>\n",
       "    <tr>\n",
       "      <th>744</th>\n",
       "      <td>26</td>\n",
       "      <td>03960</td>\n",
       "      <td>02806332</td>\n",
       "      <td>1600000US2603960</td>\n",
       "      <td>2603960</td>\n",
       "      <td>Atlantic Mine</td>\n",
       "      <td>Atlantic Mine CDP</td>\n",
       "      <td>MI</td>\n",
       "      <td>Michigan</td>\n",
       "      <td>57</td>\n",
       "      <td>2855376</td>\n",
       "      <td>0</td>\n",
       "      <td>POLYGON ((-88.63832 47.10270, -88.63524 47.109...</td>\n",
       "    </tr>\n",
       "  </tbody>\n",
       "</table>\n",
       "<p>745 rows × 13 columns</p>\n",
       "</div>"
      ],
      "text/plain": [
       "    STATEFP PLACEFP   PLACENS          AFFGEOID    GEOID           NAME  \\\n",
       "0        26   82780  01627204  1600000US2682780  2682780      Wakefield   \n",
       "1        26   37860  02398497  1600000US2637860  2637860       Hesperia   \n",
       "2        26   10760  02397458  1600000US2610760  2610760        Britton   \n",
       "3        26   89320  01627304  1600000US2689320  2689320      Zilwaukee   \n",
       "4        26   89260  01627302  1600000US2689260  2689260        Zeeland   \n",
       "..      ...     ...       ...               ...      ...            ...   \n",
       "740      26   47240  02583750  1600000US2647240  2647240       Levering   \n",
       "741      26   12290  02583725  1600000US2612290  2612290       Caberfae   \n",
       "742      26   60640  02583758  1600000US2660640  2660640          Omena   \n",
       "743      26   74960  01627097  1600000US2674960  2674960      Southgate   \n",
       "744      26   03960  02806332  1600000US2603960  2603960  Atlantic Mine   \n",
       "\n",
       "              NAMELSAD STUSPS STATE_NAME LSAD     ALAND   AWATER  \\\n",
       "0       Wakefield city     MI   Michigan   25  20389505  1465294   \n",
       "1     Hesperia village     MI   Michigan   47   2118889    97382   \n",
       "2      Britton village     MI   Michigan   47   2049902        0   \n",
       "3       Zilwaukee city     MI   Michigan   25   5726169   403460   \n",
       "4         Zeeland city     MI   Michigan   25   7747148    48803   \n",
       "..                 ...    ...        ...  ...       ...      ...   \n",
       "740       Levering CDP     MI   Michigan   57   1129783        0   \n",
       "741       Caberfae CDP     MI   Michigan   57   1145291        0   \n",
       "742          Omena CDP     MI   Michigan   57  11704146   129899   \n",
       "743     Southgate city     MI   Michigan   25  17805442        0   \n",
       "744  Atlantic Mine CDP     MI   Michigan   57   2855376        0   \n",
       "\n",
       "                                              geometry  \n",
       "0    POLYGON ((-89.98990 46.47580, -89.98972 46.477...  \n",
       "1    POLYGON ((-86.04946 43.57584, -86.03964 43.575...  \n",
       "2    POLYGON ((-83.84044 41.98837, -83.83784 41.987...  \n",
       "3    POLYGON ((-83.93590 43.47955, -83.93557 43.494...  \n",
       "4    POLYGON ((-86.03850 42.80958, -86.03564 42.812...  \n",
       "..                                                 ...  \n",
       "740  POLYGON ((-84.79238 45.63911, -84.78716 45.638...  \n",
       "741  POLYGON ((-85.73545 44.24772, -85.73040 44.247...  \n",
       "742  POLYGON ((-85.61798 45.07651, -85.59513 45.076...  \n",
       "743  POLYGON ((-83.22984 42.22754, -83.22439 42.227...  \n",
       "744  POLYGON ((-88.63832 47.10270, -88.63524 47.109...  \n",
       "\n",
       "[745 rows x 13 columns]"
      ]
     },
     "execution_count": 4,
     "metadata": {},
     "output_type": "execute_result"
    }
   ],
   "source": [
    "mi_places_file = Path('../data', 'cb_2022_26_place_500k', 'cb_2022_26_place_500k.shp')\n",
    "mi_places_gdf = gpd.read_file(mi_places_file)\n",
    "mi_places_gdf"
   ]
  },
  {
   "cell_type": "markdown",
   "id": "d438f2a1-388d-48dc-ac9b-864e8f6de9de",
   "metadata": {},
   "source": [
    "Notice the `geometry` column contains POLYGON objects corresponding to the boundary for each place."
   ]
  },
  {
   "cell_type": "markdown",
   "id": "b844c7ff-4074-4cfd-ab72-403cc654702e",
   "metadata": {},
   "source": [
    "### Question\n",
    "\n",
    "Let's find the records for Auburn Hills and Rochester Hills as these are relevant for the OU campus. We can use the pandas `query` method on a `GeoDataFrame` since it's just an extension of a pandas `DataFrame`. Store the answer in a new `GeoDataFrame` named `ou_places_gdf`."
   ]
  },
  {
   "cell_type": "code",
   "execution_count": null,
   "id": "37b6c555-df16-4f3c-80f2-53d7b5ed967d",
   "metadata": {},
   "outputs": [],
   "source": [
    "# Get records for Auburn Hills and Rochester Hills"
   ]
  },
  {
   "cell_type": "markdown",
   "id": "39ce8f1d-047a-43ac-bc57-77486f79e03e",
   "metadata": {},
   "source": [
    "### Answer"
   ]
  },
  {
   "cell_type": "code",
   "execution_count": 5,
   "id": "f0648e9c-13d6-4424-9d61-a11200a6a6e9",
   "metadata": {},
   "outputs": [
    {
     "data": {
      "text/html": [
       "<div>\n",
       "<style scoped>\n",
       "    .dataframe tbody tr th:only-of-type {\n",
       "        vertical-align: middle;\n",
       "    }\n",
       "\n",
       "    .dataframe tbody tr th {\n",
       "        vertical-align: top;\n",
       "    }\n",
       "\n",
       "    .dataframe thead th {\n",
       "        text-align: right;\n",
       "    }\n",
       "</style>\n",
       "<table border=\"1\" class=\"dataframe\">\n",
       "  <thead>\n",
       "    <tr style=\"text-align: right;\">\n",
       "      <th></th>\n",
       "      <th>STATEFP</th>\n",
       "      <th>PLACEFP</th>\n",
       "      <th>PLACENS</th>\n",
       "      <th>AFFGEOID</th>\n",
       "      <th>GEOID</th>\n",
       "      <th>NAME</th>\n",
       "      <th>NAMELSAD</th>\n",
       "      <th>STUSPS</th>\n",
       "      <th>STATE_NAME</th>\n",
       "      <th>LSAD</th>\n",
       "      <th>ALAND</th>\n",
       "      <th>AWATER</th>\n",
       "      <th>geometry</th>\n",
       "    </tr>\n",
       "  </thead>\n",
       "  <tbody>\n",
       "    <tr>\n",
       "      <th>471</th>\n",
       "      <td>26</td>\n",
       "      <td>04105</td>\n",
       "      <td>01625860</td>\n",
       "      <td>1600000US2604105</td>\n",
       "      <td>2604105</td>\n",
       "      <td>Auburn Hills</td>\n",
       "      <td>Auburn Hills city</td>\n",
       "      <td>MI</td>\n",
       "      <td>Michigan</td>\n",
       "      <td>25</td>\n",
       "      <td>43095047</td>\n",
       "      <td>113296</td>\n",
       "      <td>POLYGON ((-83.32895 42.70592, -83.30717 42.707...</td>\n",
       "    </tr>\n",
       "    <tr>\n",
       "      <th>731</th>\n",
       "      <td>26</td>\n",
       "      <td>69035</td>\n",
       "      <td>01626990</td>\n",
       "      <td>1600000US2669035</td>\n",
       "      <td>2669035</td>\n",
       "      <td>Rochester Hills</td>\n",
       "      <td>Rochester Hills city</td>\n",
       "      <td>MI</td>\n",
       "      <td>Michigan</td>\n",
       "      <td>25</td>\n",
       "      <td>84960992</td>\n",
       "      <td>254848</td>\n",
       "      <td>POLYGON ((-83.21403 42.70952, -83.19542 42.709...</td>\n",
       "    </tr>\n",
       "  </tbody>\n",
       "</table>\n",
       "</div>"
      ],
      "text/plain": [
       "    STATEFP PLACEFP   PLACENS          AFFGEOID    GEOID             NAME  \\\n",
       "471      26   04105  01625860  1600000US2604105  2604105     Auburn Hills   \n",
       "731      26   69035  01626990  1600000US2669035  2669035  Rochester Hills   \n",
       "\n",
       "                 NAMELSAD STUSPS STATE_NAME LSAD     ALAND  AWATER  \\\n",
       "471     Auburn Hills city     MI   Michigan   25  43095047  113296   \n",
       "731  Rochester Hills city     MI   Michigan   25  84960992  254848   \n",
       "\n",
       "                                              geometry  \n",
       "471  POLYGON ((-83.32895 42.70592, -83.30717 42.707...  \n",
       "731  POLYGON ((-83.21403 42.70952, -83.19542 42.709...  "
      ]
     },
     "execution_count": 5,
     "metadata": {},
     "output_type": "execute_result"
    }
   ],
   "source": [
    "ou_places_gdf = mi_places_gdf.query('NAME == \"Auburn Hills\" or NAME == \"Rochester Hills\"')\n",
    "ou_places_gdf"
   ]
  },
  {
   "cell_type": "markdown",
   "id": "68f2185b-09cd-4ae2-93ab-26eec36f0cd3",
   "metadata": {},
   "source": [
    "### Plotting vector data in a `GeoDataFrame`\n",
    "\n",
    "GeoPandas provides a `plot()` function for `GeoDataFrame` objects. As you might have guessed, it's using matplotlib to actually generate the plots. In general, any style options that you use in matplotlib can be passed to `plot()`. A few useful resources from the GeoPandas docs are:\n",
    "\n",
    "- https://geopandas.org/en/stable/docs/reference/api/geopandas.GeoDataFrame.plot.html\n",
    "- https://geopandas.org/en/stable/docs/user_guide/mapping.html"
   ]
  },
  {
   "cell_type": "code",
   "execution_count": 8,
   "id": "1b2b7a13-0b25-4d2d-87d5-bec997e64154",
   "metadata": {},
   "outputs": [
    {
     "data": {
      "text/plain": [
       "<Axes: >"
      ]
     },
     "execution_count": 8,
     "metadata": {},
     "output_type": "execute_result"
    },
    {
     "data": {
      "image/png": "[encoded data removed]",
      "text/plain": [
       "<Figure size 640x480 with 1 Axes>"
      ]
     },
     "metadata": {},
     "output_type": "display_data"
    }
   ],
   "source": [
    "ou_places_gdf.plot()"
   ]
  },
  {
   "cell_type": "markdown",
   "id": "f04734d5-a67c-4d43-9f76-143e7568d503",
   "metadata": {},
   "source": [
    "It's easy to create a [chloropleth map]() by passing in a column name to use as a basis for color selection. Often we might use something like population or some other metric of interest. We don't really have such a column in our `GeoDataFrame` but can use any column that has different values for the cities if we want to simply make the individual cities clear. I'll use \"GEOID\"."
   ]
  },
  {
   "cell_type": "code",
   "execution_count": 9,
   "id": "2dc8f92a-0ea9-46a0-84d8-97c4cb9fe29f",
   "metadata": {},
   "outputs": [
    {
     "data": {
      "text/plain": [
       "<Axes: >"
      ]
     },
     "execution_count": 9,
     "metadata": {},
     "output_type": "execute_result"
    },
    {
     "data": {
      "image/png": "[encoded data removed]",
      "text/plain": [
       "<Figure size 640x480 with 1 Axes>"
      ]
     },
     "metadata": {},
     "output_type": "display_data"
    }
   ],
   "source": [
    "ou_places_gdf.plot(column=\"GEOID\")"
   ]
  },
  {
   "cell_type": "markdown",
   "id": "3545ec80-d719-4fd9-a46a-550abbc4ccdf",
   "metadata": {},
   "source": [
    "You can tell by the axis labels that we are working in longitude (x) and latitude (y).\n",
    "\n",
    "Let's explore the Rochester Hills polygon."
   ]
  },
  {
   "cell_type": "code",
   "execution_count": 10,
   "id": "2202e11e-c293-462d-80a4-01a02f264305",
   "metadata": {},
   "outputs": [],
   "source": [
    "rh_polygon = ou_places_gdf.iloc[1]['geometry']"
   ]
  },
  {
   "cell_type": "markdown",
   "id": "36f1e28b-29ae-4800-ab66-e212716fd7cf",
   "metadata": {},
   "source": [
    "Autoprinting a **shapely** object results in a little shape plot."
   ]
  },
  {
   "cell_type": "code",
   "execution_count": 12,
   "id": "9fc4ac91-833c-47c0-99d9-8d56ae08bd8f",
   "metadata": {},
   "outputs": [
    {
     "data": {
      "image/svg+xml": [
       "<svg xmlns=\"http://www.w3.org/2000/svg\" xmlns:xlink=\"http://www.w3.org/1999/xlink\" width=\"100.0\" height=\"100.0\" viewBox=\"-83.21893324 42.61609176 0.13238748000000555 0.1013104799999951\" preserveAspectRatio=\"xMinYMin meet\"><g transform=\"matrix(1,0,0,-1,0,85.333494)\"><path fill-rule=\"evenodd\" fill=\"#66cc99\" stroke=\"#555555\" stroke-width=\"0.0026477496000001112\" opacity=\"0.6\" d=\"M -83.21403,42.709523 L -83.195423,42.709992 L -83.184639,42.710306 L -83.175624,42.710549 L -83.1746,42.710573 L -83.169093,42.710741 L -83.158337,42.711071 L -83.147793,42.711337 L -83.147658,42.711247 L -83.140801,42.711387 L -83.135022,42.711478 L -83.125061,42.711715 L -83.100509,42.712254 L -83.095441,42.712499 L -83.095039,42.70407 L -83.104159,42.703863 L -83.11132,42.697235 L -83.111792,42.69615 L -83.115118,42.696098 L -83.123289,42.695918 L -83.123793,42.692669 L -83.126099,42.692496 L -83.134249,42.692523 L -83.14206,42.692404 L -83.143983,42.694268 L -83.145429,42.692365 L -83.148162,42.692371 L -83.14876,42.68503 L -83.148452,42.681774 L -83.148402,42.674197 L -83.148419,42.673784 L -83.14325,42.673966 L -83.138061,42.674286 L -83.13346,42.674423 L -83.113444,42.675317 L -83.113453,42.682113 L -83.106193,42.681704 L -83.102206,42.680106 L -83.096701,42.674735 L -83.094345,42.674683 L -83.093791,42.674745 L -83.093962,42.673709 L -83.093706,42.67361 L -83.093492,42.671311 L -83.093458,42.66782 L -83.09314,42.660336 L -83.092833,42.653335 L -83.092491,42.646016 L -83.092151,42.638772 L -83.091795,42.631611 L -83.091789,42.63149 L -83.091449,42.624208 L -83.104604,42.623876 L -83.110919,42.623704 L -83.116683,42.623466 L -83.120718,42.623296 L -83.125822,42.623152 L -83.130687,42.623028 L -83.150492,42.622542 L -83.160235,42.622267 L -83.170093,42.622031 L -83.17948,42.621771 L -83.182045,42.621724 L -83.1896,42.621517 L -83.201055,42.62122 L -83.209216,42.620995 L -83.209891,42.634009 L -83.210077,42.637907 L -83.21026,42.641674 L -83.210376,42.64421 L -83.210488,42.646447 L -83.210628,42.649952 L -83.210655,42.65019 L -83.210946,42.655895 L -83.210907,42.655908 L -83.2112,42.661808 L -83.211671,42.672522 L -83.211999,42.679977 L -83.212144,42.683326 L -83.21243,42.687209 L -83.212757,42.69376 L -83.213161,42.698793 L -83.213328,42.700901 L -83.21403,42.709523 z\" /></g></svg>"
      ],
      "text/plain": [
       "<POLYGON ((-83.214 42.71, -83.195 42.71, -83.185 42.71, -83.176 42.711, -83....>"
      ]
     },
     "execution_count": 12,
     "metadata": {},
     "output_type": "execute_result"
    }
   ],
   "source": [
    "rh_polygon"
   ]
  },
  {
   "cell_type": "markdown",
   "id": "bae555b0-ebcf-4c68-a2db-158a09fcb66b",
   "metadata": {},
   "source": [
    "If you want to see the actual verticies, use `print`."
   ]
  },
  {
   "cell_type": "code",
   "execution_count": 19,
   "id": "9cc91041-44a9-4077-80a7-1d6266100047",
   "metadata": {},
   "outputs": [
    {
     "name": "stdout",
     "output_type": "stream",
     "text": [
      "POLYGON ((-83.21403 42.709523, -83.195423 42.709992, -83.184639 42.710306, -83.175624 42.710549, -83.1746 42.710573, -83.169093 42.710741, -83.158337 42.711071, -83.147793 42.711337, -83.147658 42.711247, -83.140801 42.711387, -83.135022 42.711478, -83.125061 42.711715, -83.100509 42.712254, -83.095441 42.712499, -83.095039 42.70407, -83.104159 42.703863, -83.11132 42.697235, -83.111792 42.69615, -83.115118 42.696098, -83.123289 42.695918, -83.123793 42.692669, -83.126099 42.692496, -83.134249 42.692523, -83.14206 42.692404, -83.143983 42.694268, -83.145429 42.692365, -83.148162 42.692371, -83.14876 42.68503, -83.148452 42.681774, -83.148402 42.674197, -83.148419 42.673784, -83.14325 42.673966, -83.138061 42.674286, -83.13346 42.674423, -83.113444 42.675317, -83.113453 42.682113, -83.106193 42.681704, -83.102206 42.680106, -83.096701 42.674735, -83.094345 42.674683, -83.093791 42.674745, -83.093962 42.673709, -83.093706 42.67361, -83.093492 42.671311, -83.093458 42.66782, -83.09314 42.660336, -83.092833 42.653335, -83.092491 42.646016, -83.092151 42.638772, -83.091795 42.631611, -83.091789 42.63149, -83.091449 42.624208, -83.104604 42.623876, -83.110919 42.623704, -83.116683 42.623466, -83.120718 42.623296, -83.125822 42.623152, -83.130687 42.623028, -83.150492 42.622542, -83.160235 42.622267, -83.170093 42.622031, -83.17948 42.621771, -83.182045 42.621724, -83.1896 42.621517, -83.201055 42.62122, -83.209216 42.620995, -83.209891 42.634009, -83.210077 42.637907, -83.21026 42.641674, -83.210376 42.64421, -83.210488 42.646447, -83.210628 42.649952, -83.210655 42.65019, -83.210946 42.655895, -83.210907 42.655908, -83.2112 42.661808, -83.211671 42.672522, -83.211999 42.679977, -83.212144 42.683326, -83.21243 42.687209, -83.212757 42.69376, -83.213161 42.698793, -83.213328 42.700901, -83.21403 42.709523))\n"
     ]
    }
   ],
   "source": [
    "print(rh_polygon)"
   ]
  },
  {
   "cell_type": "markdown",
   "id": "c1735a5c-c51a-4246-8552-c66ff910afd6",
   "metadata": {},
   "source": [
    "Polygons are just a collection of points with the first point and last point being identical. The `POLYGON` object is actually defined as a class in the [shapely]() library. Shapely makes it easy to work with points, curves, and surfaces with Python. Under the hood, Shapely uses the [GEOS](https://libgeos.org/) library:\n",
    "\n",
    "> GEOS is a C/C++ library for [computational geometry](https://en.wikipedia.org/wiki/Computational_geometry) with a focus on algorithms used in [geographic information systems](https://en.wikipedia.org/wiki/Geographic_information_system) (GIS) software. It implements the OGC [Simple Features](https://en.wikipedia.org/wiki/Simple_Features) geometry model and provides all the spatial functions in that standard as well as many others. GEOS is a core dependency of [PostGIS](https://postgis.net/), [QGIS](), [GDAL](), [Shapely]() and many others.\n",
    "\n",
    "\n",
    "Let's do some simple shape manipulations to understand vector data a little better."
   ]
  },
  {
   "cell_type": "markdown",
   "id": "f25da8d1-ce6f-482a-be47-54d45c4f012b",
   "metadata": {},
   "source": [
    "### Points, lines and polygons\n",
    "\n",
    "The fundamental building blocks of vector data are points, lines, and polygons. In Shapely, these correspond to the `Point`, `LineString`, and `Polygon` classes. "
   ]
  },
  {
   "cell_type": "code",
   "execution_count": 14,
   "id": "64fa5d64-a0b0-47d8-bce6-7ee23558c0ce",
   "metadata": {},
   "outputs": [],
   "source": [
    "from shapely import Point, LineString, LinearRing, Polygon"
   ]
  },
  {
   "cell_type": "markdown",
   "id": "fba6458b-3065-45db-ad14-a635d1b25cf8",
   "metadata": {},
   "source": [
    "Let's start with some simple features in the standard x-y coordinate system centered at (0,0)."
   ]
  },
  {
   "cell_type": "code",
   "execution_count": 15,
   "id": "323c13d1-8897-42c5-95c7-6f7ca00fa08f",
   "metadata": {},
   "outputs": [],
   "source": [
    "point_1 = Point(2, 3)\n",
    "point_2 = Point(1, 4)"
   ]
  },
  {
   "cell_type": "markdown",
   "id": "63f11cff-38a2-4e73-9c68-486c8e90d6c3",
   "metadata": {},
   "source": [
    "Shapely has a bunch of built in methods and properties for working with geometric objects. For example, points have zero length and zero area."
   ]
  },
  {
   "cell_type": "code",
   "execution_count": 16,
   "id": "8688e1e6-305b-440d-843e-673a0468eeb2",
   "metadata": {},
   "outputs": [
    {
     "name": "stdout",
     "output_type": "stream",
     "text": [
      "point_1: POINT (2 3)\n",
      "point_1 length: 0.0\n",
      "point_1 area: 0.0\n",
      "point_1 type: Point\n"
     ]
    }
   ],
   "source": [
    "print(f'point_1: {point_1}')\n",
    "print(f'point_1 length: {point_1.length}')\n",
    "print(f'point_1 area: {point_1.area}')\n",
    "print(f'point_1 type: {point_1.geom_type}')"
   ]
  },
  {
   "cell_type": "code",
   "execution_count": 17,
   "id": "39d59713-317b-41f3-b55d-0222f7ead60d",
   "metadata": {},
   "outputs": [
    {
     "data": {
      "image/svg+xml": [
       "<svg xmlns=\"http://www.w3.org/2000/svg\" xmlns:xlink=\"http://www.w3.org/1999/xlink\" width=\"100.0\" height=\"100.0\" viewBox=\"0.96 2.96 1.08 1.08\" preserveAspectRatio=\"xMinYMin meet\"><g transform=\"matrix(1,0,0,-1,0,7.0)\"><polyline fill=\"none\" stroke=\"#66cc99\" stroke-width=\"0.0216\" points=\"2.0,3.0 1.0,4.0\" opacity=\"0.8\" /></g></svg>"
      ],
      "text/plain": [
       "<LINESTRING (2 3, 1 4)>"
      ]
     },
     "execution_count": 17,
     "metadata": {},
     "output_type": "execute_result"
    }
   ],
   "source": [
    "line_1 = LineString([point_1, point_2])\n",
    "line_1"
   ]
  },
  {
   "cell_type": "markdown",
   "id": "1bcfd82e-d02c-4952-8726-45efa31533f5",
   "metadata": {},
   "source": [
    "Its x-y bounding box is a (minx, miny, maxx, maxy) tuple."
   ]
  },
  {
   "cell_type": "code",
   "execution_count": 18,
   "id": "02b441c8-8f90-4127-9ed2-c53361d56ce3",
   "metadata": {},
   "outputs": [
    {
     "data": {
      "text/plain": [
       "(1.0, 3.0, 2.0, 4.0)"
      ]
     },
     "execution_count": 18,
     "metadata": {},
     "output_type": "execute_result"
    }
   ],
   "source": [
    "line_1.bounds"
   ]
  },
  {
   "cell_type": "code",
   "execution_count": 19,
   "id": "0e354a3f-e484-4deb-ba49-e6eba95ad99f",
   "metadata": {},
   "outputs": [
    {
     "name": "stdout",
     "output_type": "stream",
     "text": [
      "line_1: LINESTRING (2 3, 1 4)\n",
      "line_1 length: 1.4142135623730951\n",
      "line_1 area: 0.0\n",
      "line_1 type: LineString\n"
     ]
    }
   ],
   "source": [
    "print(f'line_1: {line_1}')\n",
    "print(f'line_1 length: {line_1.length}')\n",
    "print(f'line_1 area: {line_1.area}')\n",
    "print(f'line_1 type: {line_1.geom_type}')"
   ]
  },
  {
   "cell_type": "code",
   "execution_count": 20,
   "id": "1028682f-30d1-46ec-b27e-038f68011fad",
   "metadata": {},
   "outputs": [
    {
     "data": {
      "text/plain": [
       "<shapely.coords.CoordinateSequence at 0x77cddaad52d0>"
      ]
     },
     "execution_count": 20,
     "metadata": {},
     "output_type": "execute_result"
    }
   ],
   "source": [
    "line_1.coords"
   ]
  },
  {
   "cell_type": "code",
   "execution_count": 21,
   "id": "829c7396-c3ee-402c-816f-48da5fa80edb",
   "metadata": {},
   "outputs": [
    {
     "data": {
      "text/plain": [
       "[(2.0, 3.0), (1.0, 4.0)]"
      ]
     },
     "execution_count": 21,
     "metadata": {},
     "output_type": "execute_result"
    }
   ],
   "source": [
    "list(line_1.coords)"
   ]
  },
  {
   "cell_type": "code",
   "execution_count": 22,
   "id": "97af4d92-1c22-43dc-966a-b382749e2bef",
   "metadata": {},
   "outputs": [
    {
     "data": {
      "text/plain": [
       "(2.0, 3.0)"
      ]
     },
     "execution_count": 22,
     "metadata": {},
     "output_type": "execute_result"
    }
   ],
   "source": [
    "line_1.coords[0]"
   ]
  },
  {
   "cell_type": "markdown",
   "id": "8d44df24-03da-4ef1-ad7f-87b74759fdd9",
   "metadata": {},
   "source": [
    "It should be noted that there are no truly \"curved\" lines in shapely. Curves are approximated with piecewise linear splines."
   ]
  },
  {
   "cell_type": "markdown",
   "id": "19b39211-efec-44c7-b598-8d0216930198",
   "metadata": {},
   "source": [
    "Let's create a triangle."
   ]
  },
  {
   "cell_type": "code",
   "execution_count": 17,
   "id": "158c4378-54b1-4f6c-9de2-41bf7aab74d0",
   "metadata": {},
   "outputs": [
    {
     "data": {
      "image/svg+xml": [
       "<svg xmlns=\"http://www.w3.org/2000/svg\" xmlns:xlink=\"http://www.w3.org/1999/xlink\" width=\"100.0\" height=\"100.0\" viewBox=\"-0.04 -0.04 1.08 1.08\" preserveAspectRatio=\"xMinYMin meet\"><g transform=\"matrix(1,0,0,-1,0,1.0)\"><path fill-rule=\"evenodd\" fill=\"#66cc99\" stroke=\"#555555\" stroke-width=\"0.0216\" opacity=\"0.6\" d=\"M 0.0,0.0 L 1.0,1.0 L 1.0,0.0 L 0.0,0.0 z\" /></g></svg>"
      ],
      "text/plain": [
       "<POLYGON ((0 0, 1 1, 1 0, 0 0))>"
      ]
     },
     "execution_count": 17,
     "metadata": {},
     "output_type": "execute_result"
    }
   ],
   "source": [
    "polygon_1 = Polygon([(0, 0), (1, 1), (1, 0)])\n",
    "polygon_1"
   ]
  },
  {
   "cell_type": "code",
   "execution_count": 18,
   "id": "bbe59d49-c9e3-4b65-8644-196eec290557",
   "metadata": {},
   "outputs": [
    {
     "data": {
      "text/plain": [
       "[(0.0, 0.0), (1.0, 1.0), (1.0, 0.0), (0.0, 0.0)]"
      ]
     },
     "execution_count": 18,
     "metadata": {},
     "output_type": "execute_result"
    }
   ],
   "source": [
    "list(polygon_1.exterior.coords)"
   ]
  },
  {
   "cell_type": "markdown",
   "id": "a1d9fdbf-f896-4896-a0ea-0001e700565f",
   "metadata": {},
   "source": [
    "Notice how the first point is duplicated as the last point. \n",
    "\n",
    "Can make holes by passing second list of point lists."
   ]
  },
  {
   "cell_type": "code",
   "execution_count": 23,
   "id": "037c90e5-1df6-4149-bd05-adda11b3a817",
   "metadata": {},
   "outputs": [
    {
     "data": {
      "image/svg+xml": [
       "<svg xmlns=\"http://www.w3.org/2000/svg\" xmlns:xlink=\"http://www.w3.org/1999/xlink\" width=\"100.0\" height=\"100.0\" viewBox=\"0.98 0.48 0.54 0.29000000000000004\" preserveAspectRatio=\"xMinYMin meet\"><g transform=\"matrix(1,0,0,-1,0,1.25)\"><polyline fill=\"none\" stroke=\"#66cc99\" stroke-width=\"0.0108\" points=\"1.0,0.5 1.5,0.5 1.5,0.75 1.0,0.75 1.0,0.5\" opacity=\"0.8\" /></g></svg>"
      ],
      "text/plain": [
       "<LINEARRING (1 0.5, 1.5 0.5, 1.5 0.75, 1 0.75, 1 0.5)>"
      ]
     },
     "execution_count": 23,
     "metadata": {},
     "output_type": "execute_result"
    }
   ],
   "source": [
    "hole = LinearRing([(1, 0.50), (1.5, 0.50), (1.5, 0.75), (1, 0.75)])\n",
    "hole"
   ]
  },
  {
   "cell_type": "code",
   "execution_count": 24,
   "id": "cc14f238-ed59-47e4-aef5-2e44081adf28",
   "metadata": {},
   "outputs": [
    {
     "data": {
      "text/plain": [
       "1.5"
      ]
     },
     "execution_count": 24,
     "metadata": {},
     "output_type": "execute_result"
    }
   ],
   "source": [
    "hole.length"
   ]
  },
  {
   "cell_type": "code",
   "execution_count": 25,
   "id": "9b2c2a09-13a9-4ad6-b9b2-16dab6c63411",
   "metadata": {},
   "outputs": [
    {
     "data": {
      "image/svg+xml": [
       "<svg xmlns=\"http://www.w3.org/2000/svg\" xmlns:xlink=\"http://www.w3.org/1999/xlink\" width=\"100.0\" height=\"100.0\" viewBox=\"-0.08 -0.08 2.16 2.16\" preserveAspectRatio=\"xMinYMin meet\"><g transform=\"matrix(1,0,0,-1,0,2.0)\"><path fill-rule=\"evenodd\" fill=\"#66cc99\" stroke=\"#555555\" stroke-width=\"0.0432\" opacity=\"0.6\" d=\"M 0.0,0.0 L 2.0,2.0 L 2.0,0.0 L 0.0,0.0 z M 1.0,0.5 L 1.5,0.5 L 1.5,0.75 L 1.0,0.75 L 1.0,0.5 z\" /></g></svg>"
      ],
      "text/plain": [
       "<POLYGON ((0 0, 2 2, 2 0, 0 0), (1 0.5, 1.5 0.5, 1.5 0.75, 1 0.75, 1 0.5))>"
      ]
     },
     "execution_count": 25,
     "metadata": {},
     "output_type": "execute_result"
    }
   ],
   "source": [
    "polygon_2 = Polygon([(0, 0), (2, 2), (2, 0)], holes=[hole])\n",
    "polygon_2"
   ]
  },
  {
   "cell_type": "markdown",
   "id": "b40e18f1-cae4-4ef5-b919-7fca3f1ca225",
   "metadata": {
    "jp-MarkdownHeadingCollapsed": true
   },
   "source": [
    "### Challenge: Creating a bounding box\n",
    "\n",
    "Bounding boxes are commonly used in geospatial analysis to restrict a plot or some analysis to an area of interest. A bounding box is a rectangle (a type of POLYGON). Given what we learned about working with geometric objects above, create a minimal bounding box as a POLYGON object that contains Auburn Hills and Rochester Hills. I'm sure there are multiple ways to do this. Then plot the bounding box as well as the Auburn Hills and Rochester Hills polygons on a single plot. Hint: Shapely has some useful plotting methods. "
   ]
  },
  {
   "cell_type": "markdown",
   "id": "ed8b2366-9210-4969-96d3-e6199b4b5e94",
   "metadata": {
    "jp-MarkdownHeadingCollapsed": true,
    "tags": []
   },
   "source": [
    "### Answer"
   ]
  },
  {
   "cell_type": "code",
   "execution_count": 36,
   "id": "1c1e48ca-7def-4572-8259-a5a9afc7cc84",
   "metadata": {},
   "outputs": [],
   "source": [
    "ah_polygon = ou_places_gdf.iloc[0]['geometry']"
   ]
  },
  {
   "cell_type": "code",
   "execution_count": 38,
   "id": "9b681c07-a236-4370-9bac-6ee6badf3bce",
   "metadata": {},
   "outputs": [
    {
     "name": "stdout",
     "output_type": "stream",
     "text": [
      "(-83.32895, 42.619938, -83.209216, 42.709523)\n",
      "(-83.21403, 42.620995, -83.091449, 42.712499)\n"
     ]
    }
   ],
   "source": [
    "print(ah_polygon.bounds)\n",
    "print(rh_polygon.bounds)"
   ]
  },
  {
   "cell_type": "code",
   "execution_count": 40,
   "id": "cadd6c5b-f80a-47fc-ad23-5544807a937a",
   "metadata": {},
   "outputs": [
    {
     "data": {
      "image/svg+xml": [
       "<svg xmlns=\"http://www.w3.org/2000/svg\" xmlns:xlink=\"http://www.w3.org/1999/xlink\" width=\"100.0\" height=\"100.0\" viewBox=\"-83.33845004000001 42.61043796 0.2565010800000209 0.11156108000000131\" preserveAspectRatio=\"xMinYMin meet\"><g transform=\"matrix(1,0,0,-1,0,85.332437)\"><path fill-rule=\"evenodd\" fill=\"#66cc99\" stroke=\"#555555\" stroke-width=\"0.0051300216000004185\" opacity=\"0.6\" d=\"M -83.32895,42.619938 L -83.091449,42.619938 L -83.091449,42.712499 L -83.32895,42.712499 L -83.32895,42.619938 z\" /></g></svg>"
      ],
      "text/plain": [
       "<POLYGON ((-83.329 42.62, -83.091 42.62, -83.091 42.712, -83.329 42.712, -83...>"
      ]
     },
     "execution_count": 40,
     "metadata": {},
     "output_type": "execute_result"
    }
   ],
   "source": [
    "bbox_xmin = min(ah_polygon.bounds[0], rh_polygon.bounds[0])\n",
    "bbox_ymin = min(ah_polygon.bounds[1], rh_polygon.bounds[1])\n",
    "bbox_xmax = max(ah_polygon.bounds[2], rh_polygon.bounds[2])\n",
    "bbox_ymax = max(ah_polygon.bounds[3], rh_polygon.bounds[3])\n",
    "\n",
    "# Create the POLYGON box from the bounds\n",
    "bbox_ah_rh = Polygon([(bbox_xmin, bbox_ymin), \n",
    "                      (bbox_xmax, bbox_ymin), \n",
    "                      (bbox_xmax, bbox_ymax), \n",
    "                      (bbox_xmin, bbox_ymax)])\n",
    "\n",
    "bbox_ah_rh"
   ]
  },
  {
   "cell_type": "code",
   "execution_count": 44,
   "id": "0c5f92ac-c6f0-46f6-b440-7ddc6174114f",
   "metadata": {},
   "outputs": [],
   "source": [
    "import matplotlib.pyplot as plt\n",
    "from shapely.plotting import plot_polygon"
   ]
  },
  {
   "cell_type": "code",
   "execution_count": 50,
   "id": "415d4842-3a3f-4191-8d62-95daaeeb18d7",
   "metadata": {},
   "outputs": [
    {
     "data": {
      "text/plain": [
       "<matplotlib.patches.PathPatch at 0x72b355121b70>"
      ]
     },
     "execution_count": 50,
     "metadata": {},
     "output_type": "execute_result"
    },
    {
     "data": {
      "image/png": "[encoded data removed]",
      "text/plain": [
       "<Figure size 640x480 with 1 Axes>"
      ]
     },
     "metadata": {},
     "output_type": "display_data"
    }
   ],
   "source": [
    "fig, ax = plt.subplots()\n",
    "ou_places_gdf.plot(ax=ax)\n",
    "plot_polygon(bbox_ah_rh, ax=ax, add_points=False, color='green')"
   ]
  },
  {
   "cell_type": "markdown",
   "id": "323de109-cc9f-43f7-8c33-9ac763ab42ea",
   "metadata": {},
   "source": [
    "Another approach would be to try to merge the two polygons into a single polygon and then use the `bounds` property."
   ]
  },
  {
   "cell_type": "code",
   "execution_count": 51,
   "id": "d167b1db-64c9-4e13-b452-f3526f74ff26",
   "metadata": {},
   "outputs": [],
   "source": [
    "from shapely import MultiPolygon"
   ]
  },
  {
   "cell_type": "code",
   "execution_count": 52,
   "id": "6accad87-a1b5-420a-899e-4834bcc9f693",
   "metadata": {},
   "outputs": [
    {
     "data": {
      "image/svg+xml": [
       "<svg xmlns=\"http://www.w3.org/2000/svg\" xmlns:xlink=\"http://www.w3.org/1999/xlink\" width=\"100.0\" height=\"100.0\" viewBox=\"-83.33845004000001 42.61043796 0.2565010800000209 0.11156108000000131\" preserveAspectRatio=\"xMinYMin meet\"><g transform=\"matrix(1,0,0,-1,0,85.332437)\"><g><path fill-rule=\"evenodd\" fill=\"#ff3333\" stroke=\"#555555\" stroke-width=\"0.0051300216000004185\" opacity=\"0.6\" d=\"M -83.32895,42.705918 L -83.307169,42.707046 L -83.286791,42.707578 L -83.28541,42.707556 L -83.285218,42.707553 L -83.282148,42.707614 L -83.269111,42.70799 L -83.267131,42.708793 L -83.26537,42.708209 L -83.252075,42.70853 L -83.250011,42.708525 L -83.247306,42.708595 L -83.242705,42.708717 L -83.242449,42.708723 L -83.239463,42.70869 L -83.227866,42.709154 L -83.223348,42.709334 L -83.218624,42.709414 L -83.21403,42.709523 L -83.213328,42.700901 L -83.213161,42.698793 L -83.212757,42.69376 L -83.21243,42.687209 L -83.212144,42.683326 L -83.211999,42.679977 L -83.211671,42.672522 L -83.2112,42.661808 L -83.210907,42.655908 L -83.210946,42.655895 L -83.210655,42.65019 L -83.210628,42.649952 L -83.210488,42.646447 L -83.210376,42.64421 L -83.21026,42.641674 L -83.210077,42.637907 L -83.209891,42.634009 L -83.209216,42.620995 L -83.223788,42.620633 L -83.231613,42.620417 L -83.235405,42.620305 L -83.235843,42.620291 L -83.238364,42.620214 L -83.239061,42.620194 L -83.248568,42.619938 L -83.249603,42.635263 L -83.249767,42.641713 L -83.249536,42.645829 L -83.24829,42.649197 L -83.250043,42.649158 L -83.250557,42.66026 L -83.251252,42.677325 L -83.25147,42.67762 L -83.251306,42.678222 L -83.251643,42.685591 L -83.26147,42.685198 L -83.26595,42.685413 L -83.280758,42.68529 L -83.286143,42.685225 L -83.286344,42.69586 L -83.291387,42.695744 L -83.29149,42.69931 L -83.296445,42.699112 L -83.296366,42.693778 L -83.291388,42.693903 L -83.291346,42.691812 L -83.293697,42.691775 L -83.293557,42.688203 L -83.296308,42.689426 L -83.296068,42.685103 L -83.303094,42.684951 L -83.30486,42.689029 L -83.305874,42.689667 L -83.306527,42.692218 L -83.306744,42.697874 L -83.306784,42.699105 L -83.31674,42.698679 L -83.318332,42.699269 L -83.323683,42.699533 L -83.326613,42.701092 L -83.328733,42.70134 L -83.32895,42.705918 z\" /><path fill-rule=\"evenodd\" fill=\"#ff3333\" stroke=\"#555555\" stroke-width=\"0.0051300216000004185\" opacity=\"0.6\" d=\"M -83.21403,42.709523 L -83.195423,42.709992 L -83.184639,42.710306 L -83.175624,42.710549 L -83.1746,42.710573 L -83.169093,42.710741 L -83.158337,42.711071 L -83.147793,42.711337 L -83.147658,42.711247 L -83.140801,42.711387 L -83.135022,42.711478 L -83.125061,42.711715 L -83.100509,42.712254 L -83.095441,42.712499 L -83.095039,42.70407 L -83.104159,42.703863 L -83.11132,42.697235 L -83.111792,42.69615 L -83.115118,42.696098 L -83.123289,42.695918 L -83.123793,42.692669 L -83.126099,42.692496 L -83.134249,42.692523 L -83.14206,42.692404 L -83.143983,42.694268 L -83.145429,42.692365 L -83.148162,42.692371 L -83.14876,42.68503 L -83.148452,42.681774 L -83.148402,42.674197 L -83.148419,42.673784 L -83.14325,42.673966 L -83.138061,42.674286 L -83.13346,42.674423 L -83.113444,42.675317 L -83.113453,42.682113 L -83.106193,42.681704 L -83.102206,42.680106 L -83.096701,42.674735 L -83.094345,42.674683 L -83.093791,42.674745 L -83.093962,42.673709 L -83.093706,42.67361 L -83.093492,42.671311 L -83.093458,42.66782 L -83.09314,42.660336 L -83.092833,42.653335 L -83.092491,42.646016 L -83.092151,42.638772 L -83.091795,42.631611 L -83.091789,42.63149 L -83.091449,42.624208 L -83.104604,42.623876 L -83.110919,42.623704 L -83.116683,42.623466 L -83.120718,42.623296 L -83.125822,42.623152 L -83.130687,42.623028 L -83.150492,42.622542 L -83.160235,42.622267 L -83.170093,42.622031 L -83.17948,42.621771 L -83.182045,42.621724 L -83.1896,42.621517 L -83.201055,42.62122 L -83.209216,42.620995 L -83.209891,42.634009 L -83.210077,42.637907 L -83.21026,42.641674 L -83.210376,42.64421 L -83.210488,42.646447 L -83.210628,42.649952 L -83.210655,42.65019 L -83.210946,42.655895 L -83.210907,42.655908 L -83.2112,42.661808 L -83.211671,42.672522 L -83.211999,42.679977 L -83.212144,42.683326 L -83.21243,42.687209 L -83.212757,42.69376 L -83.213161,42.698793 L -83.213328,42.700901 L -83.21403,42.709523 z\" /></g></g></svg>"
      ],
      "text/plain": [
       "<MULTIPOLYGON (((-83.329 42.706, -83.307 42.707, -83.287 42.708, -83.285 42....>"
      ]
     },
     "execution_count": 52,
     "metadata": {},
     "output_type": "execute_result"
    }
   ],
   "source": [
    "ah_rh_polygon = MultiPolygon([ah_polygon, rh_polygon])\n",
    "ah_rh_polygon"
   ]
  },
  {
   "cell_type": "code",
   "execution_count": 53,
   "id": "e8a06964-ba9a-4066-934c-0c3ab59a0445",
   "metadata": {},
   "outputs": [
    {
     "data": {
      "text/plain": [
       "(-83.32895, 42.619938, -83.091449, 42.712499)"
      ]
     },
     "execution_count": 53,
     "metadata": {},
     "output_type": "execute_result"
    }
   ],
   "source": [
    "ah_rh_polygon.bounds"
   ]
  },
  {
   "cell_type": "code",
   "execution_count": 54,
   "id": "50101804-9e96-4671-a3f0-ee6768b04dc8",
   "metadata": {},
   "outputs": [
    {
     "data": {
      "text/plain": [
       "(-83.32895, 42.619938, -83.091449, 42.712499)"
      ]
     },
     "execution_count": 54,
     "metadata": {},
     "output_type": "execute_result"
    }
   ],
   "source": [
    "bbox_ah_rh.bounds"
   ]
  }
 ],
 "metadata": {
  "kernelspec": {
   "display_name": "Python [conda env:geonewb]",
   "language": "python",
   "name": "conda-env-geonewb-py"
  },
  "language_info": {
   "codemirror_mode": {
    "name": "ipython",
    "version": 3
   },
   "file_extension": ".py",
   "mimetype": "text/x-python",
   "name": "python",
   "nbconvert_exporter": "python",
   "pygments_lexer": "ipython3",
   "version": "3.10.14"
  }
 },
 "nbformat": 4,
 "nbformat_minor": 5
}
