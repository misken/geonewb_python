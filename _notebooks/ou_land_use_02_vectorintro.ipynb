{
 "cells": [
  {
   "cell_type": "markdown",
   "id": "bbe56c88-40c6-4124-b542-dcbd56ce15d2",
   "metadata": {},
   "source": [
    "# Notebook 2: Intro to vector data\n",
    "\n",
    "In Notebook 1, we created a basic land use raster plot of the OU campus and the area surrounding it. In this notebook, we'll start to work with vector data. In particular, we'll work with a shapefile of Michigan city boundaries so that we can see which municipalities are part of the OU campus. As described in the section on vector files, we can find boundary shapefiles at [https://www.census.gov/geographies/mapping-files/time-series/geo/carto-boundary-file.html](https://www.census.gov/geographies/mapping-files/time-series/geo/carto-boundary-file.html). I've already downloaded the one for Michigan."
   ]
  },
  {
   "cell_type": "code",
   "execution_count": null,
   "id": "0ffcefc7-812d-48f8-92da-1e5ed6bbdba0",
   "metadata": {},
   "outputs": [],
   "source": [
    "from pathlib import Path\n",
    "import geopandas as gpd\n"
   ]
  },
  {
   "cell_type": "code",
   "execution_count": null,
   "id": "03c0bb5d-1833-4ea6-a33f-08d33f094fd1",
   "metadata": {},
   "outputs": [],
   "source": [
    "mi_places_file = Path('../data', 'cb_2022_26_place_500k', 'cb_2022_26_place_500k.shp')\n",
    "mi_places_gdf = gpd.read_file(mi_places_file)\n",
    "mi_places_gdf"
   ]
  },
  {
   "cell_type": "markdown",
   "id": "d438f2a1-388d-48dc-ac9b-864e8f6de9de",
   "metadata": {},
   "source": [
    "Notice the `geometry` column contains POLYGON objects corresponding to the boundary for each place."
   ]
  },
  {
   "cell_type": "markdown",
   "id": "b844c7ff-4074-4cfd-ab72-403cc654702e",
   "metadata": {},
   "source": [
    "### Question\n",
    "\n",
    "Let's find the records for Auburn Hills and Rochester Hills as these are relevant for the OU campus. We can use the pandas `query` method on a `GeoDataFrame` since it's just an extension of a pandas `DataFrame`. Store the answer in a new `GeoDataFrame` named `ou_places_gdf`."
   ]
  },
  {
   "cell_type": "code",
   "execution_count": null,
   "id": "37b6c555-df16-4f3c-80f2-53d7b5ed967d",
   "metadata": {},
   "outputs": [],
   "source": [
    "# Get records for Auburn Hills and Rochester Hills"
   ]
  },
  {
   "cell_type": "markdown",
   "id": "39ce8f1d-047a-43ac-bc57-77486f79e03e",
   "metadata": {
    "jp-MarkdownHeadingCollapsed": true,
    "tags": []
   },
   "source": [
    "### Answer"
   ]
  },
  {
   "cell_type": "code",
   "execution_count": null,
   "id": "f0648e9c-13d6-4424-9d61-a11200a6a6e9",
   "metadata": {},
   "outputs": [],
   "source": [
    "ou_places_gdf = mi_places_gdf.query('NAME == \"Auburn Hills\" or NAME == \"Rochester Hills\"')\n",
    "ou_places_gdf"
   ]
  },
  {
   "cell_type": "markdown",
   "id": "68f2185b-09cd-4ae2-93ab-26eec36f0cd3",
   "metadata": {},
   "source": [
    "### Plotting vector data in a `GeoDataFrame`\n",
    "\n",
    "GeoPandas provides a `plot()` function for `GeoDataFrame` objects. As you might have guessed, it's using matplotlib to actually generate the plots. In general, any style options that you use in matplotlib can be passed to `plot()`. A few useful resources from the GeoPandas docs are:\n",
    "\n",
    "- https://geopandas.org/en/stable/docs/reference/api/geopandas.GeoDataFrame.plot.html\n",
    "- https://geopandas.org/en/stable/docs/user_guide/mapping.html"
   ]
  },
  {
   "cell_type": "code",
   "execution_count": null,
   "id": "1b2b7a13-0b25-4d2d-87d5-bec997e64154",
   "metadata": {},
   "outputs": [],
   "source": [
    "ou_places_gdf.plot()"
   ]
  },
  {
   "cell_type": "markdown",
   "id": "f04734d5-a67c-4d43-9f76-143e7568d503",
   "metadata": {},
   "source": [
    "It's easy to create a [chloropleth map]() by passing in a column name to use as a basis for color selection. Often we might use something like population or some other metric of interest. We don't really have such a column in our `GeoDataFrame` but can use any column that has different values for the cities if we want to simply make the individual cities clear. I'll use \"GEOID\"."
   ]
  },
  {
   "cell_type": "code",
   "execution_count": null,
   "id": "2dc8f92a-0ea9-46a0-84d8-97c4cb9fe29f",
   "metadata": {},
   "outputs": [],
   "source": [
    "ou_places_gdf.plot(column=\"GEOID\")"
   ]
  },
  {
   "cell_type": "markdown",
   "id": "3545ec80-d719-4fd9-a46a-550abbc4ccdf",
   "metadata": {},
   "source": [
    "You can tell by the axis labels that we are working in longitude (x) and latitude (y).\n",
    "\n",
    "Let's explore the Rochester Hills polygon."
   ]
  },
  {
   "cell_type": "code",
   "execution_count": null,
   "id": "2202e11e-c293-462d-80a4-01a02f264305",
   "metadata": {},
   "outputs": [],
   "source": [
    "rh_polygon = ou_places_gdf.iloc[1]['geometry']"
   ]
  },
  {
   "cell_type": "markdown",
   "id": "36f1e28b-29ae-4800-ab66-e212716fd7cf",
   "metadata": {},
   "source": [
    "Autoprinting a **shapely** object results in a little shape plot."
   ]
  },
  {
   "cell_type": "code",
   "execution_count": null,
   "id": "9fc4ac91-833c-47c0-99d9-8d56ae08bd8f",
   "metadata": {},
   "outputs": [],
   "source": [
    "rh_polygon"
   ]
  },
  {
   "cell_type": "markdown",
   "id": "bae555b0-ebcf-4c68-a2db-158a09fcb66b",
   "metadata": {},
   "source": [
    "If you want to see the actual verticies, use `print`."
   ]
  },
  {
   "cell_type": "code",
   "execution_count": null,
   "id": "9cc91041-44a9-4077-80a7-1d6266100047",
   "metadata": {},
   "outputs": [],
   "source": [
    "print(rh_polygon)"
   ]
  },
  {
   "cell_type": "markdown",
   "id": "c1735a5c-c51a-4246-8552-c66ff910afd6",
   "metadata": {},
   "source": [
    "Polygons are just a collection of points with the first point and last point being identical. The `POLYGON` object is actually defined as a class in the [shapely]() library. Shapely makes it easy to work with points, curves, and surfaces with Python. Under the hood, Shapely uses the [GEOS](https://libgeos.org/) library:\n",
    "\n",
    "> GEOS is a C/C++ library for [computational geometry](https://en.wikipedia.org/wiki/Computational_geometry) with a focus on algorithms used in [geographic information systems](https://en.wikipedia.org/wiki/Geographic_information_system) (GIS) software. It implements the OGC [Simple Features](https://en.wikipedia.org/wiki/Simple_Features) geometry model and provides all the spatial functions in that standard as well as many others. GEOS is a core dependency of [PostGIS](https://postgis.net/), [QGIS](), [GDAL](), [Shapely]() and many others.\n",
    "\n",
    "\n",
    "Let's do some simple shape manipulations to understand vector data a little better."
   ]
  },
  {
   "cell_type": "markdown",
   "id": "f25da8d1-ce6f-482a-be47-54d45c4f012b",
   "metadata": {},
   "source": [
    "### Points, lines and polygons\n",
    "\n",
    "The fundamental building blocks of vector data are points, lines, and polygons. In Shapely, these correspond to the `Point`, `LineString`, and `Polygon` classes. "
   ]
  },
  {
   "cell_type": "code",
   "execution_count": null,
   "id": "64fa5d64-a0b0-47d8-bce6-7ee23558c0ce",
   "metadata": {},
   "outputs": [],
   "source": [
    "from shapely import Point, LineString, LinearRing, Polygon"
   ]
  },
  {
   "cell_type": "markdown",
   "id": "fba6458b-3065-45db-ad14-a635d1b25cf8",
   "metadata": {},
   "source": [
    "Let's start with some simple features in the standard x-y coordinate system centered at (0,0)."
   ]
  },
  {
   "cell_type": "code",
   "execution_count": null,
   "id": "323c13d1-8897-42c5-95c7-6f7ca00fa08f",
   "metadata": {},
   "outputs": [],
   "source": [
    "point_1 = Point(2, 3)\n",
    "point_2 = Point(1, 4)"
   ]
  },
  {
   "cell_type": "markdown",
   "id": "63f11cff-38a2-4e73-9c68-486c8e90d6c3",
   "metadata": {},
   "source": [
    "Shapely has a bunch of built in methods and properties for working with geometric objects. For example, points have zero length and zero area."
   ]
  },
  {
   "cell_type": "code",
   "execution_count": null,
   "id": "8688e1e6-305b-440d-843e-673a0468eeb2",
   "metadata": {},
   "outputs": [],
   "source": [
    "print(f'point_1: {point_1}')\n",
    "print(f'point_1 length: {point_1.length}')\n",
    "print(f'point_1 area: {point_1.area}')\n",
    "print(f'point_1 type: {point_1.geom_type}')"
   ]
  },
  {
   "cell_type": "code",
   "execution_count": null,
   "id": "39d59713-317b-41f3-b55d-0222f7ead60d",
   "metadata": {},
   "outputs": [],
   "source": [
    "line_1 = LineString([point_1, point_2])\n",
    "line_1"
   ]
  },
  {
   "cell_type": "markdown",
   "id": "1bcfd82e-d02c-4952-8726-45efa31533f5",
   "metadata": {},
   "source": [
    "Its x-y bounding box is a (minx, miny, maxx, maxy) tuple."
   ]
  },
  {
   "cell_type": "code",
   "execution_count": null,
   "id": "02b441c8-8f90-4127-9ed2-c53361d56ce3",
   "metadata": {},
   "outputs": [],
   "source": [
    "line_1.bounds"
   ]
  },
  {
   "cell_type": "code",
   "execution_count": null,
   "id": "0e354a3f-e484-4deb-ba49-e6eba95ad99f",
   "metadata": {},
   "outputs": [],
   "source": [
    "print(f'line_1: {line_1}')\n",
    "print(f'line_1 length: {line_1.length}')\n",
    "print(f'line_1 area: {line_1.area}')\n",
    "print(f'line_1 type: {line_1.geom_type}')"
   ]
  },
  {
   "cell_type": "code",
   "execution_count": null,
   "id": "1028682f-30d1-46ec-b27e-038f68011fad",
   "metadata": {},
   "outputs": [],
   "source": [
    "line_1.coords"
   ]
  },
  {
   "cell_type": "code",
   "execution_count": null,
   "id": "829c7396-c3ee-402c-816f-48da5fa80edb",
   "metadata": {},
   "outputs": [],
   "source": [
    "list(line_1.coords)"
   ]
  },
  {
   "cell_type": "code",
   "execution_count": null,
   "id": "97af4d92-1c22-43dc-966a-b382749e2bef",
   "metadata": {},
   "outputs": [],
   "source": [
    "line_1.coords[0]"
   ]
  },
  {
   "cell_type": "markdown",
   "id": "8d44df24-03da-4ef1-ad7f-87b74759fdd9",
   "metadata": {},
   "source": [
    "It should be noted that there are no truly \"curved\" lines in shapely. Curves are approximated with piecewise linear splines."
   ]
  },
  {
   "cell_type": "markdown",
   "id": "19b39211-efec-44c7-b598-8d0216930198",
   "metadata": {},
   "source": [
    "Let's create a triangle."
   ]
  },
  {
   "cell_type": "code",
   "execution_count": null,
   "id": "158c4378-54b1-4f6c-9de2-41bf7aab74d0",
   "metadata": {},
   "outputs": [],
   "source": [
    "polygon_1 = Polygon([(0, 0), (1, 1), (1, 0)])\n",
    "polygon_1"
   ]
  },
  {
   "cell_type": "code",
   "execution_count": null,
   "id": "bbe59d49-c9e3-4b65-8644-196eec290557",
   "metadata": {},
   "outputs": [],
   "source": [
    "list(polygon_1.exterior.coords)"
   ]
  },
  {
   "cell_type": "markdown",
   "id": "a1d9fdbf-f896-4896-a0ea-0001e700565f",
   "metadata": {},
   "source": [
    "Notice how the first point is duplicated as the last point. \n",
    "\n",
    "Can make holes by passing second list of point lists."
   ]
  },
  {
   "cell_type": "code",
   "execution_count": null,
   "id": "037c90e5-1df6-4149-bd05-adda11b3a817",
   "metadata": {},
   "outputs": [],
   "source": [
    "hole = LinearRing([(1, 0.50), (1.5, 0.50), (1.5, 0.75), (1, 0.75)])\n",
    "hole"
   ]
  },
  {
   "cell_type": "code",
   "execution_count": null,
   "id": "cc14f238-ed59-47e4-aef5-2e44081adf28",
   "metadata": {},
   "outputs": [],
   "source": [
    "hole.length"
   ]
  },
  {
   "cell_type": "code",
   "execution_count": null,
   "id": "9b2c2a09-13a9-4ad6-b9b2-16dab6c63411",
   "metadata": {},
   "outputs": [],
   "source": [
    "polygon_2 = Polygon([(0, 0), (2, 2), (2, 0)], holes=[hole])\n",
    "polygon_2"
   ]
  },
  {
   "cell_type": "markdown",
   "id": "b40e18f1-cae4-4ef5-b919-7fca3f1ca225",
   "metadata": {
    "jp-MarkdownHeadingCollapsed": true
   },
   "source": [
    "### Challenge: Creating a bounding box\n",
    "\n",
    "Bounding boxes are commonly used in geospatial analysis to restrict a plot or some analysis to an area of interest. A bounding box is a rectangle (a type of POLYGON). Given what we learned about working with geometric objects above, create a minimal bounding box as a POLYGON object that contains Auburn Hills and Rochester Hills. I'm sure there are multiple ways to do this. Then plot the bounding box as well as the Auburn Hills and Rochester Hills polygons on a single plot. Hint: Shapely has some useful plotting methods. "
   ]
  },
  {
   "cell_type": "markdown",
   "id": "ed8b2366-9210-4969-96d3-e6199b4b5e94",
   "metadata": {
    "jp-MarkdownHeadingCollapsed": true,
    "tags": []
   },
   "source": [
    "### Answer"
   ]
  },
  {
   "cell_type": "code",
   "execution_count": null,
   "id": "1c1e48ca-7def-4572-8259-a5a9afc7cc84",
   "metadata": {},
   "outputs": [],
   "source": [
    "ah_polygon = ou_places_gdf.iloc[0]['geometry']"
   ]
  },
  {
   "cell_type": "code",
   "execution_count": null,
   "id": "9b681c07-a236-4370-9bac-6ee6badf3bce",
   "metadata": {},
   "outputs": [],
   "source": [
    "print(ah_polygon.bounds)\n",
    "print(rh_polygon.bounds)"
   ]
  },
  {
   "cell_type": "code",
   "execution_count": null,
   "id": "cadd6c5b-f80a-47fc-ad23-5544807a937a",
   "metadata": {},
   "outputs": [],
   "source": [
    "bbox_xmin = min(ah_polygon.bounds[0], rh_polygon.bounds[0])\n",
    "bbox_ymin = min(ah_polygon.bounds[1], rh_polygon.bounds[1])\n",
    "bbox_xmax = max(ah_polygon.bounds[2], rh_polygon.bounds[2])\n",
    "bbox_ymax = max(ah_polygon.bounds[3], rh_polygon.bounds[3])\n",
    "\n",
    "# Create the POLYGON box from the bounds\n",
    "bbox_ah_rh = Polygon([(bbox_xmin, bbox_ymin), \n",
    "                      (bbox_xmax, bbox_ymin), \n",
    "                      (bbox_xmax, bbox_ymax), \n",
    "                      (bbox_xmin, bbox_ymax)])\n",
    "\n",
    "bbox_ah_rh"
   ]
  },
  {
   "cell_type": "markdown",
   "id": "3d324562-3e9c-488b-8c5f-d8358ebe7635",
   "metadata": {},
   "source": [
    "## Plotting a bounding box with additional vector data\n",
    "\n",
    "Now let's plot the bounding box around RH and AH."
   ]
  },
  {
   "cell_type": "code",
   "execution_count": null,
   "id": "0c5f92ac-c6f0-46f6-b440-7ddc6174114f",
   "metadata": {},
   "outputs": [],
   "source": [
    "import matplotlib.pyplot as plt\n",
    "from shapely.plotting import plot_polygon"
   ]
  },
  {
   "cell_type": "code",
   "execution_count": null,
   "id": "415d4842-3a3f-4191-8d62-95daaeeb18d7",
   "metadata": {},
   "outputs": [],
   "source": [
    "fig, ax = plt.subplots()\n",
    "ou_places_gdf.plot(ax=ax)\n",
    "plot_polygon(bbox_ah_rh, ax=ax, add_points=False, color='green')"
   ]
  },
  {
   "cell_type": "markdown",
   "id": "323de109-cc9f-43f7-8c33-9ac763ab42ea",
   "metadata": {},
   "source": [
    "Another approach would be to try to merge the two polygons into a single polygon and then use the `bounds` property."
   ]
  },
  {
   "cell_type": "code",
   "execution_count": null,
   "id": "d167b1db-64c9-4e13-b452-f3526f74ff26",
   "metadata": {},
   "outputs": [],
   "source": [
    "from shapely import MultiPolygon"
   ]
  },
  {
   "cell_type": "code",
   "execution_count": null,
   "id": "6accad87-a1b5-420a-899e-4834bcc9f693",
   "metadata": {},
   "outputs": [],
   "source": [
    "ah_rh_polygon = MultiPolygon([ah_polygon, rh_polygon])\n",
    "ah_rh_polygon"
   ]
  },
  {
   "cell_type": "code",
   "execution_count": null,
   "id": "e8a06964-ba9a-4066-934c-0c3ab59a0445",
   "metadata": {},
   "outputs": [],
   "source": [
    "ah_rh_polygon.bounds"
   ]
  },
  {
   "cell_type": "code",
   "execution_count": null,
   "id": "50101804-9e96-4671-a3f0-ee6768b04dc8",
   "metadata": {},
   "outputs": [],
   "source": [
    "bbox_ah_rh.bounds"
   ]
  }
 ],
 "metadata": {
  "kernelspec": {
   "display_name": "Python [conda env:geonewb]",
   "language": "python",
   "name": "conda-env-geonewb-py"
  },
  "language_info": {
   "codemirror_mode": {
    "name": "ipython",
    "version": 3
   },
   "file_extension": ".py",
   "mimetype": "text/x-python",
   "name": "python",
   "nbconvert_exporter": "python",
   "pygments_lexer": "ipython3",
   "version": "3.10.14"
  }
 },
 "nbformat": 4,
 "nbformat_minor": 5
}
