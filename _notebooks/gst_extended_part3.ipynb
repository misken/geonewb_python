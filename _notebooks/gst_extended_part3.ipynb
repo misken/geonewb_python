{
 "cells": [
  {
   "cell_type": "raw",
   "metadata": {},
   "source": [
    "---\n",
    "title: 'Algal bloom detection extended tutorial - Part 3: Finding images of interest'\n",
    "subtitle: \"Programmatically gather multiple images with the PyStac API and rescale Landsat images\"\n",
    "date: \"2023-01-29\"\n",
    "categories: [geospatial, geonewb, python, geopandas, sentinel-2, landsat, planetary-computer]\n",
    "citation: true\n",
    "license: \"CC BY\"\n",
    "---"
   ]
  },
  {
   "cell_type": "markdown",
   "metadata": {
    "Collapsed": "false"
   },
   "source": [
    "This is part of the [geonewb](https://bitsofanalytics.org/posts/geonewb-intro/) series of posts.\n",
    "\n",
    "In [Part 2](https://bitsofanalytics.org/posts/algaebloom-part2/) of this series we got familiar with Microsoft's Planetary computer and learned a bit about Sentinel-2 image files. Now we'll move on in the tutorial to exploring:\n",
    "\n",
    "- **programmatically finding and acquiring satellite image data based on location and date range** (both Sentinel-2 and Landsat) from **Microsoft's Planetary Computer**,\n",
    "- using GeoPandas for working with multiple image items\n",
    "\n",
    "As mentioned in the Part 1, I'm following along and taking some deeper dives and various detours from the official [Getting Started Tutorial](https://drivendata.co/blog/tick-tick-bloom-benchmark).\n",
    "\n",
    "In subsequent parts we'll tackle the **feature engineering** and **predictive modeling** sections of the original tutorial."
   ]
  },
  {
   "cell_type": "code",
   "execution_count": 1,
   "metadata": {},
   "outputs": [],
   "source": [
    "# Need to do some date math and need to work with file paths\n",
    "from datetime import timedelta, datetime\n",
    "from pathlib import Path"
   ]
  },
  {
   "cell_type": "code",
   "execution_count": 2,
   "metadata": {
    "Collapsed": "false"
   },
   "outputs": [],
   "source": [
    "import matplotlib.pyplot as plt\n",
    "import numpy as np\n",
    "import pandas as pd"
   ]
  },
  {
   "cell_type": "code",
   "execution_count": 3,
   "metadata": {},
   "outputs": [],
   "source": [
    "from IPython.display import Image\n",
    "from PIL import Image as PILImage"
   ]
  },
  {
   "cell_type": "code",
   "execution_count": 4,
   "metadata": {},
   "outputs": [],
   "source": [
    "%matplotlib inline"
   ]
  },
  {
   "cell_type": "markdown",
   "metadata": {},
   "source": [
    "# Finding and acquiring satellite imagery data\n",
    "Unline many challenges at [DrivenData](https://www.drivendata.org/), the feature data for this challenge is not directly provided. We need to get it using various APIs from specific sources. The date and location for each `uid` in the metadata can be used to find relevant satellite images from a number of different places. There are four approved data sources and all the details are described on the project home page at the following links:\n",
    "\n",
    "- [Sentinel-2 satellite imagery](https://www.drivendata.org/competitions/143/tick-tick-bloom/page/650/#sentinel-2-1)\n",
    "- [Landsat satellite imagery](https://www.drivendata.org/competitions/143/tick-tick-bloom/page/650/#landsat-1)\n",
    "- [NOAA's High-Resolution Rapid Refresh (HRRR) climate data](https://www.drivendata.org/competitions/143/tick-tick-bloom/page/650/#climate-data-1)\n",
    "- [Copernicus DEM elevation data](https://www.drivendata.org/competitions/143/tick-tick-bloom/page/650/#elevation-data-1)\n",
    "\n",
    "For now we will just focus on finding relevant Sentinel-2 and Landsat data. This [page in the challenge site](https://www.drivendata.org/competitions/143/tick-tick-bloom/page/650/#satellite-imagery) has additional information and resources related to retrieving satellite imagery data. From that page you can get a very good high level overview of the different *levels* of satellite imagery data, top of atmosphere reflectance vs bottom of atmosphere reflectance, atmospheric corrections, spectral bands and algorithmic bands, as well as the relevant links for accessing data from the MPC.\n",
    "\n",
    "From the main tutorial:\n",
    "\n",
    "> The general steps we'll use to pull satellite data are:\n",
    ">\n",
    ">    1. Establish a connection to the Planetary Computer's STAC API using the planetary_computer and pystac_client Python packages.\n",
    ">\n",
    ">    2. Query the STAC API for scenes that capture our in situ labels. For each sample, we'll search for imagery that includes the sample's location (latitude and longitude) around the date the sample was taken. In this benchmark, we'll use only Sentinel-2 L2A and Landsat Level-2 data.\n",
    ">\n",
    ">    3. Select one image for each sample. We'll use Sentinel-2 data wherever it is available, because it is higher resolution. We'll have to use Landsat for data before roughly 2016, because Sentinel-2 was not available yet.\n",
    ">\n",
    ">    4. Convert the image to a 1-dimensional list of features that can be input into our tree model"
   ]
  },
  {
   "cell_type": "markdown",
   "metadata": {},
   "source": [
    "# Code driven search for images with the STAC API\n",
    "\n",
    "In Part 2, we manually used the MPC Explore feature to find an image of interest. Now, we'll use a lat-long pair along with a date range to find all the images available for that location at that time. For the lat-long value of interest I picked out a point in the little body of water outlined below."
   ]
  },
  {
   "cell_type": "code",
   "execution_count": 5,
   "metadata": {},
   "outputs": [
    {
     "data": {
      "text/html": [
       "<img src=\"images/thunder_bay_lake_point_labelled.png\"/>"
      ],
      "text/plain": [
       "<IPython.core.display.Image object>"
      ]
     },
     "execution_count": 5,
     "metadata": {},
     "output_type": "execute_result"
    }
   ],
   "source": [
    "Image(url='images/thunder_bay_lake_point_labelled.png')"
   ]
  },
  {
   "cell_type": "code",
   "execution_count": 6,
   "metadata": {},
   "outputs": [],
   "source": [
    "lat = 45.03967636446461\n",
    "long = -83.30284787280465"
   ]
  },
  {
   "cell_type": "code",
   "execution_count": 7,
   "metadata": {
    "tags": []
   },
   "outputs": [],
   "source": [
    "# Establish a connection to the STAC API\n",
    "import planetary_computer as pc\n",
    "from pystac_client import Client\n",
    "\n",
    "# Useful libs for working with this data\n",
    "import geopy.distance as distance\n",
    "import geopandas as gpd\n",
    "import shapely\n",
    "import rioxarray"
   ]
  },
  {
   "cell_type": "markdown",
   "metadata": {},
   "source": [
    "Let's create a few functions to make it easy to define a bounding box around a lat, long pair. This code is right from the tutorial."
   ]
  },
  {
   "cell_type": "markdown",
   "metadata": {},
   "source": [
    "> Time range: We want our feature data to be as close to the time of the sample as possible, because in algal blooms in small water bodies form and move very rapidly. Remember, you cannot use any data collected after the date of the sample.\n",
    "\n",
    "> Imagery taken with roughly 10 days of the sample will generally still be an accurate representation of environmental conditions at the time of the sample. For some data points you may not be able to get data within 10 days, and may have to use earlier data. We'll search the fifteen days up to the sample time, including the sample date.\n"
   ]
  },
  {
   "cell_type": "code",
   "execution_count": 8,
   "metadata": {},
   "outputs": [],
   "source": [
    "# get our bounding box to search latitude and longitude coordinates\n",
    "def get_bounding_box(latitude, longitude, meter_buffer=1000):\n",
    "    \"\"\"\n",
    "    Given a latitude, longitude, and buffer in meters, returns a bounding\n",
    "    box around the point with the buffer on the left, right, top, and bottom.\n",
    "\n",
    "    Returns a list of [minx, miny, maxx, maxy]\n",
    "    \"\"\"\n",
    "    distance_search = distance.distance(meters=meter_buffer)\n",
    "\n",
    "    # calculate the lat/long bounds based on ground distance\n",
    "    # bearings are cardinal directions to move (south, west, north, and east)\n",
    "    min_lat = distance_search.destination((latitude, longitude), bearing=180)[0]\n",
    "    min_long = distance_search.destination((latitude, longitude), bearing=270)[1]\n",
    "    max_lat = distance_search.destination((latitude, longitude), bearing=0)[0]\n",
    "    max_long = distance_search.destination((latitude, longitude), bearing=90)[1]\n",
    "\n",
    "    return [min_long, min_lat, max_long, max_lat]"
   ]
  },
  {
   "cell_type": "code",
   "execution_count": 9,
   "metadata": {},
   "outputs": [],
   "source": [
    "# get our date range to search, and format correctly for query\n",
    "def get_date_range(date, time_buffer_days=10):\n",
    "    \"\"\"Get a date range to search for in the planetary computer based\n",
    "    on a sample's date. The time range will include the sample date\n",
    "    and time_buffer_days days prior\n",
    "\n",
    "    Returns a string\"\"\"\n",
    "    datetime_format = \"%Y-%m-%dT\"\n",
    "    range_start = pd.to_datetime(date) - timedelta(days=time_buffer_days)\n",
    "    date_range = f\"{range_start.strftime(datetime_format)}/{pd.to_datetime(date).strftime(datetime_format)}\"\n",
    "\n",
    "    return date_range"
   ]
  },
  {
   "cell_type": "code",
   "execution_count": 10,
   "metadata": {},
   "outputs": [],
   "source": [
    "target_date = \"2022-06-15\""
   ]
  },
  {
   "cell_type": "code",
   "execution_count": 11,
   "metadata": {},
   "outputs": [
    {
     "data": {
      "text/plain": [
       "'2022-06-05T/2022-06-15T'"
      ]
     },
     "execution_count": 11,
     "metadata": {},
     "output_type": "execute_result"
    }
   ],
   "source": [
    "target_date_range = get_date_range(target_date)\n",
    "target_date_range"
   ]
  },
  {
   "cell_type": "markdown",
   "metadata": {},
   "source": [
    "This next step essentially \"signs in\" to the MPC catalog of data so that we can search and acquire the data we are interested in."
   ]
  },
  {
   "cell_type": "code",
   "execution_count": 12,
   "metadata": {},
   "outputs": [
    {
     "data": {
      "text/html": [
       "&lt;Client id=microsoft-pc&gt;"
      ],
      "text/plain": [
       "<Client id=microsoft-pc>"
      ]
     },
     "execution_count": 12,
     "metadata": {},
     "output_type": "execute_result"
    }
   ],
   "source": [
    "catalog = Client.open(\n",
    "    \"https://planetarycomputer.microsoft.com/api/stac/v1\", modifier=pc.sign_inplace\n",
    ")\n",
    "\n",
    "catalog"
   ]
  },
  {
   "cell_type": "markdown",
   "metadata": {},
   "source": [
    "To search the catalog we will supply three different types of criteria:\n",
    "\n",
    "- which collections to search (e.g. \"sentinel-2-l2a\")\n",
    "- a bounding box of coordinates\n",
    "- a date range\n",
    "\n",
    "Any item with the specified collection(s), that intersect the bounding box and were acquired within the date range will be returned."
   ]
  },
  {
   "cell_type": "code",
   "execution_count": 13,
   "metadata": {
    "tags": []
   },
   "outputs": [],
   "source": [
    "#help(Client.search)"
   ]
  },
  {
   "cell_type": "code",
   "execution_count": 14,
   "metadata": {},
   "outputs": [
    {
     "data": {
      "text/plain": [
       "[-83.34092260849519, 45.01268150971338, -83.2647731371141, 45.06667109107233]"
      ]
     },
     "execution_count": 14,
     "metadata": {},
     "output_type": "execute_result"
    }
   ],
   "source": [
    "bbox = get_bounding_box(lat, long, meter_buffer=3000)\n",
    "bbox"
   ]
  },
  {
   "cell_type": "code",
   "execution_count": 15,
   "metadata": {},
   "outputs": [
    {
     "name": "stdout",
     "output_type": "stream",
     "text": [
      "17 items found\n",
      "items is a <class 'pystac.item_collection.ItemCollection'>\n",
      "items[0] is a <class 'pystac.item.Item'>\n"
     ]
    }
   ],
   "source": [
    "# search the planetary computer sentinel-l2a and Landsat level 2\n",
    "search = catalog.search(\n",
    "    collections=[\"sentinel-2-l2a\", \"landsat-c2-l2\"], bbox=bbox, datetime=target_date_range\n",
    ")\n",
    "\n",
    "# see how many items were returned\n",
    "items = search.get_all_items()\n",
    "print(f'{len(items)} items found')\n",
    "print(f'items is a {type(items)}')\n",
    "print(f'items[0] is a {type(items[0])}')"
   ]
  },
  {
   "cell_type": "markdown",
   "metadata": {},
   "source": [
    "Great, it worked. By looking at the `id` values, we can see how many Sentinel-2 vs Landsat images we found."
   ]
  },
  {
   "cell_type": "code",
   "execution_count": 16,
   "metadata": {},
   "outputs": [
    {
     "name": "stdout",
     "output_type": "stream",
     "text": [
      "S2B_MSIL2A_20220613T161829_R040_T17TLL_20220614T113426\n",
      "S2B_MSIL2A_20220613T161829_R040_T17TLK_20220614T110341\n",
      "S2B_MSIL2A_20220613T161829_R040_T16TGR_20220614T112541\n",
      "S2B_MSIL2A_20220613T161829_R040_T16TGQ_20220614T112402\n",
      "LC09_L2SP_020029_20220612_02_T1\n",
      "S2A_MSIL2A_20220611T162911_R083_T17TLL_20220612T151658\n",
      "S2A_MSIL2A_20220611T162911_R083_T16TGR_20220612T145248\n",
      "LC08_L2SP_021029_20220611_02_T1\n",
      "LC08_L2SP_021028_20220611_02_T1\n",
      "S2A_MSIL2A_20220608T161841_R040_T17TLL_20220609T103649\n",
      "S2A_MSIL2A_20220608T161841_R040_T17TLK_20220609T095528\n",
      "S2A_MSIL2A_20220608T161841_R040_T16TGR_20220609T105106\n",
      "S2A_MSIL2A_20220608T161841_R040_T16TGQ_20220609T103242\n",
      "S2B_MSIL2A_20220606T162839_R083_T17TLL_20220607T020323\n",
      "S2B_MSIL2A_20220606T162839_R083_T17TLK_20220607T023733\n",
      "S2B_MSIL2A_20220606T162839_R083_T16TGR_20220607T015546\n",
      "S2B_MSIL2A_20220606T162839_R083_T16TGQ_20220607T015218\n"
     ]
    }
   ],
   "source": [
    "for item in items:\n",
    "    print(item.id)"
   ]
  },
  {
   "cell_type": "markdown",
   "metadata": {},
   "source": [
    "Look at the properties for a Sentinel-2 item and a Landsat item."
   ]
  },
  {
   "cell_type": "code",
   "execution_count": 17,
   "metadata": {},
   "outputs": [
    {
     "data": {
      "text/plain": [
       "{'datetime': '2022-06-13T16:18:29.024000Z',\n",
       " 'platform': 'Sentinel-2B',\n",
       " 'proj:epsg': 32617,\n",
       " 'instruments': ['msi'],\n",
       " 's2:mgrs_tile': '17TLL',\n",
       " 'constellation': 'Sentinel 2',\n",
       " 's2:granule_id': 'S2B_OPER_MSI_L2A_TL_ESRI_20220614T113427_A027522_T17TLL_N04.00',\n",
       " 'eo:cloud_cover': 87.161016,\n",
       " 's2:datatake_id': 'GS2B_20220613T161829_027522_N04.00',\n",
       " 's2:product_uri': 'S2B_MSIL2A_20220613T161829_N0400_R040_T17TLL_20220614T113426.SAFE',\n",
       " 's2:datastrip_id': 'S2B_OPER_MSI_L2A_DS_ESRI_20220614T113427_S20220613T162212_N04.00',\n",
       " 's2:product_type': 'S2MSI2A',\n",
       " 'sat:orbit_state': 'descending',\n",
       " 's2:datatake_type': 'INS-NOBS',\n",
       " 's2:generation_time': '2022-06-14T11:34:26.294534Z',\n",
       " 'sat:relative_orbit': 40,\n",
       " 's2:water_percentage': 6.461042,\n",
       " 's2:mean_solar_zenith': 25.4829228231717,\n",
       " 's2:mean_solar_azimuth': 146.024549969213,\n",
       " 's2:processing_baseline': '04.00',\n",
       " 's2:snow_ice_percentage': 0.0,\n",
       " 's2:vegetation_percentage': 6.113103,\n",
       " 's2:thin_cirrus_percentage': 33.120424,\n",
       " 's2:cloud_shadow_percentage': 0.067276,\n",
       " 's2:nodata_pixel_percentage': 14.849125,\n",
       " 's2:unclassified_percentage': 0.045276,\n",
       " 's2:dark_features_percentage': 0.000943,\n",
       " 's2:not_vegetated_percentage': 0.151341,\n",
       " 's2:degraded_msi_data_percentage': 0.0127,\n",
       " 's2:high_proba_clouds_percentage': 3.011082,\n",
       " 's2:reflectance_conversion_factor': 0.970306720412633,\n",
       " 's2:medium_proba_clouds_percentage': 51.029509,\n",
       " 's2:saturated_defective_pixel_percentage': 0.0}"
      ]
     },
     "execution_count": 17,
     "metadata": {},
     "output_type": "execute_result"
    }
   ],
   "source": [
    "# Sentinel-2 item\n",
    "items[0].properties"
   ]
  },
  {
   "cell_type": "code",
   "execution_count": 18,
   "metadata": {},
   "outputs": [
    {
     "data": {
      "text/plain": [
       "{'gsd': 30,\n",
       " 'created': '2022-06-28T23:39:39.840750Z',\n",
       " 'sci:doi': '10.5066/P9OGBGM6',\n",
       " 'datetime': '2022-06-12T16:15:20.609822Z',\n",
       " 'platform': 'landsat-9',\n",
       " 'proj:epsg': 32617,\n",
       " 'proj:shape': [8001, 7901],\n",
       " 'description': 'Landsat Collection 2 Level-2',\n",
       " 'instruments': ['oli', 'tirs'],\n",
       " 'eo:cloud_cover': 79.41,\n",
       " 'proj:transform': [30.0, 0.0, 245685.0, 0.0, -30.0, 5060415.0],\n",
       " 'view:off_nadir': 0,\n",
       " 'landsat:wrs_row': '029',\n",
       " 'landsat:scene_id': 'LC90200292022163LGN00',\n",
       " 'landsat:wrs_path': '020',\n",
       " 'landsat:wrs_type': '2',\n",
       " 'view:sun_azimuth': 138.06479334,\n",
       " 'landsat:correction': 'L2SP',\n",
       " 'view:sun_elevation': 63.60158079,\n",
       " 'landsat:cloud_cover_land': 86.06,\n",
       " 'landsat:collection_number': '02',\n",
       " 'landsat:collection_category': 'T1'}"
      ]
     },
     "execution_count": 18,
     "metadata": {},
     "output_type": "execute_result"
    }
   ],
   "source": [
    "# Landsat item\n",
    "items[4].properties"
   ]
  },
  {
   "cell_type": "markdown",
   "metadata": {},
   "source": [
    "Yep, some of the assets are different, though some are shared. Down below we'll see that we'll need to process the Landsat assets differently that we do the Sentinel-2 assets:\n",
    "\n",
    "- Sentinel-2 contains a 'visual' band that includes the red, green, and blue bands\n",
    "- Landsat has individual red, green and blue bands, but not aconvenient 'visual' band\n",
    "- From the `crop_landsat_image()` function in the tutorial, it looks Landsat rgb values need to be normalized to 0-255 to be consistent with Sentinel-2.\n",
    "- That same function uses `odc.stac.load()` instead of `rioxarray`.\n",
    "- The `gsd` property of the Landsat item indicates that the resolution is 30m. Sentinel-2 gives us 10m resolution for several of the bands."
   ]
  },
  {
   "cell_type": "markdown",
   "metadata": {},
   "source": [
    "# Do items contain our sample point? Spatial queries with geopandas.\n",
    "\n",
    "From the original tutorial (yes, we are using a different point and different target date):\n",
    "\n",
    "> Remember that our example measurement was taken on 2021-09-27 at coordinates (41.98006, -110.65734). Because we used a bounding box around the sample to search, the Planetary Computer returned all items that contain any part of that bounding box. This means we still have to double check whether each item actually contains our sample point."
   ]
  },
  {
   "cell_type": "markdown",
   "metadata": {},
   "source": [
    "We will use GeoPandas to create a `GeoDataFrame` based on the collection of STAC items. This will allow us to do spatial queries such as checking if each item contains our sample point (a lat-long pair) - though it appears in the tutorial that a subset of this `GeoDataFrame` is converted to a pandas `DataFrame` and then the lat-long sample point value is manually checked to see if it's in the bounding box. Seems like there must be a GeoPandas way to do the same."
   ]
  },
  {
   "cell_type": "markdown",
   "metadata": {},
   "source": [
    "What exactly is GeoPandas again? The basic idea is to combine the capabilites of pandas with the shapely library to allow you to work with geospatial data in a pandas-like way. \n",
    "\n",
    "> GeoPandas is an open source project to make working with geospatial data in python easier. GeoPandas extends the datatypes used by pandas to allow spatial operations on geometric types. Geometric operations are performed by [shapely]()https://shapely.readthedocs.io/en/stable/index.html. GeoPandas further depends on [fiona](https://fiona.readthedocs.io/) for file access and matplotlib for plotting.\n",
    "\n",
    "Conventiently, you can create a `GeoDataFrame` from the features dictionary returned by the STAC items collection's `to_dict` method. "
   ]
  },
  {
   "cell_type": "code",
   "execution_count": 19,
   "metadata": {
    "tags": []
   },
   "outputs": [
    {
     "data": {
      "text/html": [
       "<div>\n",
       "<style scoped>\n",
       "    .dataframe tbody tr th:only-of-type {\n",
       "        vertical-align: middle;\n",
       "    }\n",
       "\n",
       "    .dataframe tbody tr th {\n",
       "        vertical-align: top;\n",
       "    }\n",
       "\n",
       "    .dataframe thead th {\n",
       "        text-align: right;\n",
       "    }\n",
       "</style>\n",
       "<table border=\"1\" class=\"dataframe\">\n",
       "  <thead>\n",
       "    <tr style=\"text-align: right;\">\n",
       "      <th></th>\n",
       "      <th>geometry</th>\n",
       "      <th>datetime</th>\n",
       "      <th>platform</th>\n",
       "      <th>proj:epsg</th>\n",
       "      <th>instruments</th>\n",
       "      <th>s2:mgrs_tile</th>\n",
       "      <th>constellation</th>\n",
       "      <th>s2:granule_id</th>\n",
       "      <th>eo:cloud_cover</th>\n",
       "      <th>s2:datatake_id</th>\n",
       "      <th>...</th>\n",
       "      <th>landsat:wrs_row</th>\n",
       "      <th>landsat:scene_id</th>\n",
       "      <th>landsat:wrs_path</th>\n",
       "      <th>landsat:wrs_type</th>\n",
       "      <th>view:sun_azimuth</th>\n",
       "      <th>landsat:correction</th>\n",
       "      <th>view:sun_elevation</th>\n",
       "      <th>landsat:cloud_cover_land</th>\n",
       "      <th>landsat:collection_number</th>\n",
       "      <th>landsat:collection_category</th>\n",
       "    </tr>\n",
       "  </thead>\n",
       "  <tbody>\n",
       "    <tr>\n",
       "      <th>0</th>\n",
       "      <td>POLYGON ((-83.52837 45.03720, -83.50498 45.106...</td>\n",
       "      <td>2022-06-13T16:18:29.024000Z</td>\n",
       "      <td>Sentinel-2B</td>\n",
       "      <td>32617</td>\n",
       "      <td>[msi]</td>\n",
       "      <td>17TLL</td>\n",
       "      <td>Sentinel 2</td>\n",
       "      <td>S2B_OPER_MSI_L2A_TL_ESRI_20220614T113427_A0275...</td>\n",
       "      <td>87.161016</td>\n",
       "      <td>GS2B_20220613T161829_027522_N04.00</td>\n",
       "      <td>...</td>\n",
       "      <td>NaN</td>\n",
       "      <td>NaN</td>\n",
       "      <td>NaN</td>\n",
       "      <td>NaN</td>\n",
       "      <td>NaN</td>\n",
       "      <td>NaN</td>\n",
       "      <td>NaN</td>\n",
       "      <td>NaN</td>\n",
       "      <td>NaN</td>\n",
       "      <td>NaN</td>\n",
       "    </tr>\n",
       "    <tr>\n",
       "      <th>1</th>\n",
       "      <td>POLYGON ((-83.53807 45.00860, -83.50498 45.106...</td>\n",
       "      <td>2022-06-13T16:18:29.024000Z</td>\n",
       "      <td>Sentinel-2B</td>\n",
       "      <td>32617</td>\n",
       "      <td>[msi]</td>\n",
       "      <td>17TLK</td>\n",
       "      <td>Sentinel 2</td>\n",
       "      <td>S2B_OPER_MSI_L2A_TL_ESRI_20220614T110342_A0275...</td>\n",
       "      <td>95.372748</td>\n",
       "      <td>GS2B_20220613T161829_027522_N04.00</td>\n",
       "      <td>...</td>\n",
       "      <td>NaN</td>\n",
       "      <td>NaN</td>\n",
       "      <td>NaN</td>\n",
       "      <td>NaN</td>\n",
       "      <td>NaN</td>\n",
       "      <td>NaN</td>\n",
       "      <td>NaN</td>\n",
       "      <td>NaN</td>\n",
       "      <td>NaN</td>\n",
       "      <td>NaN</td>\n",
       "    </tr>\n",
       "    <tr>\n",
       "      <th>2</th>\n",
       "      <td>POLYGON ((-83.53731 45.01084, -83.50498 45.106...</td>\n",
       "      <td>2022-06-13T16:18:29.024000Z</td>\n",
       "      <td>Sentinel-2B</td>\n",
       "      <td>32616</td>\n",
       "      <td>[msi]</td>\n",
       "      <td>16TGR</td>\n",
       "      <td>Sentinel 2</td>\n",
       "      <td>S2B_OPER_MSI_L2A_TL_ESRI_20220614T112542_A0275...</td>\n",
       "      <td>99.999827</td>\n",
       "      <td>GS2B_20220613T161829_027522_N04.00</td>\n",
       "      <td>...</td>\n",
       "      <td>NaN</td>\n",
       "      <td>NaN</td>\n",
       "      <td>NaN</td>\n",
       "      <td>NaN</td>\n",
       "      <td>NaN</td>\n",
       "      <td>NaN</td>\n",
       "      <td>NaN</td>\n",
       "      <td>NaN</td>\n",
       "      <td>NaN</td>\n",
       "      <td>NaN</td>\n",
       "    </tr>\n",
       "    <tr>\n",
       "      <th>3</th>\n",
       "      <td>POLYGON ((-83.83576 44.11947, -83.80033 44.226...</td>\n",
       "      <td>2022-06-13T16:18:29.024000Z</td>\n",
       "      <td>Sentinel-2B</td>\n",
       "      <td>32616</td>\n",
       "      <td>[msi]</td>\n",
       "      <td>16TGQ</td>\n",
       "      <td>Sentinel 2</td>\n",
       "      <td>S2B_OPER_MSI_L2A_TL_ESRI_20220614T112404_A0275...</td>\n",
       "      <td>99.957287</td>\n",
       "      <td>GS2B_20220613T161829_027522_N04.00</td>\n",
       "      <td>...</td>\n",
       "      <td>NaN</td>\n",
       "      <td>NaN</td>\n",
       "      <td>NaN</td>\n",
       "      <td>NaN</td>\n",
       "      <td>NaN</td>\n",
       "      <td>NaN</td>\n",
       "      <td>NaN</td>\n",
       "      <td>NaN</td>\n",
       "      <td>NaN</td>\n",
       "      <td>NaN</td>\n",
       "    </tr>\n",
       "    <tr>\n",
       "      <th>4</th>\n",
       "      <td>POLYGON ((-83.56556 45.66118, -84.14055 43.950...</td>\n",
       "      <td>2022-06-12T16:15:20.609822Z</td>\n",
       "      <td>landsat-9</td>\n",
       "      <td>32617</td>\n",
       "      <td>[oli, tirs]</td>\n",
       "      <td>NaN</td>\n",
       "      <td>NaN</td>\n",
       "      <td>NaN</td>\n",
       "      <td>79.410000</td>\n",
       "      <td>NaN</td>\n",
       "      <td>...</td>\n",
       "      <td>029</td>\n",
       "      <td>LC90200292022163LGN00</td>\n",
       "      <td>020</td>\n",
       "      <td>2</td>\n",
       "      <td>138.064793</td>\n",
       "      <td>L2SP</td>\n",
       "      <td>63.601581</td>\n",
       "      <td>86.06</td>\n",
       "      <td>02</td>\n",
       "      <td>T1</td>\n",
       "    </tr>\n",
       "  </tbody>\n",
       "</table>\n",
       "<p>5 rows × 51 columns</p>\n",
       "</div>"
      ],
      "text/plain": [
       "                                            geometry  \\\n",
       "0  POLYGON ((-83.52837 45.03720, -83.50498 45.106...   \n",
       "1  POLYGON ((-83.53807 45.00860, -83.50498 45.106...   \n",
       "2  POLYGON ((-83.53731 45.01084, -83.50498 45.106...   \n",
       "3  POLYGON ((-83.83576 44.11947, -83.80033 44.226...   \n",
       "4  POLYGON ((-83.56556 45.66118, -84.14055 43.950...   \n",
       "\n",
       "                      datetime     platform  proj:epsg  instruments  \\\n",
       "0  2022-06-13T16:18:29.024000Z  Sentinel-2B      32617        [msi]   \n",
       "1  2022-06-13T16:18:29.024000Z  Sentinel-2B      32617        [msi]   \n",
       "2  2022-06-13T16:18:29.024000Z  Sentinel-2B      32616        [msi]   \n",
       "3  2022-06-13T16:18:29.024000Z  Sentinel-2B      32616        [msi]   \n",
       "4  2022-06-12T16:15:20.609822Z    landsat-9      32617  [oli, tirs]   \n",
       "\n",
       "  s2:mgrs_tile constellation  \\\n",
       "0        17TLL    Sentinel 2   \n",
       "1        17TLK    Sentinel 2   \n",
       "2        16TGR    Sentinel 2   \n",
       "3        16TGQ    Sentinel 2   \n",
       "4          NaN           NaN   \n",
       "\n",
       "                                       s2:granule_id  eo:cloud_cover  \\\n",
       "0  S2B_OPER_MSI_L2A_TL_ESRI_20220614T113427_A0275...       87.161016   \n",
       "1  S2B_OPER_MSI_L2A_TL_ESRI_20220614T110342_A0275...       95.372748   \n",
       "2  S2B_OPER_MSI_L2A_TL_ESRI_20220614T112542_A0275...       99.999827   \n",
       "3  S2B_OPER_MSI_L2A_TL_ESRI_20220614T112404_A0275...       99.957287   \n",
       "4                                                NaN       79.410000   \n",
       "\n",
       "                       s2:datatake_id  ... landsat:wrs_row  \\\n",
       "0  GS2B_20220613T161829_027522_N04.00  ...             NaN   \n",
       "1  GS2B_20220613T161829_027522_N04.00  ...             NaN   \n",
       "2  GS2B_20220613T161829_027522_N04.00  ...             NaN   \n",
       "3  GS2B_20220613T161829_027522_N04.00  ...             NaN   \n",
       "4                                 NaN  ...             029   \n",
       "\n",
       "        landsat:scene_id landsat:wrs_path landsat:wrs_type view:sun_azimuth  \\\n",
       "0                    NaN              NaN              NaN              NaN   \n",
       "1                    NaN              NaN              NaN              NaN   \n",
       "2                    NaN              NaN              NaN              NaN   \n",
       "3                    NaN              NaN              NaN              NaN   \n",
       "4  LC90200292022163LGN00              020                2       138.064793   \n",
       "\n",
       "  landsat:correction  view:sun_elevation  landsat:cloud_cover_land  \\\n",
       "0                NaN                 NaN                       NaN   \n",
       "1                NaN                 NaN                       NaN   \n",
       "2                NaN                 NaN                       NaN   \n",
       "3                NaN                 NaN                       NaN   \n",
       "4               L2SP           63.601581                     86.06   \n",
       "\n",
       "   landsat:collection_number  landsat:collection_category  \n",
       "0                        NaN                          NaN  \n",
       "1                        NaN                          NaN  \n",
       "2                        NaN                          NaN  \n",
       "3                        NaN                          NaN  \n",
       "4                         02                           T1  \n",
       "\n",
       "[5 rows x 51 columns]"
      ]
     },
     "execution_count": 19,
     "metadata": {},
     "output_type": "execute_result"
    }
   ],
   "source": [
    "items_df = gpd.GeoDataFrame.from_features(items.to_dict(), crs=\"epsg:4326\")\n",
    "items_df.head()"
   ]
  },
  {
   "cell_type": "code",
   "execution_count": 20,
   "metadata": {
    "tags": []
   },
   "outputs": [
    {
     "name": "stdout",
     "output_type": "stream",
     "text": [
      "<class 'geopandas.geodataframe.GeoDataFrame'>\n",
      "RangeIndex: 17 entries, 0 to 16\n",
      "Data columns (total 51 columns):\n",
      " #   Column                                   Non-Null Count  Dtype   \n",
      "---  ------                                   --------------  -----   \n",
      " 0   geometry                                 17 non-null     geometry\n",
      " 1   datetime                                 17 non-null     object  \n",
      " 2   platform                                 17 non-null     object  \n",
      " 3   proj:epsg                                17 non-null     int64   \n",
      " 4   instruments                              17 non-null     object  \n",
      " 5   s2:mgrs_tile                             14 non-null     object  \n",
      " 6   constellation                            14 non-null     object  \n",
      " 7   s2:granule_id                            14 non-null     object  \n",
      " 8   eo:cloud_cover                           17 non-null     float64 \n",
      " 9   s2:datatake_id                           14 non-null     object  \n",
      " 10  s2:product_uri                           14 non-null     object  \n",
      " 11  s2:datastrip_id                          14 non-null     object  \n",
      " 12  s2:product_type                          14 non-null     object  \n",
      " 13  sat:orbit_state                          14 non-null     object  \n",
      " 14  s2:datatake_type                         14 non-null     object  \n",
      " 15  s2:generation_time                       14 non-null     object  \n",
      " 16  sat:relative_orbit                       14 non-null     float64 \n",
      " 17  s2:water_percentage                      14 non-null     float64 \n",
      " 18  s2:mean_solar_zenith                     14 non-null     float64 \n",
      " 19  s2:mean_solar_azimuth                    14 non-null     float64 \n",
      " 20  s2:processing_baseline                   14 non-null     object  \n",
      " 21  s2:snow_ice_percentage                   14 non-null     float64 \n",
      " 22  s2:vegetation_percentage                 14 non-null     float64 \n",
      " 23  s2:thin_cirrus_percentage                14 non-null     float64 \n",
      " 24  s2:cloud_shadow_percentage               14 non-null     float64 \n",
      " 25  s2:nodata_pixel_percentage               14 non-null     float64 \n",
      " 26  s2:unclassified_percentage               14 non-null     float64 \n",
      " 27  s2:dark_features_percentage              14 non-null     float64 \n",
      " 28  s2:not_vegetated_percentage              14 non-null     float64 \n",
      " 29  s2:degraded_msi_data_percentage          14 non-null     float64 \n",
      " 30  s2:high_proba_clouds_percentage          14 non-null     float64 \n",
      " 31  s2:reflectance_conversion_factor         14 non-null     float64 \n",
      " 32  s2:medium_proba_clouds_percentage        14 non-null     float64 \n",
      " 33  s2:saturated_defective_pixel_percentage  14 non-null     float64 \n",
      " 34  gsd                                      3 non-null      float64 \n",
      " 35  created                                  3 non-null      object  \n",
      " 36  sci:doi                                  3 non-null      object  \n",
      " 37  proj:shape                               3 non-null      object  \n",
      " 38  description                              3 non-null      object  \n",
      " 39  proj:transform                           3 non-null      object  \n",
      " 40  view:off_nadir                           3 non-null      float64 \n",
      " 41  landsat:wrs_row                          3 non-null      object  \n",
      " 42  landsat:scene_id                         3 non-null      object  \n",
      " 43  landsat:wrs_path                         3 non-null      object  \n",
      " 44  landsat:wrs_type                         3 non-null      object  \n",
      " 45  view:sun_azimuth                         3 non-null      float64 \n",
      " 46  landsat:correction                       3 non-null      object  \n",
      " 47  view:sun_elevation                       3 non-null      float64 \n",
      " 48  landsat:cloud_cover_land                 3 non-null      float64 \n",
      " 49  landsat:collection_number                3 non-null      object  \n",
      " 50  landsat:collection_category              3 non-null      object  \n",
      "dtypes: float64(23), geometry(1), int64(1), object(26)\n",
      "memory usage: 6.9+ KB\n"
     ]
    }
   ],
   "source": [
    "items_df.info()"
   ]
  },
  {
   "cell_type": "markdown",
   "metadata": {},
   "source": [
    "Looks like there are clearly two different groups of images - fourteen Sentinel-2 images and three Landsat images. Let's confirm by using the pandas-like capabilities of GeoPandas.\n",
    "\n",
    "The `geometry` column has a `geometry` data type (a GeoPandas thing) and the values are POLYGON objects from the shapely library."
   ]
  },
  {
   "cell_type": "code",
   "execution_count": 21,
   "metadata": {},
   "outputs": [
    {
     "data": {
      "text/html": [
       "<div>\n",
       "<style scoped>\n",
       "    .dataframe tbody tr th:only-of-type {\n",
       "        vertical-align: middle;\n",
       "    }\n",
       "\n",
       "    .dataframe tbody tr th {\n",
       "        vertical-align: top;\n",
       "    }\n",
       "\n",
       "    .dataframe thead th {\n",
       "        text-align: right;\n",
       "    }\n",
       "</style>\n",
       "<table border=\"1\" class=\"dataframe\">\n",
       "  <thead>\n",
       "    <tr style=\"text-align: right;\">\n",
       "      <th></th>\n",
       "      <th>platform</th>\n",
       "    </tr>\n",
       "    <tr>\n",
       "      <th>platform</th>\n",
       "      <th></th>\n",
       "    </tr>\n",
       "  </thead>\n",
       "  <tbody>\n",
       "    <tr>\n",
       "      <th>Sentinel-2A</th>\n",
       "      <td>6</td>\n",
       "    </tr>\n",
       "    <tr>\n",
       "      <th>Sentinel-2B</th>\n",
       "      <td>8</td>\n",
       "    </tr>\n",
       "    <tr>\n",
       "      <th>landsat-8</th>\n",
       "      <td>2</td>\n",
       "    </tr>\n",
       "    <tr>\n",
       "      <th>landsat-9</th>\n",
       "      <td>1</td>\n",
       "    </tr>\n",
       "  </tbody>\n",
       "</table>\n",
       "</div>"
      ],
      "text/plain": [
       "             platform\n",
       "platform             \n",
       "Sentinel-2A         6\n",
       "Sentinel-2B         8\n",
       "landsat-8           2\n",
       "landsat-9           1"
      ]
     },
     "execution_count": 21,
     "metadata": {},
     "output_type": "execute_result"
    }
   ],
   "source": [
    "items_df.groupby(['platform'])[['platform']].count()"
   ]
  },
  {
   "cell_type": "code",
   "execution_count": 22,
   "metadata": {},
   "outputs": [
    {
     "data": {
      "text/html": [
       "<div>\n",
       "<style scoped>\n",
       "    .dataframe tbody tr th:only-of-type {\n",
       "        vertical-align: middle;\n",
       "    }\n",
       "\n",
       "    .dataframe tbody tr th {\n",
       "        vertical-align: top;\n",
       "    }\n",
       "\n",
       "    .dataframe thead th {\n",
       "        text-align: right;\n",
       "    }\n",
       "</style>\n",
       "<table border=\"1\" class=\"dataframe\">\n",
       "  <thead>\n",
       "    <tr style=\"text-align: right;\">\n",
       "      <th></th>\n",
       "      <th>platform</th>\n",
       "      <th>s2:mgrs_tile</th>\n",
       "      <th>gsd</th>\n",
       "    </tr>\n",
       "    <tr>\n",
       "      <th>platform</th>\n",
       "      <th></th>\n",
       "      <th></th>\n",
       "      <th></th>\n",
       "    </tr>\n",
       "  </thead>\n",
       "  <tbody>\n",
       "    <tr>\n",
       "      <th>Sentinel-2A</th>\n",
       "      <td>6</td>\n",
       "      <td>6</td>\n",
       "      <td>0</td>\n",
       "    </tr>\n",
       "    <tr>\n",
       "      <th>Sentinel-2B</th>\n",
       "      <td>8</td>\n",
       "      <td>8</td>\n",
       "      <td>0</td>\n",
       "    </tr>\n",
       "    <tr>\n",
       "      <th>landsat-8</th>\n",
       "      <td>2</td>\n",
       "      <td>0</td>\n",
       "      <td>2</td>\n",
       "    </tr>\n",
       "    <tr>\n",
       "      <th>landsat-9</th>\n",
       "      <td>1</td>\n",
       "      <td>0</td>\n",
       "      <td>1</td>\n",
       "    </tr>\n",
       "  </tbody>\n",
       "</table>\n",
       "</div>"
      ],
      "text/plain": [
       "             platform  s2:mgrs_tile  gsd\n",
       "platform                                \n",
       "Sentinel-2A         6             6    0\n",
       "Sentinel-2B         8             8    0\n",
       "landsat-8           2             0    2\n",
       "landsat-9           1             0    1"
      ]
     },
     "execution_count": 22,
     "metadata": {},
     "output_type": "execute_result"
    }
   ],
   "source": [
    "items_df.groupby(['platform'])[['platform', 's2:mgrs_tile', 'gsd']].count()"
   ]
  },
  {
   "cell_type": "markdown",
   "metadata": {},
   "source": [
    "One of the advantages of GeoPandas is that we can do spatial queries."
   ]
  },
  {
   "cell_type": "code",
   "execution_count": 23,
   "metadata": {},
   "outputs": [],
   "source": [
    "# Create a shapely Point object using the lat-long coordinates of interest\n",
    "sample_point = shapely.geometry.Point((long, lat))"
   ]
  },
  {
   "cell_type": "markdown",
   "metadata": {},
   "source": [
    "We can use `contains()` to check of the sample point is contained within the `geometry` object of each row in the `GeoDataFrame`. We'll add a new boolean column which indicates whether or not GeoPandas classifies each row as containing the sample point."
   ]
  },
  {
   "cell_type": "code",
   "execution_count": 24,
   "metadata": {},
   "outputs": [
    {
     "data": {
      "text/html": [
       "<div>\n",
       "<style scoped>\n",
       "    .dataframe tbody tr th:only-of-type {\n",
       "        vertical-align: middle;\n",
       "    }\n",
       "\n",
       "    .dataframe tbody tr th {\n",
       "        vertical-align: top;\n",
       "    }\n",
       "\n",
       "    .dataframe thead th {\n",
       "        text-align: right;\n",
       "    }\n",
       "</style>\n",
       "<table border=\"1\" class=\"dataframe\">\n",
       "  <thead>\n",
       "    <tr style=\"text-align: right;\">\n",
       "      <th></th>\n",
       "      <th>geometry</th>\n",
       "      <th>gpd_contains_point</th>\n",
       "    </tr>\n",
       "  </thead>\n",
       "  <tbody>\n",
       "    <tr>\n",
       "      <th>0</th>\n",
       "      <td>POLYGON ((-83.52837 45.03720, -83.50498 45.106...</td>\n",
       "      <td>False</td>\n",
       "    </tr>\n",
       "    <tr>\n",
       "      <th>1</th>\n",
       "      <td>POLYGON ((-83.53807 45.00860, -83.50498 45.106...</td>\n",
       "      <td>True</td>\n",
       "    </tr>\n",
       "    <tr>\n",
       "      <th>2</th>\n",
       "      <td>POLYGON ((-83.53731 45.01084, -83.50498 45.106...</td>\n",
       "      <td>True</td>\n",
       "    </tr>\n",
       "    <tr>\n",
       "      <th>3</th>\n",
       "      <td>POLYGON ((-83.83576 44.11947, -83.80033 44.226...</td>\n",
       "      <td>True</td>\n",
       "    </tr>\n",
       "    <tr>\n",
       "      <th>4</th>\n",
       "      <td>POLYGON ((-83.56556 45.66118, -84.14055 43.950...</td>\n",
       "      <td>True</td>\n",
       "    </tr>\n",
       "    <tr>\n",
       "      <th>5</th>\n",
       "      <td>POLYGON ((-82.14621 45.08712, -82.15765 45.059...</td>\n",
       "      <td>False</td>\n",
       "    </tr>\n",
       "    <tr>\n",
       "      <th>6</th>\n",
       "      <td>POLYGON ((-84.41644 46.02437, -83.00067 45.983...</td>\n",
       "      <td>True</td>\n",
       "    </tr>\n",
       "    <tr>\n",
       "      <th>7</th>\n",
       "      <td>POLYGON ((-85.12959 45.66361, -85.70455 43.952...</td>\n",
       "      <td>True</td>\n",
       "    </tr>\n",
       "    <tr>\n",
       "      <th>8</th>\n",
       "      <td>POLYGON ((-84.62940 47.08717, -85.22759 45.378...</td>\n",
       "      <td>True</td>\n",
       "    </tr>\n",
       "    <tr>\n",
       "      <th>9</th>\n",
       "      <td>POLYGON ((-83.51840 45.03736, -83.48218 45.144...</td>\n",
       "      <td>False</td>\n",
       "    </tr>\n",
       "    <tr>\n",
       "      <th>10</th>\n",
       "      <td>POLYGON ((-83.53696 44.98261, -83.53192 44.997...</td>\n",
       "      <td>True</td>\n",
       "    </tr>\n",
       "    <tr>\n",
       "      <th>11</th>\n",
       "      <td>POLYGON ((-83.52750 45.01056, -83.48218 45.144...</td>\n",
       "      <td>True</td>\n",
       "    </tr>\n",
       "    <tr>\n",
       "      <th>12</th>\n",
       "      <td>POLYGON ((-83.82636 44.11920, -83.77829 44.263...</td>\n",
       "      <td>True</td>\n",
       "    </tr>\n",
       "    <tr>\n",
       "      <th>13</th>\n",
       "      <td>POLYGON ((-82.14615 45.08446, -82.15646 45.059...</td>\n",
       "      <td>False</td>\n",
       "    </tr>\n",
       "    <tr>\n",
       "      <th>14</th>\n",
       "      <td>POLYGON ((-82.14615 45.08442, -82.20325 44.945...</td>\n",
       "      <td>True</td>\n",
       "    </tr>\n",
       "    <tr>\n",
       "      <th>15</th>\n",
       "      <td>POLYGON ((-84.41644 46.02437, -83.00067 45.983...</td>\n",
       "      <td>True</td>\n",
       "    </tr>\n",
       "    <tr>\n",
       "      <th>16</th>\n",
       "      <td>POLYGON ((-84.45737 45.12552, -83.06390 45.085...</td>\n",
       "      <td>True</td>\n",
       "    </tr>\n",
       "  </tbody>\n",
       "</table>\n",
       "</div>"
      ],
      "text/plain": [
       "                                             geometry  gpd_contains_point\n",
       "0   POLYGON ((-83.52837 45.03720, -83.50498 45.106...               False\n",
       "1   POLYGON ((-83.53807 45.00860, -83.50498 45.106...                True\n",
       "2   POLYGON ((-83.53731 45.01084, -83.50498 45.106...                True\n",
       "3   POLYGON ((-83.83576 44.11947, -83.80033 44.226...                True\n",
       "4   POLYGON ((-83.56556 45.66118, -84.14055 43.950...                True\n",
       "5   POLYGON ((-82.14621 45.08712, -82.15765 45.059...               False\n",
       "6   POLYGON ((-84.41644 46.02437, -83.00067 45.983...                True\n",
       "7   POLYGON ((-85.12959 45.66361, -85.70455 43.952...                True\n",
       "8   POLYGON ((-84.62940 47.08717, -85.22759 45.378...                True\n",
       "9   POLYGON ((-83.51840 45.03736, -83.48218 45.144...               False\n",
       "10  POLYGON ((-83.53696 44.98261, -83.53192 44.997...                True\n",
       "11  POLYGON ((-83.52750 45.01056, -83.48218 45.144...                True\n",
       "12  POLYGON ((-83.82636 44.11920, -83.77829 44.263...                True\n",
       "13  POLYGON ((-82.14615 45.08446, -82.15646 45.059...               False\n",
       "14  POLYGON ((-82.14615 45.08442, -82.20325 44.945...                True\n",
       "15  POLYGON ((-84.41644 46.02437, -83.00067 45.983...                True\n",
       "16  POLYGON ((-84.45737 45.12552, -83.06390 45.085...                True"
      ]
     },
     "execution_count": 24,
     "metadata": {},
     "output_type": "execute_result"
    }
   ],
   "source": [
    "items_df['gpd_contains_point'] = items_df['geometry'].contains(sample_point)\n",
    "items_df[['geometry', 'gpd_contains_point']]"
   ]
  },
  {
   "cell_type": "markdown",
   "metadata": {},
   "source": [
    "Great. Now let's pluck out just some key metadata along with the STAC item object itself and store in a `GeoDataFrame`. Then we'll add a column indicating whether that item contains our sample point.\n",
    "\n",
    "Ah, now I see why [the original tutorial did the creation of a pandas DataFrame and a manual check of the sample point against the bbox](https://drivendata.co/blog/tick-tick-bloom-benchmark#Select-one-image) - the bbox doesn't get added as a column to the `GeoDataFrame`. I'll take a slightly different approach and leverage GeoPandas and shapely. "
   ]
  },
  {
   "cell_type": "code",
   "execution_count": 25,
   "metadata": {},
   "outputs": [
    {
     "name": "stdout",
     "output_type": "stream",
     "text": [
      "Filtering the GeoDataFrame resulted in 13/17 items that contain the sample location\n",
      "\n"
     ]
    },
    {
     "data": {
      "text/html": [
       "<div>\n",
       "<style scoped>\n",
       "    .dataframe tbody tr th:only-of-type {\n",
       "        vertical-align: middle;\n",
       "    }\n",
       "\n",
       "    .dataframe tbody tr th {\n",
       "        vertical-align: top;\n",
       "    }\n",
       "\n",
       "    .dataframe thead th {\n",
       "        text-align: right;\n",
       "    }\n",
       "</style>\n",
       "<table border=\"1\" class=\"dataframe\">\n",
       "  <thead>\n",
       "    <tr style=\"text-align: right;\">\n",
       "      <th></th>\n",
       "      <th>datetime</th>\n",
       "      <th>platform</th>\n",
       "      <th>contains_sample_point</th>\n",
       "      <th>cloud_cover</th>\n",
       "      <th>bbox</th>\n",
       "      <th>item_obj</th>\n",
       "    </tr>\n",
       "  </thead>\n",
       "  <tbody>\n",
       "    <tr>\n",
       "      <th>14</th>\n",
       "      <td>2022-06-06</td>\n",
       "      <td>Sentinel-2B</td>\n",
       "      <td>True</td>\n",
       "      <td>100.000000</td>\n",
       "      <td>[-83.54315, 44.13799675, -82.14615, 45.14807318]</td>\n",
       "      <td>&lt;Item id=S2B_MSIL2A_20220606T162839_R083_T17TL...</td>\n",
       "    </tr>\n",
       "    <tr>\n",
       "      <th>15</th>\n",
       "      <td>2022-06-06</td>\n",
       "      <td>Sentinel-2B</td>\n",
       "      <td>True</td>\n",
       "      <td>99.779093</td>\n",
       "      <td>[-84.4613, 44.99758761, -83.00067, 46.02436508]</td>\n",
       "      <td>&lt;Item id=S2B_MSIL2A_20220606T162839_R083_T16TG...</td>\n",
       "    </tr>\n",
       "    <tr>\n",
       "      <th>16</th>\n",
       "      <td>2022-06-06</td>\n",
       "      <td>Sentinel-2B</td>\n",
       "      <td>True</td>\n",
       "      <td>100.000000</td>\n",
       "      <td>[-84.50015, 44.09977092, -83.0639, 45.12552488]</td>\n",
       "      <td>&lt;Item id=S2B_MSIL2A_20220606T162839_R083_T16TG...</td>\n",
       "    </tr>\n",
       "    <tr>\n",
       "      <th>10</th>\n",
       "      <td>2022-06-08</td>\n",
       "      <td>Sentinel-2A</td>\n",
       "      <td>True</td>\n",
       "      <td>73.155582</td>\n",
       "      <td>[-83.53696, 44.13799675, -82.12808, 45.14807318]</td>\n",
       "      <td>&lt;Item id=S2A_MSIL2A_20220608T161841_R040_T17TL...</td>\n",
       "    </tr>\n",
       "    <tr>\n",
       "      <th>11</th>\n",
       "      <td>2022-06-08</td>\n",
       "      <td>Sentinel-2A</td>\n",
       "      <td>True</td>\n",
       "      <td>62.271535</td>\n",
       "      <td>[-83.5275, 44.99758761, -83.00067, 45.98904329]</td>\n",
       "      <td>&lt;Item id=S2A_MSIL2A_20220608T161841_R040_T16TG...</td>\n",
       "    </tr>\n",
       "    <tr>\n",
       "      <th>12</th>\n",
       "      <td>2022-06-08</td>\n",
       "      <td>Sentinel-2A</td>\n",
       "      <td>True</td>\n",
       "      <td>97.201419</td>\n",
       "      <td>[-83.826355, 44.09977092, -83.0639, 45.09827524]</td>\n",
       "      <td>&lt;Item id=S2A_MSIL2A_20220608T161841_R040_T16TG...</td>\n",
       "    </tr>\n",
       "    <tr>\n",
       "      <th>6</th>\n",
       "      <td>2022-06-11</td>\n",
       "      <td>Sentinel-2A</td>\n",
       "      <td>True</td>\n",
       "      <td>37.726283</td>\n",
       "      <td>[-84.4613, 44.99758761, -83.00067, 46.02436508]</td>\n",
       "      <td>&lt;Item id=S2A_MSIL2A_20220611T162911_R083_T16TG...</td>\n",
       "    </tr>\n",
       "    <tr>\n",
       "      <th>7</th>\n",
       "      <td>2022-06-11</td>\n",
       "      <td>landsat-8</td>\n",
       "      <td>True</td>\n",
       "      <td>36.880000</td>\n",
       "      <td>[-85.73558553, 43.51420503, -82.75131771, 45.6...</td>\n",
       "      <td>&lt;Item id=LC08_L2SP_021029_20220611_02_T1&gt;</td>\n",
       "    </tr>\n",
       "    <tr>\n",
       "      <th>8</th>\n",
       "      <td>2022-06-11</td>\n",
       "      <td>landsat-8</td>\n",
       "      <td>True</td>\n",
       "      <td>49.950000</td>\n",
       "      <td>[-85.3846599, 44.88733525, -82.18147251, 47.14...</td>\n",
       "      <td>&lt;Item id=LC08_L2SP_021028_20220611_02_T1&gt;</td>\n",
       "    </tr>\n",
       "    <tr>\n",
       "      <th>4</th>\n",
       "      <td>2022-06-12</td>\n",
       "      <td>landsat-9</td>\n",
       "      <td>True</td>\n",
       "      <td>79.410000</td>\n",
       "      <td>[-84.26389548, 43.49313512, -81.21392752, 45.6...</td>\n",
       "      <td>&lt;Item id=LC09_L2SP_020029_20220612_02_T1&gt;</td>\n",
       "    </tr>\n",
       "    <tr>\n",
       "      <th>1</th>\n",
       "      <td>2022-06-13</td>\n",
       "      <td>Sentinel-2B</td>\n",
       "      <td>True</td>\n",
       "      <td>95.372748</td>\n",
       "      <td>[-83.53807319, 44.13799675, -82.1280813, 45.14...</td>\n",
       "      <td>&lt;Item id=S2B_MSIL2A_20220613T161829_R040_T17TL...</td>\n",
       "    </tr>\n",
       "    <tr>\n",
       "      <th>2</th>\n",
       "      <td>2022-06-13</td>\n",
       "      <td>Sentinel-2B</td>\n",
       "      <td>True</td>\n",
       "      <td>99.999827</td>\n",
       "      <td>[-83.5373128, 44.99758761, -83.00067944, 45.98...</td>\n",
       "      <td>&lt;Item id=S2B_MSIL2A_20220613T161829_R040_T16TG...</td>\n",
       "    </tr>\n",
       "    <tr>\n",
       "      <th>3</th>\n",
       "      <td>2022-06-13</td>\n",
       "      <td>Sentinel-2B</td>\n",
       "      <td>True</td>\n",
       "      <td>99.957287</td>\n",
       "      <td>[-83.83576164, 44.09977092, -83.06390244, 45.0...</td>\n",
       "      <td>&lt;Item id=S2B_MSIL2A_20220613T161829_R040_T16TG...</td>\n",
       "    </tr>\n",
       "  </tbody>\n",
       "</table>\n",
       "</div>"
      ],
      "text/plain": [
       "      datetime     platform  contains_sample_point  cloud_cover  \\\n",
       "14  2022-06-06  Sentinel-2B                   True   100.000000   \n",
       "15  2022-06-06  Sentinel-2B                   True    99.779093   \n",
       "16  2022-06-06  Sentinel-2B                   True   100.000000   \n",
       "10  2022-06-08  Sentinel-2A                   True    73.155582   \n",
       "11  2022-06-08  Sentinel-2A                   True    62.271535   \n",
       "12  2022-06-08  Sentinel-2A                   True    97.201419   \n",
       "6   2022-06-11  Sentinel-2A                   True    37.726283   \n",
       "7   2022-06-11    landsat-8                   True    36.880000   \n",
       "8   2022-06-11    landsat-8                   True    49.950000   \n",
       "4   2022-06-12    landsat-9                   True    79.410000   \n",
       "1   2022-06-13  Sentinel-2B                   True    95.372748   \n",
       "2   2022-06-13  Sentinel-2B                   True    99.999827   \n",
       "3   2022-06-13  Sentinel-2B                   True    99.957287   \n",
       "\n",
       "                                                 bbox  \\\n",
       "14   [-83.54315, 44.13799675, -82.14615, 45.14807318]   \n",
       "15    [-84.4613, 44.99758761, -83.00067, 46.02436508]   \n",
       "16    [-84.50015, 44.09977092, -83.0639, 45.12552488]   \n",
       "10   [-83.53696, 44.13799675, -82.12808, 45.14807318]   \n",
       "11    [-83.5275, 44.99758761, -83.00067, 45.98904329]   \n",
       "12   [-83.826355, 44.09977092, -83.0639, 45.09827524]   \n",
       "6     [-84.4613, 44.99758761, -83.00067, 46.02436508]   \n",
       "7   [-85.73558553, 43.51420503, -82.75131771, 45.6...   \n",
       "8   [-85.3846599, 44.88733525, -82.18147251, 47.14...   \n",
       "4   [-84.26389548, 43.49313512, -81.21392752, 45.6...   \n",
       "1   [-83.53807319, 44.13799675, -82.1280813, 45.14...   \n",
       "2   [-83.5373128, 44.99758761, -83.00067944, 45.98...   \n",
       "3   [-83.83576164, 44.09977092, -83.06390244, 45.0...   \n",
       "\n",
       "                                             item_obj  \n",
       "14  <Item id=S2B_MSIL2A_20220606T162839_R083_T17TL...  \n",
       "15  <Item id=S2B_MSIL2A_20220606T162839_R083_T16TG...  \n",
       "16  <Item id=S2B_MSIL2A_20220606T162839_R083_T16TG...  \n",
       "10  <Item id=S2A_MSIL2A_20220608T161841_R040_T17TL...  \n",
       "11  <Item id=S2A_MSIL2A_20220608T161841_R040_T16TG...  \n",
       "12  <Item id=S2A_MSIL2A_20220608T161841_R040_T16TG...  \n",
       "6   <Item id=S2A_MSIL2A_20220611T162911_R083_T16TG...  \n",
       "7           <Item id=LC08_L2SP_021029_20220611_02_T1>  \n",
       "8           <Item id=LC08_L2SP_021028_20220611_02_T1>  \n",
       "4           <Item id=LC09_L2SP_020029_20220612_02_T1>  \n",
       "1   <Item id=S2B_MSIL2A_20220613T161829_R040_T17TL...  \n",
       "2   <Item id=S2B_MSIL2A_20220613T161829_R040_T16TG...  \n",
       "3   <Item id=S2B_MSIL2A_20220613T161829_R040_T16TG...  "
      ]
     },
     "execution_count": 25,
     "metadata": {},
     "output_type": "execute_result"
    }
   ],
   "source": [
    "# Need shape function from shapely to convert geometry dict to shape object\n",
    "# https://stackoverflow.com/questions/68820085/how-to-convert-geojson-to-shapely-polygon\n",
    "from shapely.geometry import shape\n",
    "\n",
    "item_details_gdf = gpd.GeoDataFrame(\n",
    "    [\n",
    "        {\n",
    "            \"datetime\": item.datetime.strftime(\"%Y-%m-%d\"),\n",
    "            \"geometry\": shape(item.geometry),\n",
    "            \"platform\": item.properties[\"platform\"],\n",
    "            \"cloud_cover\": item.properties['eo:cloud_cover'],\n",
    "            \"min_long\": item.bbox[0],\n",
    "            \"max_long\": item.bbox[2],\n",
    "            \"min_lat\": item.bbox[1],\n",
    "            \"max_lat\": item.bbox[3],\n",
    "            \"bbox\": item.bbox,\n",
    "            \"sample_point\": sample_point,\n",
    "            \"item_obj\": item,\n",
    "        }\n",
    "        for item in items\n",
    "    ]\n",
    ")\n",
    "\n",
    "# Add column indicating if sample point contained in item geometry\n",
    "item_details_gdf[\"contains_sample_point\"] = item_details_gdf.apply(lambda x: x.geometry.contains(x.sample_point), axis=1)\n",
    "\n",
    "print(\n",
    "    f\"Filtering the GeoDataFrame resulted in {item_details_gdf.contains_sample_point.sum()}/{len(item_details_gdf)} items that contain the sample location\\n\"\n",
    ")\n",
    "\n",
    "# Filter out the items that do NOT contain our sample point\n",
    "item_details_gdf = item_details_gdf[item_details_gdf[\"contains_sample_point\"]]\n",
    "item_details_gdf[[\"datetime\", \"platform\", \"contains_sample_point\", \"cloud_cover\", \"bbox\", \"item_obj\"]].sort_values(\n",
    "    by=\"datetime\"\n",
    ")"
   ]
  },
  {
   "cell_type": "markdown",
   "metadata": {},
   "source": [
    "Confirm we've create a `GeoDataFrame` containing a geometry column with an actual `geometry` dtype."
   ]
  },
  {
   "cell_type": "code",
   "execution_count": 26,
   "metadata": {
    "tags": []
   },
   "outputs": [
    {
     "data": {
      "text/plain": [
       "geopandas.geodataframe.GeoDataFrame"
      ]
     },
     "execution_count": 26,
     "metadata": {},
     "output_type": "execute_result"
    }
   ],
   "source": [
    "type(item_details_gdf)"
   ]
  },
  {
   "cell_type": "code",
   "execution_count": 27,
   "metadata": {},
   "outputs": [
    {
     "name": "stdout",
     "output_type": "stream",
     "text": [
      "<class 'geopandas.geodataframe.GeoDataFrame'>\n",
      "Int64Index: 13 entries, 1 to 16\n",
      "Data columns (total 12 columns):\n",
      " #   Column                 Non-Null Count  Dtype   \n",
      "---  ------                 --------------  -----   \n",
      " 0   datetime               13 non-null     object  \n",
      " 1   geometry               13 non-null     geometry\n",
      " 2   platform               13 non-null     object  \n",
      " 3   cloud_cover            13 non-null     float64 \n",
      " 4   min_long               13 non-null     float64 \n",
      " 5   max_long               13 non-null     float64 \n",
      " 6   min_lat                13 non-null     float64 \n",
      " 7   max_lat                13 non-null     float64 \n",
      " 8   bbox                   13 non-null     object  \n",
      " 9   sample_point           13 non-null     object  \n",
      " 10  item_obj               13 non-null     object  \n",
      " 11  contains_sample_point  13 non-null     bool    \n",
      "dtypes: bool(1), float64(5), geometry(1), object(5)\n",
      "memory usage: 1.2+ KB\n"
     ]
    }
   ],
   "source": [
    "item_details_gdf.info()"
   ]
  },
  {
   "cell_type": "markdown",
   "metadata": {},
   "source": [
    "# First steps in getting to modeling features"
   ]
  },
  {
   "cell_type": "markdown",
   "metadata": {},
   "source": [
    "So, how to make use of these samples for a predictive model? For now, we'll take a similar approach taken in the original tutorial.\n",
    "\n",
    "> To keep things simple in this benchmark, we'll just choose one to input into our benchmark model. Note that in your solution, you could find a way to incorporate multiple images!\n",
    ">\n",
    "> We'll narrow to one image in two steps:\n",
    "> - If any Sentinel imagery is available, filter to only Sentinel imagery. Sentinel-2 is higher resolution than Landsat, which is extremely helpful for blooms in small water bodies. In this case, two images are from Sentinel and contain the actual sample location.\n",
    "> - Select the item that is the closest time wise to the sampling date. This gives us a Sentinel-2A item that was captured on 10/20/2022 - two days before our sample was collected on 10/22.\n",
    ">\n",
    "> This is a very simple way to choose the best image. You may want to explore additional strategies like selecting an image with less cloud cover obscuring the Earth's surface (as in this [tutorial](https://planetarycomputer.microsoft.com/dataset/sentinel-2-l2a#Example-Notebook)).\n"
   ]
  },
  {
   "cell_type": "code",
   "execution_count": 28,
   "metadata": {},
   "outputs": [
    {
     "data": {
      "text/html": [
       "<div>\n",
       "<style scoped>\n",
       "    .dataframe tbody tr th:only-of-type {\n",
       "        vertical-align: middle;\n",
       "    }\n",
       "\n",
       "    .dataframe tbody tr th {\n",
       "        vertical-align: top;\n",
       "    }\n",
       "\n",
       "    .dataframe thead th {\n",
       "        text-align: right;\n",
       "    }\n",
       "</style>\n",
       "<table border=\"1\" class=\"dataframe\">\n",
       "  <thead>\n",
       "    <tr style=\"text-align: right;\">\n",
       "      <th></th>\n",
       "      <th>datetime</th>\n",
       "      <th>geometry</th>\n",
       "      <th>platform</th>\n",
       "      <th>cloud_cover</th>\n",
       "      <th>min_long</th>\n",
       "      <th>max_long</th>\n",
       "      <th>min_lat</th>\n",
       "      <th>max_lat</th>\n",
       "      <th>bbox</th>\n",
       "      <th>sample_point</th>\n",
       "      <th>item_obj</th>\n",
       "      <th>contains_sample_point</th>\n",
       "    </tr>\n",
       "  </thead>\n",
       "  <tbody>\n",
       "    <tr>\n",
       "      <th>1</th>\n",
       "      <td>2022-06-13</td>\n",
       "      <td>POLYGON ((-83.53807 45.00860, -83.50498 45.106...</td>\n",
       "      <td>Sentinel-2B</td>\n",
       "      <td>95.372748</td>\n",
       "      <td>-83.538073</td>\n",
       "      <td>-82.128081</td>\n",
       "      <td>44.137997</td>\n",
       "      <td>45.148073</td>\n",
       "      <td>[-83.53807319, 44.13799675, -82.1280813, 45.14...</td>\n",
       "      <td>POINT (-83.30284787280465 45.03967636446461)</td>\n",
       "      <td>&lt;Item id=S2B_MSIL2A_20220613T161829_R040_T17TL...</td>\n",
       "      <td>True</td>\n",
       "    </tr>\n",
       "    <tr>\n",
       "      <th>2</th>\n",
       "      <td>2022-06-13</td>\n",
       "      <td>POLYGON ((-83.53731 45.01084, -83.50498 45.106...</td>\n",
       "      <td>Sentinel-2B</td>\n",
       "      <td>99.999827</td>\n",
       "      <td>-83.537313</td>\n",
       "      <td>-83.000679</td>\n",
       "      <td>44.997588</td>\n",
       "      <td>45.989316</td>\n",
       "      <td>[-83.5373128, 44.99758761, -83.00067944, 45.98...</td>\n",
       "      <td>POINT (-83.30284787280465 45.03967636446461)</td>\n",
       "      <td>&lt;Item id=S2B_MSIL2A_20220613T161829_R040_T16TG...</td>\n",
       "      <td>True</td>\n",
       "    </tr>\n",
       "    <tr>\n",
       "      <th>3</th>\n",
       "      <td>2022-06-13</td>\n",
       "      <td>POLYGON ((-83.83576 44.11947, -83.80033 44.226...</td>\n",
       "      <td>Sentinel-2B</td>\n",
       "      <td>99.957287</td>\n",
       "      <td>-83.835762</td>\n",
       "      <td>-83.063902</td>\n",
       "      <td>44.099771</td>\n",
       "      <td>45.098555</td>\n",
       "      <td>[-83.83576164, 44.09977092, -83.06390244, 45.0...</td>\n",
       "      <td>POINT (-83.30284787280465 45.03967636446461)</td>\n",
       "      <td>&lt;Item id=S2B_MSIL2A_20220613T161829_R040_T16TG...</td>\n",
       "      <td>True</td>\n",
       "    </tr>\n",
       "    <tr>\n",
       "      <th>6</th>\n",
       "      <td>2022-06-11</td>\n",
       "      <td>POLYGON ((-84.41644 46.02437, -83.00067 45.983...</td>\n",
       "      <td>Sentinel-2A</td>\n",
       "      <td>37.726283</td>\n",
       "      <td>-84.461300</td>\n",
       "      <td>-83.000670</td>\n",
       "      <td>44.997588</td>\n",
       "      <td>46.024365</td>\n",
       "      <td>[-84.4613, 44.99758761, -83.00067, 46.02436508]</td>\n",
       "      <td>POINT (-83.30284787280465 45.03967636446461)</td>\n",
       "      <td>&lt;Item id=S2A_MSIL2A_20220611T162911_R083_T16TG...</td>\n",
       "      <td>True</td>\n",
       "    </tr>\n",
       "    <tr>\n",
       "      <th>10</th>\n",
       "      <td>2022-06-08</td>\n",
       "      <td>POLYGON ((-83.53696 44.98261, -83.53192 44.997...</td>\n",
       "      <td>Sentinel-2A</td>\n",
       "      <td>73.155582</td>\n",
       "      <td>-83.536960</td>\n",
       "      <td>-82.128080</td>\n",
       "      <td>44.137997</td>\n",
       "      <td>45.148073</td>\n",
       "      <td>[-83.53696, 44.13799675, -82.12808, 45.14807318]</td>\n",
       "      <td>POINT (-83.30284787280465 45.03967636446461)</td>\n",
       "      <td>&lt;Item id=S2A_MSIL2A_20220608T161841_R040_T17TL...</td>\n",
       "      <td>True</td>\n",
       "    </tr>\n",
       "    <tr>\n",
       "      <th>11</th>\n",
       "      <td>2022-06-08</td>\n",
       "      <td>POLYGON ((-83.52750 45.01056, -83.48218 45.144...</td>\n",
       "      <td>Sentinel-2A</td>\n",
       "      <td>62.271535</td>\n",
       "      <td>-83.527500</td>\n",
       "      <td>-83.000670</td>\n",
       "      <td>44.997588</td>\n",
       "      <td>45.989043</td>\n",
       "      <td>[-83.5275, 44.99758761, -83.00067, 45.98904329]</td>\n",
       "      <td>POINT (-83.30284787280465 45.03967636446461)</td>\n",
       "      <td>&lt;Item id=S2A_MSIL2A_20220608T161841_R040_T16TG...</td>\n",
       "      <td>True</td>\n",
       "    </tr>\n",
       "    <tr>\n",
       "      <th>12</th>\n",
       "      <td>2022-06-08</td>\n",
       "      <td>POLYGON ((-83.82636 44.11920, -83.77829 44.263...</td>\n",
       "      <td>Sentinel-2A</td>\n",
       "      <td>97.201419</td>\n",
       "      <td>-83.826355</td>\n",
       "      <td>-83.063900</td>\n",
       "      <td>44.099771</td>\n",
       "      <td>45.098275</td>\n",
       "      <td>[-83.826355, 44.09977092, -83.0639, 45.09827524]</td>\n",
       "      <td>POINT (-83.30284787280465 45.03967636446461)</td>\n",
       "      <td>&lt;Item id=S2A_MSIL2A_20220608T161841_R040_T16TG...</td>\n",
       "      <td>True</td>\n",
       "    </tr>\n",
       "    <tr>\n",
       "      <th>14</th>\n",
       "      <td>2022-06-06</td>\n",
       "      <td>POLYGON ((-82.14615 45.08442, -82.20325 44.945...</td>\n",
       "      <td>Sentinel-2B</td>\n",
       "      <td>100.000000</td>\n",
       "      <td>-83.543150</td>\n",
       "      <td>-82.146150</td>\n",
       "      <td>44.137997</td>\n",
       "      <td>45.148073</td>\n",
       "      <td>[-83.54315, 44.13799675, -82.14615, 45.14807318]</td>\n",
       "      <td>POINT (-83.30284787280465 45.03967636446461)</td>\n",
       "      <td>&lt;Item id=S2B_MSIL2A_20220606T162839_R083_T17TL...</td>\n",
       "      <td>True</td>\n",
       "    </tr>\n",
       "    <tr>\n",
       "      <th>15</th>\n",
       "      <td>2022-06-06</td>\n",
       "      <td>POLYGON ((-84.41644 46.02437, -83.00067 45.983...</td>\n",
       "      <td>Sentinel-2B</td>\n",
       "      <td>99.779093</td>\n",
       "      <td>-84.461300</td>\n",
       "      <td>-83.000670</td>\n",
       "      <td>44.997588</td>\n",
       "      <td>46.024365</td>\n",
       "      <td>[-84.4613, 44.99758761, -83.00067, 46.02436508]</td>\n",
       "      <td>POINT (-83.30284787280465 45.03967636446461)</td>\n",
       "      <td>&lt;Item id=S2B_MSIL2A_20220606T162839_R083_T16TG...</td>\n",
       "      <td>True</td>\n",
       "    </tr>\n",
       "    <tr>\n",
       "      <th>16</th>\n",
       "      <td>2022-06-06</td>\n",
       "      <td>POLYGON ((-84.45737 45.12552, -83.06390 45.085...</td>\n",
       "      <td>Sentinel-2B</td>\n",
       "      <td>100.000000</td>\n",
       "      <td>-84.500150</td>\n",
       "      <td>-83.063900</td>\n",
       "      <td>44.099771</td>\n",
       "      <td>45.125525</td>\n",
       "      <td>[-84.50015, 44.09977092, -83.0639, 45.12552488]</td>\n",
       "      <td>POINT (-83.30284787280465 45.03967636446461)</td>\n",
       "      <td>&lt;Item id=S2B_MSIL2A_20220606T162839_R083_T16TG...</td>\n",
       "      <td>True</td>\n",
       "    </tr>\n",
       "  </tbody>\n",
       "</table>\n",
       "</div>"
      ],
      "text/plain": [
       "      datetime                                           geometry  \\\n",
       "1   2022-06-13  POLYGON ((-83.53807 45.00860, -83.50498 45.106...   \n",
       "2   2022-06-13  POLYGON ((-83.53731 45.01084, -83.50498 45.106...   \n",
       "3   2022-06-13  POLYGON ((-83.83576 44.11947, -83.80033 44.226...   \n",
       "6   2022-06-11  POLYGON ((-84.41644 46.02437, -83.00067 45.983...   \n",
       "10  2022-06-08  POLYGON ((-83.53696 44.98261, -83.53192 44.997...   \n",
       "11  2022-06-08  POLYGON ((-83.52750 45.01056, -83.48218 45.144...   \n",
       "12  2022-06-08  POLYGON ((-83.82636 44.11920, -83.77829 44.263...   \n",
       "14  2022-06-06  POLYGON ((-82.14615 45.08442, -82.20325 44.945...   \n",
       "15  2022-06-06  POLYGON ((-84.41644 46.02437, -83.00067 45.983...   \n",
       "16  2022-06-06  POLYGON ((-84.45737 45.12552, -83.06390 45.085...   \n",
       "\n",
       "       platform  cloud_cover   min_long   max_long    min_lat    max_lat  \\\n",
       "1   Sentinel-2B    95.372748 -83.538073 -82.128081  44.137997  45.148073   \n",
       "2   Sentinel-2B    99.999827 -83.537313 -83.000679  44.997588  45.989316   \n",
       "3   Sentinel-2B    99.957287 -83.835762 -83.063902  44.099771  45.098555   \n",
       "6   Sentinel-2A    37.726283 -84.461300 -83.000670  44.997588  46.024365   \n",
       "10  Sentinel-2A    73.155582 -83.536960 -82.128080  44.137997  45.148073   \n",
       "11  Sentinel-2A    62.271535 -83.527500 -83.000670  44.997588  45.989043   \n",
       "12  Sentinel-2A    97.201419 -83.826355 -83.063900  44.099771  45.098275   \n",
       "14  Sentinel-2B   100.000000 -83.543150 -82.146150  44.137997  45.148073   \n",
       "15  Sentinel-2B    99.779093 -84.461300 -83.000670  44.997588  46.024365   \n",
       "16  Sentinel-2B   100.000000 -84.500150 -83.063900  44.099771  45.125525   \n",
       "\n",
       "                                                 bbox  \\\n",
       "1   [-83.53807319, 44.13799675, -82.1280813, 45.14...   \n",
       "2   [-83.5373128, 44.99758761, -83.00067944, 45.98...   \n",
       "3   [-83.83576164, 44.09977092, -83.06390244, 45.0...   \n",
       "6     [-84.4613, 44.99758761, -83.00067, 46.02436508]   \n",
       "10   [-83.53696, 44.13799675, -82.12808, 45.14807318]   \n",
       "11    [-83.5275, 44.99758761, -83.00067, 45.98904329]   \n",
       "12   [-83.826355, 44.09977092, -83.0639, 45.09827524]   \n",
       "14   [-83.54315, 44.13799675, -82.14615, 45.14807318]   \n",
       "15    [-84.4613, 44.99758761, -83.00067, 46.02436508]   \n",
       "16    [-84.50015, 44.09977092, -83.0639, 45.12552488]   \n",
       "\n",
       "                                    sample_point  \\\n",
       "1   POINT (-83.30284787280465 45.03967636446461)   \n",
       "2   POINT (-83.30284787280465 45.03967636446461)   \n",
       "3   POINT (-83.30284787280465 45.03967636446461)   \n",
       "6   POINT (-83.30284787280465 45.03967636446461)   \n",
       "10  POINT (-83.30284787280465 45.03967636446461)   \n",
       "11  POINT (-83.30284787280465 45.03967636446461)   \n",
       "12  POINT (-83.30284787280465 45.03967636446461)   \n",
       "14  POINT (-83.30284787280465 45.03967636446461)   \n",
       "15  POINT (-83.30284787280465 45.03967636446461)   \n",
       "16  POINT (-83.30284787280465 45.03967636446461)   \n",
       "\n",
       "                                             item_obj  contains_sample_point  \n",
       "1   <Item id=S2B_MSIL2A_20220613T161829_R040_T17TL...                   True  \n",
       "2   <Item id=S2B_MSIL2A_20220613T161829_R040_T16TG...                   True  \n",
       "3   <Item id=S2B_MSIL2A_20220613T161829_R040_T16TG...                   True  \n",
       "6   <Item id=S2A_MSIL2A_20220611T162911_R083_T16TG...                   True  \n",
       "10  <Item id=S2A_MSIL2A_20220608T161841_R040_T17TL...                   True  \n",
       "11  <Item id=S2A_MSIL2A_20220608T161841_R040_T16TG...                   True  \n",
       "12  <Item id=S2A_MSIL2A_20220608T161841_R040_T16TG...                   True  \n",
       "14  <Item id=S2B_MSIL2A_20220606T162839_R083_T17TL...                   True  \n",
       "15  <Item id=S2B_MSIL2A_20220606T162839_R083_T16TG...                   True  \n",
       "16  <Item id=S2B_MSIL2A_20220606T162839_R083_T16TG...                   True  "
      ]
     },
     "execution_count": 28,
     "metadata": {},
     "output_type": "execute_result"
    }
   ],
   "source": [
    "# 1 - filter to sentinel using the str accessor\n",
    "item_details_gdf[item_details_gdf.platform.str.contains(\"Sentinel\")]"
   ]
  },
  {
   "cell_type": "markdown",
   "metadata": {},
   "source": [
    "The closest date appears to be the Sentinel-2B image taken on 2022-06-13. However, the images from that date have really high cloud coverage values. So, let's take the Sentinel-2 image with the lowest cloud cover value."
   ]
  },
  {
   "cell_type": "code",
   "execution_count": 29,
   "metadata": {},
   "outputs": [
    {
     "data": {
      "text/plain": [
       "datetime                                                        2022-06-11\n",
       "geometry                 POLYGON ((-84.41644 46.0243651, -83.00067 45.9...\n",
       "platform                                                       Sentinel-2A\n",
       "cloud_cover                                                      37.726283\n",
       "min_long                                                          -84.4613\n",
       "max_long                                                         -83.00067\n",
       "min_lat                                                          44.997588\n",
       "max_lat                                                          46.024365\n",
       "bbox                       [-84.4613, 44.99758761, -83.00067, 46.02436508]\n",
       "sample_point                  POINT (-83.30284787280465 45.03967636446461)\n",
       "item_obj                 <Item id=S2A_MSIL2A_20220611T162911_R083_T16TG...\n",
       "contains_sample_point                                                 True\n",
       "Name: 6, dtype: object"
      ]
     },
     "execution_count": 29,
     "metadata": {},
     "output_type": "execute_result"
    }
   ],
   "source": [
    "# 2 - take lowest cloud cover\n",
    "best_item = (\n",
    "    item_details_gdf[item_details_gdf.platform.str.contains(\"Sentinel\")]\n",
    "    .sort_values(by=\"cloud_cover\", ascending=True)\n",
    "    .iloc[0]\n",
    ")\n",
    "best_item"
   ]
  },
  {
   "cell_type": "markdown",
   "metadata": {},
   "source": [
    "The actual [COG](https://www.cogeo.org/) is accessible through `item_obj` (our name), which is just a `pystac.item.Item` object. "
   ]
  },
  {
   "cell_type": "code",
   "execution_count": 30,
   "metadata": {
    "tags": [],
    "toc-hr-collapsed": true
   },
   "outputs": [
    {
     "data": {
      "text/html": [
       "&lt;Item id=S2A_MSIL2A_20220611T162911_R083_T16TGR_20220612T145248&gt;"
      ],
      "text/plain": [
       "<Item id=S2A_MSIL2A_20220611T162911_R083_T16TGR_20220612T145248>"
      ]
     },
     "execution_count": 30,
     "metadata": {},
     "output_type": "execute_result"
    }
   ],
   "source": [
    "best_item.item_obj"
   ]
  },
  {
   "cell_type": "markdown",
   "metadata": {},
   "source": [
    "Using stuff we did in Part 2, let's crop the image around our sample point and take a look."
   ]
  },
  {
   "cell_type": "code",
   "execution_count": 31,
   "metadata": {},
   "outputs": [],
   "source": [
    "def crop_sentinel_image(item, bounding_box, asset_str):\n",
    "    \"\"\"\n",
    "    Given a STAC item from Sentinel-2 and a bounding box tuple in the format\n",
    "    (minx, miny, maxx, maxy), return a cropped portion of the item's visual\n",
    "    imagery in the bounding box.\n",
    "\n",
    "    Returns the image as a numpy array with dimensions (color band, height, width)\n",
    "    \"\"\"\n",
    "    (minx, miny, maxx, maxy) = bounding_box\n",
    "\n",
    "    cropped_image = rioxarray.open_rasterio(pc.sign(item.assets[asset_str].href)).rio.clip_box(\n",
    "        minx=minx,\n",
    "        miny=miny,\n",
    "        maxx=maxx,\n",
    "        maxy=maxy,\n",
    "        crs=\"EPSG:4326\",\n",
    "    )\n",
    "\n",
    "    return cropped_image"
   ]
  },
  {
   "cell_type": "code",
   "execution_count": 32,
   "metadata": {},
   "outputs": [
    {
     "name": "stdout",
     "output_type": "stream",
     "text": [
      "cropped_image is a <class 'xarray.core.dataarray.DataArray'> with dimensions of ('band', 'y', 'x') and shape = (3, 106, 106)\n",
      "cropped_image_array is a <class 'numpy.ndarray'> with shape = (3, 106, 106)\n"
     ]
    }
   ],
   "source": [
    "bbox_small = get_bounding_box(lat, long, meter_buffer=500)\n",
    "bbox_small\n",
    "\n",
    "# Crop the image\n",
    "cropped_img = crop_sentinel_image(best_item.item_obj, bbox_small, 'visual')\n",
    "print(f'cropped_image is a {type(cropped_img)} with dimensions of {cropped_img.dims} and shape = {cropped_img.shape}')\n",
    "\n",
    "# Create a numpy array from the cropped image\n",
    "cropped_img_array = cropped_img.to_numpy()\n",
    "print(f'cropped_image_array is a {type(cropped_img_array)} with shape = {cropped_img_array.shape}')"
   ]
  },
  {
   "cell_type": "markdown",
   "metadata": {},
   "source": [
    "You can see how the xarray package adds dimension names to numpy arrays.\n",
    "\n",
    "We have to transpose some of the dimensions to plot since matplotlib expects channels in a certain order (y, x, band). Note that the band dimension is of length 3 - red, green and blue."
   ]
  },
  {
   "cell_type": "code",
   "execution_count": 33,
   "metadata": {
    "tags": []
   },
   "outputs": [
    {
     "data": {
      "text/plain": [
       "<matplotlib.image.AxesImage at 0x7f2678ea9b20>"
      ]
     },
     "execution_count": 33,
     "metadata": {},
     "output_type": "execute_result"
    },
    {
     "data": {
      "image/png": "[encoded data removed]",
      "text/plain": [
       "<Figure size 640x480 with 1 Axes>"
      ]
     },
     "metadata": {},
     "output_type": "display_data"
    }
   ],
   "source": [
    "plt.imshow(np.transpose(cropped_img_array, axes=[1, 2, 0]))"
   ]
  },
  {
   "cell_type": "markdown",
   "metadata": {
    "tags": []
   },
   "source": [
    "# What about those Landsat images?\n",
    "\n",
    "We kind of just dismissed the Landsat images in the previous section. Let's learn a little more about Landsat imagery and do some pre-processing to get these images to be more comparable to the Sentinel-2 images in terms of the underlying pixel values."
   ]
  },
  {
   "cell_type": "markdown",
   "metadata": {
    "tags": []
   },
   "source": [
    "## Some Landsat background and analysis challenges"
   ]
  },
  {
   "cell_type": "markdown",
   "metadata": {},
   "source": [
    "Landsat, a joint NASA/USGS program, provides the longest continuous space-based record of Earth’s land in existence.\n",
    "\n",
    "There have been many Landsat missions since the original launch in 1972. The competition data only goes back to 2013, so participants should only use Landsat 8 and Landsat 9. Participants may not use any previous Landsat missions. Landsat 8 and Landsat 9 satellites are out of phase with one another, so that between the two each point on the Earth is revisited every 8 days. The data collected by Landsat 9 is very similar to Landsat 8.\n",
    "\n",
    "Participants may use either level-1 or level-2 data, but may not use level-3. In addition to bottom-of-atmosphere reflectance, Landsat level-2 also includes a measurement of surface temperature, which is relevant to the behavior of algal blooms."
   ]
  },
  {
   "cell_type": "markdown",
   "metadata": {},
   "source": [
    "From https://planetarycomputer.microsoft.com/dataset/landsat-c2-l2\n",
    "\n",
    "> Landsat Collection 2 Level-2 Science Products, consisting of atmospherically corrected surface reflectance and surface temperature image data. Collection 2 Level-2 Science Products are available from August 22, 1982 to present.\n",
    "> \n",
    "> This dataset represents the global archive of Level-2 data from Landsat Collection 2 acquired by the Thematic Mapper onboard Landsat 4 and 5, the Enhanced Thematic Mapper onboard Landsat 7, and the Operatational Land Imager and Thermal Infrared Sensor onboard Landsat 8 and 9. Images are stored in cloud-optimized GeoTIFF format.\n",
    "\n",
    "\n"
   ]
  },
  {
   "cell_type": "markdown",
   "metadata": {},
   "source": [
    "From the main tutorial:\n",
    "\n",
    "> Note that unlike Sentinel-2 imagery, Landsat imagery is not originally returned with image values scaled to 0-255. Our function above scales the pixel values with cv2.normalize(image_array, None, 0, 255, cv2.NORM_MINMAX) so that it is more comparable to our Sentinel-2 imagery, and we can input both of them as features into our model. You may want to explore other methods of converting Sentinel and Landsat imagery to comparable scales to make sure that no information is lost when re-scaling."
   ]
  },
  {
   "cell_type": "markdown",
   "metadata": {},
   "source": [
    "## Exploring a Landsat image\n",
    "\n",
    "We have a few Landsat images in the collection of items we found and they had pretty low cloud cover values. Let's get the one with the lowest cloud cover."
   ]
  },
  {
   "cell_type": "code",
   "execution_count": 34,
   "metadata": {},
   "outputs": [
    {
     "data": {
      "text/plain": [
       "datetime                                                        2022-06-11\n",
       "geometry                 POLYGON ((-85.1295869 45.6636126, -85.7045499 ...\n",
       "platform                                                         landsat-8\n",
       "cloud_cover                                                          36.88\n",
       "min_long                                                        -85.735586\n",
       "max_long                                                        -82.751318\n",
       "min_lat                                                          43.514205\n",
       "max_lat                                                          45.676265\n",
       "bbox                     [-85.73558553, 43.51420503, -82.75131771, 45.6...\n",
       "sample_point                  POINT (-83.30284787280465 45.03967636446461)\n",
       "item_obj                         <Item id=LC08_L2SP_021029_20220611_02_T1>\n",
       "contains_sample_point                                                 True\n",
       "Name: 7, dtype: object"
      ]
     },
     "execution_count": 34,
     "metadata": {},
     "output_type": "execute_result"
    }
   ],
   "source": [
    "# 2 - take lowest cloud cover\n",
    "best_item_landsat = (\n",
    "    item_details_gdf[item_details_gdf.platform.str.contains(\"landsat\")]\n",
    "    .sort_values(by=\"cloud_cover\", ascending=True)\n",
    "    .iloc[0]\n",
    ")\n",
    "best_item_landsat"
   ]
  },
  {
   "cell_type": "markdown",
   "metadata": {},
   "source": [
    "Again, the COG itself is in the `item_obj` column. The problem is that the assets that exist for Landsat COGs are slightly different than those for Sentinel-2."
   ]
  },
  {
   "cell_type": "code",
   "execution_count": 35,
   "metadata": {},
   "outputs": [
    {
     "name": "stdout",
     "output_type": "stream",
     "text": [
      "qa                        - Surface Temperature Quality Assessment Band\n",
      "ang                       - Angle Coefficients File\n",
      "red                       - Red Band\n",
      "blue                      - Blue Band\n",
      "drad                      - Downwelled Radiance Band\n",
      "emis                      - Emissivity Band\n",
      "emsd                      - Emissivity Standard Deviation Band\n",
      "trad                      - Thermal Radiance Band\n",
      "urad                      - Upwelled Radiance Band\n",
      "atran                     - Atmospheric Transmittance Band\n",
      "cdist                     - Cloud Distance Band\n",
      "green                     - Green Band\n",
      "nir08                     - Near Infrared Band 0.8\n",
      "lwir11                    - Surface Temperature Band\n",
      "swir16                    - Short-wave Infrared Band 1.6\n",
      "swir22                    - Short-wave Infrared Band 2.2\n",
      "coastal                   - Coastal/Aerosol Band\n",
      "mtl.txt                   - Product Metadata File (txt)\n",
      "mtl.xml                   - Product Metadata File (xml)\n",
      "mtl.json                  - Product Metadata File (json)\n",
      "qa_pixel                  - Pixel Quality Assessment Band\n",
      "qa_radsat                 - Radiometric Saturation and Terrain Occlusion Quality Assessment Band\n",
      "qa_aerosol                - Aerosol Quality Assessment Band\n",
      "tilejson                  - TileJSON with default rendering\n",
      "rendered_preview          - Rendered preview\n"
     ]
    }
   ],
   "source": [
    "for asset_key, asset in best_item_landsat.item_obj.assets.items():\n",
    "    print(f\"{asset_key:<25} - {asset.title}\")"
   ]
  },
  {
   "cell_type": "markdown",
   "metadata": {},
   "source": [
    "You can find a [good data dictionary at this MPC Landsat page](https://planetarycomputer.microsoft.com/dataset/landsat-c2-l2)."
   ]
  },
  {
   "cell_type": "markdown",
   "metadata": {},
   "source": [
    "We aren't going to dig into all the details here, but instead will just focus on the issue raised in the original tutorial. The red, blue and green bands in the Landsat item are not scaled on a 0-255 scale. Here's the code from the original tutorial that uses the odc-stac and opencv libraries to normalize the red, blue and green bands to 0-255. A few things of note:\n",
    "\n",
    "- the `odc.stac.stac_load()` function allows you to specify a list of bands to load\n",
    "- the `cv2.normalize()` function is used to put the values on the 0-255 scale\n",
    "\n",
    "```python\n",
    "def crop_landsat_image(item, bounding_box):\n",
    "    \"\"\"\n",
    "    Given a STAC item from Landsat and a bounding box tuple in the format\n",
    "    (minx, miny, maxx, maxy), return a cropped portion of the item's visual\n",
    "    imagery in the bounding box.\n",
    "\n",
    "    Returns the image as a numpy array with dimensions (color band, height, width)\n",
    "    \"\"\"\n",
    "    (minx, miny, maxx, maxy) = bounding_box\n",
    "\n",
    "    image = odc.stac.stac_load(\n",
    "        [pc.sign(item)], bands=[\"red\", \"green\", \"blue\"], bbox=[minx, miny, maxx, maxy]\n",
    "    ).isel(time=0)\n",
    "    image_array = image[[\"red\", \"green\", \"blue\"]].to_array().to_numpy()\n",
    "\n",
    "    # normalize to 0 - 255 values\n",
    "    image_array = cv2.normalize(image_array, None, 0, 255, cv2.NORM_MINMAX)\n",
    "\n",
    "    return image_array\n",
    "```"
   ]
  },
  {
   "cell_type": "markdown",
   "metadata": {},
   "source": [
    "Unfortunately, I had all kinds of problems getting odc-stac and opencv (includes the cv2 module) installed in my conda virtual environment. I figured instead of fighting with that, I'd figure out how to use rioxarray instead of odc-stac to load the bands into arrays and simply write my own normalize function to do the rescaling.\n",
    "\n",
    "First, just to illustrate the scale problem, I'll load the red band."
   ]
  },
  {
   "cell_type": "code",
   "execution_count": 36,
   "metadata": {},
   "outputs": [
    {
     "data": {
      "text/html": [
       "<div><svg style=\"position: absolute; width: 0; height: 0; overflow: hidden\">\n",
       "<defs>\n",
       "<symbol id=\"icon-database\" viewBox=\"0 0 32 32\">\n",
       "<path d=\"M16 0c-8.837 0-16 2.239-16 5v4c0 2.761 7.163 5 16 5s16-2.239 16-5v-4c0-2.761-7.163-5-16-5z\"></path>\n",
       "<path d=\"M16 17c-8.837 0-16-2.239-16-5v6c0 2.761 7.163 5 16 5s16-2.239 16-5v-6c0 2.761-7.163 5-16 5z\"></path>\n",
       "<path d=\"M16 26c-8.837 0-16-2.239-16-5v6c0 2.761 7.163 5 16 5s16-2.239 16-5v-6c0 2.761-7.163 5-16 5z\"></path>\n",
       "</symbol>\n",
       "<symbol id=\"icon-file-text2\" viewBox=\"0 0 32 32\">\n",
       "<path d=\"M28.681 7.159c-0.694-0.947-1.662-2.053-2.724-3.116s-2.169-2.030-3.116-2.724c-1.612-1.182-2.393-1.319-2.841-1.319h-15.5c-1.378 0-2.5 1.121-2.5 2.5v27c0 1.378 1.122 2.5 2.5 2.5h23c1.378 0 2.5-1.122 2.5-2.5v-19.5c0-0.448-0.137-1.23-1.319-2.841zM24.543 5.457c0.959 0.959 1.712 1.825 2.268 2.543h-4.811v-4.811c0.718 0.556 1.584 1.309 2.543 2.268zM28 29.5c0 0.271-0.229 0.5-0.5 0.5h-23c-0.271 0-0.5-0.229-0.5-0.5v-27c0-0.271 0.229-0.5 0.5-0.5 0 0 15.499-0 15.5 0v7c0 0.552 0.448 1 1 1h7v19.5z\"></path>\n",
       "<path d=\"M23 26h-14c-0.552 0-1-0.448-1-1s0.448-1 1-1h14c0.552 0 1 0.448 1 1s-0.448 1-1 1z\"></path>\n",
       "<path d=\"M23 22h-14c-0.552 0-1-0.448-1-1s0.448-1 1-1h14c0.552 0 1 0.448 1 1s-0.448 1-1 1z\"></path>\n",
       "<path d=\"M23 18h-14c-0.552 0-1-0.448-1-1s0.448-1 1-1h14c0.552 0 1 0.448 1 1s-0.448 1-1 1z\"></path>\n",
       "</symbol>\n",
       "</defs>\n",
       "</svg>\n",
       "<style>/* CSS stylesheet for displaying xarray objects in jupyterlab.\n",
       " *\n",
       " */\n",
       "\n",
       ":root {\n",
       "  --xr-font-color0: var(--jp-content-font-color0, rgba(0, 0, 0, 1));\n",
       "  --xr-font-color2: var(--jp-content-font-color2, rgba(0, 0, 0, 0.54));\n",
       "  --xr-font-color3: var(--jp-content-font-color3, rgba(0, 0, 0, 0.38));\n",
       "  --xr-border-color: var(--jp-border-color2, #e0e0e0);\n",
       "  --xr-disabled-color: var(--jp-layout-color3, #bdbdbd);\n",
       "  --xr-background-color: var(--jp-layout-color0, white);\n",
       "  --xr-background-color-row-even: var(--jp-layout-color1, white);\n",
       "  --xr-background-color-row-odd: var(--jp-layout-color2, #eeeeee);\n",
       "}\n",
       "\n",
       "html[theme=dark],\n",
       "body[data-theme=dark],\n",
       "body.vscode-dark {\n",
       "  --xr-font-color0: rgba(255, 255, 255, 1);\n",
       "  --xr-font-color2: rgba(255, 255, 255, 0.54);\n",
       "  --xr-font-color3: rgba(255, 255, 255, 0.38);\n",
       "  --xr-border-color: #1F1F1F;\n",
       "  --xr-disabled-color: #515151;\n",
       "  --xr-background-color: #111111;\n",
       "  --xr-background-color-row-even: #111111;\n",
       "  --xr-background-color-row-odd: #313131;\n",
       "}\n",
       "\n",
       ".xr-wrap {\n",
       "  display: block !important;\n",
       "  min-width: 300px;\n",
       "  max-width: 700px;\n",
       "}\n",
       "\n",
       ".xr-text-repr-fallback {\n",
       "  /* fallback to plain text repr when CSS is not injected (untrusted notebook) */\n",
       "  display: none;\n",
       "}\n",
       "\n",
       ".xr-header {\n",
       "  padding-top: 6px;\n",
       "  padding-bottom: 6px;\n",
       "  margin-bottom: 4px;\n",
       "  border-bottom: solid 1px var(--xr-border-color);\n",
       "}\n",
       "\n",
       ".xr-header > div,\n",
       ".xr-header > ul {\n",
       "  display: inline;\n",
       "  margin-top: 0;\n",
       "  margin-bottom: 0;\n",
       "}\n",
       "\n",
       ".xr-obj-type,\n",
       ".xr-array-name {\n",
       "  margin-left: 2px;\n",
       "  margin-right: 10px;\n",
       "}\n",
       "\n",
       ".xr-obj-type {\n",
       "  color: var(--xr-font-color2);\n",
       "}\n",
       "\n",
       ".xr-sections {\n",
       "  padding-left: 0 !important;\n",
       "  display: grid;\n",
       "  grid-template-columns: 150px auto auto 1fr 20px 20px;\n",
       "}\n",
       "\n",
       ".xr-section-item {\n",
       "  display: contents;\n",
       "}\n",
       "\n",
       ".xr-section-item input {\n",
       "  display: none;\n",
       "}\n",
       "\n",
       ".xr-section-item input + label {\n",
       "  color: var(--xr-disabled-color);\n",
       "}\n",
       "\n",
       ".xr-section-item input:enabled + label {\n",
       "  cursor: pointer;\n",
       "  color: var(--xr-font-color2);\n",
       "}\n",
       "\n",
       ".xr-section-item input:enabled + label:hover {\n",
       "  color: var(--xr-font-color0);\n",
       "}\n",
       "\n",
       ".xr-section-summary {\n",
       "  grid-column: 1;\n",
       "  color: var(--xr-font-color2);\n",
       "  font-weight: 500;\n",
       "}\n",
       "\n",
       ".xr-section-summary > span {\n",
       "  display: inline-block;\n",
       "  padding-left: 0.5em;\n",
       "}\n",
       "\n",
       ".xr-section-summary-in:disabled + label {\n",
       "  color: var(--xr-font-color2);\n",
       "}\n",
       "\n",
       ".xr-section-summary-in + label:before {\n",
       "  display: inline-block;\n",
       "  content: '►';\n",
       "  font-size: 11px;\n",
       "  width: 15px;\n",
       "  text-align: center;\n",
       "}\n",
       "\n",
       ".xr-section-summary-in:disabled + label:before {\n",
       "  color: var(--xr-disabled-color);\n",
       "}\n",
       "\n",
       ".xr-section-summary-in:checked + label:before {\n",
       "  content: '▼';\n",
       "}\n",
       "\n",
       ".xr-section-summary-in:checked + label > span {\n",
       "  display: none;\n",
       "}\n",
       "\n",
       ".xr-section-summary,\n",
       ".xr-section-inline-details {\n",
       "  padding-top: 4px;\n",
       "  padding-bottom: 4px;\n",
       "}\n",
       "\n",
       ".xr-section-inline-details {\n",
       "  grid-column: 2 / -1;\n",
       "}\n",
       "\n",
       ".xr-section-details {\n",
       "  display: none;\n",
       "  grid-column: 1 / -1;\n",
       "  margin-bottom: 5px;\n",
       "}\n",
       "\n",
       ".xr-section-summary-in:checked ~ .xr-section-details {\n",
       "  display: contents;\n",
       "}\n",
       "\n",
       ".xr-array-wrap {\n",
       "  grid-column: 1 / -1;\n",
       "  display: grid;\n",
       "  grid-template-columns: 20px auto;\n",
       "}\n",
       "\n",
       ".xr-array-wrap > label {\n",
       "  grid-column: 1;\n",
       "  vertical-align: top;\n",
       "}\n",
       "\n",
       ".xr-preview {\n",
       "  color: var(--xr-font-color3);\n",
       "}\n",
       "\n",
       ".xr-array-preview,\n",
       ".xr-array-data {\n",
       "  padding: 0 5px !important;\n",
       "  grid-column: 2;\n",
       "}\n",
       "\n",
       ".xr-array-data,\n",
       ".xr-array-in:checked ~ .xr-array-preview {\n",
       "  display: none;\n",
       "}\n",
       "\n",
       ".xr-array-in:checked ~ .xr-array-data,\n",
       ".xr-array-preview {\n",
       "  display: inline-block;\n",
       "}\n",
       "\n",
       ".xr-dim-list {\n",
       "  display: inline-block !important;\n",
       "  list-style: none;\n",
       "  padding: 0 !important;\n",
       "  margin: 0;\n",
       "}\n",
       "\n",
       ".xr-dim-list li {\n",
       "  display: inline-block;\n",
       "  padding: 0;\n",
       "  margin: 0;\n",
       "}\n",
       "\n",
       ".xr-dim-list:before {\n",
       "  content: '(';\n",
       "}\n",
       "\n",
       ".xr-dim-list:after {\n",
       "  content: ')';\n",
       "}\n",
       "\n",
       ".xr-dim-list li:not(:last-child):after {\n",
       "  content: ',';\n",
       "  padding-right: 5px;\n",
       "}\n",
       "\n",
       ".xr-has-index {\n",
       "  font-weight: bold;\n",
       "}\n",
       "\n",
       ".xr-var-list,\n",
       ".xr-var-item {\n",
       "  display: contents;\n",
       "}\n",
       "\n",
       ".xr-var-item > div,\n",
       ".xr-var-item label,\n",
       ".xr-var-item > .xr-var-name span {\n",
       "  background-color: var(--xr-background-color-row-even);\n",
       "  margin-bottom: 0;\n",
       "}\n",
       "\n",
       ".xr-var-item > .xr-var-name:hover span {\n",
       "  padding-right: 5px;\n",
       "}\n",
       "\n",
       ".xr-var-list > li:nth-child(odd) > div,\n",
       ".xr-var-list > li:nth-child(odd) > label,\n",
       ".xr-var-list > li:nth-child(odd) > .xr-var-name span {\n",
       "  background-color: var(--xr-background-color-row-odd);\n",
       "}\n",
       "\n",
       ".xr-var-name {\n",
       "  grid-column: 1;\n",
       "}\n",
       "\n",
       ".xr-var-dims {\n",
       "  grid-column: 2;\n",
       "}\n",
       "\n",
       ".xr-var-dtype {\n",
       "  grid-column: 3;\n",
       "  text-align: right;\n",
       "  color: var(--xr-font-color2);\n",
       "}\n",
       "\n",
       ".xr-var-preview {\n",
       "  grid-column: 4;\n",
       "}\n",
       "\n",
       ".xr-index-preview {\n",
       "  grid-column: 2 / 5;\n",
       "  color: var(--xr-font-color2);\n",
       "}\n",
       "\n",
       ".xr-var-name,\n",
       ".xr-var-dims,\n",
       ".xr-var-dtype,\n",
       ".xr-preview,\n",
       ".xr-attrs dt {\n",
       "  white-space: nowrap;\n",
       "  overflow: hidden;\n",
       "  text-overflow: ellipsis;\n",
       "  padding-right: 10px;\n",
       "}\n",
       "\n",
       ".xr-var-name:hover,\n",
       ".xr-var-dims:hover,\n",
       ".xr-var-dtype:hover,\n",
       ".xr-attrs dt:hover {\n",
       "  overflow: visible;\n",
       "  width: auto;\n",
       "  z-index: 1;\n",
       "}\n",
       "\n",
       ".xr-var-attrs,\n",
       ".xr-var-data,\n",
       ".xr-index-data {\n",
       "  display: none;\n",
       "  background-color: var(--xr-background-color) !important;\n",
       "  padding-bottom: 5px !important;\n",
       "}\n",
       "\n",
       ".xr-var-attrs-in:checked ~ .xr-var-attrs,\n",
       ".xr-var-data-in:checked ~ .xr-var-data,\n",
       ".xr-index-data-in:checked ~ .xr-index-data {\n",
       "  display: block;\n",
       "}\n",
       "\n",
       ".xr-var-data > table {\n",
       "  float: right;\n",
       "}\n",
       "\n",
       ".xr-var-name span,\n",
       ".xr-var-data,\n",
       ".xr-index-name div,\n",
       ".xr-index-data,\n",
       ".xr-attrs {\n",
       "  padding-left: 25px !important;\n",
       "}\n",
       "\n",
       ".xr-attrs,\n",
       ".xr-var-attrs,\n",
       ".xr-var-data,\n",
       ".xr-index-data {\n",
       "  grid-column: 1 / -1;\n",
       "}\n",
       "\n",
       "dl.xr-attrs {\n",
       "  padding: 0;\n",
       "  margin: 0;\n",
       "  display: grid;\n",
       "  grid-template-columns: 125px auto;\n",
       "}\n",
       "\n",
       ".xr-attrs dt,\n",
       ".xr-attrs dd {\n",
       "  padding: 0;\n",
       "  margin: 0;\n",
       "  float: left;\n",
       "  padding-right: 10px;\n",
       "  width: auto;\n",
       "}\n",
       "\n",
       ".xr-attrs dt {\n",
       "  font-weight: normal;\n",
       "  grid-column: 1;\n",
       "}\n",
       "\n",
       ".xr-attrs dt:hover span {\n",
       "  display: inline-block;\n",
       "  background: var(--xr-background-color);\n",
       "  padding-right: 10px;\n",
       "}\n",
       "\n",
       ".xr-attrs dd {\n",
       "  grid-column: 2;\n",
       "  white-space: pre-wrap;\n",
       "  word-break: break-all;\n",
       "}\n",
       "\n",
       ".xr-icon-database,\n",
       ".xr-icon-file-text2,\n",
       ".xr-no-icon {\n",
       "  display: inline-block;\n",
       "  vertical-align: middle;\n",
       "  width: 1em;\n",
       "  height: 1.5em !important;\n",
       "  stroke-width: 0;\n",
       "  stroke: currentColor;\n",
       "  fill: currentColor;\n",
       "}\n",
       "</style><pre class='xr-text-repr-fallback'>&lt;xarray.DataArray (band: 1, y: 7761, x: 7641)&gt;\n",
       "[59301801 values with dtype=uint16]\n",
       "Coordinates:\n",
       "  * band         (band) int64 1\n",
       "  * x            (x) float64 6.021e+05 6.021e+05 ... 8.313e+05 8.313e+05\n",
       "  * y            (y) float64 5.059e+06 5.059e+06 ... 4.826e+06 4.826e+06\n",
       "    spatial_ref  int64 0\n",
       "Attributes:\n",
       "    AREA_OR_POINT:  Point\n",
       "    _FillValue:     0\n",
       "    scale_factor:   1.0\n",
       "    add_offset:     0.0</pre><div class='xr-wrap' style='display:none'><div class='xr-header'><div class='xr-obj-type'>xarray.DataArray</div><div class='xr-array-name'></div><ul class='xr-dim-list'><li><span class='xr-has-index'>band</span>: 1</li><li><span class='xr-has-index'>y</span>: 7761</li><li><span class='xr-has-index'>x</span>: 7641</li></ul></div><ul class='xr-sections'><li class='xr-section-item'><div class='xr-array-wrap'><input id='section-d1067dbc-78f4-426d-80d4-8d1f75be7d7d' class='xr-array-in' type='checkbox' checked><label for='section-d1067dbc-78f4-426d-80d4-8d1f75be7d7d' title='Show/hide data repr'><svg class='icon xr-icon-database'><use xlink:href='#icon-database'></use></svg></label><div class='xr-array-preview xr-preview'><span>...</span></div><div class='xr-array-data'><pre>[59301801 values with dtype=uint16]</pre></div></div></li><li class='xr-section-item'><input id='section-3dd6413c-f2b7-45c3-953f-84ac9639347a' class='xr-section-summary-in' type='checkbox'  checked><label for='section-3dd6413c-f2b7-45c3-953f-84ac9639347a' class='xr-section-summary' >Coordinates: <span>(4)</span></label><div class='xr-section-inline-details'></div><div class='xr-section-details'><ul class='xr-var-list'><li class='xr-var-item'><div class='xr-var-name'><span class='xr-has-index'>band</span></div><div class='xr-var-dims'>(band)</div><div class='xr-var-dtype'>int64</div><div class='xr-var-preview xr-preview'>1</div><input id='attrs-6f0b5bdb-aa21-4fbf-a233-a48456fce2c6' class='xr-var-attrs-in' type='checkbox' disabled><label for='attrs-6f0b5bdb-aa21-4fbf-a233-a48456fce2c6' title='Show/Hide attributes'><svg class='icon xr-icon-file-text2'><use xlink:href='#icon-file-text2'></use></svg></label><input id='data-d5310c25-7e2d-4ca4-9192-7d2b96b7a887' class='xr-var-data-in' type='checkbox'><label for='data-d5310c25-7e2d-4ca4-9192-7d2b96b7a887' title='Show/Hide data repr'><svg class='icon xr-icon-database'><use xlink:href='#icon-database'></use></svg></label><div class='xr-var-attrs'><dl class='xr-attrs'></dl></div><div class='xr-var-data'><pre>array([1])</pre></div></li><li class='xr-var-item'><div class='xr-var-name'><span class='xr-has-index'>x</span></div><div class='xr-var-dims'>(x)</div><div class='xr-var-dtype'>float64</div><div class='xr-var-preview xr-preview'>6.021e+05 6.021e+05 ... 8.313e+05</div><input id='attrs-56057fdc-25be-43a6-9dff-14f8c8f1ffce' class='xr-var-attrs-in' type='checkbox' disabled><label for='attrs-56057fdc-25be-43a6-9dff-14f8c8f1ffce' title='Show/Hide attributes'><svg class='icon xr-icon-file-text2'><use xlink:href='#icon-file-text2'></use></svg></label><input id='data-0e9ccd88-a2d9-4840-9066-ed71cfbcbd4c' class='xr-var-data-in' type='checkbox'><label for='data-0e9ccd88-a2d9-4840-9066-ed71cfbcbd4c' title='Show/Hide data repr'><svg class='icon xr-icon-database'><use xlink:href='#icon-database'></use></svg></label><div class='xr-var-attrs'><dl class='xr-attrs'></dl></div><div class='xr-var-data'><pre>array([602100., 602130., 602160., ..., 831240., 831270., 831300.])</pre></div></li><li class='xr-var-item'><div class='xr-var-name'><span class='xr-has-index'>y</span></div><div class='xr-var-dims'>(y)</div><div class='xr-var-dtype'>float64</div><div class='xr-var-preview xr-preview'>5.059e+06 5.059e+06 ... 4.826e+06</div><input id='attrs-6e4b44d9-eb5a-4bbd-abbc-5350af87483d' class='xr-var-attrs-in' type='checkbox' disabled><label for='attrs-6e4b44d9-eb5a-4bbd-abbc-5350af87483d' title='Show/Hide attributes'><svg class='icon xr-icon-file-text2'><use xlink:href='#icon-file-text2'></use></svg></label><input id='data-c7dd9718-2e77-43a5-835d-4e265216c4f7' class='xr-var-data-in' type='checkbox'><label for='data-c7dd9718-2e77-43a5-835d-4e265216c4f7' title='Show/Hide data repr'><svg class='icon xr-icon-database'><use xlink:href='#icon-database'></use></svg></label><div class='xr-var-attrs'><dl class='xr-attrs'></dl></div><div class='xr-var-data'><pre>array([5058900., 5058870., 5058840., ..., 4826160., 4826130., 4826100.])</pre></div></li><li class='xr-var-item'><div class='xr-var-name'><span>spatial_ref</span></div><div class='xr-var-dims'>()</div><div class='xr-var-dtype'>int64</div><div class='xr-var-preview xr-preview'>0</div><input id='attrs-bbff08e4-f261-49b0-a72a-187500342367' class='xr-var-attrs-in' type='checkbox' ><label for='attrs-bbff08e4-f261-49b0-a72a-187500342367' title='Show/Hide attributes'><svg class='icon xr-icon-file-text2'><use xlink:href='#icon-file-text2'></use></svg></label><input id='data-c6373536-1016-4b32-9293-95ae8c1db7a7' class='xr-var-data-in' type='checkbox'><label for='data-c6373536-1016-4b32-9293-95ae8c1db7a7' title='Show/Hide data repr'><svg class='icon xr-icon-database'><use xlink:href='#icon-database'></use></svg></label><div class='xr-var-attrs'><dl class='xr-attrs'><dt><span>crs_wkt :</span></dt><dd>PROJCS[&quot;WGS 84 / UTM zone 16N&quot;,GEOGCS[&quot;WGS 84&quot;,DATUM[&quot;WGS_1984&quot;,SPHEROID[&quot;WGS 84&quot;,6378137,298.257223563,AUTHORITY[&quot;EPSG&quot;,&quot;7030&quot;]],AUTHORITY[&quot;EPSG&quot;,&quot;6326&quot;]],PRIMEM[&quot;Greenwich&quot;,0,AUTHORITY[&quot;EPSG&quot;,&quot;8901&quot;]],UNIT[&quot;degree&quot;,0.0174532925199433,AUTHORITY[&quot;EPSG&quot;,&quot;9122&quot;]],AUTHORITY[&quot;EPSG&quot;,&quot;4326&quot;]],PROJECTION[&quot;Transverse_Mercator&quot;],PARAMETER[&quot;latitude_of_origin&quot;,0],PARAMETER[&quot;central_meridian&quot;,-87],PARAMETER[&quot;scale_factor&quot;,0.9996],PARAMETER[&quot;false_easting&quot;,500000],PARAMETER[&quot;false_northing&quot;,0],UNIT[&quot;metre&quot;,1,AUTHORITY[&quot;EPSG&quot;,&quot;9001&quot;]],AXIS[&quot;Easting&quot;,EAST],AXIS[&quot;Northing&quot;,NORTH],AUTHORITY[&quot;EPSG&quot;,&quot;32616&quot;]]</dd><dt><span>semi_major_axis :</span></dt><dd>6378137.0</dd><dt><span>semi_minor_axis :</span></dt><dd>6356752.314245179</dd><dt><span>inverse_flattening :</span></dt><dd>298.257223563</dd><dt><span>reference_ellipsoid_name :</span></dt><dd>WGS 84</dd><dt><span>longitude_of_prime_meridian :</span></dt><dd>0.0</dd><dt><span>prime_meridian_name :</span></dt><dd>Greenwich</dd><dt><span>geographic_crs_name :</span></dt><dd>WGS 84</dd><dt><span>horizontal_datum_name :</span></dt><dd>World Geodetic System 1984</dd><dt><span>projected_crs_name :</span></dt><dd>WGS 84 / UTM zone 16N</dd><dt><span>grid_mapping_name :</span></dt><dd>transverse_mercator</dd><dt><span>latitude_of_projection_origin :</span></dt><dd>0.0</dd><dt><span>longitude_of_central_meridian :</span></dt><dd>-87.0</dd><dt><span>false_easting :</span></dt><dd>500000.0</dd><dt><span>false_northing :</span></dt><dd>0.0</dd><dt><span>scale_factor_at_central_meridian :</span></dt><dd>0.9996</dd><dt><span>spatial_ref :</span></dt><dd>PROJCS[&quot;WGS 84 / UTM zone 16N&quot;,GEOGCS[&quot;WGS 84&quot;,DATUM[&quot;WGS_1984&quot;,SPHEROID[&quot;WGS 84&quot;,6378137,298.257223563,AUTHORITY[&quot;EPSG&quot;,&quot;7030&quot;]],AUTHORITY[&quot;EPSG&quot;,&quot;6326&quot;]],PRIMEM[&quot;Greenwich&quot;,0,AUTHORITY[&quot;EPSG&quot;,&quot;8901&quot;]],UNIT[&quot;degree&quot;,0.0174532925199433,AUTHORITY[&quot;EPSG&quot;,&quot;9122&quot;]],AUTHORITY[&quot;EPSG&quot;,&quot;4326&quot;]],PROJECTION[&quot;Transverse_Mercator&quot;],PARAMETER[&quot;latitude_of_origin&quot;,0],PARAMETER[&quot;central_meridian&quot;,-87],PARAMETER[&quot;scale_factor&quot;,0.9996],PARAMETER[&quot;false_easting&quot;,500000],PARAMETER[&quot;false_northing&quot;,0],UNIT[&quot;metre&quot;,1,AUTHORITY[&quot;EPSG&quot;,&quot;9001&quot;]],AXIS[&quot;Easting&quot;,EAST],AXIS[&quot;Northing&quot;,NORTH],AUTHORITY[&quot;EPSG&quot;,&quot;32616&quot;]]</dd><dt><span>GeoTransform :</span></dt><dd>602085.0 30.0 0.0 5058915.0 0.0 -30.0</dd></dl></div><div class='xr-var-data'><pre>array(0)</pre></div></li></ul></div></li><li class='xr-section-item'><input id='section-9ea45c98-cebe-4bf8-9d13-564cb08c68a5' class='xr-section-summary-in' type='checkbox'  ><label for='section-9ea45c98-cebe-4bf8-9d13-564cb08c68a5' class='xr-section-summary' >Indexes: <span>(3)</span></label><div class='xr-section-inline-details'></div><div class='xr-section-details'><ul class='xr-var-list'><li class='xr-var-item'><div class='xr-index-name'><div>band</div></div><div class='xr-index-preview'>PandasIndex</div><div></div><input id='index-9af4618e-ff73-4c06-886c-08607ac17e06' class='xr-index-data-in' type='checkbox'/><label for='index-9af4618e-ff73-4c06-886c-08607ac17e06' title='Show/Hide index repr'><svg class='icon xr-icon-database'><use xlink:href='#icon-database'></use></svg></label><div class='xr-index-data'><pre>PandasIndex(Int64Index([1], dtype=&#x27;int64&#x27;, name=&#x27;band&#x27;))</pre></div></li><li class='xr-var-item'><div class='xr-index-name'><div>x</div></div><div class='xr-index-preview'>PandasIndex</div><div></div><input id='index-7969a790-676e-4fe8-8ff5-0ea2264040ed' class='xr-index-data-in' type='checkbox'/><label for='index-7969a790-676e-4fe8-8ff5-0ea2264040ed' title='Show/Hide index repr'><svg class='icon xr-icon-database'><use xlink:href='#icon-database'></use></svg></label><div class='xr-index-data'><pre>PandasIndex(Float64Index([602100.0, 602130.0, 602160.0, 602190.0, 602220.0, 602250.0,\n",
       "              602280.0, 602310.0, 602340.0, 602370.0,\n",
       "              ...\n",
       "              831030.0, 831060.0, 831090.0, 831120.0, 831150.0, 831180.0,\n",
       "              831210.0, 831240.0, 831270.0, 831300.0],\n",
       "             dtype=&#x27;float64&#x27;, name=&#x27;x&#x27;, length=7641))</pre></div></li><li class='xr-var-item'><div class='xr-index-name'><div>y</div></div><div class='xr-index-preview'>PandasIndex</div><div></div><input id='index-c6164d37-1d16-44d4-88da-3af2ab652255' class='xr-index-data-in' type='checkbox'/><label for='index-c6164d37-1d16-44d4-88da-3af2ab652255' title='Show/Hide index repr'><svg class='icon xr-icon-database'><use xlink:href='#icon-database'></use></svg></label><div class='xr-index-data'><pre>PandasIndex(Float64Index([5058900.0, 5058870.0, 5058840.0, 5058810.0, 5058780.0, 5058750.0,\n",
       "              5058720.0, 5058690.0, 5058660.0, 5058630.0,\n",
       "              ...\n",
       "              4826370.0, 4826340.0, 4826310.0, 4826280.0, 4826250.0, 4826220.0,\n",
       "              4826190.0, 4826160.0, 4826130.0, 4826100.0],\n",
       "             dtype=&#x27;float64&#x27;, name=&#x27;y&#x27;, length=7761))</pre></div></li></ul></div></li><li class='xr-section-item'><input id='section-1a8a5d74-75ad-45e0-9457-c41b55fb675b' class='xr-section-summary-in' type='checkbox'  checked><label for='section-1a8a5d74-75ad-45e0-9457-c41b55fb675b' class='xr-section-summary' >Attributes: <span>(4)</span></label><div class='xr-section-inline-details'></div><div class='xr-section-details'><dl class='xr-attrs'><dt><span>AREA_OR_POINT :</span></dt><dd>Point</dd><dt><span>_FillValue :</span></dt><dd>0</dd><dt><span>scale_factor :</span></dt><dd>1.0</dd><dt><span>add_offset :</span></dt><dd>0.0</dd></dl></div></li></ul></div></div>"
      ],
      "text/plain": [
       "<xarray.DataArray (band: 1, y: 7761, x: 7641)>\n",
       "[59301801 values with dtype=uint16]\n",
       "Coordinates:\n",
       "  * band         (band) int64 1\n",
       "  * x            (x) float64 6.021e+05 6.021e+05 ... 8.313e+05 8.313e+05\n",
       "  * y            (y) float64 5.059e+06 5.059e+06 ... 4.826e+06 4.826e+06\n",
       "    spatial_ref  int64 0\n",
       "Attributes:\n",
       "    AREA_OR_POINT:  Point\n",
       "    _FillValue:     0\n",
       "    scale_factor:   1.0\n",
       "    add_offset:     0.0"
      ]
     },
     "execution_count": 36,
     "metadata": {},
     "output_type": "execute_result"
    }
   ],
   "source": [
    "red_href = best_item_landsat.item_obj.assets[\"red\"].href\n",
    "ds = rioxarray.open_rasterio(red_href)\n",
    "ds"
   ]
  },
  {
   "cell_type": "code",
   "execution_count": 37,
   "metadata": {},
   "outputs": [
    {
     "data": {
      "text/plain": [
       "array([[8521, 8506, 8422, 8492, 8494],\n",
       "       [8470, 8602, 8435, 8549, 8613],\n",
       "       [8554, 8512, 8454, 8454, 8633],\n",
       "       [8506, 8521, 8315, 8299, 8424],\n",
       "       [8612, 8578, 8402, 8225, 8215]], dtype=uint16)"
      ]
     },
     "execution_count": 37,
     "metadata": {},
     "output_type": "execute_result"
    }
   ],
   "source": [
    "ds[0, 4000:4005, 4000:4005].values"
   ]
  },
  {
   "cell_type": "markdown",
   "metadata": {},
   "source": [
    "Yep, values aren't between 0-255."
   ]
  },
  {
   "cell_type": "markdown",
   "metadata": {},
   "source": [
    "I found that `rioxarray.open_rasterio` has the following input parameter:\n",
    "\n",
    "- **band_as_variable (bool, default=False)** – If True, will load bands in a raster to separate variables.\n",
    "\n",
    "Hmm, not sure that will work as we don't have a single raster file with all the bands. Instead we can load the red, green and blue bands separately, rescale them and then merge them.\n",
    "\n",
    "Rescaling a vector of values to a new min and max is pretty easy.\n",
    "\n",
    "    rescaled_value = new_min + (new_max - new_min) * (value - value.min) / (value.max - value.min)\n",
    "    \n",
    "Since our min is 0 and max is 255, this simplifies to:\n",
    "\n",
    "    rescaled_value = 255 * (value - value.min) / (value.max - value.min)\n",
    "    \n",
    "There was a little numpy trickiness (see last line of code below)."
   ]
  },
  {
   "cell_type": "code",
   "execution_count": null,
   "metadata": {
    "tags": []
   },
   "outputs": [],
   "source": [
    "print(f'bbox\\n{bbox}\\n')\n",
    "minx, miny, maxx, maxy = bbox\n",
    "\n",
    "bands = {}\n",
    "bands_rescaled = {}\n",
    "for band in ['red', 'green', 'blue']:\n",
    "    bands[band] = rioxarray.open_rasterio(best_item_landsat.item_obj.assets[band].href).rio.clip_box(\n",
    "            minx=minx,\n",
    "            miny=miny,\n",
    "            maxx=maxx,\n",
    "            maxy=maxy,\n",
    "            crs=\"EPSG:4326\",\n",
    "    )\n",
    "    \n",
    "    # Rescale to 0-255\n",
    "    min_of_band = bands[band].min(dim=['x', 'y']).values\n",
    "    max_of_band = bands[band].max(dim=['x', 'y']).values\n",
    "    range_of_band = max_of_band - min_of_band\n",
    "    bands_rescaled[band] = bands[band].copy()\n",
    "    bands_rescaled[band].values = np.around(np.array([255]) * (bands[band].values - min_of_band) / range_of_band).astype('int')"
   ]
  },
  {
   "cell_type": "code",
   "execution_count": null,
   "metadata": {},
   "outputs": [],
   "source": [
    "bands_rescaled['red'].values"
   ]
  },
  {
   "cell_type": "markdown",
   "metadata": {
    "tags": []
   },
   "source": [
    "Now let's combine the red, green, and blue bands to create the equivalent of the Sentinel-2 visual band. Now, we don't really *need* to do this for purposes of developing features for machine learning models, but it seems like a useful thing to know how to do and will let us directly compare the Landsat and Sentinel-2 images. The major steps we used are:\n",
    "\n",
    "- create a list containing three `DataArray`s corresponding to the rescaled red, green and blue bands\n",
    "- before adding each array to the list, add a band identifier as a coordinate\n",
    "- combine the three `DataArray`s using `xarray.combine`"
   ]
  },
  {
   "cell_type": "code",
   "execution_count": null,
   "metadata": {},
   "outputs": [],
   "source": [
    "for band in ['red', 'green', 'blue']:\n",
    "    band_name = np.array([band])\n",
    "    bands_rescaled[band] = bands_rescaled[band].assign_coords(band_name = (\"band\", band_name))\n",
    "    # keep the unscaled version around for comparison\n",
    "    bands[band] = bands[band].assign_coords(band_name = (\"band\", band_name))\n",
    "    \n",
    "bands_list = [val for key, val in bands_rescaled.items()]\n",
    "bands_list\n",
    "\n",
    "bands_list_unscaled = [val for key, val in bands.items()]"
   ]
  },
  {
   "cell_type": "markdown",
   "metadata": {},
   "source": [
    "Combine the arrays into a single `DataArray`. "
   ]
  },
  {
   "cell_type": "code",
   "execution_count": null,
   "metadata": {},
   "outputs": [],
   "source": [
    "import xarray as xr"
   ]
  },
  {
   "cell_type": "code",
   "execution_count": null,
   "metadata": {},
   "outputs": [],
   "source": [
    "bands_combined = xr.concat(bands_list, 'band')\n",
    "bands_combined_unscaled = xr.concat(bands_list_unscaled, 'band')"
   ]
  },
  {
   "cell_type": "markdown",
   "metadata": {},
   "source": [
    "Now we've got a single array we can crop and we have already normalized it."
   ]
  },
  {
   "cell_type": "code",
   "execution_count": null,
   "metadata": {},
   "outputs": [],
   "source": [
    "def crop_landsat_image(combined_xr, bounding_box):\n",
    "    \"\"\"\n",
    "    Given a STAC item from Landsat and a bounding box tuple in the format\n",
    "    (minx, miny, maxx, maxy), return a cropped portion of the item's visual\n",
    "    imagery in the bounding box.\n",
    "\n",
    "    Returns the image as a numpy array with dimensions (color band, height, width)\n",
    "    \"\"\"\n",
    "    (minx, miny, maxx, maxy) = bounding_box\n",
    "\n",
    "    #image = odc.stac.stac_load(\n",
    "    #    [pc.sign(item)], bands=[\"red\", \"green\", \"blue\"], bbox=[minx, miny, maxx, maxy]\n",
    "    #).isel(time=0)\n",
    "    #image_array = image[[\"red\", \"green\", \"blue\"]].to_array().to_numpy()\n",
    "    \n",
    "    cropped_image = combined_xr.rio.clip_box(\n",
    "        minx=minx,\n",
    "        miny=miny,\n",
    "        maxx=maxx,\n",
    "        maxy=maxy,\n",
    "        crs=\"EPSG:4326\",\n",
    "    )\n",
    "\n",
    "    return cropped_image\n",
    "\n"
   ]
  },
  {
   "cell_type": "code",
   "execution_count": null,
   "metadata": {},
   "outputs": [],
   "source": [
    "landsat_image_array"
   ]
  },
  {
   "cell_type": "code",
   "execution_count": null,
   "metadata": {},
   "outputs": [],
   "source": [
    "# we'll use the same cropped area as above\n",
    "landsat_image_array = crop_landsat_image(bands_combined, bbox)\n",
    "landsat_image_array_unscaled = crop_landsat_image(bands_combined_unscaled, bbox)\n",
    "# Show the red band\n",
    "landsat_image_array[0]"
   ]
  },
  {
   "cell_type": "code",
   "execution_count": null,
   "metadata": {},
   "outputs": [],
   "source": [
    "plt.imshow(np.transpose(landsat_image_array, axes=[1, 2, 0]))"
   ]
  },
  {
   "cell_type": "markdown",
   "metadata": {},
   "source": [
    "I should probably revisit trying to get odc-stac and opencv installed in my conda virtual environment, but it was time well spent doing this manually - learned some xarray things that will be useful in the future."
   ]
  },
  {
   "cell_type": "markdown",
   "metadata": {},
   "source": [
    "## odc-stac update\n",
    "\n",
    "I was reading another [official tutorial on reading Landsat data from MPC](https://github.com/microsoft/PlanetaryComputerExamples/blob/main/datasets/landsat-c2/landsat-c2-example.ipynb) and I saw how handy it was going to be to have odc-stac installed. And, I realized that my previous issue with installing [odc-stac](https://odc-stac.readthedocs.io/en/latest/) was almost certainly caused by some bad choices by me in mixing pip and conda installs. Just added odc-stac to my conda env (see Part 1) with:\n",
    "\n",
    "    conda install -c conda-forge odc-stac\n",
    "    \n",
    "and everything still seems to be working just fine. Now, we could simply use the code (with a few changes) from the original tutorial to load the raster file and crop the image. I added in the normalizing code I wrote earlier in this tutorial. I'm also folding in some code from the tutorial I just mentioned that adds some additional bands to the mix."
   ]
  },
  {
   "cell_type": "code",
   "execution_count": null,
   "metadata": {},
   "outputs": [],
   "source": [
    "import odc.stac\n",
    "def crop_landsat_image_odcstac(item, bounding_box, normalize=False):\n",
    "    \"\"\"\n",
    "    Given a STAC item from Landsat and a bounding box tuple in the format\n",
    "    (minx, miny, maxx, maxy), return a cropped portion of the item's visual\n",
    "    imagery in the bounding box.\n",
    "\n",
    "    Returns the image as an xarray\n",
    "    \"\"\"\n",
    "    (minx, miny, maxx, maxy) = bounding_box\n",
    "\n",
    "    bands_of_interest = [\"nir08\", \"red\", \"green\", \"blue\", \"qa_pixel\", \"lwir11\"]\n",
    "    image = odc.stac.stac_load(\n",
    "        [pc.sign(item)], bands=bands_of_interest, bbox=[minx, miny, maxx, maxy]\n",
    "    ).isel(time=0)\n",
    "    \n",
    "    if normalize:\n",
    "        for band in ['red', 'green', 'blue']:\n",
    "            min_of_band = image[band].min(dim=['x', 'y']).values\n",
    "            max_of_band = image[band].max(dim=['x', 'y']).values\n",
    "            range_of_band = max_of_band - min_of_band\n",
    "            image[band].values =  np.around(np.array([255]) * (image[band].values - min_of_band) / range_of_band).astype('int')   \n",
    "\n",
    "    return image"
   ]
  },
  {
   "cell_type": "markdown",
   "metadata": {},
   "source": [
    "To plot the unscaled image, we need to include the `robust=True` argument, else matplotlib will ignore values outside of 0-255.\n",
    "\n",
    "See [this page in the matplotlib docs](https://matplotlib.org/stable/api/_as_gen/matplotlib.pyplot.imshow.html#matplotlib.pyplot.imshow)."
   ]
  },
  {
   "cell_type": "code",
   "execution_count": null,
   "metadata": {},
   "outputs": [],
   "source": [
    "# we'll use the same cropped area as above\n",
    "landsat_image_array_odcstac = crop_landsat_image_odcstac(best_item_landsat.item_obj, bbox, normalize=False)\n",
    "fig, ax = plt.subplots(figsize=(5, 5))\n",
    "landsat_image_array_odcstac[[\"red\", \"green\", \"blue\"]].to_array().plot.imshow(robust=True, ax=ax)"
   ]
  },
  {
   "cell_type": "markdown",
   "metadata": {},
   "source": [
    "Here's the normalized version."
   ]
  },
  {
   "cell_type": "code",
   "execution_count": null,
   "metadata": {},
   "outputs": [],
   "source": [
    "# we'll use the same cropped area as above\n",
    "landsat_image_array_odcstac = crop_landsat_image_odcstac(best_item_landsat.item_obj, bbox, normalize=True)\n",
    "fig, ax = plt.subplots(figsize=(5, 5))\n",
    "landsat_image_array_odcstac[[\"red\", \"green\", \"blue\"]].to_array().plot.imshow(ax=ax)"
   ]
  },
  {
   "cell_type": "markdown",
   "metadata": {},
   "source": [
    "## NDVI and Surface Temperature"
   ]
  },
  {
   "cell_type": "markdown",
   "metadata": {},
   "source": [
    "Finally, since we added in some additional bands, we can do things such as computing NDVI and displaying that. From the MPC tutorial mentioned above:\n",
    "\n",
    "> Landsat has several bands, and with them we can go beyond rendering natural color imagery; for example, the following code computes a [Normalized Difference Vegetation Index (NDVI)](https://en.wikipedia.org/wiki/Normalized_difference_vegetation_index) using the near-infrared and red bands. Note that we convert the red and near infrared bands to a data type that can contain negative values; if this is not done, negative NDVI values will be incorrectly stored."
   ]
  },
  {
   "cell_type": "code",
   "execution_count": null,
   "metadata": {},
   "outputs": [],
   "source": [
    "red = landsat_image_array_odcstac[\"red\"].astype(\"float\")\n",
    "nir = landsat_image_array_odcstac[\"nir08\"].astype(\"float\")\n",
    "ndvi = (nir - red) / (nir + red)\n",
    "\n",
    "fig, ax = plt.subplots(figsize=(7, 5))\n",
    "ndvi.plot.imshow(ax=ax, cmap=\"viridis\")\n",
    "ax.set_title(\"NDVI, Thunder Bay (MI)\");"
   ]
  },
  {
   "cell_type": "markdown",
   "metadata": {},
   "source": [
    "What if we wanted to add `ndvi` to the xarray as a new band?"
   ]
  },
  {
   "cell_type": "code",
   "execution_count": null,
   "metadata": {},
   "outputs": [],
   "source": [
    "landsat_image_array_odcstac[\"ndvi\"] = ndvi\n",
    "landsat_image_array_odcstac"
   ]
  },
  {
   "cell_type": "markdown",
   "metadata": {},
   "source": [
    "Finally, let's plot surface temperature (available via the `lwir11` key). According to the MPC tutorial:\n",
    "\n",
    "> The raw values are rescaled, so you should scale and offset the data before interpreting it. Use the metadata in the asset's raster_bands to find the scale and offset values:"
   ]
  },
  {
   "cell_type": "code",
   "execution_count": null,
   "metadata": {},
   "outputs": [],
   "source": []
  },
  {
   "cell_type": "code",
   "execution_count": null,
   "metadata": {},
   "outputs": [],
   "source": [
    "band_info = best_item_landsat.item_obj.assets[\"lwir11\"].extra_fields[\"raster:bands\"][0]\n",
    "band_info"
   ]
  },
  {
   "cell_type": "markdown",
   "metadata": {},
   "source": [
    "To go from raw values to Kelvin we do this (again, just following the MPC tutorial):"
   ]
  },
  {
   "cell_type": "code",
   "execution_count": null,
   "metadata": {},
   "outputs": [],
   "source": [
    "temperature = landsat_image_array_odcstac[\"lwir11\"].astype(float)\n",
    "temperature *= band_info[\"scale\"]\n",
    "temperature += band_info[\"offset\"]\n",
    "temperature[:5, :5]"
   ]
  },
  {
   "cell_type": "code",
   "execution_count": null,
   "metadata": {},
   "outputs": [],
   "source": [
    "celsius = temperature - 273.15\n",
    "celsius.plot(cmap=\"magma\", size=5);"
   ]
  },
  {
   "cell_type": "markdown",
   "metadata": {},
   "source": [
    "# A good place to stop for part 3\n",
    "\n",
    "In this part we:\n",
    "\n",
    "- Used the STAC API to search for images of interest in MPC based on a target location and target date,\n",
    "- Used GeoPandas to manage the process of filtering out and finding the best image\n",
    "- Used xarray to manually rescale Landsat bands to 0-255 scale.\n",
    "- Got odc-stac installed and updated Landsat cropping procedure\n",
    "- Plotted NDVI and Surface Temperature\n",
    "\n",
    "In the next part, we'll focus on converting our imagery data to features that can be used in a machine learning model."
   ]
  },
  {
   "cell_type": "code",
   "execution_count": null,
   "metadata": {},
   "outputs": [],
   "source": []
  }
 ],
 "metadata": {
  "kernelspec": {
   "display_name": "Python [conda env:eogeo_310]",
   "language": "python",
   "name": "conda-env-eogeo_310-py"
  },
  "language_info": {
   "codemirror_mode": {
    "name": "ipython",
    "version": 3
   },
   "file_extension": ".py",
   "mimetype": "text/x-python",
   "name": "python",
   "nbconvert_exporter": "python",
   "pygments_lexer": "ipython3",
   "version": "3.10.13"
  },
  "toc-autonumbering": false
 },
 "nbformat": 4,
 "nbformat_minor": 4
}
