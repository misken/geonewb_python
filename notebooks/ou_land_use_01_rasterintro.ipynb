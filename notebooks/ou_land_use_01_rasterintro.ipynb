{
 "cells": [
  {
   "cell_type": "markdown",
   "id": "bbe56c88-40c6-4124-b542-dcbd56ce15d2",
   "metadata": {},
   "source": [
    "# Case Study: Land use analysis of OU campus\n",
    "\n",
    "What if we did an analysis of land use on the OU campus?\n",
    "\n",
    "Could get both RGB imagery as well as computing NDVI. The Carpentries course,\n",
    "https://carpentries-incubator.github.io/geospatial-python/09-raster-calculations.html, does\n",
    "NDVI computations and then creates a classification scheme to create a discrete raster from\n",
    "the continuous NDVI raster. All quite relevant. Sections before this one do typical \n",
    "raster and vector operations such as cropping, reprojecting and matching different layers.\n",
    "\n",
    "- green space\n",
    "- golf courses\n",
    "- roads\n",
    "- buildings\n",
    "- parking lots\n",
    "- sports facilities\n",
    "- sidewalks\n",
    "\n",
    "Could look at how things have changed over time.\n",
    "\n",
    "Would require combo of raster and vector data.\n",
    "\n",
    "- single and multi-band rasters\n",
    "- missing data in rasters\n",
    "- cropping rasters\n",
    "\n",
    "Where to get the vector data? What kind of vector data exists for the OU campus?\n",
    "\n",
    "How to do the land use analysis?"
   ]
  },
  {
   "cell_type": "markdown",
   "id": "616eafb1-6deb-4c8e-a3cd-b2cb0a5fbbfd",
   "metadata": {
    "tags": []
   },
   "source": [
    "# National Land Cover Database\n",
    "\n",
    "> The National Land Cover Database (NLCD) provides nationwide data on land cover and land cover change at a 30m resolution with a 16-class legend based on a modified Anderson Level II classification system. NLCD 2021 represents the latest evolution of NLCD land cover products focused on providing innovative land cover and land cover change data for the Nation. NLCD 2021 offers 9 integrated epochs of land cover for years 2001, 2004, 2006, 2008, 2011, 2013, 2016, 2019, and 2021. chs (2001 – 2021) and are directly comparable across the full time series and suitable for multi-temporal analysis. The NLCD 2021 release is update based, so the Land Cover and Impervious Surface products released in 2019 are unchanged and can be used directly with NLCD 2021. Science products and the change index will need to be reacquired to contain the additional 2021 change. Specific map products include:Developed classes in these years are directly derived from percent developed impervious surface and include a descriptor label that identifies the type of each impervious surface pixel. The NLCD Land Cover change index combines information from all years of land cover change and provides a simple and comprehensive way to visualize change from all 9 dates of land cover in a single layer. The change index was designed to assist NLCD users to understand complex land cover change with a single product. NLCD 2021 does not yet contain updated products for Alaska, Hawaii and Puerto Rico. "
   ]
  },
  {
   "cell_type": "markdown",
   "id": "06778f24-ffe4-4767-a5ca-893ea9e0dcd0",
   "metadata": {},
   "source": [
    "There's a bunch of things that need to be done in order be able to easily use this data to look at the land use on our campus. But, we'll skip those details for now and just work with one GeoTIFF file that I've already created for us. This file is named **ou_land_cover_2021.tif** and you can find it in the **data** subfolder. As you can tell from the filename, this data is for 2021, the latest data available in the NLCD.\n",
    "\n",
    "This is raster data, so we expect that there's going to be arrays involved. Also, tif files contain spatial metadata that will be extremely important. So, how do we read and explore this file? You might have guessed that numpy would be involved. It is, in some ways, but there are libraries specifically designed to work with multidimensional raster data. The two we will use are xarray and rioxarray."
   ]
  },
  {
   "cell_type": "markdown",
   "id": "ebdeeca6-8641-418a-8271-dc3431f4229a",
   "metadata": {},
   "source": [
    "### Question\n",
    "\n",
    "Here's a question."
   ]
  },
  {
   "cell_type": "markdown",
   "id": "9a69fcec-6c78-410f-9619-00b8eb05b4ba",
   "metadata": {},
   "source": [
    "### Answer"
   ]
  },
  {
   "cell_type": "code",
   "execution_count": 1,
   "id": "4b757b8c-1364-4385-ab33-ef1aa2076450",
   "metadata": {},
   "outputs": [
    {
     "name": "stdout",
     "output_type": "stream",
     "text": [
      "here's the answer\n"
     ]
    }
   ],
   "source": [
    "print(\"here's the answer\")"
   ]
  },
  {
   "cell_type": "markdown",
   "id": "8a57cfba-fc4c-4f25-ba74-248c88b2c667",
   "metadata": {
    "tags": []
   },
   "source": [
    "## xarray and rioxarray\n",
    "\n",
    "### [xarray](https://docs.xarray.dev/en/stable/) - labelled multidimension arrays\n",
    "\n",
    "Xarray builds on top of NumPy N-d arrays and adds ability to create and work with labels for the dimensions. \n",
    "\n",
    "> Xarray makes working with labelled multi-dimensional arrays in Python simple, efficient, and fun!\n",
    "\n",
    "The two main data structures are `DataArray` (a N-d generalization of a `pandas.Series`) and `DataSet` (an N-d generalization of a `pandas.DataFrame`). The [Overview: Why xarray?](https://docs.xarray.dev/en/stable/getting-started-guide/why-xarray.html) page has a nice level of detail on the case for xarray and its link to geospatial analysis.\n",
    "\n",
    "### [rioxarray](https://corteva.github.io/rioxarray/html/readme.html) - read raster data into xarray objects\n",
    "\n",
    "The rioxarray package extends the xarray package to facilitate reading raster data into xarray objects. The actual reading of the raster file is done using another Python package known as [rasterio](https://rasterio.readthedocs.io/en/latest/). From the rasterio docs:\n",
    "\n",
    "> Geographic information systems use GeoTIFF and other formats to organize and store gridded raster datasets such as satellite imagery and terrain models. Rasterio reads and writes these formats and provides a Python API based on Numpy N-dimensional arrays and GeoJSON.\n",
    "\n",
    "> Before Rasterio there was one Python option for accessing the many different kind of raster data files used in the GIS field: the Python bindings distributed with the Geospatial Data Abstraction Library, GDAL. These bindings extend Python, but provide little abstraction for GDAL’s C API. This means that Python programs using them tend to read and run like C programs. \n",
    "\n",
    "We will learn more about GDAL later in the module.\n"
   ]
  },
  {
   "cell_type": "markdown",
   "id": "b51f96a2-0cfa-4147-98fc-65451d62a2e9",
   "metadata": {},
   "source": [
    "## Reading a GeoTIFF file"
   ]
  },
  {
   "cell_type": "code",
   "execution_count": 2,
   "id": "fe8082e9-e4f0-4aab-bd84-2d2c32eb783e",
   "metadata": {},
   "outputs": [],
   "source": [
    "# Load libraries\n",
    "from pathlib import Path\n",
    "import matplotlib.pyplot as plt\n",
    "import numpy as np\n",
    "import pandas as pd"
   ]
  },
  {
   "cell_type": "markdown",
   "id": "36134419-1c78-4b6d-b421-22bf40ddadb0",
   "metadata": {},
   "source": [
    "We also need to import rioxarray."
   ]
  },
  {
   "cell_type": "code",
   "execution_count": 3,
   "id": "fd263508-bc6b-41fb-a5c8-cf8b5f96b860",
   "metadata": {},
   "outputs": [],
   "source": [
    "import rioxarray"
   ]
  },
  {
   "cell_type": "markdown",
   "id": "d26069d3-7a28-43da-9103-dd8d57e6107b",
   "metadata": {},
   "source": [
    "Use rioxarray's [open_rasterio()](https://corteva.github.io/rioxarray/html/rioxarray.html) method to read the TIFF file into an xarray `DataArray`. This function has numerous optional input arguments, but for our file we can simply pass in the path to the file and leave everything else at their default values."
   ]
  },
  {
   "cell_type": "code",
   "execution_count": 4,
   "id": "6055f57b-cd3e-4bed-927e-969ed33e1e65",
   "metadata": {},
   "outputs": [
    {
     "data": {
      "text/html": [
       "<div><svg style=\"position: absolute; width: 0; height: 0; overflow: hidden\">\n",
       "<defs>\n",
       "<symbol id=\"icon-database\" viewBox=\"0 0 32 32\">\n",
       "<path d=\"M16 0c-8.837 0-16 2.239-16 5v4c0 2.761 7.163 5 16 5s16-2.239 16-5v-4c0-2.761-7.163-5-16-5z\"></path>\n",
       "<path d=\"M16 17c-8.837 0-16-2.239-16-5v6c0 2.761 7.163 5 16 5s16-2.239 16-5v-6c0 2.761-7.163 5-16 5z\"></path>\n",
       "<path d=\"M16 26c-8.837 0-16-2.239-16-5v6c0 2.761 7.163 5 16 5s16-2.239 16-5v-6c0 2.761-7.163 5-16 5z\"></path>\n",
       "</symbol>\n",
       "<symbol id=\"icon-file-text2\" viewBox=\"0 0 32 32\">\n",
       "<path d=\"M28.681 7.159c-0.694-0.947-1.662-2.053-2.724-3.116s-2.169-2.030-3.116-2.724c-1.612-1.182-2.393-1.319-2.841-1.319h-15.5c-1.378 0-2.5 1.121-2.5 2.5v27c0 1.378 1.122 2.5 2.5 2.5h23c1.378 0 2.5-1.122 2.5-2.5v-19.5c0-0.448-0.137-1.23-1.319-2.841zM24.543 5.457c0.959 0.959 1.712 1.825 2.268 2.543h-4.811v-4.811c0.718 0.556 1.584 1.309 2.543 2.268zM28 29.5c0 0.271-0.229 0.5-0.5 0.5h-23c-0.271 0-0.5-0.229-0.5-0.5v-27c0-0.271 0.229-0.5 0.5-0.5 0 0 15.499-0 15.5 0v7c0 0.552 0.448 1 1 1h7v19.5z\"></path>\n",
       "<path d=\"M23 26h-14c-0.552 0-1-0.448-1-1s0.448-1 1-1h14c0.552 0 1 0.448 1 1s-0.448 1-1 1z\"></path>\n",
       "<path d=\"M23 22h-14c-0.552 0-1-0.448-1-1s0.448-1 1-1h14c0.552 0 1 0.448 1 1s-0.448 1-1 1z\"></path>\n",
       "<path d=\"M23 18h-14c-0.552 0-1-0.448-1-1s0.448-1 1-1h14c0.552 0 1 0.448 1 1s-0.448 1-1 1z\"></path>\n",
       "</symbol>\n",
       "</defs>\n",
       "</svg>\n",
       "<style>/* CSS stylesheet for displaying xarray objects in jupyterlab.\n",
       " *\n",
       " */\n",
       "\n",
       ":root {\n",
       "  --xr-font-color0: var(--jp-content-font-color0, rgba(0, 0, 0, 1));\n",
       "  --xr-font-color2: var(--jp-content-font-color2, rgba(0, 0, 0, 0.54));\n",
       "  --xr-font-color3: var(--jp-content-font-color3, rgba(0, 0, 0, 0.38));\n",
       "  --xr-border-color: var(--jp-border-color2, #e0e0e0);\n",
       "  --xr-disabled-color: var(--jp-layout-color3, #bdbdbd);\n",
       "  --xr-background-color: var(--jp-layout-color0, white);\n",
       "  --xr-background-color-row-even: var(--jp-layout-color1, white);\n",
       "  --xr-background-color-row-odd: var(--jp-layout-color2, #eeeeee);\n",
       "}\n",
       "\n",
       "html[theme=dark],\n",
       "body[data-theme=dark],\n",
       "body.vscode-dark {\n",
       "  --xr-font-color0: rgba(255, 255, 255, 1);\n",
       "  --xr-font-color2: rgba(255, 255, 255, 0.54);\n",
       "  --xr-font-color3: rgba(255, 255, 255, 0.38);\n",
       "  --xr-border-color: #1F1F1F;\n",
       "  --xr-disabled-color: #515151;\n",
       "  --xr-background-color: #111111;\n",
       "  --xr-background-color-row-even: #111111;\n",
       "  --xr-background-color-row-odd: #313131;\n",
       "}\n",
       "\n",
       ".xr-wrap {\n",
       "  display: block !important;\n",
       "  min-width: 300px;\n",
       "  max-width: 700px;\n",
       "}\n",
       "\n",
       ".xr-text-repr-fallback {\n",
       "  /* fallback to plain text repr when CSS is not injected (untrusted notebook) */\n",
       "  display: none;\n",
       "}\n",
       "\n",
       ".xr-header {\n",
       "  padding-top: 6px;\n",
       "  padding-bottom: 6px;\n",
       "  margin-bottom: 4px;\n",
       "  border-bottom: solid 1px var(--xr-border-color);\n",
       "}\n",
       "\n",
       ".xr-header > div,\n",
       ".xr-header > ul {\n",
       "  display: inline;\n",
       "  margin-top: 0;\n",
       "  margin-bottom: 0;\n",
       "}\n",
       "\n",
       ".xr-obj-type,\n",
       ".xr-array-name {\n",
       "  margin-left: 2px;\n",
       "  margin-right: 10px;\n",
       "}\n",
       "\n",
       ".xr-obj-type {\n",
       "  color: var(--xr-font-color2);\n",
       "}\n",
       "\n",
       ".xr-sections {\n",
       "  padding-left: 0 !important;\n",
       "  display: grid;\n",
       "  grid-template-columns: 150px auto auto 1fr 20px 20px;\n",
       "}\n",
       "\n",
       ".xr-section-item {\n",
       "  display: contents;\n",
       "}\n",
       "\n",
       ".xr-section-item input {\n",
       "  display: none;\n",
       "}\n",
       "\n",
       ".xr-section-item input + label {\n",
       "  color: var(--xr-disabled-color);\n",
       "}\n",
       "\n",
       ".xr-section-item input:enabled + label {\n",
       "  cursor: pointer;\n",
       "  color: var(--xr-font-color2);\n",
       "}\n",
       "\n",
       ".xr-section-item input:enabled + label:hover {\n",
       "  color: var(--xr-font-color0);\n",
       "}\n",
       "\n",
       ".xr-section-summary {\n",
       "  grid-column: 1;\n",
       "  color: var(--xr-font-color2);\n",
       "  font-weight: 500;\n",
       "}\n",
       "\n",
       ".xr-section-summary > span {\n",
       "  display: inline-block;\n",
       "  padding-left: 0.5em;\n",
       "}\n",
       "\n",
       ".xr-section-summary-in:disabled + label {\n",
       "  color: var(--xr-font-color2);\n",
       "}\n",
       "\n",
       ".xr-section-summary-in + label:before {\n",
       "  display: inline-block;\n",
       "  content: '►';\n",
       "  font-size: 11px;\n",
       "  width: 15px;\n",
       "  text-align: center;\n",
       "}\n",
       "\n",
       ".xr-section-summary-in:disabled + label:before {\n",
       "  color: var(--xr-disabled-color);\n",
       "}\n",
       "\n",
       ".xr-section-summary-in:checked + label:before {\n",
       "  content: '▼';\n",
       "}\n",
       "\n",
       ".xr-section-summary-in:checked + label > span {\n",
       "  display: none;\n",
       "}\n",
       "\n",
       ".xr-section-summary,\n",
       ".xr-section-inline-details {\n",
       "  padding-top: 4px;\n",
       "  padding-bottom: 4px;\n",
       "}\n",
       "\n",
       ".xr-section-inline-details {\n",
       "  grid-column: 2 / -1;\n",
       "}\n",
       "\n",
       ".xr-section-details {\n",
       "  display: none;\n",
       "  grid-column: 1 / -1;\n",
       "  margin-bottom: 5px;\n",
       "}\n",
       "\n",
       ".xr-section-summary-in:checked ~ .xr-section-details {\n",
       "  display: contents;\n",
       "}\n",
       "\n",
       ".xr-array-wrap {\n",
       "  grid-column: 1 / -1;\n",
       "  display: grid;\n",
       "  grid-template-columns: 20px auto;\n",
       "}\n",
       "\n",
       ".xr-array-wrap > label {\n",
       "  grid-column: 1;\n",
       "  vertical-align: top;\n",
       "}\n",
       "\n",
       ".xr-preview {\n",
       "  color: var(--xr-font-color3);\n",
       "}\n",
       "\n",
       ".xr-array-preview,\n",
       ".xr-array-data {\n",
       "  padding: 0 5px !important;\n",
       "  grid-column: 2;\n",
       "}\n",
       "\n",
       ".xr-array-data,\n",
       ".xr-array-in:checked ~ .xr-array-preview {\n",
       "  display: none;\n",
       "}\n",
       "\n",
       ".xr-array-in:checked ~ .xr-array-data,\n",
       ".xr-array-preview {\n",
       "  display: inline-block;\n",
       "}\n",
       "\n",
       ".xr-dim-list {\n",
       "  display: inline-block !important;\n",
       "  list-style: none;\n",
       "  padding: 0 !important;\n",
       "  margin: 0;\n",
       "}\n",
       "\n",
       ".xr-dim-list li {\n",
       "  display: inline-block;\n",
       "  padding: 0;\n",
       "  margin: 0;\n",
       "}\n",
       "\n",
       ".xr-dim-list:before {\n",
       "  content: '(';\n",
       "}\n",
       "\n",
       ".xr-dim-list:after {\n",
       "  content: ')';\n",
       "}\n",
       "\n",
       ".xr-dim-list li:not(:last-child):after {\n",
       "  content: ',';\n",
       "  padding-right: 5px;\n",
       "}\n",
       "\n",
       ".xr-has-index {\n",
       "  font-weight: bold;\n",
       "}\n",
       "\n",
       ".xr-var-list,\n",
       ".xr-var-item {\n",
       "  display: contents;\n",
       "}\n",
       "\n",
       ".xr-var-item > div,\n",
       ".xr-var-item label,\n",
       ".xr-var-item > .xr-var-name span {\n",
       "  background-color: var(--xr-background-color-row-even);\n",
       "  margin-bottom: 0;\n",
       "}\n",
       "\n",
       ".xr-var-item > .xr-var-name:hover span {\n",
       "  padding-right: 5px;\n",
       "}\n",
       "\n",
       ".xr-var-list > li:nth-child(odd) > div,\n",
       ".xr-var-list > li:nth-child(odd) > label,\n",
       ".xr-var-list > li:nth-child(odd) > .xr-var-name span {\n",
       "  background-color: var(--xr-background-color-row-odd);\n",
       "}\n",
       "\n",
       ".xr-var-name {\n",
       "  grid-column: 1;\n",
       "}\n",
       "\n",
       ".xr-var-dims {\n",
       "  grid-column: 2;\n",
       "}\n",
       "\n",
       ".xr-var-dtype {\n",
       "  grid-column: 3;\n",
       "  text-align: right;\n",
       "  color: var(--xr-font-color2);\n",
       "}\n",
       "\n",
       ".xr-var-preview {\n",
       "  grid-column: 4;\n",
       "}\n",
       "\n",
       ".xr-index-preview {\n",
       "  grid-column: 2 / 5;\n",
       "  color: var(--xr-font-color2);\n",
       "}\n",
       "\n",
       ".xr-var-name,\n",
       ".xr-var-dims,\n",
       ".xr-var-dtype,\n",
       ".xr-preview,\n",
       ".xr-attrs dt {\n",
       "  white-space: nowrap;\n",
       "  overflow: hidden;\n",
       "  text-overflow: ellipsis;\n",
       "  padding-right: 10px;\n",
       "}\n",
       "\n",
       ".xr-var-name:hover,\n",
       ".xr-var-dims:hover,\n",
       ".xr-var-dtype:hover,\n",
       ".xr-attrs dt:hover {\n",
       "  overflow: visible;\n",
       "  width: auto;\n",
       "  z-index: 1;\n",
       "}\n",
       "\n",
       ".xr-var-attrs,\n",
       ".xr-var-data,\n",
       ".xr-index-data {\n",
       "  display: none;\n",
       "  background-color: var(--xr-background-color) !important;\n",
       "  padding-bottom: 5px !important;\n",
       "}\n",
       "\n",
       ".xr-var-attrs-in:checked ~ .xr-var-attrs,\n",
       ".xr-var-data-in:checked ~ .xr-var-data,\n",
       ".xr-index-data-in:checked ~ .xr-index-data {\n",
       "  display: block;\n",
       "}\n",
       "\n",
       ".xr-var-data > table {\n",
       "  float: right;\n",
       "}\n",
       "\n",
       ".xr-var-name span,\n",
       ".xr-var-data,\n",
       ".xr-index-name div,\n",
       ".xr-index-data,\n",
       ".xr-attrs {\n",
       "  padding-left: 25px !important;\n",
       "}\n",
       "\n",
       ".xr-attrs,\n",
       ".xr-var-attrs,\n",
       ".xr-var-data,\n",
       ".xr-index-data {\n",
       "  grid-column: 1 / -1;\n",
       "}\n",
       "\n",
       "dl.xr-attrs {\n",
       "  padding: 0;\n",
       "  margin: 0;\n",
       "  display: grid;\n",
       "  grid-template-columns: 125px auto;\n",
       "}\n",
       "\n",
       ".xr-attrs dt,\n",
       ".xr-attrs dd {\n",
       "  padding: 0;\n",
       "  margin: 0;\n",
       "  float: left;\n",
       "  padding-right: 10px;\n",
       "  width: auto;\n",
       "}\n",
       "\n",
       ".xr-attrs dt {\n",
       "  font-weight: normal;\n",
       "  grid-column: 1;\n",
       "}\n",
       "\n",
       ".xr-attrs dt:hover span {\n",
       "  display: inline-block;\n",
       "  background: var(--xr-background-color);\n",
       "  padding-right: 10px;\n",
       "}\n",
       "\n",
       ".xr-attrs dd {\n",
       "  grid-column: 2;\n",
       "  white-space: pre-wrap;\n",
       "  word-break: break-all;\n",
       "}\n",
       "\n",
       ".xr-icon-database,\n",
       ".xr-icon-file-text2,\n",
       ".xr-no-icon {\n",
       "  display: inline-block;\n",
       "  vertical-align: middle;\n",
       "  width: 1em;\n",
       "  height: 1.5em !important;\n",
       "  stroke-width: 0;\n",
       "  stroke: currentColor;\n",
       "  fill: currentColor;\n",
       "}\n",
       "</style><pre class='xr-text-repr-fallback'>&lt;xarray.DataArray (band: 1, y: 166, x: 375)&gt;\n",
       "[62250 values with dtype=uint8]\n",
       "Coordinates:\n",
       "  * band         (band) int64 1\n",
       "  * x            (x) float64 1.034e+06 1.034e+06 ... 1.045e+06 1.045e+06\n",
       "  * y            (y) float64 2.258e+06 2.258e+06 ... 2.253e+06 2.253e+06\n",
       "    spatial_ref  int64 0\n",
       "Attributes:\n",
       "    AREA_OR_POINT:        Area\n",
       "    LAYER_TYPE:           thematic\n",
       "    OVERVIEWS_ALGORITHM:  IMAGINE Nearest Neighbor Resampling\n",
       "    scale_factor:         1.0\n",
       "    add_offset:           0.0\n",
       "    long_name:            Layer_1</pre><div class='xr-wrap' style='display:none'><div class='xr-header'><div class='xr-obj-type'>xarray.DataArray</div><div class='xr-array-name'></div><ul class='xr-dim-list'><li><span class='xr-has-index'>band</span>: 1</li><li><span class='xr-has-index'>y</span>: 166</li><li><span class='xr-has-index'>x</span>: 375</li></ul></div><ul class='xr-sections'><li class='xr-section-item'><div class='xr-array-wrap'><input id='section-74395837-dfd0-49be-a612-2caf9a64cd9d' class='xr-array-in' type='checkbox' checked><label for='section-74395837-dfd0-49be-a612-2caf9a64cd9d' title='Show/hide data repr'><svg class='icon xr-icon-database'><use xlink:href='#icon-database'></use></svg></label><div class='xr-array-preview xr-preview'><span>...</span></div><div class='xr-array-data'><pre>[62250 values with dtype=uint8]</pre></div></div></li><li class='xr-section-item'><input id='section-6e24568b-b77d-494b-9c68-da78211b2a11' class='xr-section-summary-in' type='checkbox'  checked><label for='section-6e24568b-b77d-494b-9c68-da78211b2a11' class='xr-section-summary' >Coordinates: <span>(4)</span></label><div class='xr-section-inline-details'></div><div class='xr-section-details'><ul class='xr-var-list'><li class='xr-var-item'><div class='xr-var-name'><span class='xr-has-index'>band</span></div><div class='xr-var-dims'>(band)</div><div class='xr-var-dtype'>int64</div><div class='xr-var-preview xr-preview'>1</div><input id='attrs-4f3f74c1-a53a-48da-bbcd-af1ef157422b' class='xr-var-attrs-in' type='checkbox' disabled><label for='attrs-4f3f74c1-a53a-48da-bbcd-af1ef157422b' title='Show/Hide attributes'><svg class='icon xr-icon-file-text2'><use xlink:href='#icon-file-text2'></use></svg></label><input id='data-df3b3ee0-3013-4992-9a05-d0eaa530cfcc' class='xr-var-data-in' type='checkbox'><label for='data-df3b3ee0-3013-4992-9a05-d0eaa530cfcc' title='Show/Hide data repr'><svg class='icon xr-icon-database'><use xlink:href='#icon-database'></use></svg></label><div class='xr-var-attrs'><dl class='xr-attrs'></dl></div><div class='xr-var-data'><pre>array([1])</pre></div></li><li class='xr-var-item'><div class='xr-var-name'><span class='xr-has-index'>x</span></div><div class='xr-var-dims'>(x)</div><div class='xr-var-dtype'>float64</div><div class='xr-var-preview xr-preview'>1.034e+06 1.034e+06 ... 1.045e+06</div><input id='attrs-a3781bdb-45e1-40d6-b80b-a8e6d4fc9dc6' class='xr-var-attrs-in' type='checkbox' disabled><label for='attrs-a3781bdb-45e1-40d6-b80b-a8e6d4fc9dc6' title='Show/Hide attributes'><svg class='icon xr-icon-file-text2'><use xlink:href='#icon-file-text2'></use></svg></label><input id='data-e98afa15-1e47-4b91-9480-f7e8966d03f5' class='xr-var-data-in' type='checkbox'><label for='data-e98afa15-1e47-4b91-9480-f7e8966d03f5' title='Show/Hide data repr'><svg class='icon xr-icon-database'><use xlink:href='#icon-database'></use></svg></label><div class='xr-var-attrs'><dl class='xr-attrs'></dl></div><div class='xr-var-data'><pre>array([1034070., 1034100., 1034130., ..., 1045230., 1045260., 1045290.])</pre></div></li><li class='xr-var-item'><div class='xr-var-name'><span class='xr-has-index'>y</span></div><div class='xr-var-dims'>(y)</div><div class='xr-var-dtype'>float64</div><div class='xr-var-preview xr-preview'>2.258e+06 2.258e+06 ... 2.253e+06</div><input id='attrs-a5da6a9f-32e9-43c6-8cf2-f6394288c7ef' class='xr-var-attrs-in' type='checkbox' disabled><label for='attrs-a5da6a9f-32e9-43c6-8cf2-f6394288c7ef' title='Show/Hide attributes'><svg class='icon xr-icon-file-text2'><use xlink:href='#icon-file-text2'></use></svg></label><input id='data-f05e24a9-9cf9-4692-89aa-174fbba5437d' class='xr-var-data-in' type='checkbox'><label for='data-f05e24a9-9cf9-4692-89aa-174fbba5437d' title='Show/Hide data repr'><svg class='icon xr-icon-database'><use xlink:href='#icon-database'></use></svg></label><div class='xr-var-attrs'><dl class='xr-attrs'></dl></div><div class='xr-var-data'><pre>array([2258280., 2258250., 2258220., 2258190., 2258160., 2258130., 2258100.,\n",
       "       2258070., 2258040., 2258010., 2257980., 2257950., 2257920., 2257890.,\n",
       "       2257860., 2257830., 2257800., 2257770., 2257740., 2257710., 2257680.,\n",
       "       2257650., 2257620., 2257590., 2257560., 2257530., 2257500., 2257470.,\n",
       "       2257440., 2257410., 2257380., 2257350., 2257320., 2257290., 2257260.,\n",
       "       2257230., 2257200., 2257170., 2257140., 2257110., 2257080., 2257050.,\n",
       "       2257020., 2256990., 2256960., 2256930., 2256900., 2256870., 2256840.,\n",
       "       2256810., 2256780., 2256750., 2256720., 2256690., 2256660., 2256630.,\n",
       "       2256600., 2256570., 2256540., 2256510., 2256480., 2256450., 2256420.,\n",
       "       2256390., 2256360., 2256330., 2256300., 2256270., 2256240., 2256210.,\n",
       "       2256180., 2256150., 2256120., 2256090., 2256060., 2256030., 2256000.,\n",
       "       2255970., 2255940., 2255910., 2255880., 2255850., 2255820., 2255790.,\n",
       "       2255760., 2255730., 2255700., 2255670., 2255640., 2255610., 2255580.,\n",
       "       2255550., 2255520., 2255490., 2255460., 2255430., 2255400., 2255370.,\n",
       "       2255340., 2255310., 2255280., 2255250., 2255220., 2255190., 2255160.,\n",
       "       2255130., 2255100., 2255070., 2255040., 2255010., 2254980., 2254950.,\n",
       "       2254920., 2254890., 2254860., 2254830., 2254800., 2254770., 2254740.,\n",
       "       2254710., 2254680., 2254650., 2254620., 2254590., 2254560., 2254530.,\n",
       "       2254500., 2254470., 2254440., 2254410., 2254380., 2254350., 2254320.,\n",
       "       2254290., 2254260., 2254230., 2254200., 2254170., 2254140., 2254110.,\n",
       "       2254080., 2254050., 2254020., 2253990., 2253960., 2253930., 2253900.,\n",
       "       2253870., 2253840., 2253810., 2253780., 2253750., 2253720., 2253690.,\n",
       "       2253660., 2253630., 2253600., 2253570., 2253540., 2253510., 2253480.,\n",
       "       2253450., 2253420., 2253390., 2253360., 2253330.])</pre></div></li><li class='xr-var-item'><div class='xr-var-name'><span>spatial_ref</span></div><div class='xr-var-dims'>()</div><div class='xr-var-dtype'>int64</div><div class='xr-var-preview xr-preview'>0</div><input id='attrs-7e183e0e-f362-44db-878b-84c3c6a5b666' class='xr-var-attrs-in' type='checkbox' ><label for='attrs-7e183e0e-f362-44db-878b-84c3c6a5b666' title='Show/Hide attributes'><svg class='icon xr-icon-file-text2'><use xlink:href='#icon-file-text2'></use></svg></label><input id='data-fb21e81a-5084-4fee-8d82-e027853befc2' class='xr-var-data-in' type='checkbox'><label for='data-fb21e81a-5084-4fee-8d82-e027853befc2' title='Show/Hide data repr'><svg class='icon xr-icon-database'><use xlink:href='#icon-database'></use></svg></label><div class='xr-var-attrs'><dl class='xr-attrs'><dt><span>crs_wkt :</span></dt><dd>PROJCS[&quot;Albers_Conical_Equal_Area&quot;,GEOGCS[&quot;WGS 84&quot;,DATUM[&quot;WGS_1984&quot;,SPHEROID[&quot;WGS 84&quot;,6378137,298.257223563,AUTHORITY[&quot;EPSG&quot;,&quot;7030&quot;]],AUTHORITY[&quot;EPSG&quot;,&quot;6326&quot;]],PRIMEM[&quot;Greenwich&quot;,0],UNIT[&quot;degree&quot;,0.0174532925199433,AUTHORITY[&quot;EPSG&quot;,&quot;9122&quot;]],AUTHORITY[&quot;EPSG&quot;,&quot;4326&quot;]],PROJECTION[&quot;Albers_Conic_Equal_Area&quot;],PARAMETER[&quot;latitude_of_center&quot;,23],PARAMETER[&quot;longitude_of_center&quot;,-96],PARAMETER[&quot;standard_parallel_1&quot;,29.5],PARAMETER[&quot;standard_parallel_2&quot;,45.5],PARAMETER[&quot;false_easting&quot;,0],PARAMETER[&quot;false_northing&quot;,0],UNIT[&quot;metre&quot;,1,AUTHORITY[&quot;EPSG&quot;,&quot;9001&quot;]],AXIS[&quot;Easting&quot;,EAST],AXIS[&quot;Northing&quot;,NORTH]]</dd><dt><span>semi_major_axis :</span></dt><dd>6378137.0</dd><dt><span>semi_minor_axis :</span></dt><dd>6356752.314245179</dd><dt><span>inverse_flattening :</span></dt><dd>298.257223563</dd><dt><span>reference_ellipsoid_name :</span></dt><dd>WGS 84</dd><dt><span>longitude_of_prime_meridian :</span></dt><dd>0.0</dd><dt><span>prime_meridian_name :</span></dt><dd>Greenwich</dd><dt><span>geographic_crs_name :</span></dt><dd>WGS 84</dd><dt><span>horizontal_datum_name :</span></dt><dd>World Geodetic System 1984</dd><dt><span>projected_crs_name :</span></dt><dd>Albers_Conical_Equal_Area</dd><dt><span>grid_mapping_name :</span></dt><dd>albers_conical_equal_area</dd><dt><span>standard_parallel :</span></dt><dd>(29.5, 45.5)</dd><dt><span>latitude_of_projection_origin :</span></dt><dd>23.0</dd><dt><span>longitude_of_central_meridian :</span></dt><dd>-96.0</dd><dt><span>false_easting :</span></dt><dd>0.0</dd><dt><span>false_northing :</span></dt><dd>0.0</dd><dt><span>spatial_ref :</span></dt><dd>PROJCS[&quot;Albers_Conical_Equal_Area&quot;,GEOGCS[&quot;WGS 84&quot;,DATUM[&quot;WGS_1984&quot;,SPHEROID[&quot;WGS 84&quot;,6378137,298.257223563,AUTHORITY[&quot;EPSG&quot;,&quot;7030&quot;]],AUTHORITY[&quot;EPSG&quot;,&quot;6326&quot;]],PRIMEM[&quot;Greenwich&quot;,0],UNIT[&quot;degree&quot;,0.0174532925199433,AUTHORITY[&quot;EPSG&quot;,&quot;9122&quot;]],AUTHORITY[&quot;EPSG&quot;,&quot;4326&quot;]],PROJECTION[&quot;Albers_Conic_Equal_Area&quot;],PARAMETER[&quot;latitude_of_center&quot;,23],PARAMETER[&quot;longitude_of_center&quot;,-96],PARAMETER[&quot;standard_parallel_1&quot;,29.5],PARAMETER[&quot;standard_parallel_2&quot;,45.5],PARAMETER[&quot;false_easting&quot;,0],PARAMETER[&quot;false_northing&quot;,0],UNIT[&quot;metre&quot;,1,AUTHORITY[&quot;EPSG&quot;,&quot;9001&quot;]],AXIS[&quot;Easting&quot;,EAST],AXIS[&quot;Northing&quot;,NORTH]]</dd><dt><span>GeoTransform :</span></dt><dd>1034055.0 30.0 0.0 2258295.0 0.0 -30.0</dd></dl></div><div class='xr-var-data'><pre>array(0)</pre></div></li></ul></div></li><li class='xr-section-item'><input id='section-c4176197-9cc4-455d-b3cc-ac3121865ec4' class='xr-section-summary-in' type='checkbox'  ><label for='section-c4176197-9cc4-455d-b3cc-ac3121865ec4' class='xr-section-summary' >Indexes: <span>(3)</span></label><div class='xr-section-inline-details'></div><div class='xr-section-details'><ul class='xr-var-list'><li class='xr-var-item'><div class='xr-index-name'><div>band</div></div><div class='xr-index-preview'>PandasIndex</div><div></div><input id='index-ead2c941-2487-48e0-988a-34490006cebf' class='xr-index-data-in' type='checkbox'/><label for='index-ead2c941-2487-48e0-988a-34490006cebf' title='Show/Hide index repr'><svg class='icon xr-icon-database'><use xlink:href='#icon-database'></use></svg></label><div class='xr-index-data'><pre>PandasIndex(Index([1], dtype=&#x27;int64&#x27;, name=&#x27;band&#x27;))</pre></div></li><li class='xr-var-item'><div class='xr-index-name'><div>x</div></div><div class='xr-index-preview'>PandasIndex</div><div></div><input id='index-98ce8890-7506-4e0f-81bc-309df73494f1' class='xr-index-data-in' type='checkbox'/><label for='index-98ce8890-7506-4e0f-81bc-309df73494f1' title='Show/Hide index repr'><svg class='icon xr-icon-database'><use xlink:href='#icon-database'></use></svg></label><div class='xr-index-data'><pre>PandasIndex(Index([1034070.0, 1034100.0, 1034130.0, 1034160.0, 1034190.0, 1034220.0,\n",
       "       1034250.0, 1034280.0, 1034310.0, 1034340.0,\n",
       "       ...\n",
       "       1045020.0, 1045050.0, 1045080.0, 1045110.0, 1045140.0, 1045170.0,\n",
       "       1045200.0, 1045230.0, 1045260.0, 1045290.0],\n",
       "      dtype=&#x27;float64&#x27;, name=&#x27;x&#x27;, length=375))</pre></div></li><li class='xr-var-item'><div class='xr-index-name'><div>y</div></div><div class='xr-index-preview'>PandasIndex</div><div></div><input id='index-835dd1fc-4ccf-41ca-ba28-d8240b3f36df' class='xr-index-data-in' type='checkbox'/><label for='index-835dd1fc-4ccf-41ca-ba28-d8240b3f36df' title='Show/Hide index repr'><svg class='icon xr-icon-database'><use xlink:href='#icon-database'></use></svg></label><div class='xr-index-data'><pre>PandasIndex(Index([2258280.0, 2258250.0, 2258220.0, 2258190.0, 2258160.0, 2258130.0,\n",
       "       2258100.0, 2258070.0, 2258040.0, 2258010.0,\n",
       "       ...\n",
       "       2253600.0, 2253570.0, 2253540.0, 2253510.0, 2253480.0, 2253450.0,\n",
       "       2253420.0, 2253390.0, 2253360.0, 2253330.0],\n",
       "      dtype=&#x27;float64&#x27;, name=&#x27;y&#x27;, length=166))</pre></div></li></ul></div></li><li class='xr-section-item'><input id='section-9b7d9ba3-74c0-499b-b166-cf5986bc3e85' class='xr-section-summary-in' type='checkbox'  checked><label for='section-9b7d9ba3-74c0-499b-b166-cf5986bc3e85' class='xr-section-summary' >Attributes: <span>(6)</span></label><div class='xr-section-inline-details'></div><div class='xr-section-details'><dl class='xr-attrs'><dt><span>AREA_OR_POINT :</span></dt><dd>Area</dd><dt><span>LAYER_TYPE :</span></dt><dd>thematic</dd><dt><span>OVERVIEWS_ALGORITHM :</span></dt><dd>IMAGINE Nearest Neighbor Resampling</dd><dt><span>scale_factor :</span></dt><dd>1.0</dd><dt><span>add_offset :</span></dt><dd>0.0</dd><dt><span>long_name :</span></dt><dd>Layer_1</dd></dl></div></li></ul></div></div>"
      ],
      "text/plain": [
       "<xarray.DataArray (band: 1, y: 166, x: 375)>\n",
       "[62250 values with dtype=uint8]\n",
       "Coordinates:\n",
       "  * band         (band) int64 1\n",
       "  * x            (x) float64 1.034e+06 1.034e+06 ... 1.045e+06 1.045e+06\n",
       "  * y            (y) float64 2.258e+06 2.258e+06 ... 2.253e+06 2.253e+06\n",
       "    spatial_ref  int64 0\n",
       "Attributes:\n",
       "    AREA_OR_POINT:        Area\n",
       "    LAYER_TYPE:           thematic\n",
       "    OVERVIEWS_ALGORITHM:  IMAGINE Nearest Neighbor Resampling\n",
       "    scale_factor:         1.0\n",
       "    add_offset:           0.0\n",
       "    long_name:            Layer_1"
      ]
     },
     "execution_count": 4,
     "metadata": {},
     "output_type": "execute_result"
    }
   ],
   "source": [
    "ou_landcover_2021_da = rioxarray.open_rasterio(Path(Path.cwd(), 'data', 'ou_land_cover_2021.tif'))\n",
    "ou_landcover_2021_da"
   ]
  },
  {
   "cell_type": "markdown",
   "id": "9e9d1893-e018-4da0-a28c-abfbad8aca7e",
   "metadata": {
    "tags": []
   },
   "source": [
    "From the output above we can see that `ou_landcover_2021_da` consists of a single band with an associated data matrix for that band. Use the `shape` property to see the matrix dimensions."
   ]
  },
  {
   "cell_type": "code",
   "execution_count": 5,
   "id": "cbd90b85-10b6-42a7-a061-8c802b73b193",
   "metadata": {},
   "outputs": [
    {
     "data": {
      "text/plain": [
       "(1, 166, 375)"
      ]
     },
     "execution_count": 5,
     "metadata": {},
     "output_type": "execute_result"
    }
   ],
   "source": [
    "ou_landcover_2021_da.shape"
   ]
  },
  {
   "cell_type": "markdown",
   "id": "84a232cc-9e05-421d-b280-3258a20ce447",
   "metadata": {},
   "source": [
    "The first dimension is the band, the second is height (`y`) and the third is width (`x`). So, our matrix has 166 rows and 375 columns.\n",
    "\n",
    "To get at the actual values we use the `values` property of the `DataArray`. For assets with multiple bands (such as visual), each band has an associated (y, x) matrix."
   ]
  },
  {
   "cell_type": "code",
   "execution_count": 9,
   "id": "f160507f-939d-43bb-a730-49c0f9c3de11",
   "metadata": {},
   "outputs": [
    {
     "data": {
      "text/plain": [
       "array([[[23, 23, 23, ..., 22, 22, 23],\n",
       "        [24, 23, 23, ..., 24, 23, 23],\n",
       "        [24, 24, 23, ..., 24, 22, 23],\n",
       "        ...,\n",
       "        [22, 22, 23, ..., 22, 21, 21],\n",
       "        [22, 21, 22, ..., 22, 21, 21],\n",
       "        [23, 22, 21, ..., 22, 21, 21]]], dtype=uint8)"
      ]
     },
     "execution_count": 9,
     "metadata": {},
     "output_type": "execute_result"
    }
   ],
   "source": [
    "ou_landcover_2021_da.values"
   ]
  },
  {
   "cell_type": "markdown",
   "id": "d0096633-2f49-4288-bb46-01824abebd8d",
   "metadata": {},
   "source": [
    "What is the data type of this matrix?"
   ]
  },
  {
   "cell_type": "code",
   "execution_count": 7,
   "id": "dce5b10b-d714-44a6-b150-d8d1ed4ae47f",
   "metadata": {},
   "outputs": [
    {
     "data": {
      "text/plain": [
       "numpy.ndarray"
      ]
     },
     "execution_count": 7,
     "metadata": {},
     "output_type": "execute_result"
    }
   ],
   "source": [
    "type(ou_landcover_2021_da.values)"
   ]
  },
  {
   "cell_type": "markdown",
   "id": "ff9f43f3-e956-4ec1-8b4c-35c1e9bb2fe2",
   "metadata": {},
   "source": [
    "Ah, so xarray is using numpy under the hood. That means we can use standard numpy methods to explore and modify the array. By now, you've probably realized that this array is the raster data. That's it. Raster data is just an array of values.\n",
    "\n",
    "In this case, the values are discrete classification levels describing land use in the NLCD. From their website, I found the legend defining the values. Notice that there are groupings of values. For example, all values whose leading digit is a `2` (i.e in \\[20,29\\]) are classified as \"Developed\". \n",
    "\n",
    "```\n",
    "National Land Cover Database Class Legend and Description\n",
    "Class\\ Value\n",
    "Classification Description\n",
    "\n",
    "Water\n",
    "- 11 Open Water- areas of open water, generally with less than 25% cover of vegetation\n",
    "or soil.\n",
    "- 12 Perennial Ice/Snow- areas characterized by a perennial cover of ice and/or snow,\n",
    "generally greater than 25% of total cover.\n",
    "\n",
    "Developed\n",
    "- 21 Developed, Open Space- areas with a mixture of some constructed materials, but\n",
    "mostly vegetation in the form of lawn grasses. Impervious surfaces account for less\n",
    "than 20% of total cover. These areas most commonly include large-lot single-family\n",
    "housing units, parks, golf courses, and vegetation planted in developed settings for\n",
    "recreation, erosion control, or aesthetic purposes.\n",
    "- 22 Developed, Low Intensity- areas with a mixture of constructed materials and\n",
    "vegetation. Impervious surfaces account for 20% to 49% percent of total cover.\n",
    "These areas most commonly include single-family housing units.\n",
    "- 23 Developed, Medium Intensity -areas with a mixture of constructed materials and\n",
    "vegetation. Impervious surfaces account for 50% to 79% of the total cover. These\n",
    "areas most commonly include single-family housing units.\n",
    "- 24 Developed High Intensity-highly developed areas where people reside or work in\n",
    "high numbers. Examples include apartment complexes, row houses and\n",
    "commercial/industrial. Impervious surfaces account for 80% to 100% of the total\n",
    "cover.\n",
    "\n",
    "Barren\n",
    "- 31 Barren Land (Rock/Sand/Clay) - areas of bedrock, desert pavement, scarps, talus,\n",
    "slides, volcanic material, glacial debris, sand dunes, strip mines, gravel pits and other\n",
    "accumulations of earthen material. Generally, vegetation accounts for less than 15%\n",
    "of total cover.\n",
    "\n",
    "Forest\n",
    "- 41 Deciduous Forest- areas dominated by trees generally greater than 5 meters tall,\n",
    "and greater than 20% of total vegetation cover. More than 75% of the tree species\n",
    "shed foliage simultaneously in response to seasonal change.\n",
    "- 42 Evergreen Forest- areas dominated by trees generally greater than 5 meters tall,\n",
    "and greater than 20% of total vegetation cover. More than 75% of the tree species\n",
    "maintain their leaves all year. Canopy is never without green foliage.43\n",
    "Mixed Forest- areas dominated by trees generally greater than 5 meters tall, and\n",
    "greater than 20% of total vegetation cover. Neither deciduous nor evergreen species\n",
    "are greater than 75% of total tree cover.\n",
    "\n",
    "Shrubland\n",
    "- 51 Dwarf Scrub- Alaska only areas dominated by shrubs less than 20 centimeters tall\n",
    "with shrub canopy typically greater than 20% of total vegetation. This type is often\n",
    "co-associated with grasses, sedges, herbs, and non-vascular vegetation.\n",
    "- 52 Shrub/Scrub- areas dominated by shrubs; less than 5 meters tall with shrub canopy\n",
    "typically greater than 20% of total vegetation. This class includes true shrubs, young\n",
    "trees in an early successional stage or trees stunted from environmental conditions.\n",
    "\n",
    "Herbaceous\n",
    "- 71 Grassland/Herbaceous- areas dominated by gramanoid or herbaceous vegetation,\n",
    "generally greater than 80% of total vegetation. These areas are not subject to\n",
    "intensive management such as tilling, but can be utilized for grazing.\n",
    "- 72 Sedge/Herbaceous- Alaska only areas dominated by sedges and forbs, generally\n",
    "greater than 80% of total vegetation. This type can occur with significant other\n",
    "grasses or other grass like plants, and includes sedge tundra, and sedge tussock\n",
    "tundra.\n",
    "- 73 Lichens- Alaska only areas dominated by fruticose or foliose lichens generally\n",
    "greater than 80% of total vegetation.\n",
    "- 74 Moss- Alaska only areas dominated by mosses, generally greater than 80% of total\n",
    "vegetation.\n",
    "\n",
    "Planted/Cultivated\n",
    "- 81 Pasture/Hay-areas of grasses, legumes, or grass-legume mixtures planted for\n",
    "livestock grazing or the production of seed or hay crops, typically on a perennial\n",
    "cycle. Pasture/hay vegetation accounts for greater than 20% of total vegetation.\n",
    "- 82 Cultivated Crops -areas used for the production of annual crops, such as corn,\n",
    "soybeans, vegetables, tobacco, and cotton, and also perennial woody crops such as\n",
    "orchards and vineyards. Crop vegetation accounts for greater than 20% of total\n",
    "vegetation. This class also includes all land being actively tilled.\n",
    "\n",
    "Wetlands\n",
    "- 90 Woody Wetlands- areas where forest or shrubland vegetation accounts for greater\n",
    "than 20% of vegetative cover and the soil or substrate is periodically saturated with\n",
    "or covered with water.\n",
    "- 95 Emergent Herbaceous Wetlands- Areas where perennial herbaceous vegetation\n",
    "accounts for greater than 80% of vegetative cover and the soil or substrate is\n",
    "periodically saturated with or covered with water.\n",
    "```"
   ]
  },
  {
   "cell_type": "markdown",
   "id": "3c03bd50-1433-44fa-b998-afc7a6b9d864",
   "metadata": {},
   "source": [
    "### Question\n",
    "\n",
    "You can use the [numpy.unique](https://numpy.org/doc/stable/reference/generated/numpy.unique.html) function to get a count of the number of cells corresponding to each classification value. Try it."
   ]
  },
  {
   "cell_type": "code",
   "execution_count": null,
   "id": "57c3e6f4-acfc-4db4-8d60-fa80753380c3",
   "metadata": {},
   "outputs": [],
   "source": [
    "# Counts by class\n"
   ]
  },
  {
   "cell_type": "markdown",
   "id": "4a7a5876-447d-49e0-8176-ebbd0d72aa46",
   "metadata": {
    "jp-MarkdownHeadingCollapsed": true
   },
   "source": [
    "### Answer"
   ]
  },
  {
   "cell_type": "code",
   "execution_count": 9,
   "id": "b3770fd2-f0b3-4a07-bca7-e6fb850c5acf",
   "metadata": {},
   "outputs": [
    {
     "name": "stdout",
     "output_type": "stream",
     "text": [
      "[[   11   250]\n",
      " [   21 14712]\n",
      " [   22 16239]\n",
      " [   23 14205]\n",
      " [   24  8307]\n",
      " [   31    20]\n",
      " [   41  4381]\n",
      " [   42    24]\n",
      " [   43   177]\n",
      " [   52    37]\n",
      " [   71   105]\n",
      " [   81   224]\n",
      " [   82     2]\n",
      " [   90  3473]\n",
      " [   95    94]]\n"
     ]
    }
   ],
   "source": [
    "class_vals, class_counts = np.unique(ou_landcover_2021_da.values, return_counts=True)\n",
    "print(np.asarray((class_vals, class_counts)).T)"
   ]
  },
  {
   "cell_type": "markdown",
   "id": "bb46ddfe-5e04-45f7-bba7-68e9e6b6c1d6",
   "metadata": {},
   "source": [
    "## Plotting the raster\n",
    "\n",
    "You can plot a `DataArray` directly with matplotlib by using the `plot()` method."
   ]
  },
  {
   "cell_type": "code",
   "execution_count": 10,
   "id": "612f499d-ff13-4a13-9362-bc7296fe9b01",
   "metadata": {},
   "outputs": [
    {
     "data": {
      "image/png": "[encoded data removed]",
      "text/plain": [
       "<Figure size 640x480 with 2 Axes>"
      ]
     },
     "metadata": {},
     "output_type": "display_data"
    }
   ],
   "source": [
    "f, ax = plt.subplots()\n",
    "ou_landcover_2021_da.plot(ax=ax, cmap='Pastel2')\n",
    "\n",
    "ax.set(title=\"Raster Layer\")\n",
    "\n",
    "ax.set_axis_off()\n",
    "plt.show()\n"
   ]
  },
  {
   "cell_type": "markdown",
   "id": "99b93d40-7676-4cdd-a67e-6179551dd4ca",
   "metadata": {},
   "source": []
  },
  {
   "cell_type": "code",
   "execution_count": 15,
   "id": "f65fa2bc-d780-4c25-9ff7-1251a22b61d1",
   "metadata": {},
   "outputs": [
    {
     "data": {
      "image/png": "[encoded data removed]",
      "text/plain": [
       "<Figure size 640x480 with 2 Axes>"
      ]
     },
     "metadata": {},
     "output_type": "display_data"
    }
   ],
   "source": [
    "f, ax = plt.subplots()\n",
    "ou_landcover_2021_da.where(ou_landcover_2021_da >= 90).plot(ax=ax)\n",
    "\n",
    "ax.set(title=\"Wetlands on OU Campus\")\n",
    "\n",
    "ax.set_axis_off()\n",
    "plt.show()\n"
   ]
  },
  {
   "cell_type": "markdown",
   "id": "565a89e2-b623-484b-9666-077dc275494f",
   "metadata": {},
   "source": [
    "**TODO** Could we really use a custom color maps."
   ]
  },
  {
   "cell_type": "markdown",
   "id": "36d9ab64-7210-4e2a-859a-7c5e7d2e203d",
   "metadata": {},
   "source": [
    "## Next steps\n",
    "\n",
    "**TODO** Give overview of overall analysis that we'll do in the module as well as what we'll do in next section."
   ]
  },
  {
   "cell_type": "code",
   "execution_count": null,
   "id": "004dd7f7-ca7d-47ab-8ef7-b46e56a8bb63",
   "metadata": {},
   "outputs": [],
   "source": []
  },
  {
   "cell_type": "code",
   "execution_count": null,
   "id": "67c338b0-2706-423a-82bd-bfd4b4d83fd3",
   "metadata": {},
   "outputs": [],
   "source": []
  },
  {
   "cell_type": "code",
   "execution_count": null,
   "id": "06a1e199-6bdf-4596-8288-569859d648e8",
   "metadata": {},
   "outputs": [],
   "source": []
  },
  {
   "cell_type": "code",
   "execution_count": null,
   "id": "c4b80b60-e6fe-47fe-b7a6-8a7770737a08",
   "metadata": {},
   "outputs": [],
   "source": []
  }
 ],
 "metadata": {
  "kernelspec": {
   "display_name": "Python [conda env:eogeo_310]",
   "language": "python",
   "name": "conda-env-eogeo_310-py"
  },
  "language_info": {
   "codemirror_mode": {
    "name": "ipython",
    "version": 3
   },
   "file_extension": ".py",
   "mimetype": "text/x-python",
   "name": "python",
   "nbconvert_exporter": "python",
   "pygments_lexer": "ipython3",
   "version": "3.10.13"
  }
 },
 "nbformat": 4,
 "nbformat_minor": 5
}
