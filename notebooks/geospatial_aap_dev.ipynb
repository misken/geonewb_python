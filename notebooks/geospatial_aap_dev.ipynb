{
 "cells": [
  {
   "cell_type": "markdown",
   "id": "6c831b24-077a-4393-8bbc-d45a133d7398",
   "metadata": {},
   "source": [
    "# Development of geospatial aap module\n",
    "\n",
    "This is the first notebook in which I'm just collecting ideas and trying things out for eventual use in the aap geospatial module."
   ]
  },
  {
   "cell_type": "markdown",
   "id": "bbe56c88-40c6-4124-b542-dcbd56ce15d2",
   "metadata": {},
   "source": [
    "## Potential case: Land use analysis of OU campus\n",
    "\n",
    "What if we did an analysis of land use on the OU campus?\n",
    "\n",
    "Could get both RGB imagery as well as computing NDVI. The Carpentries course,\n",
    "https://carpentries-incubator.github.io/geospatial-python/09-raster-calculations.html, does\n",
    "NDVI computations and then creates a classification scheme to create a discrete raster from\n",
    "the continuous NDVI raster. All quite relevant. Sections before this one do typical \n",
    "raster and vector operations such as cropping, reprojecting and matching different layers.\n",
    "\n",
    "- green space\n",
    "- golf courses\n",
    "- roads\n",
    "- buildings\n",
    "- parking lots\n",
    "- sports facilities\n",
    "- sidewalks\n",
    "\n",
    "Could look at how things have changed over time.\n",
    "\n",
    "Would require combo of raster and vector data.\n",
    "\n",
    "- single and multi-band rasters\n",
    "- missing data in rasters\n",
    "- cropping rasters\n",
    "\n",
    "Where to get the vector data? What kind of vector data exists for the OU campus?\n",
    "\n",
    "How to do the land use analysis?"
   ]
  },
  {
   "cell_type": "markdown",
   "id": "ff65f427-e912-4383-ac50-1de5619c516c",
   "metadata": {},
   "source": [
    "## Finding data\n",
    "\n",
    "Need raster and vector data. \n",
    "\n",
    "### Raster data\n",
    "\n",
    "Could use Landsat satellite imagery as it goes back several decades.\n",
    "Could also use recent Sentinel data to serve as a comparison to Landsat in terms of resolution.\n",
    "\n",
    "Is there freely available aerial imagery?\n",
    "\n",
    "Have the DEM from HydroRivers already downloaded.\n",
    "\n",
    "### Vector data\n",
    "\n",
    "Open Street Map is one obvious source.\n",
    "\n",
    "What's available at Open Earth?\n",
    "\n",
    "State of Michigan or Oakland County?"
   ]
  },
  {
   "cell_type": "markdown",
   "id": "82819f5b-3165-45a2-8dd1-fa9c10637af4",
   "metadata": {},
   "source": [
    "## Planetary Computer\n",
    "\n",
    "Acquiring LANDSAT images tutorial - https://planetarycomputer.microsoft.com/dataset/landsat-c2-l2#Example-Notebook\n",
    "\n",
    "- contains great example of searching for images, narrowing the search, downloading multiple bands, viewing the true color image and doing an NDVI calculation\n",
    "- use Level-2 only (no blue band in Level 1)\n",
    "\n",
    "Has tutorial on land classification - https://planetarycomputer.microsoft.com/docs/tutorials/landcover/\n",
    "\n",
    "- more advanced. Uses DASK cluster and a neural net (via PyTorch) to classify land cover.\n",
    "- let's look for a precomputed land cover dataset\n",
    "\n",
    "Microsoft Buildings - https://planetarycomputer.microsoft.com/dataset/ms-buildings\n",
    "\n",
    "- This dataset contains vector data on buildings. \n",
    "- Stage 1: Semantic Segmentation\n",
    "- Stage 2: Polygonization\n",
    "- see the example notebook for finding, downloading and viewing with GeoPandas\n",
    "- data is in geoparquet format"
   ]
  },
  {
   "cell_type": "markdown",
   "id": "1f1243ba-226f-4bda-b805-ec5d2d789d42",
   "metadata": {},
   "source": [
    "## National Land Cover Database\n",
    "\n",
    "> The National Land Cover Database (NLCD) provides nationwide data on land cover and land cover change at a 30m resolution with a 16-class legend based on a modified Anderson Level II classification system. NLCD 2021 represents the latest evolution of NLCD land cover products focused on providing innovative land cover and land cover change data for the Nation. NLCD 2021 offers 9 integrated epochs of land cover for years 2001, 2004, 2006, 2008, 2011, 2013, 2016, 2019, and 2021. chs (2001 – 2021) and are directly comparable across the full time series and suitable for multi-temporal analysis. The NLCD 2021 release is update based, so the Land Cover and Impervious Surface products released in 2019 are unchanged and can be used directly with NLCD 2021. Science products and the change index will need to be reacquired to contain the additional 2021 change. Specific map products include:Developed classes in these years are directly derived from percent developed impervious surface and include a descriptor label that identifies the type of each impervious surface pixel. The NLCD Land Cover change index combines information from all years of land cover change and provides a simple and comprehensive way to visualize change from all 9 dates of land cover in a single layer. The change index was designed to assist NLCD users to understand complex land cover change with a single product. NLCD 2021 does not yet contain updated products for Alaska, Hawaii and Puerto Rico. \n",
    "\n",
    "In addition to land use rasters, there are also imperviousness rasters (binary?).\n",
    "\n",
    "https://www.mrlc.gov/data/nlcd-land-cover-conus-all-years\n",
    "\n",
    "https://www.mrlc.gov/data?f%5B0%5D=category%3ALand%20Cover&f%5B1%5D=region%3Aconus - All years. big file. Download at night.\n",
    "\n",
    "Most recent update - https://www.sciencebase.gov/catalog/item/5f21cef582cef313ed940043\n",
    "\n",
    "- this 2019 update seems to be a big one in terms of methodology.\n",
    "\n",
    "Downloaded just the most recent, 2021, so could get a sense of the data.\n",
    "\n",
    "The format is something I haven't seen before:\n",
    "\n",
    "```\n",
    "├── nlcd_2021_land_cover_l48_20230630.ige\n",
    "├── nlcd_2021_land_cover_l48_20230630.img\n",
    "└── nlcd_2021_land_cover_l48_20230630.xml\n",
    "```\n",
    "\n",
    "https://gis.stackexchange.com/questions/260728/national-land-cover-dataset-usa-data-extraction\n",
    "\n",
    "```\n",
    "gdal_translate -of GTiff  nlcd_2021_land_cover_l48_20230630.img nlcd_2021_land_cover_l48_20230630.tif\n",
    "```\n",
    "\n",
    "Cropped it to a bbox I made with OpenStreetMap and manual panning/zooming followed by Export.\n",
    "\n",
    "```\n",
    "gdal_translate -of GTiff -projwin -83.2656 42.6974 -83.1369 42.6398 -projwin_srs epsg:4326 nlcd_2021_land_cover_l48_20230630.tif ou.tif\n",
    "```\n",
    "\n",
    "Then I downloaded the whole thing - one file per year is included in the zip file. So we need to crop individually. Wait, maybe not - looks like there might be a combined file. The combined filename has \"change_index\" in its name. Let's explore both.\n",
    "\n",
    "```\n",
    "gdal_translate -of GTiff -projwin -83.2656 42.6974 -83.1369 42.6398 -projwin_srs epsg:4326 nlcd_2001_2021_land_cover_change_index_l48_20230630.tif ou_change_index_2002_2021.tif\n",
    "```\n",
    "\n",
    "Let's do 2001 so we can compare to 2021\n",
    "\n",
    "```\n",
    "gdal_translate -of GTiff -projwin -83.2656 42.6974 -83.1369 42.6398 -projwin_srs epsg:4326 nlcd_2001_land_cover_l48_20230630.tif ou_2001.tif\n",
    "```\n",
    "\n",
    "Running a command line tool from Python would be a useful thing to add to this module.\n",
    "\n",
    "https://realpython.com/python-subprocess/\n",
    "\n",
    "Try to use `subprocess.run` and only use the underlying `Popen` class if necessary.\n",
    "\n",
    "https://docs.python.org/3/library/subprocess.html#using-the-subprocess-module"
   ]
  },
  {
   "cell_type": "code",
   "execution_count": 1,
   "id": "79404e8f-8918-4c38-8b31-bdbf069de0c4",
   "metadata": {},
   "outputs": [],
   "source": [
    "# Big 3 - come on, of course you'll need these\n",
    "import matplotlib.pyplot as plt\n",
    "import numpy as np\n",
    "import pandas as pd"
   ]
  },
  {
   "cell_type": "code",
   "execution_count": 2,
   "id": "9702cd2b-4681-4e5c-a54e-ace26c878f88",
   "metadata": {},
   "outputs": [],
   "source": [
    "import subprocess"
   ]
  },
  {
   "cell_type": "code",
   "execution_count": 3,
   "id": "904ee5e6-50de-463f-a680-4fc5d022a9ff",
   "metadata": {},
   "outputs": [
    {
     "name": "stdout",
     "output_type": "stream",
     "text": [
      "total 72\n",
      "drwxrwxr-x 5 mark mark  4096 Mar 18 16:55 .\n",
      "drwxrwxr-x 9 mark mark  4096 Mar 18 16:13 ..\n",
      "drwxrwxr-x 8 mark mark  4096 Mar 15 19:34 data\n",
      "-rw-rw-r-- 1 mark mark 50764 Mar 18 16:55 geospatial_aap_dev.ipynb\n",
      "drwxrwxr-x 2 mark mark  4096 Mar  8 09:42 images\n",
      "drwxrwxr-x 2 mark mark  4096 Mar  8 09:47 .ipynb_checkpoints\n",
      "CompletedProcess(args='ls -la', returncode=0)\n"
     ]
    }
   ],
   "source": [
    "completed_process = subprocess.run(\"ls -la\", shell=True)\n",
    "print(completed_process)"
   ]
  },
  {
   "cell_type": "code",
   "execution_count": 4,
   "id": "8965d7af-5273-46c0-a6c5-507306686430",
   "metadata": {},
   "outputs": [],
   "source": [
    "from pathlib import Path\n",
    "import re"
   ]
  },
  {
   "cell_type": "markdown",
   "id": "531d1fb5-d3e4-4406-9adf-6cf609e1a929",
   "metadata": {},
   "source": [
    "First let's convert and crop the change index file"
   ]
  },
  {
   "cell_type": "code",
   "execution_count": 5,
   "id": "9dd71512-49c9-47b1-a05a-8a71f222c52b",
   "metadata": {
    "tags": []
   },
   "outputs": [],
   "source": [
    "run = False\n",
    "\n",
    "if run:\n",
    "    # Path to img file\n",
    "    change_index_img_filepath = Path('data', 'NLCD_landcover_2021_release_all_files_20230630',\n",
    "                                 'nlcd_2001_2021_land_cover_change_index_l48_20230630.img')\n",
    "\n",
    "    # Path for destination tif file\n",
    "    change_index_tif_filepath = Path('data', \n",
    "                                 'nlcd_2001_2021_land_cover_change_index_l48_20230630.tif')\n",
    "\n",
    "    # Create gdal command\n",
    "    gdal_cmd_change_index = f'gdal_translate -of GTiff  {change_index_img_filepath} {change_index_tif_filepath}'\n",
    "\n",
    "    # Run the command\n",
    "    subprocess.run(gdal_cmd_change_index, shell=True)\n",
    "\n",
    "    # Crop it to OU\n",
    "    # gdal_translate -of GTiff -projwin -83.2656 42.6974 -83.1369 42.6398 -projwin_srs epsg:4326 nlcd_2001_2021_land_cover_change_index_l48_20230630.tif ou_change_index_2002_2021.tif\n",
    "    cropped_tif_filepath = Path(Path.cwd(), 'data', f'ou_change_index_2002_2021.tif') \n",
    "    gdal_command_crop_tif = f'gdal_translate -of GTiff -projwin {xmin} {ymax} {xmax} {ymin} -projwin_srs epsg:4326 {change_index_tif_filepath} {cropped_tif_filepath}'\n",
    "    subprocess.run(gdal_command_crop_tif, shell=True)\n",
    "    "
   ]
  },
  {
   "cell_type": "markdown",
   "id": "8da26c7a-d66e-4489-8637-920be516aebc",
   "metadata": {},
   "source": [
    "Now we can create a short script to translate several years from img to tif"
   ]
  },
  {
   "cell_type": "code",
   "execution_count": 6,
   "id": "d7ec6ae8-f665-46ba-9795-dee4d252fc44",
   "metadata": {},
   "outputs": [
    {
     "name": "stdout",
     "output_type": "stream",
     "text": [
      "[]\n"
     ]
    }
   ],
   "source": [
    "years = [2001, 2004, 2006, 2008, 2011, 2013, 2016, 2019, 2021]\n",
    "# Practice with three years\n",
    "years = [2001, 2011, 2021]\n",
    "# Do the rest\n",
    "# years = [2004, 2006, 2008, 2013, 2016, 2019]\n",
    "\n",
    "img_files = list(Path(Path.cwd(), 'data', 'NLCD_landcover_2021_release_all_files_20230630').glob('*.img'))\n",
    "img_files.sort()\n",
    "\n",
    "img_files_to_process = []\n",
    "for file in img_files:\n",
    "    for year in years:\n",
    "        if f'nlcd_{year}_land_cover' in file.stem:\n",
    "            img_files_to_process.append(file)\n",
    "    \n",
    "print(img_files_to_process)\n",
    "      \n"
   ]
  },
  {
   "cell_type": "code",
   "execution_count": 7,
   "id": "9855acd2-7040-42ef-8558-33e80ba5ff04",
   "metadata": {},
   "outputs": [],
   "source": [
    "xmin = -83.2656\n",
    "ymax = 42.6974\n",
    "xmax = -83.1369\n",
    "ymin = 42.6398\n",
    "\n",
    "run = False\n",
    "\n",
    "if run:\n",
    "\n",
    "    for img_filepath in img_files_to_process:\n",
    "        filename = img_filepath.name\n",
    "        year = re.search(r'_(2\\d\\d\\d)_', filename).group(1)\n",
    "        tif_file_path = Path(Path.cwd(), 'data', f'{img_filepath.stem}.tif')\n",
    "        aux_file_path = Path(Path.cwd(), 'data', f'{img_filepath.stem}.tif.aux.xml')\n",
    "        print(filename)\n",
    "\n",
    "        gdal_cmd_to_tif = f'gdal_translate -of GTiff  {img_filepath} {tif_file_path}'\n",
    "        subprocess.run(gdal_cmd_to_tif, shell=True)\n",
    "\n",
    "        # Now crop the file and get rid of the big tif\n",
    "        cropped_tif_filepath = Path(Path.cwd(), 'data', f'ou_land_cover_{year}.tif')\n",
    "        gdal_command_crop_tif = f'gdal_translate -of GTiff -projwin {xmin} {ymax} {xmax} {ymin} -projwin_srs epsg:4326 {tif_file_path} {cropped_tif_filepath}'\n",
    "        subprocess.run(gdal_command_crop_tif, shell=True)\n",
    "        # Delete the big tif\n",
    "        Path.unlink(tif_file_path)\n",
    "        Path.unlink(aux_file_path)"
   ]
  },
  {
   "cell_type": "markdown",
   "id": "d2eec36e-6225-4604-a0f9-d92e3071e803",
   "metadata": {},
   "source": [
    "https://gis.stackexchange.com/questions/64599/geotiff-explanation-of-aux-xml-and-tfw-world-file"
   ]
  },
  {
   "cell_type": "markdown",
   "id": "ecbc06c9-de4b-4b7d-842e-b4d8ba0a4bf4",
   "metadata": {},
   "source": [
    "The new cropped tif files were created from a rectangular bounding box which is a good be larger than just the OU campus. So, I used QGIS to manually create a vector file containing just the OU campus:\n",
    "\n",
    "- create new vector layer of some type (e.g. GeoPackage) and indicate polygon layer\n",
    "- edit the layer and use the Add Polygon Feature button to click vertices and create polygon\n",
    "- make sure layer is saved\n",
    "\n",
    "Now we can use the Python [rioxarray]() package to clip the tif file to this polygon"
   ]
  },
  {
   "cell_type": "code",
   "execution_count": 8,
   "id": "6a6161e6-1bd8-4f48-8a5c-3775fae94b45",
   "metadata": {},
   "outputs": [],
   "source": [
    "import rioxarray\n",
    "import geopandas as gpd"
   ]
  },
  {
   "cell_type": "code",
   "execution_count": 9,
   "id": "9428aea1-f0f6-4d20-9205-2e5b45a345c3",
   "metadata": {},
   "outputs": [],
   "source": [
    "ou_landcover_2001_ds = rioxarray.open_rasterio(Path(Path.cwd(), 'data', 'ou_land_cover_2001.tif'))\n",
    "ou_landcover_2011_ds = rioxarray.open_rasterio(Path(Path.cwd(), 'data', 'ou_land_cover_2011.tif'))\n",
    "ou_landcover_2021_ds = rioxarray.open_rasterio(Path(Path.cwd(), 'data', 'ou_land_cover_2021.tif'))"
   ]
  },
  {
   "cell_type": "code",
   "execution_count": 11,
   "id": "939f0596-1851-499b-9205-23666182f33c",
   "metadata": {},
   "outputs": [
    {
     "data": {
      "text/html": [
       "<div><svg style=\"position: absolute; width: 0; height: 0; overflow: hidden\">\n",
       "<defs>\n",
       "<symbol id=\"icon-database\" viewBox=\"0 0 32 32\">\n",
       "<path d=\"M16 0c-8.837 0-16 2.239-16 5v4c0 2.761 7.163 5 16 5s16-2.239 16-5v-4c0-2.761-7.163-5-16-5z\"></path>\n",
       "<path d=\"M16 17c-8.837 0-16-2.239-16-5v6c0 2.761 7.163 5 16 5s16-2.239 16-5v-6c0 2.761-7.163 5-16 5z\"></path>\n",
       "<path d=\"M16 26c-8.837 0-16-2.239-16-5v6c0 2.761 7.163 5 16 5s16-2.239 16-5v-6c0 2.761-7.163 5-16 5z\"></path>\n",
       "</symbol>\n",
       "<symbol id=\"icon-file-text2\" viewBox=\"0 0 32 32\">\n",
       "<path d=\"M28.681 7.159c-0.694-0.947-1.662-2.053-2.724-3.116s-2.169-2.030-3.116-2.724c-1.612-1.182-2.393-1.319-2.841-1.319h-15.5c-1.378 0-2.5 1.121-2.5 2.5v27c0 1.378 1.122 2.5 2.5 2.5h23c1.378 0 2.5-1.122 2.5-2.5v-19.5c0-0.448-0.137-1.23-1.319-2.841zM24.543 5.457c0.959 0.959 1.712 1.825 2.268 2.543h-4.811v-4.811c0.718 0.556 1.584 1.309 2.543 2.268zM28 29.5c0 0.271-0.229 0.5-0.5 0.5h-23c-0.271 0-0.5-0.229-0.5-0.5v-27c0-0.271 0.229-0.5 0.5-0.5 0 0 15.499-0 15.5 0v7c0 0.552 0.448 1 1 1h7v19.5z\"></path>\n",
       "<path d=\"M23 26h-14c-0.552 0-1-0.448-1-1s0.448-1 1-1h14c0.552 0 1 0.448 1 1s-0.448 1-1 1z\"></path>\n",
       "<path d=\"M23 22h-14c-0.552 0-1-0.448-1-1s0.448-1 1-1h14c0.552 0 1 0.448 1 1s-0.448 1-1 1z\"></path>\n",
       "<path d=\"M23 18h-14c-0.552 0-1-0.448-1-1s0.448-1 1-1h14c0.552 0 1 0.448 1 1s-0.448 1-1 1z\"></path>\n",
       "</symbol>\n",
       "</defs>\n",
       "</svg>\n",
       "<style>/* CSS stylesheet for displaying xarray objects in jupyterlab.\n",
       " *\n",
       " */\n",
       "\n",
       ":root {\n",
       "  --xr-font-color0: var(--jp-content-font-color0, rgba(0, 0, 0, 1));\n",
       "  --xr-font-color2: var(--jp-content-font-color2, rgba(0, 0, 0, 0.54));\n",
       "  --xr-font-color3: var(--jp-content-font-color3, rgba(0, 0, 0, 0.38));\n",
       "  --xr-border-color: var(--jp-border-color2, #e0e0e0);\n",
       "  --xr-disabled-color: var(--jp-layout-color3, #bdbdbd);\n",
       "  --xr-background-color: var(--jp-layout-color0, white);\n",
       "  --xr-background-color-row-even: var(--jp-layout-color1, white);\n",
       "  --xr-background-color-row-odd: var(--jp-layout-color2, #eeeeee);\n",
       "}\n",
       "\n",
       "html[theme=dark],\n",
       "body[data-theme=dark],\n",
       "body.vscode-dark {\n",
       "  --xr-font-color0: rgba(255, 255, 255, 1);\n",
       "  --xr-font-color2: rgba(255, 255, 255, 0.54);\n",
       "  --xr-font-color3: rgba(255, 255, 255, 0.38);\n",
       "  --xr-border-color: #1F1F1F;\n",
       "  --xr-disabled-color: #515151;\n",
       "  --xr-background-color: #111111;\n",
       "  --xr-background-color-row-even: #111111;\n",
       "  --xr-background-color-row-odd: #313131;\n",
       "}\n",
       "\n",
       ".xr-wrap {\n",
       "  display: block !important;\n",
       "  min-width: 300px;\n",
       "  max-width: 700px;\n",
       "}\n",
       "\n",
       ".xr-text-repr-fallback {\n",
       "  /* fallback to plain text repr when CSS is not injected (untrusted notebook) */\n",
       "  display: none;\n",
       "}\n",
       "\n",
       ".xr-header {\n",
       "  padding-top: 6px;\n",
       "  padding-bottom: 6px;\n",
       "  margin-bottom: 4px;\n",
       "  border-bottom: solid 1px var(--xr-border-color);\n",
       "}\n",
       "\n",
       ".xr-header > div,\n",
       ".xr-header > ul {\n",
       "  display: inline;\n",
       "  margin-top: 0;\n",
       "  margin-bottom: 0;\n",
       "}\n",
       "\n",
       ".xr-obj-type,\n",
       ".xr-array-name {\n",
       "  margin-left: 2px;\n",
       "  margin-right: 10px;\n",
       "}\n",
       "\n",
       ".xr-obj-type {\n",
       "  color: var(--xr-font-color2);\n",
       "}\n",
       "\n",
       ".xr-sections {\n",
       "  padding-left: 0 !important;\n",
       "  display: grid;\n",
       "  grid-template-columns: 150px auto auto 1fr 20px 20px;\n",
       "}\n",
       "\n",
       ".xr-section-item {\n",
       "  display: contents;\n",
       "}\n",
       "\n",
       ".xr-section-item input {\n",
       "  display: none;\n",
       "}\n",
       "\n",
       ".xr-section-item input + label {\n",
       "  color: var(--xr-disabled-color);\n",
       "}\n",
       "\n",
       ".xr-section-item input:enabled + label {\n",
       "  cursor: pointer;\n",
       "  color: var(--xr-font-color2);\n",
       "}\n",
       "\n",
       ".xr-section-item input:enabled + label:hover {\n",
       "  color: var(--xr-font-color0);\n",
       "}\n",
       "\n",
       ".xr-section-summary {\n",
       "  grid-column: 1;\n",
       "  color: var(--xr-font-color2);\n",
       "  font-weight: 500;\n",
       "}\n",
       "\n",
       ".xr-section-summary > span {\n",
       "  display: inline-block;\n",
       "  padding-left: 0.5em;\n",
       "}\n",
       "\n",
       ".xr-section-summary-in:disabled + label {\n",
       "  color: var(--xr-font-color2);\n",
       "}\n",
       "\n",
       ".xr-section-summary-in + label:before {\n",
       "  display: inline-block;\n",
       "  content: '►';\n",
       "  font-size: 11px;\n",
       "  width: 15px;\n",
       "  text-align: center;\n",
       "}\n",
       "\n",
       ".xr-section-summary-in:disabled + label:before {\n",
       "  color: var(--xr-disabled-color);\n",
       "}\n",
       "\n",
       ".xr-section-summary-in:checked + label:before {\n",
       "  content: '▼';\n",
       "}\n",
       "\n",
       ".xr-section-summary-in:checked + label > span {\n",
       "  display: none;\n",
       "}\n",
       "\n",
       ".xr-section-summary,\n",
       ".xr-section-inline-details {\n",
       "  padding-top: 4px;\n",
       "  padding-bottom: 4px;\n",
       "}\n",
       "\n",
       ".xr-section-inline-details {\n",
       "  grid-column: 2 / -1;\n",
       "}\n",
       "\n",
       ".xr-section-details {\n",
       "  display: none;\n",
       "  grid-column: 1 / -1;\n",
       "  margin-bottom: 5px;\n",
       "}\n",
       "\n",
       ".xr-section-summary-in:checked ~ .xr-section-details {\n",
       "  display: contents;\n",
       "}\n",
       "\n",
       ".xr-array-wrap {\n",
       "  grid-column: 1 / -1;\n",
       "  display: grid;\n",
       "  grid-template-columns: 20px auto;\n",
       "}\n",
       "\n",
       ".xr-array-wrap > label {\n",
       "  grid-column: 1;\n",
       "  vertical-align: top;\n",
       "}\n",
       "\n",
       ".xr-preview {\n",
       "  color: var(--xr-font-color3);\n",
       "}\n",
       "\n",
       ".xr-array-preview,\n",
       ".xr-array-data {\n",
       "  padding: 0 5px !important;\n",
       "  grid-column: 2;\n",
       "}\n",
       "\n",
       ".xr-array-data,\n",
       ".xr-array-in:checked ~ .xr-array-preview {\n",
       "  display: none;\n",
       "}\n",
       "\n",
       ".xr-array-in:checked ~ .xr-array-data,\n",
       ".xr-array-preview {\n",
       "  display: inline-block;\n",
       "}\n",
       "\n",
       ".xr-dim-list {\n",
       "  display: inline-block !important;\n",
       "  list-style: none;\n",
       "  padding: 0 !important;\n",
       "  margin: 0;\n",
       "}\n",
       "\n",
       ".xr-dim-list li {\n",
       "  display: inline-block;\n",
       "  padding: 0;\n",
       "  margin: 0;\n",
       "}\n",
       "\n",
       ".xr-dim-list:before {\n",
       "  content: '(';\n",
       "}\n",
       "\n",
       ".xr-dim-list:after {\n",
       "  content: ')';\n",
       "}\n",
       "\n",
       ".xr-dim-list li:not(:last-child):after {\n",
       "  content: ',';\n",
       "  padding-right: 5px;\n",
       "}\n",
       "\n",
       ".xr-has-index {\n",
       "  font-weight: bold;\n",
       "}\n",
       "\n",
       ".xr-var-list,\n",
       ".xr-var-item {\n",
       "  display: contents;\n",
       "}\n",
       "\n",
       ".xr-var-item > div,\n",
       ".xr-var-item label,\n",
       ".xr-var-item > .xr-var-name span {\n",
       "  background-color: var(--xr-background-color-row-even);\n",
       "  margin-bottom: 0;\n",
       "}\n",
       "\n",
       ".xr-var-item > .xr-var-name:hover span {\n",
       "  padding-right: 5px;\n",
       "}\n",
       "\n",
       ".xr-var-list > li:nth-child(odd) > div,\n",
       ".xr-var-list > li:nth-child(odd) > label,\n",
       ".xr-var-list > li:nth-child(odd) > .xr-var-name span {\n",
       "  background-color: var(--xr-background-color-row-odd);\n",
       "}\n",
       "\n",
       ".xr-var-name {\n",
       "  grid-column: 1;\n",
       "}\n",
       "\n",
       ".xr-var-dims {\n",
       "  grid-column: 2;\n",
       "}\n",
       "\n",
       ".xr-var-dtype {\n",
       "  grid-column: 3;\n",
       "  text-align: right;\n",
       "  color: var(--xr-font-color2);\n",
       "}\n",
       "\n",
       ".xr-var-preview {\n",
       "  grid-column: 4;\n",
       "}\n",
       "\n",
       ".xr-index-preview {\n",
       "  grid-column: 2 / 5;\n",
       "  color: var(--xr-font-color2);\n",
       "}\n",
       "\n",
       ".xr-var-name,\n",
       ".xr-var-dims,\n",
       ".xr-var-dtype,\n",
       ".xr-preview,\n",
       ".xr-attrs dt {\n",
       "  white-space: nowrap;\n",
       "  overflow: hidden;\n",
       "  text-overflow: ellipsis;\n",
       "  padding-right: 10px;\n",
       "}\n",
       "\n",
       ".xr-var-name:hover,\n",
       ".xr-var-dims:hover,\n",
       ".xr-var-dtype:hover,\n",
       ".xr-attrs dt:hover {\n",
       "  overflow: visible;\n",
       "  width: auto;\n",
       "  z-index: 1;\n",
       "}\n",
       "\n",
       ".xr-var-attrs,\n",
       ".xr-var-data,\n",
       ".xr-index-data {\n",
       "  display: none;\n",
       "  background-color: var(--xr-background-color) !important;\n",
       "  padding-bottom: 5px !important;\n",
       "}\n",
       "\n",
       ".xr-var-attrs-in:checked ~ .xr-var-attrs,\n",
       ".xr-var-data-in:checked ~ .xr-var-data,\n",
       ".xr-index-data-in:checked ~ .xr-index-data {\n",
       "  display: block;\n",
       "}\n",
       "\n",
       ".xr-var-data > table {\n",
       "  float: right;\n",
       "}\n",
       "\n",
       ".xr-var-name span,\n",
       ".xr-var-data,\n",
       ".xr-index-name div,\n",
       ".xr-index-data,\n",
       ".xr-attrs {\n",
       "  padding-left: 25px !important;\n",
       "}\n",
       "\n",
       ".xr-attrs,\n",
       ".xr-var-attrs,\n",
       ".xr-var-data,\n",
       ".xr-index-data {\n",
       "  grid-column: 1 / -1;\n",
       "}\n",
       "\n",
       "dl.xr-attrs {\n",
       "  padding: 0;\n",
       "  margin: 0;\n",
       "  display: grid;\n",
       "  grid-template-columns: 125px auto;\n",
       "}\n",
       "\n",
       ".xr-attrs dt,\n",
       ".xr-attrs dd {\n",
       "  padding: 0;\n",
       "  margin: 0;\n",
       "  float: left;\n",
       "  padding-right: 10px;\n",
       "  width: auto;\n",
       "}\n",
       "\n",
       ".xr-attrs dt {\n",
       "  font-weight: normal;\n",
       "  grid-column: 1;\n",
       "}\n",
       "\n",
       ".xr-attrs dt:hover span {\n",
       "  display: inline-block;\n",
       "  background: var(--xr-background-color);\n",
       "  padding-right: 10px;\n",
       "}\n",
       "\n",
       ".xr-attrs dd {\n",
       "  grid-column: 2;\n",
       "  white-space: pre-wrap;\n",
       "  word-break: break-all;\n",
       "}\n",
       "\n",
       ".xr-icon-database,\n",
       ".xr-icon-file-text2,\n",
       ".xr-no-icon {\n",
       "  display: inline-block;\n",
       "  vertical-align: middle;\n",
       "  width: 1em;\n",
       "  height: 1.5em !important;\n",
       "  stroke-width: 0;\n",
       "  stroke: currentColor;\n",
       "  fill: currentColor;\n",
       "}\n",
       "</style><pre class='xr-text-repr-fallback'>&lt;xarray.DataArray (band: 1, y: 166, x: 375)&gt;\n",
       "[62250 values with dtype=uint8]\n",
       "Coordinates:\n",
       "  * band         (band) int64 1\n",
       "  * x            (x) float64 1.034e+06 1.034e+06 ... 1.045e+06 1.045e+06\n",
       "  * y            (y) float64 2.258e+06 2.258e+06 ... 2.253e+06 2.253e+06\n",
       "    spatial_ref  int64 0\n",
       "Attributes:\n",
       "    AREA_OR_POINT:        Area\n",
       "    LAYER_TYPE:           thematic\n",
       "    OVERVIEWS_ALGORITHM:  IMAGINE Nearest Neighbor Resampling\n",
       "    scale_factor:         1.0\n",
       "    add_offset:           0.0\n",
       "    long_name:            Layer_1</pre><div class='xr-wrap' style='display:none'><div class='xr-header'><div class='xr-obj-type'>xarray.DataArray</div><div class='xr-array-name'></div><ul class='xr-dim-list'><li><span class='xr-has-index'>band</span>: 1</li><li><span class='xr-has-index'>y</span>: 166</li><li><span class='xr-has-index'>x</span>: 375</li></ul></div><ul class='xr-sections'><li class='xr-section-item'><div class='xr-array-wrap'><input id='section-17d129bd-20fe-40e2-9f92-ee64dcb3d9a6' class='xr-array-in' type='checkbox' checked><label for='section-17d129bd-20fe-40e2-9f92-ee64dcb3d9a6' title='Show/hide data repr'><svg class='icon xr-icon-database'><use xlink:href='#icon-database'></use></svg></label><div class='xr-array-preview xr-preview'><span>...</span></div><div class='xr-array-data'><pre>[62250 values with dtype=uint8]</pre></div></div></li><li class='xr-section-item'><input id='section-e95920e3-47a7-4470-b102-4ca948a177ed' class='xr-section-summary-in' type='checkbox'  checked><label for='section-e95920e3-47a7-4470-b102-4ca948a177ed' class='xr-section-summary' >Coordinates: <span>(4)</span></label><div class='xr-section-inline-details'></div><div class='xr-section-details'><ul class='xr-var-list'><li class='xr-var-item'><div class='xr-var-name'><span class='xr-has-index'>band</span></div><div class='xr-var-dims'>(band)</div><div class='xr-var-dtype'>int64</div><div class='xr-var-preview xr-preview'>1</div><input id='attrs-a72653b6-c4f3-4558-9575-408befc8515f' class='xr-var-attrs-in' type='checkbox' disabled><label for='attrs-a72653b6-c4f3-4558-9575-408befc8515f' title='Show/Hide attributes'><svg class='icon xr-icon-file-text2'><use xlink:href='#icon-file-text2'></use></svg></label><input id='data-6cb989d7-52dd-444b-b512-8c95f0235b17' class='xr-var-data-in' type='checkbox'><label for='data-6cb989d7-52dd-444b-b512-8c95f0235b17' title='Show/Hide data repr'><svg class='icon xr-icon-database'><use xlink:href='#icon-database'></use></svg></label><div class='xr-var-attrs'><dl class='xr-attrs'></dl></div><div class='xr-var-data'><pre>array([1])</pre></div></li><li class='xr-var-item'><div class='xr-var-name'><span class='xr-has-index'>x</span></div><div class='xr-var-dims'>(x)</div><div class='xr-var-dtype'>float64</div><div class='xr-var-preview xr-preview'>1.034e+06 1.034e+06 ... 1.045e+06</div><input id='attrs-c12f0bcf-dd7a-4a56-a6de-6b5105372bbd' class='xr-var-attrs-in' type='checkbox' disabled><label for='attrs-c12f0bcf-dd7a-4a56-a6de-6b5105372bbd' title='Show/Hide attributes'><svg class='icon xr-icon-file-text2'><use xlink:href='#icon-file-text2'></use></svg></label><input id='data-23d5cee1-9a6d-4f64-b2b7-224921cd9a45' class='xr-var-data-in' type='checkbox'><label for='data-23d5cee1-9a6d-4f64-b2b7-224921cd9a45' title='Show/Hide data repr'><svg class='icon xr-icon-database'><use xlink:href='#icon-database'></use></svg></label><div class='xr-var-attrs'><dl class='xr-attrs'></dl></div><div class='xr-var-data'><pre>array([1034070., 1034100., 1034130., ..., 1045230., 1045260., 1045290.])</pre></div></li><li class='xr-var-item'><div class='xr-var-name'><span class='xr-has-index'>y</span></div><div class='xr-var-dims'>(y)</div><div class='xr-var-dtype'>float64</div><div class='xr-var-preview xr-preview'>2.258e+06 2.258e+06 ... 2.253e+06</div><input id='attrs-399ed7b9-7d6b-4f73-a9b5-b3afbde0a305' class='xr-var-attrs-in' type='checkbox' disabled><label for='attrs-399ed7b9-7d6b-4f73-a9b5-b3afbde0a305' title='Show/Hide attributes'><svg class='icon xr-icon-file-text2'><use xlink:href='#icon-file-text2'></use></svg></label><input id='data-7f0b752f-915d-45e2-be37-cba450e857e1' class='xr-var-data-in' type='checkbox'><label for='data-7f0b752f-915d-45e2-be37-cba450e857e1' title='Show/Hide data repr'><svg class='icon xr-icon-database'><use xlink:href='#icon-database'></use></svg></label><div class='xr-var-attrs'><dl class='xr-attrs'></dl></div><div class='xr-var-data'><pre>array([2258280., 2258250., 2258220., 2258190., 2258160., 2258130., 2258100.,\n",
       "       2258070., 2258040., 2258010., 2257980., 2257950., 2257920., 2257890.,\n",
       "       2257860., 2257830., 2257800., 2257770., 2257740., 2257710., 2257680.,\n",
       "       2257650., 2257620., 2257590., 2257560., 2257530., 2257500., 2257470.,\n",
       "       2257440., 2257410., 2257380., 2257350., 2257320., 2257290., 2257260.,\n",
       "       2257230., 2257200., 2257170., 2257140., 2257110., 2257080., 2257050.,\n",
       "       2257020., 2256990., 2256960., 2256930., 2256900., 2256870., 2256840.,\n",
       "       2256810., 2256780., 2256750., 2256720., 2256690., 2256660., 2256630.,\n",
       "       2256600., 2256570., 2256540., 2256510., 2256480., 2256450., 2256420.,\n",
       "       2256390., 2256360., 2256330., 2256300., 2256270., 2256240., 2256210.,\n",
       "       2256180., 2256150., 2256120., 2256090., 2256060., 2256030., 2256000.,\n",
       "       2255970., 2255940., 2255910., 2255880., 2255850., 2255820., 2255790.,\n",
       "       2255760., 2255730., 2255700., 2255670., 2255640., 2255610., 2255580.,\n",
       "       2255550., 2255520., 2255490., 2255460., 2255430., 2255400., 2255370.,\n",
       "       2255340., 2255310., 2255280., 2255250., 2255220., 2255190., 2255160.,\n",
       "       2255130., 2255100., 2255070., 2255040., 2255010., 2254980., 2254950.,\n",
       "       2254920., 2254890., 2254860., 2254830., 2254800., 2254770., 2254740.,\n",
       "       2254710., 2254680., 2254650., 2254620., 2254590., 2254560., 2254530.,\n",
       "       2254500., 2254470., 2254440., 2254410., 2254380., 2254350., 2254320.,\n",
       "       2254290., 2254260., 2254230., 2254200., 2254170., 2254140., 2254110.,\n",
       "       2254080., 2254050., 2254020., 2253990., 2253960., 2253930., 2253900.,\n",
       "       2253870., 2253840., 2253810., 2253780., 2253750., 2253720., 2253690.,\n",
       "       2253660., 2253630., 2253600., 2253570., 2253540., 2253510., 2253480.,\n",
       "       2253450., 2253420., 2253390., 2253360., 2253330.])</pre></div></li><li class='xr-var-item'><div class='xr-var-name'><span>spatial_ref</span></div><div class='xr-var-dims'>()</div><div class='xr-var-dtype'>int64</div><div class='xr-var-preview xr-preview'>0</div><input id='attrs-a79eddee-19c5-4f6c-86b3-b30ecabef172' class='xr-var-attrs-in' type='checkbox' ><label for='attrs-a79eddee-19c5-4f6c-86b3-b30ecabef172' title='Show/Hide attributes'><svg class='icon xr-icon-file-text2'><use xlink:href='#icon-file-text2'></use></svg></label><input id='data-c0c3c635-8124-4963-9690-21dc8f436e4e' class='xr-var-data-in' type='checkbox'><label for='data-c0c3c635-8124-4963-9690-21dc8f436e4e' title='Show/Hide data repr'><svg class='icon xr-icon-database'><use xlink:href='#icon-database'></use></svg></label><div class='xr-var-attrs'><dl class='xr-attrs'><dt><span>crs_wkt :</span></dt><dd>PROJCS[&quot;Albers Conical Equal Area&quot;,GEOGCS[&quot;WGS 84&quot;,DATUM[&quot;WGS_1984&quot;,SPHEROID[&quot;WGS 84&quot;,6378137,298.257223563,AUTHORITY[&quot;EPSG&quot;,&quot;7030&quot;]],AUTHORITY[&quot;EPSG&quot;,&quot;6326&quot;]],PRIMEM[&quot;Greenwich&quot;,0],UNIT[&quot;degree&quot;,0.0174532925199433,AUTHORITY[&quot;EPSG&quot;,&quot;9122&quot;]],AUTHORITY[&quot;EPSG&quot;,&quot;4326&quot;]],PROJECTION[&quot;Albers_Conic_Equal_Area&quot;],PARAMETER[&quot;latitude_of_center&quot;,23],PARAMETER[&quot;longitude_of_center&quot;,-96],PARAMETER[&quot;standard_parallel_1&quot;,29.5],PARAMETER[&quot;standard_parallel_2&quot;,45.5],PARAMETER[&quot;false_easting&quot;,0],PARAMETER[&quot;false_northing&quot;,0],UNIT[&quot;metre&quot;,1,AUTHORITY[&quot;EPSG&quot;,&quot;9001&quot;]],AXIS[&quot;Easting&quot;,EAST],AXIS[&quot;Northing&quot;,NORTH]]</dd><dt><span>semi_major_axis :</span></dt><dd>6378137.0</dd><dt><span>semi_minor_axis :</span></dt><dd>6356752.314245179</dd><dt><span>inverse_flattening :</span></dt><dd>298.257223563</dd><dt><span>reference_ellipsoid_name :</span></dt><dd>WGS 84</dd><dt><span>longitude_of_prime_meridian :</span></dt><dd>0.0</dd><dt><span>prime_meridian_name :</span></dt><dd>Greenwich</dd><dt><span>geographic_crs_name :</span></dt><dd>WGS 84</dd><dt><span>horizontal_datum_name :</span></dt><dd>World Geodetic System 1984</dd><dt><span>projected_crs_name :</span></dt><dd>Albers Conical Equal Area</dd><dt><span>grid_mapping_name :</span></dt><dd>albers_conical_equal_area</dd><dt><span>standard_parallel :</span></dt><dd>(29.5, 45.5)</dd><dt><span>latitude_of_projection_origin :</span></dt><dd>23.0</dd><dt><span>longitude_of_central_meridian :</span></dt><dd>-96.0</dd><dt><span>false_easting :</span></dt><dd>0.0</dd><dt><span>false_northing :</span></dt><dd>0.0</dd><dt><span>spatial_ref :</span></dt><dd>PROJCS[&quot;Albers Conical Equal Area&quot;,GEOGCS[&quot;WGS 84&quot;,DATUM[&quot;WGS_1984&quot;,SPHEROID[&quot;WGS 84&quot;,6378137,298.257223563,AUTHORITY[&quot;EPSG&quot;,&quot;7030&quot;]],AUTHORITY[&quot;EPSG&quot;,&quot;6326&quot;]],PRIMEM[&quot;Greenwich&quot;,0],UNIT[&quot;degree&quot;,0.0174532925199433,AUTHORITY[&quot;EPSG&quot;,&quot;9122&quot;]],AUTHORITY[&quot;EPSG&quot;,&quot;4326&quot;]],PROJECTION[&quot;Albers_Conic_Equal_Area&quot;],PARAMETER[&quot;latitude_of_center&quot;,23],PARAMETER[&quot;longitude_of_center&quot;,-96],PARAMETER[&quot;standard_parallel_1&quot;,29.5],PARAMETER[&quot;standard_parallel_2&quot;,45.5],PARAMETER[&quot;false_easting&quot;,0],PARAMETER[&quot;false_northing&quot;,0],UNIT[&quot;metre&quot;,1,AUTHORITY[&quot;EPSG&quot;,&quot;9001&quot;]],AXIS[&quot;Easting&quot;,EAST],AXIS[&quot;Northing&quot;,NORTH]]</dd><dt><span>GeoTransform :</span></dt><dd>1034055.0 30.0 0.0 2258295.0 0.0 -30.0</dd></dl></div><div class='xr-var-data'><pre>array(0)</pre></div></li></ul></div></li><li class='xr-section-item'><input id='section-b6ebc520-244b-40e7-a1ea-e5b7240cbda1' class='xr-section-summary-in' type='checkbox'  ><label for='section-b6ebc520-244b-40e7-a1ea-e5b7240cbda1' class='xr-section-summary' >Indexes: <span>(3)</span></label><div class='xr-section-inline-details'></div><div class='xr-section-details'><ul class='xr-var-list'><li class='xr-var-item'><div class='xr-index-name'><div>band</div></div><div class='xr-index-preview'>PandasIndex</div><div></div><input id='index-4b40edf1-98ce-48ee-ba07-ce2f0c85ace0' class='xr-index-data-in' type='checkbox'/><label for='index-4b40edf1-98ce-48ee-ba07-ce2f0c85ace0' title='Show/Hide index repr'><svg class='icon xr-icon-database'><use xlink:href='#icon-database'></use></svg></label><div class='xr-index-data'><pre>PandasIndex(Index([1], dtype=&#x27;int64&#x27;, name=&#x27;band&#x27;))</pre></div></li><li class='xr-var-item'><div class='xr-index-name'><div>x</div></div><div class='xr-index-preview'>PandasIndex</div><div></div><input id='index-773b0a19-4577-49b1-a814-e2e67bf0d9c7' class='xr-index-data-in' type='checkbox'/><label for='index-773b0a19-4577-49b1-a814-e2e67bf0d9c7' title='Show/Hide index repr'><svg class='icon xr-icon-database'><use xlink:href='#icon-database'></use></svg></label><div class='xr-index-data'><pre>PandasIndex(Index([1034070.0, 1034100.0, 1034130.0, 1034160.0, 1034190.0, 1034220.0,\n",
       "       1034250.0, 1034280.0, 1034310.0, 1034340.0,\n",
       "       ...\n",
       "       1045020.0, 1045050.0, 1045080.0, 1045110.0, 1045140.0, 1045170.0,\n",
       "       1045200.0, 1045230.0, 1045260.0, 1045290.0],\n",
       "      dtype=&#x27;float64&#x27;, name=&#x27;x&#x27;, length=375))</pre></div></li><li class='xr-var-item'><div class='xr-index-name'><div>y</div></div><div class='xr-index-preview'>PandasIndex</div><div></div><input id='index-ea56dcfe-8b26-4b10-a4c1-ad33c044f0bb' class='xr-index-data-in' type='checkbox'/><label for='index-ea56dcfe-8b26-4b10-a4c1-ad33c044f0bb' title='Show/Hide index repr'><svg class='icon xr-icon-database'><use xlink:href='#icon-database'></use></svg></label><div class='xr-index-data'><pre>PandasIndex(Index([2258280.0, 2258250.0, 2258220.0, 2258190.0, 2258160.0, 2258130.0,\n",
       "       2258100.0, 2258070.0, 2258040.0, 2258010.0,\n",
       "       ...\n",
       "       2253600.0, 2253570.0, 2253540.0, 2253510.0, 2253480.0, 2253450.0,\n",
       "       2253420.0, 2253390.0, 2253360.0, 2253330.0],\n",
       "      dtype=&#x27;float64&#x27;, name=&#x27;y&#x27;, length=166))</pre></div></li></ul></div></li><li class='xr-section-item'><input id='section-89d6ee3d-c3d8-43e0-9e26-5fdb49c6e0fe' class='xr-section-summary-in' type='checkbox'  checked><label for='section-89d6ee3d-c3d8-43e0-9e26-5fdb49c6e0fe' class='xr-section-summary' >Attributes: <span>(6)</span></label><div class='xr-section-inline-details'></div><div class='xr-section-details'><dl class='xr-attrs'><dt><span>AREA_OR_POINT :</span></dt><dd>Area</dd><dt><span>LAYER_TYPE :</span></dt><dd>thematic</dd><dt><span>OVERVIEWS_ALGORITHM :</span></dt><dd>IMAGINE Nearest Neighbor Resampling</dd><dt><span>scale_factor :</span></dt><dd>1.0</dd><dt><span>add_offset :</span></dt><dd>0.0</dd><dt><span>long_name :</span></dt><dd>Layer_1</dd></dl></div></li></ul></div></div>"
      ],
      "text/plain": [
       "<xarray.DataArray (band: 1, y: 166, x: 375)>\n",
       "[62250 values with dtype=uint8]\n",
       "Coordinates:\n",
       "  * band         (band) int64 1\n",
       "  * x            (x) float64 1.034e+06 1.034e+06 ... 1.045e+06 1.045e+06\n",
       "  * y            (y) float64 2.258e+06 2.258e+06 ... 2.253e+06 2.253e+06\n",
       "    spatial_ref  int64 0\n",
       "Attributes:\n",
       "    AREA_OR_POINT:        Area\n",
       "    LAYER_TYPE:           thematic\n",
       "    OVERVIEWS_ALGORITHM:  IMAGINE Nearest Neighbor Resampling\n",
       "    scale_factor:         1.0\n",
       "    add_offset:           0.0\n",
       "    long_name:            Layer_1"
      ]
     },
     "execution_count": 11,
     "metadata": {},
     "output_type": "execute_result"
    }
   ],
   "source": [
    "ou_landcover_2001_ds"
   ]
  },
  {
   "cell_type": "code",
   "execution_count": 13,
   "id": "612f499d-ff13-4a13-9362-bc7296fe9b01",
   "metadata": {},
   "outputs": [
    {
     "data": {
      "image/png": "[encoded data removed]",
      "text/plain": [
       "<Figure size 640x480 with 2 Axes>"
      ]
     },
     "metadata": {},
     "output_type": "display_data"
    }
   ],
   "source": [
    "f, ax = plt.subplots()\n",
    "ou_landcover_2001_ds.plot(ax=ax, cmap='Pastel2')\n",
    "\n",
    "ax.set(title=\"Raster Layer\")\n",
    "\n",
    "ax.set_axis_off()\n",
    "plt.show()\n"
   ]
  },
  {
   "cell_type": "code",
   "execution_count": null,
   "id": "3032a381-cb5e-4c0f-9419-095d97c359a2",
   "metadata": {},
   "outputs": [],
   "source": []
  },
  {
   "cell_type": "code",
   "execution_count": null,
   "id": "42f0336a-b4a1-49fa-abe7-14160b054607",
   "metadata": {},
   "outputs": [],
   "source": []
  },
  {
   "cell_type": "code",
   "execution_count": null,
   "id": "004dd7f7-ca7d-47ab-8ef7-b46e56a8bb63",
   "metadata": {},
   "outputs": [],
   "source": []
  },
  {
   "cell_type": "code",
   "execution_count": null,
   "id": "67c338b0-2706-423a-82bd-bfd4b4d83fd3",
   "metadata": {},
   "outputs": [],
   "source": []
  },
  {
   "cell_type": "code",
   "execution_count": null,
   "id": "9c141287-c76f-45e4-bc96-9ae76a32272b",
   "metadata": {},
   "outputs": [],
   "source": [
    "ou_extent_file = Path(Path.cwd(), 'data', 'ou_boundary.gpkg')\n",
    "ou_extent = gpd.read_file(ou_extent_file)\n",
    "ou_extent"
   ]
  },
  {
   "cell_type": "code",
   "execution_count": null,
   "id": "34032c48-5be1-45b7-bd56-0c155d70be89",
   "metadata": {},
   "outputs": [],
   "source": [
    "print('crop extent crs: ', ou_extent.crs)\n",
    "print('nlcd crs: ', ou_landcover_2001_ds.rio.crs)\n"
   ]
  },
  {
   "cell_type": "markdown",
   "id": "987462fc-86f6-4291-9b66-e20e0d24cd69",
   "metadata": {},
   "source": [
    "Need to reproject the polygon file."
   ]
  },
  {
   "cell_type": "code",
   "execution_count": null,
   "id": "180fa22a-df94-4ad0-b380-b651c116394c",
   "metadata": {},
   "outputs": [],
   "source": [
    "crs_aea = ou_landcover_2001_ds.rio.crs\n",
    "ou_extent_aea = ou_extent.to_crs(crs_aea)\n",
    "print('crop extent updated crs: ', ou_extent_aea.crs)"
   ]
  },
  {
   "cell_type": "markdown",
   "id": "5587cc0e-ee21-4017-8774-9997db5c334c",
   "metadata": {},
   "source": [
    "Let's plot both"
   ]
  },
  {
   "cell_type": "code",
   "execution_count": null,
   "id": "4536463c-f22e-4cc4-ac76-55633e026be5",
   "metadata": {},
   "outputs": [],
   "source": [
    "f, ax = plt.subplots(figsize=(10, 5))\n",
    "ou_landcover_2001_ds.plot(ax=ax, cmap='Pastel2')\n",
    "\n",
    "ou_extent_aea.plot(ax=ax,\n",
    "                 alpha=.8)\n",
    "ax.set(title=\"Raster Layer with Polygon Overlayed\")\n",
    "\n",
    "ax.set_axis_off()\n",
    "plt.show()\n"
   ]
  },
  {
   "cell_type": "markdown",
   "id": "62dd855e-4bba-4c9c-ac9d-63fe61f0c7b2",
   "metadata": {},
   "source": [
    "Now we can clip the raster to the polygon."
   ]
  },
  {
   "cell_type": "code",
   "execution_count": null,
   "id": "4fc64fd2-6efc-4752-ae00-f3d18ce70ec7",
   "metadata": {},
   "outputs": [],
   "source": []
  },
  {
   "cell_type": "code",
   "execution_count": null,
   "id": "71b3a5ee-ef72-4f2e-8342-9ae0426b0f72",
   "metadata": {},
   "outputs": [],
   "source": [
    "ou_extent_aea.geometry.values"
   ]
  },
  {
   "cell_type": "code",
   "execution_count": null,
   "id": "680f9fec-e548-43de-b641-31b5aaffb4f5",
   "metadata": {},
   "outputs": [],
   "source": [
    "ou_landcover_2001_ds = ou_landcover_2001_ds.rio.clip(ou_extent_aea.geometry.values, drop=True)\n",
    "ou_landcover_2011_ds = ou_landcover_2011_ds.rio.clip(ou_extent_aea.geometry.values, drop=True)\n",
    "ou_landcover_2021_ds = ou_landcover_2021_ds.rio.clip(ou_extent_aea.geometry.values, drop=True)"
   ]
  },
  {
   "cell_type": "code",
   "execution_count": null,
   "id": "39df1c7e-f981-4086-884d-15e4f9c960a9",
   "metadata": {},
   "outputs": [],
   "source": [
    "f, ax = plt.subplots(figsize=(10, 5))\n",
    "ou_landcover_2001_ds.plot(ax=ax, cmap='Pastel2')\n",
    "\n",
    "ou_extent_aea.plot(ax=ax,\n",
    "                 alpha=.4)\n",
    "\n",
    "ax.set(title=\"Raster Layer with Polygon Overlayed\")\n",
    "\n",
    "ax.set_axis_off()\n",
    "plt.show()\n"
   ]
  },
  {
   "cell_type": "code",
   "execution_count": null,
   "id": "4570bdc9-13c5-4d81-bd9f-73361701f4a6",
   "metadata": {},
   "outputs": [],
   "source": [
    "ou_landcover_2001_ds"
   ]
  },
  {
   "cell_type": "markdown",
   "id": "f34846be-74d9-40e4-b77e-b3a149f10d0f",
   "metadata": {},
   "source": [
    "Explicitly set the nodata attribute for the datasets. Plotting xarrays doesn't honor this and we still need to manually mask using `.where` clause."
   ]
  },
  {
   "cell_type": "code",
   "execution_count": null,
   "id": "80cdd675-fbdb-406c-abd9-a07e9d1e2729",
   "metadata": {},
   "outputs": [],
   "source": [
    "ou_landcover_2001_ds.rio.write_nodata(0, inplace=True)\n",
    "ou_landcover_2011_ds.rio.write_nodata(0, inplace=True)\n",
    "ou_landcover_2021_ds.rio.write_nodata(0, inplace=True)"
   ]
  },
  {
   "cell_type": "code",
   "execution_count": null,
   "id": "aa33a718-da37-4c13-b61d-aeb730fcf2d5",
   "metadata": {},
   "outputs": [],
   "source": [
    "f, ax = plt.subplots(figsize=(10, 5))\n",
    "ou_landcover_2011_ds.where(ou_landcover_2011_ds > 0).plot(ax=ax, cmap='Pastel2')\n",
    "\n",
    "ou_extent_aea.plot(ax=ax,\n",
    "                 alpha=.4)\n",
    "\n",
    "ax.set(title=\"Raster Layer with Polygon Overlayed\")\n",
    "\n",
    "ax.set_axis_off()\n",
    "plt.show()\n"
   ]
  },
  {
   "cell_type": "code",
   "execution_count": null,
   "id": "91ccc7e2-67d8-49cc-affa-d4624059de4a",
   "metadata": {},
   "outputs": [],
   "source": [
    "ou_landcover_2001_ds.where(ou_landcover_2001_ds > 0)"
   ]
  },
  {
   "cell_type": "code",
   "execution_count": null,
   "id": "b0f73924-2eed-444f-ba28-ee4c30eb2252",
   "metadata": {},
   "outputs": [],
   "source": [
    "#ou_landcover_2001_ds = ou_landcover_2001_ds.where(ou_landcover_2001_ds > 0)\n",
    "#ou_landcover_2011_ds = ou_landcover_2011_ds.where(ou_landcover_2011_ds > 0)\n",
    "#ou_landcover_2021_ds = ou_landcover_2021_ds.where(ou_landcover_2021_ds > 0)"
   ]
  },
  {
   "cell_type": "code",
   "execution_count": null,
   "id": "66ddef2d-494b-4814-ab6b-399dde384642",
   "metadata": {},
   "outputs": [],
   "source": []
  },
  {
   "cell_type": "markdown",
   "id": "8c86b668-1c64-41fe-9854-26c46a62eff3",
   "metadata": {},
   "source": [
    "```\n",
    "National Land Cover Database Class Legend and Description\n",
    "Class\\ Value\n",
    "Classification Description\n",
    "\n",
    "Water\n",
    "- 11 Open Water- areas of open water, generally with less than 25% cover of vegetation\n",
    "or soil.\n",
    "- 12 Perennial Ice/Snow- areas characterized by a perennial cover of ice and/or snow,\n",
    "generally greater than 25% of total cover.\n",
    "\n",
    "Developed\n",
    "- 21 Developed, Open Space- areas with a mixture of some constructed materials, but\n",
    "mostly vegetation in the form of lawn grasses. Impervious surfaces account for less\n",
    "than 20% of total cover. These areas most commonly include large-lot single-family\n",
    "housing units, parks, golf courses, and vegetation planted in developed settings for\n",
    "recreation, erosion control, or aesthetic purposes.\n",
    "- 22 Developed, Low Intensity- areas with a mixture of constructed materials and\n",
    "vegetation. Impervious surfaces account for 20% to 49% percent of total cover.\n",
    "These areas most commonly include single-family housing units.\n",
    "- 23 Developed, Medium Intensity -areas with a mixture of constructed materials and\n",
    "vegetation. Impervious surfaces account for 50% to 79% of the total cover. These\n",
    "areas most commonly include single-family housing units.\n",
    "- 24 Developed High Intensity-highly developed areas where people reside or work in\n",
    "high numbers. Examples include apartment complexes, row houses and\n",
    "commercial/industrial. Impervious surfaces account for 80% to 100% of the total\n",
    "cover.\n",
    "\n",
    "Barren\n",
    "- 31 Barren Land (Rock/Sand/Clay) - areas of bedrock, desert pavement, scarps, talus,\n",
    "slides, volcanic material, glacial debris, sand dunes, strip mines, gravel pits and other\n",
    "accumulations of earthen material. Generally, vegetation accounts for less than 15%\n",
    "of total cover.\n",
    "Forest\n",
    "- 41 Deciduous Forest- areas dominated by trees generally greater than 5 meters tall,\n",
    "and greater than 20% of total vegetation cover. More than 75% of the tree species\n",
    "shed foliage simultaneously in response to seasonal change.\n",
    "- 42 Evergreen Forest- areas dominated by trees generally greater than 5 meters tall,\n",
    "and greater than 20% of total vegetation cover. More than 75% of the tree species\n",
    "maintain their leaves all year. Canopy is never without green foliage.43\n",
    "Mixed Forest- areas dominated by trees generally greater than 5 meters tall, and\n",
    "greater than 20% of total vegetation cover. Neither deciduous nor evergreen species\n",
    "are greater than 75% of total tree cover.\n",
    "\n",
    "Shrubland\n",
    "- 51 Dwarf Scrub- Alaska only areas dominated by shrubs less than 20 centimeters tall\n",
    "with shrub canopy typically greater than 20% of total vegetation. This type is often\n",
    "co-associated with grasses, sedges, herbs, and non-vascular vegetation.\n",
    "- 52 Shrub/Scrub- areas dominated by shrubs; less than 5 meters tall with shrub canopy\n",
    "typically greater than 20% of total vegetation. This class includes true shrubs, young\n",
    "trees in an early successional stage or trees stunted from environmental conditions.\n",
    "Herbaceous\n",
    "- 71 Grassland/Herbaceous- areas dominated by gramanoid or herbaceous vegetation,\n",
    "generally greater than 80% of total vegetation. These areas are not subject to\n",
    "intensive management such as tilling, but can be utilized for grazing.\n",
    "- 72 Sedge/Herbaceous- Alaska only areas dominated by sedges and forbs, generally\n",
    "greater than 80% of total vegetation. This type can occur with significant other\n",
    "grasses or other grass like plants, and includes sedge tundra, and sedge tussock\n",
    "tundra.\n",
    "- 73 Lichens- Alaska only areas dominated by fruticose or foliose lichens generally\n",
    "greater than 80% of total vegetation.\n",
    "- 74 Moss- Alaska only areas dominated by mosses, generally greater than 80% of total\n",
    "vegetation.\n",
    "\n",
    "Planted/Cultivated\n",
    "- 81 Pasture/Hay-areas of grasses, legumes, or grass-legume mixtures planted for\n",
    "livestock grazing or the production of seed or hay crops, typically on a perennial\n",
    "cycle. Pasture/hay vegetation accounts for greater than 20% of total vegetation.\n",
    "- 82 Cultivated Crops -areas used for the production of annual crops, such as corn,\n",
    "soybeans, vegetables, tobacco, and cotton, and also perennial woody crops such as\n",
    "orchards and vineyards. Crop vegetation accounts for greater than 20% of total\n",
    "vegetation. This class also includes all land being actively tilled.\n",
    "\n",
    "Wetlands\n",
    "- 90 Woody Wetlands- areas where forest or shrubland vegetation accounts for greater\n",
    "than 20% of vegetative cover and the soil or substrate is periodically saturated with\n",
    "or covered with water.\n",
    "- 95 Emergent Herbaceous Wetlands- Areas where perennial herbaceous vegetation\n",
    "accounts for greater than 80% of vegetative cover and the soil or substrate is\n",
    "periodically saturated with or covered with water.\n",
    "```"
   ]
  },
  {
   "cell_type": "code",
   "execution_count": null,
   "id": "91bdbeed-fc58-441d-a75b-ab844437eeb4",
   "metadata": {},
   "outputs": [],
   "source": [
    "unique_2001, counts_2001 = np.unique(ou_landcover_2001_ds.values, return_counts=True)\n",
    "print(np.asarray((unique_2001, counts_2001)).T)"
   ]
  },
  {
   "cell_type": "code",
   "execution_count": null,
   "id": "424e0878-ac07-4aa7-85ca-42e07acba4b3",
   "metadata": {},
   "outputs": [],
   "source": [
    "unique_2021, counts_2021 = np.unique(ou_landcover_2021_ds.values, return_counts=True)\n",
    "print(np.asarray((unique_2021, counts_2021)).T)"
   ]
  },
  {
   "cell_type": "code",
   "execution_count": null,
   "id": "003218a4-1380-4132-9cb3-ef1e2dec0ac9",
   "metadata": {},
   "outputs": [],
   "source": [
    "unique_2011, counts_2011 = np.unique(ou_landcover_2011_ds.values, return_counts=True)\n",
    "print(np.asarray((unique_2011, counts_2011)).T)"
   ]
  },
  {
   "cell_type": "markdown",
   "id": "1543aa68-bdb3-4a29-a878-bed7efb873db",
   "metadata": {},
   "source": [
    "The frequency distributions look pretty similar. Faceted histos might be nice way to compare.\n",
    "\n",
    "First we need to create a dataframe that will facilitate computations with these arrays. We could structure like this:\n",
    "\n",
    "```\n",
    "year\n",
    "group\n",
    "class\n",
    "count\n",
    "```\n",
    "\n",
    "Maybe easiest to create separate dataframes by year and then stack them.\n",
    "\n",
    "Should be able to create a `DataFrame` from four arrays."
   ]
  },
  {
   "cell_type": "code",
   "execution_count": null,
   "id": "7be5e4c6-c5ed-484f-86c8-03278e2131a6",
   "metadata": {},
   "outputs": [],
   "source": [
    "# 2001\n",
    "group_2001 = (unique_2001 / 10).astype('int')\n",
    "group_2011 = (unique_2011 / 10).astype('int')\n",
    "group_2021 = (unique_2021 / 10).astype('int')\n",
    "\n",
    "year_2001 = np.full(len(group_2001), 2001)\n",
    "year_2011 = np.full(len(group_2011), 2011)\n",
    "year_2021 = np.full(len(group_2021), 2021)\n",
    "\n",
    "\n",
    "land_cover_2001_df = pd.DataFrame({'year': year_2001, 'group': group_2001, 'class': unique_2001, 'count':counts_2001})\n",
    "land_cover_2011_df = pd.DataFrame({'year': year_2011, 'group': group_2011, 'class': unique_2011, 'count':counts_2011})\n",
    "land_cover_2021_df = pd.DataFrame({'year': year_2021, 'group': group_2021, 'class': unique_2021, 'count':counts_2021})\n",
    "\n",
    "land_cover_df = pd.concat([land_cover_2001_df, land_cover_2011_df, land_cover_2021_df])\n",
    "# Filter out the zeros (nodata)\n",
    "land_cover_df = land_cover_df[land_cover_df['group'] > 0]\n",
    "land_cover_df"
   ]
  },
  {
   "cell_type": "markdown",
   "id": "86dfff9d-d1db-47b5-807d-b46a4fd82a55",
   "metadata": {},
   "source": [
    "Compute percentage of pixels in class 2 by year."
   ]
  },
  {
   "cell_type": "code",
   "execution_count": null,
   "id": "0b927e56-a93a-4e8e-a5fa-c6d9b27b8150",
   "metadata": {},
   "outputs": [],
   "source": [
    "group_counts = land_cover_df.groupby(['year', 'group'])['count'].sum()\n",
    "print(group_counts)"
   ]
  },
  {
   "cell_type": "code",
   "execution_count": null,
   "id": "17c13ea7-1c05-4d18-abeb-81811bd9de37",
   "metadata": {},
   "outputs": [],
   "source": [
    "group_counts.groupby(['year']).transform('sum')"
   ]
  },
  {
   "cell_type": "code",
   "execution_count": null,
   "id": "316051e3-94ed-4bd1-b930-9a0658086bef",
   "metadata": {},
   "outputs": [],
   "source": [
    "group_counts / group_counts.groupby(['year']).transform('sum')"
   ]
  },
  {
   "cell_type": "code",
   "execution_count": null,
   "id": "963b4671-bb92-4047-bdc1-c03b020af947",
   "metadata": {},
   "outputs": [],
   "source": [
    "land_cover_df.groupby(['year', 'group'])['count'].transform('sum')"
   ]
  },
  {
   "cell_type": "code",
   "execution_count": null,
   "id": "18558c75-f45a-4e00-9c2f-6a91aeeda06e",
   "metadata": {},
   "outputs": [],
   "source": [
    "land_cover_df['count'] / land_cover_df.groupby(['year', 'group'])['count'].transform('sum')"
   ]
  },
  {
   "cell_type": "code",
   "execution_count": null,
   "id": "0fda4068-9c61-4592-8181-73bf7ff50b2a",
   "metadata": {},
   "outputs": [],
   "source": [
    "land_cover_df['pct_of_group'] = land_cover_df['count'] / land_cover_df.groupby(['year', 'group'])['count'].transform('sum')"
   ]
  },
  {
   "cell_type": "code",
   "execution_count": null,
   "id": "22fb0b4b-2660-4cf1-b3e7-46c1abbf3fde",
   "metadata": {},
   "outputs": [],
   "source": [
    "land_cover_df"
   ]
  },
  {
   "cell_type": "markdown",
   "id": "cb8d2af7-2282-41a1-98b2-ea19e45a9f50",
   "metadata": {},
   "source": [
    "Overall, the amount of developed land has remained steady over the past 20 years. Let's look at the more detailed change in the type of developed land - 21 (open space), 22 (low intensity), 23 (medium intensity), 24 (high intensity). Then let's also look at the change in forested land (41 and 42) as well as forested wetlands (90).\n",
    "\n",
    "First, let's use [Series.unstack](https://pandas.pydata.org/pandas-docs/stable/reference/api/pandas.Series.unstack.html) to convert this `Series` and its multiindex into a `DataFrame`.\n",
    "\n",
    "- turns out this doesn't work as there appears to be a bug with multiindex unstacking or you just can't unstack all levels\n",
    "- one option might be to unstack by one level and then melt\n",
    "- another option is to use `reset_index` and don't drop the columns"
   ]
  },
  {
   "cell_type": "code",
   "execution_count": null,
   "id": "33166842-a17b-43cd-9aab-eb0416dbd1e5",
   "metadata": {},
   "outputs": [],
   "source": [
    "group_pct_mix = group_counts / group_counts.groupby(['year']).transform('sum')\n",
    "group_pct_mix_df = group_pct_mix.reset_index(drop=False)\n",
    "group_pct_mix_df = group_pct_mix_df.rename({'count': 'pct'}, axis=1)\n",
    "group_pct_mix_df"
   ]
  },
  {
   "cell_type": "markdown",
   "id": "a06019bf-f334-4367-9f98-de0902d50c14",
   "metadata": {},
   "source": [
    "Let's plot the change in group 2 (developed)."
   ]
  },
  {
   "cell_type": "code",
   "execution_count": null,
   "id": "e82ba7c1-f2be-4cd8-8396-d21bc6b787ba",
   "metadata": {},
   "outputs": [],
   "source": [
    "import seaborn as sns"
   ]
  },
  {
   "cell_type": "code",
   "execution_count": null,
   "id": "2977b1de-4500-45a1-9d5b-2288d3226aa0",
   "metadata": {},
   "outputs": [],
   "source": [
    "sns.lineplot(group_pct_mix_df[group_pct_mix_df['group'] == 2], x='year', y='pct')"
   ]
  },
  {
   "cell_type": "code",
   "execution_count": null,
   "id": "2b20bf36-6a67-4085-b88b-84aeed61344b",
   "metadata": {},
   "outputs": [],
   "source": [
    "group_pct_mix_df[group_pct_mix_df['group'] == 2]"
   ]
  },
  {
   "cell_type": "code",
   "execution_count": null,
   "id": "f375fcaa-4cc6-4c56-a450-e0017a0a93d9",
   "metadata": {},
   "outputs": [],
   "source": [
    "group_pct_mix_df[group_pct_mix_df['group'] == 4]"
   ]
  },
  {
   "cell_type": "code",
   "execution_count": null,
   "id": "6d5c2b9c-d463-43a6-bdff-d2115b2510bc",
   "metadata": {},
   "outputs": [],
   "source": [
    "group_pct_mix_df[group_pct_mix_df['group'] == 9]"
   ]
  },
  {
   "cell_type": "code",
   "execution_count": null,
   "id": "f651606f-a20b-4324-a897-e36a1b175c1c",
   "metadata": {},
   "outputs": [],
   "source": [
    "land_cover_df[land_cover_df['class'] == 21]"
   ]
  },
  {
   "cell_type": "code",
   "execution_count": null,
   "id": "6684e95a-dcfa-415f-8fbc-146a5a01e1fc",
   "metadata": {},
   "outputs": [],
   "source": [
    "land_cover_df[land_cover_df['class'] == 22]"
   ]
  },
  {
   "cell_type": "code",
   "execution_count": null,
   "id": "cdc1ac1b-56ed-4814-998e-dfee73b229ea",
   "metadata": {},
   "outputs": [],
   "source": [
    "land_cover_df[land_cover_df['class'] == 23]"
   ]
  },
  {
   "cell_type": "code",
   "execution_count": null,
   "id": "1454c610-294f-402a-920d-ae5175b77884",
   "metadata": {},
   "outputs": [],
   "source": [
    "land_cover_df[land_cover_df['class'] == 24]"
   ]
  },
  {
   "cell_type": "markdown",
   "id": "c7038f48-83a2-44ec-b1e9-b3dee24e10da",
   "metadata": {},
   "source": [
    "What about the change file? ou_change_index_2002_2021.tif\n",
    "\n",
    "https://www.mrlc.gov/data/nlcd-land-cover-change-index-conus\n",
    "\n",
    "https://gis.stackexchange.com/questions/350212/national-land-cover-dataset-2016-land-cover-change-index-values-meaning\n",
    "\n",
    "The answer given in the above link quotes this \"from the metadata\" but I can't find it.\n",
    "\n",
    "> \n",
    "\n",
    "    The NLCD 2016 Land Cover Change Index is a raster image with an accompanying look-up table that describes the land cover change represented by each index. Previous releases of NLCD land cover covered one target year, and a land cover change index was compiled of change from every class in the previous target year to every class in the current one – for example from 2006 to 2011 or from 2001 to 2006.\n",
    "\n",
    "    NLCD 2016 Land Cover spans not one but seven target years: 2001, 2003, 2006, 2008, 2011, 2013, and 2016. Rather than compiling six land cover change index products (one for each pair of adjacent target years), there is a single NLCD 2016 Land Cover Change Index product whose pixel values indicate land cover changes that occurred at least once between 2001 and 2016. Each assigned image value represents either “No Change” (Index number 1) or one of the changes described below.\n",
    "\n",
    "    Index number 2 identifies pixels that have changed from any land cover class to Water, or from Water to any other land cover class, between any two adjacent target years. Indices 5, 7, 8, 10, and 21 are similar identifiers of change from or to a single land cover class.\n",
    "\n",
    "    Index 3 identifies changes from any land cover class to any of the four Urban land cover classes, or from any of those four classes to any other land cover class, between any two adjacent target years. Index 11 similarly identifies changes from or to any of the three Forest classes.\n",
    "\n",
    "    Index 4 narrowly identifies changes only between Herbaceous Wetland and Woody Wetland. Similarly, Index 6 identifies changes only between Cultivated Crops and Hay / Pasture.\n",
    "\n",
    "    Index 9 meets a special requirement of shrubland research to discriminate where change occurs on persistent shrublands verses change on transitional shrubland areas such as regenerating forests.\n",
    "\n",
    "    Pixel /Index Value Description \n",
    "    \n",
    "    - 1 No Change \n",
    "    - 2 Change from or to Water \n",
    "    - 3 Change from or to any of the four Urban classes (open space; low, medium, and high intensity) \n",
    "    - 4 Change from Herbaceous Wetland to Woody Wetland, or vice versa \n",
    "    - 5 Change from or to Herbaceous Wetland \n",
    "    - 6 Change from Cultivated Crops to Hay / Pasture, or vice versa \n",
    "    - 7 Change from or to Cultivated Crops \n",
    "    - 8 Change from or to Hay / Pasture \n",
    "    - 9 Persistent Grassland and Shrubland change. This change index attempts to identify changes to persistent Grassland and Shrubland areas, and to separate them from transitional shrubland areas such as regenerating forests. \n",
    "    - 10 Change from or to Barren \n",
    "    - 11 Change from or to any of the three Forest classes (Evergreen, Deciduous, and Mixed) \n",
    "    - 12 Change from or to Woody Wetland\n",
    "\n",
    "    Identifying the specific changes from one target year’s land cover class to another, and the specific target years when the changes occurred, both require analysis of the land cover data itself.\n",
    "\n",
    "\n"
   ]
  },
  {
   "cell_type": "code",
   "execution_count": null,
   "id": "63e9bebd-bfc6-4368-9eb9-26fae49b4962",
   "metadata": {},
   "outputs": [],
   "source": [
    "ou_change_index_2002_2021_ds = rioxarray.open_rasterio(Path(Path.cwd(), 'data', 'ou_change_index_2002_2021.tif'))\n",
    "ou_change_index_2002_2021_ds = ou_change_index_2002_2021_ds.rio.clip(ou_extent_aea.geometry.values, drop=True)\n",
    "ou_change_index_2002_2021_ds"
   ]
  },
  {
   "cell_type": "code",
   "execution_count": null,
   "id": "f0e8f104-0b3c-4a6a-9e8d-4850bfa8845a",
   "metadata": {},
   "outputs": [],
   "source": [
    "ou_change_index_2002_2021_ds.values"
   ]
  },
  {
   "cell_type": "code",
   "execution_count": null,
   "id": "8f22f0b1-cff8-4208-8aa3-a788bf8af350",
   "metadata": {},
   "outputs": [],
   "source": [
    "unique_change_index, counts_change_index = np.unique(ou_change_index_2002_2021_ds.values, return_counts=True)\n",
    "print(np.asarray((unique_change_index, counts_change_index)).T)"
   ]
  },
  {
   "cell_type": "markdown",
   "id": "3c1d9743-c70c-47fa-bb14-f39467886411",
   "metadata": {},
   "source": [
    "See metadata above for interpretation."
   ]
  },
  {
   "cell_type": "markdown",
   "id": "43a26c87-b654-41d6-a350-acf21ef38b5e",
   "metadata": {},
   "source": [
    "## Extracting vector data from OSM using QGIS\n",
    "\n",
    "https://www.youtube.com/watch?v=Yxkh2f-3Bj8\n",
    "\n",
    "Video covers using OSM as a base map in QGIS and then querying features (e.g. building) to download and create vector layer of those features. "
   ]
  },
  {
   "cell_type": "markdown",
   "id": "5ce4672a-39a0-4a76-bd24-20a256132a6f",
   "metadata": {},
   "source": [
    "## Rivers on campus\n",
    "\n",
    "Can use Hydrosheds to plot rivers. Um, no. See result. :) Need more detailed data. Looks like State of Michigan has publicly available GIS data from https://gis-michigan.opendata.arcgis.com/. It's got tons of data!\n",
    "\n",
    "There is a [Hydrography Lines](https://gis-michigan.opendata.arcgis.com/datasets/f34a4c83afea4736a003e9f92bb0c6c8_2/explore?location=42.665119%2C-83.197162%2C14.32) dataset that can be downloaded in CSV, KML, Shapefile or GeoJSON format. I did GeoJSON.\n",
    "\n"
   ]
  },
  {
   "cell_type": "code",
   "execution_count": null,
   "id": "442cad0d-affa-4365-9519-220ed649a9cc",
   "metadata": {},
   "outputs": [],
   "source": [
    "import os\n",
    "WSFR_DATA_ROOT = os.environ['WSFR_DATA_ROOT']"
   ]
  },
  {
   "cell_type": "code",
   "execution_count": null,
   "id": "a6ebbdb9-4078-4b44-8740-c869fdaa1cbd",
   "metadata": {},
   "outputs": [],
   "source": [
    "rivers_file = Path(WSFR_DATA_ROOT,'hydrosheds/HydroRIVERS_v10_na.gdb/HydroRIVERS_v10_na.gdb')\n",
    "rivers_gdf = gpd.read_file(rivers_file, engine='pyogrio')\n",
    "rivers_gdf = rivers_gdf.to_crs(crs_aea)\n",
    "rivers_gdf.info()"
   ]
  },
  {
   "cell_type": "code",
   "execution_count": null,
   "id": "940f9fa6-9cd7-4887-bf2f-1001b6e0933a",
   "metadata": {},
   "outputs": [],
   "source": [
    "rivers_file_MI = Path(Path.cwd(), 'data', 'Hydrography_Lines_(v17a).geojson')\n",
    "rivers_MI_gdf = gpd.read_file(rivers_file_MI, engine='pyogrio')\n",
    "rivers_MI_gdf = rivers_MI_gdf.to_crs(crs_aea)\n",
    "rivers_MI_gdf.info()"
   ]
  },
  {
   "cell_type": "code",
   "execution_count": null,
   "id": "8719efce-8c71-4e82-b94a-18e184aa0d34",
   "metadata": {},
   "outputs": [],
   "source": [
    "rivers_MI_gdf.crs"
   ]
  },
  {
   "cell_type": "code",
   "execution_count": null,
   "id": "6bc86ac4-4e72-42e5-b93d-85bb22140c38",
   "metadata": {},
   "outputs": [],
   "source": [
    "rivers_MI_gdf"
   ]
  },
  {
   "cell_type": "code",
   "execution_count": null,
   "id": "87dfb331-06b5-498b-ba51-1b9c5dfcc333",
   "metadata": {},
   "outputs": [],
   "source": [
    "rivers_gdf.iloc[0:3]['geometry']"
   ]
  },
  {
   "cell_type": "markdown",
   "id": "3d0bca64-16c4-458c-9ecf-144b359d1870",
   "metadata": {},
   "source": [
    "How to find those river segments that intersect the OU polygon?"
   ]
  },
  {
   "cell_type": "code",
   "execution_count": null,
   "id": "de08a771-1b9e-4c15-97b9-2000cbf5bddc",
   "metadata": {},
   "outputs": [],
   "source": [
    "ou_extent_aea_polygon = ou_extent_aea.iloc[0].iloc[0]"
   ]
  },
  {
   "cell_type": "code",
   "execution_count": null,
   "id": "f27c62a6-13eb-40fb-83e3-3d771edfcbea",
   "metadata": {},
   "outputs": [],
   "source": [
    "print(ou_extent_aea_polygon)"
   ]
  },
  {
   "cell_type": "markdown",
   "id": "7cb0148f-f634-426d-9d2c-7b991894cfa4",
   "metadata": {},
   "source": [
    "https://stackoverflow.com/questions/20474549/extract-points-coordinates-from-a-polygon-in-shapely"
   ]
  },
  {
   "cell_type": "code",
   "execution_count": null,
   "id": "eae1afeb-6ee6-4139-9228-cba8c2c213f4",
   "metadata": {},
   "outputs": [],
   "source": [
    "import shapely"
   ]
  },
  {
   "cell_type": "code",
   "execution_count": null,
   "id": "7b0a56d1-2017-474e-86a1-0eb7b7620a89",
   "metadata": {},
   "outputs": [],
   "source": [
    "shapely.get_coordinates(ou_extent_aea_polygon)"
   ]
  },
  {
   "cell_type": "code",
   "execution_count": null,
   "id": "5ba6f21e-24e7-4319-8fc4-86d44d23869d",
   "metadata": {},
   "outputs": [],
   "source": [
    "tuple(ou_extent_aea_polygon.exterior.coords)"
   ]
  },
  {
   "cell_type": "code",
   "execution_count": null,
   "id": "4a8f1506-381c-4a57-b20f-dd5904c759ae",
   "metadata": {},
   "outputs": [],
   "source": [
    "xx, yy = ou_extent_aea_polygon.exterior.coords.xy\n",
    "print(xx)\n",
    "print(yy)"
   ]
  },
  {
   "cell_type": "code",
   "execution_count": null,
   "id": "97f7f3cb-9f9c-4789-b037-6e348fe64acd",
   "metadata": {},
   "outputs": [],
   "source": [
    "minx_poly = min(xx)\n",
    "maxx_poly = max(xx)\n",
    "miny_poly = min(yy)\n",
    "maxy_poly = max(yy)\n"
   ]
  },
  {
   "cell_type": "code",
   "execution_count": null,
   "id": "7b945c8f-3c88-4074-b71e-339470dcc0c1",
   "metadata": {},
   "outputs": [],
   "source": []
  },
  {
   "cell_type": "code",
   "execution_count": null,
   "id": "025f8e5b-982e-4ddb-afbf-e9d79666c7a5",
   "metadata": {},
   "outputs": [],
   "source": []
  },
  {
   "cell_type": "code",
   "execution_count": null,
   "id": "806ccd5a-cb19-47ed-bc8e-78a2a45aeaa4",
   "metadata": {},
   "outputs": [],
   "source": [
    "sum(rivers_gdf.intersects(ou_extent_aea_polygon))"
   ]
  },
  {
   "cell_type": "code",
   "execution_count": null,
   "id": "7394f6c4-a42b-40c4-87c6-db7e4f60d21d",
   "metadata": {},
   "outputs": [],
   "source": [
    "rivers_ou_gdf = rivers_gdf[rivers_gdf.intersects(ou_extent_aea_polygon)]\n",
    "\n",
    "\n",
    "rivers_ou_MI_gdf = rivers_MI_gdf[rivers_MI_gdf.intersects(ou_extent_aea_polygon)]"
   ]
  },
  {
   "cell_type": "code",
   "execution_count": null,
   "id": "ce46198c-46a1-48ac-8e5e-344c56cbc803",
   "metadata": {},
   "outputs": [],
   "source": [
    "rivers_MI_gdf[rivers_MI_gdf.intersects(ou_extent_aea_polygon)]"
   ]
  },
  {
   "cell_type": "code",
   "execution_count": null,
   "id": "9d74935b-a81f-48f8-9c3d-d158db7a60b8",
   "metadata": {},
   "outputs": [],
   "source": [
    "rivers_ou_gdf"
   ]
  },
  {
   "cell_type": "code",
   "execution_count": null,
   "id": "aa882b4f-6d46-4f4f-aa47-05140950a8ce",
   "metadata": {},
   "outputs": [],
   "source": [
    "f, ax = plt.subplots(figsize=(10, 5))\n",
    "ou_landcover_2011_ds.where(ou_landcover_2011_ds > 0).plot(ax=ax, cmap='Pastel2')\n",
    "\n",
    "rivers_MI_gdf.plot(ax=ax)\n",
    "\n",
    "ax.set(title=\"Raster Layer with River\")\n",
    "\n",
    "ax.set_axis_off()\n",
    "plt.show()\n"
   ]
  },
  {
   "cell_type": "code",
   "execution_count": null,
   "id": "27015ac9-33df-478b-90e5-abe80395150e",
   "metadata": {},
   "outputs": [],
   "source": [
    "f, ax = plt.subplots(figsize=(10, 5))\n",
    "\n",
    "ou_landcover_2011_ds.where(ou_landcover_2011_ds > 0).plot(ax=ax, cmap='Pastel2')\n",
    "\n",
    "rivers_ou_gdf.plot(ax=ax)\n",
    "\n",
    "\n",
    "ax.set(title=\"Raster Layer with River\")\n",
    "\n",
    "ax.set_axis_off()\n",
    "plt.show()\n"
   ]
  },
  {
   "cell_type": "code",
   "execution_count": null,
   "id": "86d50eee-522a-4fec-8bee-38a857b9f50f",
   "metadata": {},
   "outputs": [],
   "source": []
  },
  {
   "cell_type": "code",
   "execution_count": null,
   "id": "fa626d0c-5f9c-4035-b252-adac7515b07f",
   "metadata": {},
   "outputs": [],
   "source": [
    "import cartopy.crs as ccrs                   # import projections"
   ]
  },
  {
   "cell_type": "code",
   "execution_count": null,
   "id": "1c33fc7b-b1a3-4e5e-87b1-b68197975d70",
   "metadata": {},
   "outputs": [],
   "source": [
    "crs_aea = ccrs.AlbersEqualArea(central_longitude=-96,\n",
    "                               central_latitude=40,\n",
    "                               standard_parallels=(20.0, 60.0))"
   ]
  },
  {
   "cell_type": "code",
   "execution_count": null,
   "id": "7abfa342-b341-4afc-be31-06fc473b8d7a",
   "metadata": {},
   "outputs": [],
   "source": [
    "cartopy_extent_aea = (minx_poly, maxx_poly, miny_poly, maxy_poly)"
   ]
  },
  {
   "cell_type": "code",
   "execution_count": null,
   "id": "2fce1e5e-c782-4fc0-a744-3526679d1157",
   "metadata": {},
   "outputs": [],
   "source": [
    "print(cartopy_extent_aea)"
   ]
  },
  {
   "cell_type": "code",
   "execution_count": null,
   "id": "a6799644-ce0a-4e9b-9163-6eda763af1ea",
   "metadata": {},
   "outputs": [],
   "source": [
    "f, ax = plt.subplots(figsize=(10, 5))\n",
    "\n",
    "# create a set of axes with desired projection  \n",
    "ax = plt.axes(projection = crs_aea)\n",
    "\n",
    "# Set map extent\n",
    "ax.set_extent(cartopy_extent_aea, crs = crs_aea)\n",
    "\n",
    "ou_landcover_2011_ds.where(ou_landcover_2011_ds > 0).plot(ax=ax, cmap='Pastel2')\n",
    "\n",
    "rivers_MI_gdf.plot(ax=ax)\n",
    "\n",
    "ax.set(title=\"Raster Layer with River\")\n",
    "\n",
    "ax.set_axis_off()\n",
    "plt.show()\n"
   ]
  },
  {
   "cell_type": "markdown",
   "id": "37174490-fddb-445c-b23d-13e90f5b9be4",
   "metadata": {},
   "source": [
    "Hmmm, not sure how to not plot rivers outside polygon. Feels like I need to clip the rivers:\n",
    "\n",
    "https://gis.stackexchange.com/questions/340058/geopandas-cut-lines-with-polygon"
   ]
  },
  {
   "cell_type": "code",
   "execution_count": null,
   "id": "58d07916-c6ba-4c6a-b320-efd4ad7d1fb8",
   "metadata": {},
   "outputs": [],
   "source": [
    "intersection = rivers_MI_gdf.intersection(ou_extent_aea_polygon)"
   ]
  },
  {
   "cell_type": "code",
   "execution_count": null,
   "id": "5c3f62f8-3442-43ae-a165-2bfca8a9556a",
   "metadata": {},
   "outputs": [],
   "source": [
    "f, ax = plt.subplots(figsize=(10, 5))\n",
    "\n",
    "# create a set of axes with desired projection  \n",
    "ax = plt.axes(projection = crs_aea)\n",
    "\n",
    "# Set map extent\n",
    "ax.set_extent(cartopy_extent_aea, crs = crs_aea)\n",
    "\n",
    "ou_landcover_2011_ds.where(ou_landcover_2011_ds > 0).plot(ax=ax, cmap='Pastel2')\n",
    "\n",
    "intersection.plot(ax=ax)\n",
    "\n",
    "ax.set(title=\"Raster Layer with River\")\n",
    "\n",
    "ax.set_axis_off()\n",
    "plt.show()\n"
   ]
  },
  {
   "cell_type": "code",
   "execution_count": null,
   "id": "06a1e199-6bdf-4596-8288-569859d648e8",
   "metadata": {},
   "outputs": [],
   "source": []
  },
  {
   "cell_type": "code",
   "execution_count": null,
   "id": "c4b80b60-e6fe-47fe-b7a6-8a7770737a08",
   "metadata": {},
   "outputs": [],
   "source": []
  }
 ],
 "metadata": {
  "kernelspec": {
   "display_name": "Python [conda env:eogeo_310]",
   "language": "python",
   "name": "conda-env-eogeo_310-py"
  },
  "language_info": {
   "codemirror_mode": {
    "name": "ipython",
    "version": 3
   },
   "file_extension": ".py",
   "mimetype": "text/x-python",
   "name": "python",
   "nbconvert_exporter": "python",
   "pygments_lexer": "ipython3",
   "version": "3.10.13"
  }
 },
 "nbformat": 4,
 "nbformat_minor": 5
}
