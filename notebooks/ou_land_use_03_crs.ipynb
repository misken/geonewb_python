{
 "cells": [
  {
   "cell_type": "markdown",
   "id": "5c2483d8-572f-4a99-a886-7471fed4bc7f",
   "metadata": {},
   "source": [
    "# Notebook 3: Introduction to coordinate reference systems (CRS)\n",
    "\n",
    "In this notebook we will learn the basics of working with CRSs with Python. For our land use analysis, we have datasets with different CRSs. We need to choose one CRS and make sure all of our data is projected to that CRS.\n",
    "\n",
    "- https://pubs.usgs.gov/pp/1395/report.pdf\n",
    "- https://www.usgs.gov/publications/map-projections-used-us-geological-survey"
   ]
  },
  {
   "cell_type": "markdown",
   "id": "b51f96a2-0cfa-4147-98fc-65451d62a2e9",
   "metadata": {},
   "source": [
    "## Get the CRS for raster and vector data"
   ]
  },
  {
   "cell_type": "code",
   "execution_count": 1,
   "id": "fe8082e9-e4f0-4aab-bd84-2d2c32eb783e",
   "metadata": {},
   "outputs": [],
   "source": [
    "# Load libraries\n",
    "from pathlib import Path\n",
    "import matplotlib.pyplot as plt\n",
    "import numpy as np\n",
    "\n",
    "import rioxarray\n",
    "import geopandas as gpd\n"
   ]
  },
  {
   "cell_type": "markdown",
   "id": "d26069d3-7a28-43da-9103-dd8d57e6107b",
   "metadata": {},
   "source": [
    "Use rioxarray's [open_rasterio()](https://corteva.github.io/rioxarray/html/rioxarray.html) method to read the TIFF file into an xarray `DataArray`. "
   ]
  },
  {
   "cell_type": "code",
   "execution_count": 2,
   "id": "6055f57b-cd3e-4bed-927e-969ed33e1e65",
   "metadata": {},
   "outputs": [
    {
     "data": {
      "text/html": [
       "<div><svg style=\"position: absolute; width: 0; height: 0; overflow: hidden\">\n",
       "<defs>\n",
       "<symbol id=\"icon-database\" viewBox=\"0 0 32 32\">\n",
       "<path d=\"M16 0c-8.837 0-16 2.239-16 5v4c0 2.761 7.163 5 16 5s16-2.239 16-5v-4c0-2.761-7.163-5-16-5z\"></path>\n",
       "<path d=\"M16 17c-8.837 0-16-2.239-16-5v6c0 2.761 7.163 5 16 5s16-2.239 16-5v-6c0 2.761-7.163 5-16 5z\"></path>\n",
       "<path d=\"M16 26c-8.837 0-16-2.239-16-5v6c0 2.761 7.163 5 16 5s16-2.239 16-5v-6c0 2.761-7.163 5-16 5z\"></path>\n",
       "</symbol>\n",
       "<symbol id=\"icon-file-text2\" viewBox=\"0 0 32 32\">\n",
       "<path d=\"M28.681 7.159c-0.694-0.947-1.662-2.053-2.724-3.116s-2.169-2.030-3.116-2.724c-1.612-1.182-2.393-1.319-2.841-1.319h-15.5c-1.378 0-2.5 1.121-2.5 2.5v27c0 1.378 1.122 2.5 2.5 2.5h23c1.378 0 2.5-1.122 2.5-2.5v-19.5c0-0.448-0.137-1.23-1.319-2.841zM24.543 5.457c0.959 0.959 1.712 1.825 2.268 2.543h-4.811v-4.811c0.718 0.556 1.584 1.309 2.543 2.268zM28 29.5c0 0.271-0.229 0.5-0.5 0.5h-23c-0.271 0-0.5-0.229-0.5-0.5v-27c0-0.271 0.229-0.5 0.5-0.5 0 0 15.499-0 15.5 0v7c0 0.552 0.448 1 1 1h7v19.5z\"></path>\n",
       "<path d=\"M23 26h-14c-0.552 0-1-0.448-1-1s0.448-1 1-1h14c0.552 0 1 0.448 1 1s-0.448 1-1 1z\"></path>\n",
       "<path d=\"M23 22h-14c-0.552 0-1-0.448-1-1s0.448-1 1-1h14c0.552 0 1 0.448 1 1s-0.448 1-1 1z\"></path>\n",
       "<path d=\"M23 18h-14c-0.552 0-1-0.448-1-1s0.448-1 1-1h14c0.552 0 1 0.448 1 1s-0.448 1-1 1z\"></path>\n",
       "</symbol>\n",
       "</defs>\n",
       "</svg>\n",
       "<style>/* CSS stylesheet for displaying xarray objects in jupyterlab.\n",
       " *\n",
       " */\n",
       "\n",
       ":root {\n",
       "  --xr-font-color0: var(--jp-content-font-color0, rgba(0, 0, 0, 1));\n",
       "  --xr-font-color2: var(--jp-content-font-color2, rgba(0, 0, 0, 0.54));\n",
       "  --xr-font-color3: var(--jp-content-font-color3, rgba(0, 0, 0, 0.38));\n",
       "  --xr-border-color: var(--jp-border-color2, #e0e0e0);\n",
       "  --xr-disabled-color: var(--jp-layout-color3, #bdbdbd);\n",
       "  --xr-background-color: var(--jp-layout-color0, white);\n",
       "  --xr-background-color-row-even: var(--jp-layout-color1, white);\n",
       "  --xr-background-color-row-odd: var(--jp-layout-color2, #eeeeee);\n",
       "}\n",
       "\n",
       "html[theme=dark],\n",
       "body[data-theme=dark],\n",
       "body.vscode-dark {\n",
       "  --xr-font-color0: rgba(255, 255, 255, 1);\n",
       "  --xr-font-color2: rgba(255, 255, 255, 0.54);\n",
       "  --xr-font-color3: rgba(255, 255, 255, 0.38);\n",
       "  --xr-border-color: #1F1F1F;\n",
       "  --xr-disabled-color: #515151;\n",
       "  --xr-background-color: #111111;\n",
       "  --xr-background-color-row-even: #111111;\n",
       "  --xr-background-color-row-odd: #313131;\n",
       "}\n",
       "\n",
       ".xr-wrap {\n",
       "  display: block !important;\n",
       "  min-width: 300px;\n",
       "  max-width: 700px;\n",
       "}\n",
       "\n",
       ".xr-text-repr-fallback {\n",
       "  /* fallback to plain text repr when CSS is not injected (untrusted notebook) */\n",
       "  display: none;\n",
       "}\n",
       "\n",
       ".xr-header {\n",
       "  padding-top: 6px;\n",
       "  padding-bottom: 6px;\n",
       "  margin-bottom: 4px;\n",
       "  border-bottom: solid 1px var(--xr-border-color);\n",
       "}\n",
       "\n",
       ".xr-header > div,\n",
       ".xr-header > ul {\n",
       "  display: inline;\n",
       "  margin-top: 0;\n",
       "  margin-bottom: 0;\n",
       "}\n",
       "\n",
       ".xr-obj-type,\n",
       ".xr-array-name {\n",
       "  margin-left: 2px;\n",
       "  margin-right: 10px;\n",
       "}\n",
       "\n",
       ".xr-obj-type {\n",
       "  color: var(--xr-font-color2);\n",
       "}\n",
       "\n",
       ".xr-sections {\n",
       "  padding-left: 0 !important;\n",
       "  display: grid;\n",
       "  grid-template-columns: 150px auto auto 1fr 20px 20px;\n",
       "}\n",
       "\n",
       ".xr-section-item {\n",
       "  display: contents;\n",
       "}\n",
       "\n",
       ".xr-section-item input {\n",
       "  display: none;\n",
       "}\n",
       "\n",
       ".xr-section-item input + label {\n",
       "  color: var(--xr-disabled-color);\n",
       "}\n",
       "\n",
       ".xr-section-item input:enabled + label {\n",
       "  cursor: pointer;\n",
       "  color: var(--xr-font-color2);\n",
       "}\n",
       "\n",
       ".xr-section-item input:enabled + label:hover {\n",
       "  color: var(--xr-font-color0);\n",
       "}\n",
       "\n",
       ".xr-section-summary {\n",
       "  grid-column: 1;\n",
       "  color: var(--xr-font-color2);\n",
       "  font-weight: 500;\n",
       "}\n",
       "\n",
       ".xr-section-summary > span {\n",
       "  display: inline-block;\n",
       "  padding-left: 0.5em;\n",
       "}\n",
       "\n",
       ".xr-section-summary-in:disabled + label {\n",
       "  color: var(--xr-font-color2);\n",
       "}\n",
       "\n",
       ".xr-section-summary-in + label:before {\n",
       "  display: inline-block;\n",
       "  content: '►';\n",
       "  font-size: 11px;\n",
       "  width: 15px;\n",
       "  text-align: center;\n",
       "}\n",
       "\n",
       ".xr-section-summary-in:disabled + label:before {\n",
       "  color: var(--xr-disabled-color);\n",
       "}\n",
       "\n",
       ".xr-section-summary-in:checked + label:before {\n",
       "  content: '▼';\n",
       "}\n",
       "\n",
       ".xr-section-summary-in:checked + label > span {\n",
       "  display: none;\n",
       "}\n",
       "\n",
       ".xr-section-summary,\n",
       ".xr-section-inline-details {\n",
       "  padding-top: 4px;\n",
       "  padding-bottom: 4px;\n",
       "}\n",
       "\n",
       ".xr-section-inline-details {\n",
       "  grid-column: 2 / -1;\n",
       "}\n",
       "\n",
       ".xr-section-details {\n",
       "  display: none;\n",
       "  grid-column: 1 / -1;\n",
       "  margin-bottom: 5px;\n",
       "}\n",
       "\n",
       ".xr-section-summary-in:checked ~ .xr-section-details {\n",
       "  display: contents;\n",
       "}\n",
       "\n",
       ".xr-array-wrap {\n",
       "  grid-column: 1 / -1;\n",
       "  display: grid;\n",
       "  grid-template-columns: 20px auto;\n",
       "}\n",
       "\n",
       ".xr-array-wrap > label {\n",
       "  grid-column: 1;\n",
       "  vertical-align: top;\n",
       "}\n",
       "\n",
       ".xr-preview {\n",
       "  color: var(--xr-font-color3);\n",
       "}\n",
       "\n",
       ".xr-array-preview,\n",
       ".xr-array-data {\n",
       "  padding: 0 5px !important;\n",
       "  grid-column: 2;\n",
       "}\n",
       "\n",
       ".xr-array-data,\n",
       ".xr-array-in:checked ~ .xr-array-preview {\n",
       "  display: none;\n",
       "}\n",
       "\n",
       ".xr-array-in:checked ~ .xr-array-data,\n",
       ".xr-array-preview {\n",
       "  display: inline-block;\n",
       "}\n",
       "\n",
       ".xr-dim-list {\n",
       "  display: inline-block !important;\n",
       "  list-style: none;\n",
       "  padding: 0 !important;\n",
       "  margin: 0;\n",
       "}\n",
       "\n",
       ".xr-dim-list li {\n",
       "  display: inline-block;\n",
       "  padding: 0;\n",
       "  margin: 0;\n",
       "}\n",
       "\n",
       ".xr-dim-list:before {\n",
       "  content: '(';\n",
       "}\n",
       "\n",
       ".xr-dim-list:after {\n",
       "  content: ')';\n",
       "}\n",
       "\n",
       ".xr-dim-list li:not(:last-child):after {\n",
       "  content: ',';\n",
       "  padding-right: 5px;\n",
       "}\n",
       "\n",
       ".xr-has-index {\n",
       "  font-weight: bold;\n",
       "}\n",
       "\n",
       ".xr-var-list,\n",
       ".xr-var-item {\n",
       "  display: contents;\n",
       "}\n",
       "\n",
       ".xr-var-item > div,\n",
       ".xr-var-item label,\n",
       ".xr-var-item > .xr-var-name span {\n",
       "  background-color: var(--xr-background-color-row-even);\n",
       "  margin-bottom: 0;\n",
       "}\n",
       "\n",
       ".xr-var-item > .xr-var-name:hover span {\n",
       "  padding-right: 5px;\n",
       "}\n",
       "\n",
       ".xr-var-list > li:nth-child(odd) > div,\n",
       ".xr-var-list > li:nth-child(odd) > label,\n",
       ".xr-var-list > li:nth-child(odd) > .xr-var-name span {\n",
       "  background-color: var(--xr-background-color-row-odd);\n",
       "}\n",
       "\n",
       ".xr-var-name {\n",
       "  grid-column: 1;\n",
       "}\n",
       "\n",
       ".xr-var-dims {\n",
       "  grid-column: 2;\n",
       "}\n",
       "\n",
       ".xr-var-dtype {\n",
       "  grid-column: 3;\n",
       "  text-align: right;\n",
       "  color: var(--xr-font-color2);\n",
       "}\n",
       "\n",
       ".xr-var-preview {\n",
       "  grid-column: 4;\n",
       "}\n",
       "\n",
       ".xr-index-preview {\n",
       "  grid-column: 2 / 5;\n",
       "  color: var(--xr-font-color2);\n",
       "}\n",
       "\n",
       ".xr-var-name,\n",
       ".xr-var-dims,\n",
       ".xr-var-dtype,\n",
       ".xr-preview,\n",
       ".xr-attrs dt {\n",
       "  white-space: nowrap;\n",
       "  overflow: hidden;\n",
       "  text-overflow: ellipsis;\n",
       "  padding-right: 10px;\n",
       "}\n",
       "\n",
       ".xr-var-name:hover,\n",
       ".xr-var-dims:hover,\n",
       ".xr-var-dtype:hover,\n",
       ".xr-attrs dt:hover {\n",
       "  overflow: visible;\n",
       "  width: auto;\n",
       "  z-index: 1;\n",
       "}\n",
       "\n",
       ".xr-var-attrs,\n",
       ".xr-var-data,\n",
       ".xr-index-data {\n",
       "  display: none;\n",
       "  background-color: var(--xr-background-color) !important;\n",
       "  padding-bottom: 5px !important;\n",
       "}\n",
       "\n",
       ".xr-var-attrs-in:checked ~ .xr-var-attrs,\n",
       ".xr-var-data-in:checked ~ .xr-var-data,\n",
       ".xr-index-data-in:checked ~ .xr-index-data {\n",
       "  display: block;\n",
       "}\n",
       "\n",
       ".xr-var-data > table {\n",
       "  float: right;\n",
       "}\n",
       "\n",
       ".xr-var-name span,\n",
       ".xr-var-data,\n",
       ".xr-index-name div,\n",
       ".xr-index-data,\n",
       ".xr-attrs {\n",
       "  padding-left: 25px !important;\n",
       "}\n",
       "\n",
       ".xr-attrs,\n",
       ".xr-var-attrs,\n",
       ".xr-var-data,\n",
       ".xr-index-data {\n",
       "  grid-column: 1 / -1;\n",
       "}\n",
       "\n",
       "dl.xr-attrs {\n",
       "  padding: 0;\n",
       "  margin: 0;\n",
       "  display: grid;\n",
       "  grid-template-columns: 125px auto;\n",
       "}\n",
       "\n",
       ".xr-attrs dt,\n",
       ".xr-attrs dd {\n",
       "  padding: 0;\n",
       "  margin: 0;\n",
       "  float: left;\n",
       "  padding-right: 10px;\n",
       "  width: auto;\n",
       "}\n",
       "\n",
       ".xr-attrs dt {\n",
       "  font-weight: normal;\n",
       "  grid-column: 1;\n",
       "}\n",
       "\n",
       ".xr-attrs dt:hover span {\n",
       "  display: inline-block;\n",
       "  background: var(--xr-background-color);\n",
       "  padding-right: 10px;\n",
       "}\n",
       "\n",
       ".xr-attrs dd {\n",
       "  grid-column: 2;\n",
       "  white-space: pre-wrap;\n",
       "  word-break: break-all;\n",
       "}\n",
       "\n",
       ".xr-icon-database,\n",
       ".xr-icon-file-text2,\n",
       ".xr-no-icon {\n",
       "  display: inline-block;\n",
       "  vertical-align: middle;\n",
       "  width: 1em;\n",
       "  height: 1.5em !important;\n",
       "  stroke-width: 0;\n",
       "  stroke: currentColor;\n",
       "  fill: currentColor;\n",
       "}\n",
       "</style><pre class='xr-text-repr-fallback'>&lt;xarray.DataArray (band: 1, y: 166, x: 375)&gt;\n",
       "[62250 values with dtype=uint8]\n",
       "Coordinates:\n",
       "  * band         (band) int64 1\n",
       "  * x            (x) float64 1.034e+06 1.034e+06 ... 1.045e+06 1.045e+06\n",
       "  * y            (y) float64 2.258e+06 2.258e+06 ... 2.253e+06 2.253e+06\n",
       "    spatial_ref  int64 0\n",
       "Attributes:\n",
       "    AREA_OR_POINT:        Area\n",
       "    LAYER_TYPE:           thematic\n",
       "    OVERVIEWS_ALGORITHM:  IMAGINE Nearest Neighbor Resampling\n",
       "    scale_factor:         1.0\n",
       "    add_offset:           0.0\n",
       "    long_name:            Layer_1</pre><div class='xr-wrap' style='display:none'><div class='xr-header'><div class='xr-obj-type'>xarray.DataArray</div><div class='xr-array-name'></div><ul class='xr-dim-list'><li><span class='xr-has-index'>band</span>: 1</li><li><span class='xr-has-index'>y</span>: 166</li><li><span class='xr-has-index'>x</span>: 375</li></ul></div><ul class='xr-sections'><li class='xr-section-item'><div class='xr-array-wrap'><input id='section-9bb086fa-a292-4340-9ddd-e13a07d5f232' class='xr-array-in' type='checkbox' checked><label for='section-9bb086fa-a292-4340-9ddd-e13a07d5f232' title='Show/hide data repr'><svg class='icon xr-icon-database'><use xlink:href='#icon-database'></use></svg></label><div class='xr-array-preview xr-preview'><span>...</span></div><div class='xr-array-data'><pre>[62250 values with dtype=uint8]</pre></div></div></li><li class='xr-section-item'><input id='section-efe0ed4f-8cb0-433c-b4aa-fd7ed1bce45d' class='xr-section-summary-in' type='checkbox'  checked><label for='section-efe0ed4f-8cb0-433c-b4aa-fd7ed1bce45d' class='xr-section-summary' >Coordinates: <span>(4)</span></label><div class='xr-section-inline-details'></div><div class='xr-section-details'><ul class='xr-var-list'><li class='xr-var-item'><div class='xr-var-name'><span class='xr-has-index'>band</span></div><div class='xr-var-dims'>(band)</div><div class='xr-var-dtype'>int64</div><div class='xr-var-preview xr-preview'>1</div><input id='attrs-e8f7eec2-91ed-4c7f-9811-181632f8c527' class='xr-var-attrs-in' type='checkbox' disabled><label for='attrs-e8f7eec2-91ed-4c7f-9811-181632f8c527' title='Show/Hide attributes'><svg class='icon xr-icon-file-text2'><use xlink:href='#icon-file-text2'></use></svg></label><input id='data-00e4d36c-137c-4932-bcec-5ef1de2a6ce8' class='xr-var-data-in' type='checkbox'><label for='data-00e4d36c-137c-4932-bcec-5ef1de2a6ce8' title='Show/Hide data repr'><svg class='icon xr-icon-database'><use xlink:href='#icon-database'></use></svg></label><div class='xr-var-attrs'><dl class='xr-attrs'></dl></div><div class='xr-var-data'><pre>array([1])</pre></div></li><li class='xr-var-item'><div class='xr-var-name'><span class='xr-has-index'>x</span></div><div class='xr-var-dims'>(x)</div><div class='xr-var-dtype'>float64</div><div class='xr-var-preview xr-preview'>1.034e+06 1.034e+06 ... 1.045e+06</div><input id='attrs-6c4d802b-a3d9-4289-bd91-a33846833d98' class='xr-var-attrs-in' type='checkbox' disabled><label for='attrs-6c4d802b-a3d9-4289-bd91-a33846833d98' title='Show/Hide attributes'><svg class='icon xr-icon-file-text2'><use xlink:href='#icon-file-text2'></use></svg></label><input id='data-90b33fc6-7829-422d-870b-8ba1ad6c6786' class='xr-var-data-in' type='checkbox'><label for='data-90b33fc6-7829-422d-870b-8ba1ad6c6786' title='Show/Hide data repr'><svg class='icon xr-icon-database'><use xlink:href='#icon-database'></use></svg></label><div class='xr-var-attrs'><dl class='xr-attrs'></dl></div><div class='xr-var-data'><pre>array([1034070., 1034100., 1034130., ..., 1045230., 1045260., 1045290.])</pre></div></li><li class='xr-var-item'><div class='xr-var-name'><span class='xr-has-index'>y</span></div><div class='xr-var-dims'>(y)</div><div class='xr-var-dtype'>float64</div><div class='xr-var-preview xr-preview'>2.258e+06 2.258e+06 ... 2.253e+06</div><input id='attrs-f61cac75-87ab-4793-9fd7-d36e2d6a0088' class='xr-var-attrs-in' type='checkbox' disabled><label for='attrs-f61cac75-87ab-4793-9fd7-d36e2d6a0088' title='Show/Hide attributes'><svg class='icon xr-icon-file-text2'><use xlink:href='#icon-file-text2'></use></svg></label><input id='data-1b1ea6ed-53d9-4b3f-8264-5cb03ab3e7b8' class='xr-var-data-in' type='checkbox'><label for='data-1b1ea6ed-53d9-4b3f-8264-5cb03ab3e7b8' title='Show/Hide data repr'><svg class='icon xr-icon-database'><use xlink:href='#icon-database'></use></svg></label><div class='xr-var-attrs'><dl class='xr-attrs'></dl></div><div class='xr-var-data'><pre>array([2258280., 2258250., 2258220., 2258190., 2258160., 2258130., 2258100.,\n",
       "       2258070., 2258040., 2258010., 2257980., 2257950., 2257920., 2257890.,\n",
       "       2257860., 2257830., 2257800., 2257770., 2257740., 2257710., 2257680.,\n",
       "       2257650., 2257620., 2257590., 2257560., 2257530., 2257500., 2257470.,\n",
       "       2257440., 2257410., 2257380., 2257350., 2257320., 2257290., 2257260.,\n",
       "       2257230., 2257200., 2257170., 2257140., 2257110., 2257080., 2257050.,\n",
       "       2257020., 2256990., 2256960., 2256930., 2256900., 2256870., 2256840.,\n",
       "       2256810., 2256780., 2256750., 2256720., 2256690., 2256660., 2256630.,\n",
       "       2256600., 2256570., 2256540., 2256510., 2256480., 2256450., 2256420.,\n",
       "       2256390., 2256360., 2256330., 2256300., 2256270., 2256240., 2256210.,\n",
       "       2256180., 2256150., 2256120., 2256090., 2256060., 2256030., 2256000.,\n",
       "       2255970., 2255940., 2255910., 2255880., 2255850., 2255820., 2255790.,\n",
       "       2255760., 2255730., 2255700., 2255670., 2255640., 2255610., 2255580.,\n",
       "       2255550., 2255520., 2255490., 2255460., 2255430., 2255400., 2255370.,\n",
       "       2255340., 2255310., 2255280., 2255250., 2255220., 2255190., 2255160.,\n",
       "       2255130., 2255100., 2255070., 2255040., 2255010., 2254980., 2254950.,\n",
       "       2254920., 2254890., 2254860., 2254830., 2254800., 2254770., 2254740.,\n",
       "       2254710., 2254680., 2254650., 2254620., 2254590., 2254560., 2254530.,\n",
       "       2254500., 2254470., 2254440., 2254410., 2254380., 2254350., 2254320.,\n",
       "       2254290., 2254260., 2254230., 2254200., 2254170., 2254140., 2254110.,\n",
       "       2254080., 2254050., 2254020., 2253990., 2253960., 2253930., 2253900.,\n",
       "       2253870., 2253840., 2253810., 2253780., 2253750., 2253720., 2253690.,\n",
       "       2253660., 2253630., 2253600., 2253570., 2253540., 2253510., 2253480.,\n",
       "       2253450., 2253420., 2253390., 2253360., 2253330.])</pre></div></li><li class='xr-var-item'><div class='xr-var-name'><span>spatial_ref</span></div><div class='xr-var-dims'>()</div><div class='xr-var-dtype'>int64</div><div class='xr-var-preview xr-preview'>0</div><input id='attrs-ce4383d6-5ba8-48a7-bd8a-f77186f2d545' class='xr-var-attrs-in' type='checkbox' ><label for='attrs-ce4383d6-5ba8-48a7-bd8a-f77186f2d545' title='Show/Hide attributes'><svg class='icon xr-icon-file-text2'><use xlink:href='#icon-file-text2'></use></svg></label><input id='data-74580448-598c-4ae6-8f89-6953d18b99e1' class='xr-var-data-in' type='checkbox'><label for='data-74580448-598c-4ae6-8f89-6953d18b99e1' title='Show/Hide data repr'><svg class='icon xr-icon-database'><use xlink:href='#icon-database'></use></svg></label><div class='xr-var-attrs'><dl class='xr-attrs'><dt><span>crs_wkt :</span></dt><dd>PROJCS[&quot;Albers_Conical_Equal_Area&quot;,GEOGCS[&quot;WGS 84&quot;,DATUM[&quot;WGS_1984&quot;,SPHEROID[&quot;WGS 84&quot;,6378137,298.257223563,AUTHORITY[&quot;EPSG&quot;,&quot;7030&quot;]],AUTHORITY[&quot;EPSG&quot;,&quot;6326&quot;]],PRIMEM[&quot;Greenwich&quot;,0],UNIT[&quot;degree&quot;,0.0174532925199433,AUTHORITY[&quot;EPSG&quot;,&quot;9122&quot;]],AUTHORITY[&quot;EPSG&quot;,&quot;4326&quot;]],PROJECTION[&quot;Albers_Conic_Equal_Area&quot;],PARAMETER[&quot;latitude_of_center&quot;,23],PARAMETER[&quot;longitude_of_center&quot;,-96],PARAMETER[&quot;standard_parallel_1&quot;,29.5],PARAMETER[&quot;standard_parallel_2&quot;,45.5],PARAMETER[&quot;false_easting&quot;,0],PARAMETER[&quot;false_northing&quot;,0],UNIT[&quot;metre&quot;,1,AUTHORITY[&quot;EPSG&quot;,&quot;9001&quot;]],AXIS[&quot;Easting&quot;,EAST],AXIS[&quot;Northing&quot;,NORTH]]</dd><dt><span>semi_major_axis :</span></dt><dd>6378137.0</dd><dt><span>semi_minor_axis :</span></dt><dd>6356752.314245179</dd><dt><span>inverse_flattening :</span></dt><dd>298.257223563</dd><dt><span>reference_ellipsoid_name :</span></dt><dd>WGS 84</dd><dt><span>longitude_of_prime_meridian :</span></dt><dd>0.0</dd><dt><span>prime_meridian_name :</span></dt><dd>Greenwich</dd><dt><span>geographic_crs_name :</span></dt><dd>WGS 84</dd><dt><span>horizontal_datum_name :</span></dt><dd>World Geodetic System 1984</dd><dt><span>projected_crs_name :</span></dt><dd>Albers_Conical_Equal_Area</dd><dt><span>grid_mapping_name :</span></dt><dd>albers_conical_equal_area</dd><dt><span>standard_parallel :</span></dt><dd>(29.5, 45.5)</dd><dt><span>latitude_of_projection_origin :</span></dt><dd>23.0</dd><dt><span>longitude_of_central_meridian :</span></dt><dd>-96.0</dd><dt><span>false_easting :</span></dt><dd>0.0</dd><dt><span>false_northing :</span></dt><dd>0.0</dd><dt><span>spatial_ref :</span></dt><dd>PROJCS[&quot;Albers_Conical_Equal_Area&quot;,GEOGCS[&quot;WGS 84&quot;,DATUM[&quot;WGS_1984&quot;,SPHEROID[&quot;WGS 84&quot;,6378137,298.257223563,AUTHORITY[&quot;EPSG&quot;,&quot;7030&quot;]],AUTHORITY[&quot;EPSG&quot;,&quot;6326&quot;]],PRIMEM[&quot;Greenwich&quot;,0],UNIT[&quot;degree&quot;,0.0174532925199433,AUTHORITY[&quot;EPSG&quot;,&quot;9122&quot;]],AUTHORITY[&quot;EPSG&quot;,&quot;4326&quot;]],PROJECTION[&quot;Albers_Conic_Equal_Area&quot;],PARAMETER[&quot;latitude_of_center&quot;,23],PARAMETER[&quot;longitude_of_center&quot;,-96],PARAMETER[&quot;standard_parallel_1&quot;,29.5],PARAMETER[&quot;standard_parallel_2&quot;,45.5],PARAMETER[&quot;false_easting&quot;,0],PARAMETER[&quot;false_northing&quot;,0],UNIT[&quot;metre&quot;,1,AUTHORITY[&quot;EPSG&quot;,&quot;9001&quot;]],AXIS[&quot;Easting&quot;,EAST],AXIS[&quot;Northing&quot;,NORTH]]</dd><dt><span>GeoTransform :</span></dt><dd>1034055.0 30.0 0.0 2258295.0 0.0 -30.0</dd></dl></div><div class='xr-var-data'><pre>array(0)</pre></div></li></ul></div></li><li class='xr-section-item'><input id='section-232c415a-1de5-419c-9b78-ee68ebebd7f5' class='xr-section-summary-in' type='checkbox'  ><label for='section-232c415a-1de5-419c-9b78-ee68ebebd7f5' class='xr-section-summary' >Indexes: <span>(3)</span></label><div class='xr-section-inline-details'></div><div class='xr-section-details'><ul class='xr-var-list'><li class='xr-var-item'><div class='xr-index-name'><div>band</div></div><div class='xr-index-preview'>PandasIndex</div><div></div><input id='index-917b1c6e-08e2-463f-98e2-3d2f6ebb5c51' class='xr-index-data-in' type='checkbox'/><label for='index-917b1c6e-08e2-463f-98e2-3d2f6ebb5c51' title='Show/Hide index repr'><svg class='icon xr-icon-database'><use xlink:href='#icon-database'></use></svg></label><div class='xr-index-data'><pre>PandasIndex(Index([1], dtype=&#x27;int64&#x27;, name=&#x27;band&#x27;))</pre></div></li><li class='xr-var-item'><div class='xr-index-name'><div>x</div></div><div class='xr-index-preview'>PandasIndex</div><div></div><input id='index-059199a1-96c5-49e0-b047-69ae1c9e7a0c' class='xr-index-data-in' type='checkbox'/><label for='index-059199a1-96c5-49e0-b047-69ae1c9e7a0c' title='Show/Hide index repr'><svg class='icon xr-icon-database'><use xlink:href='#icon-database'></use></svg></label><div class='xr-index-data'><pre>PandasIndex(Index([1034070.0, 1034100.0, 1034130.0, 1034160.0, 1034190.0, 1034220.0,\n",
       "       1034250.0, 1034280.0, 1034310.0, 1034340.0,\n",
       "       ...\n",
       "       1045020.0, 1045050.0, 1045080.0, 1045110.0, 1045140.0, 1045170.0,\n",
       "       1045200.0, 1045230.0, 1045260.0, 1045290.0],\n",
       "      dtype=&#x27;float64&#x27;, name=&#x27;x&#x27;, length=375))</pre></div></li><li class='xr-var-item'><div class='xr-index-name'><div>y</div></div><div class='xr-index-preview'>PandasIndex</div><div></div><input id='index-b52cf75f-2578-499f-b516-5b71a7dba60c' class='xr-index-data-in' type='checkbox'/><label for='index-b52cf75f-2578-499f-b516-5b71a7dba60c' title='Show/Hide index repr'><svg class='icon xr-icon-database'><use xlink:href='#icon-database'></use></svg></label><div class='xr-index-data'><pre>PandasIndex(Index([2258280.0, 2258250.0, 2258220.0, 2258190.0, 2258160.0, 2258130.0,\n",
       "       2258100.0, 2258070.0, 2258040.0, 2258010.0,\n",
       "       ...\n",
       "       2253600.0, 2253570.0, 2253540.0, 2253510.0, 2253480.0, 2253450.0,\n",
       "       2253420.0, 2253390.0, 2253360.0, 2253330.0],\n",
       "      dtype=&#x27;float64&#x27;, name=&#x27;y&#x27;, length=166))</pre></div></li></ul></div></li><li class='xr-section-item'><input id='section-e8245c53-d6a6-4ff5-8c39-221a73482d36' class='xr-section-summary-in' type='checkbox'  checked><label for='section-e8245c53-d6a6-4ff5-8c39-221a73482d36' class='xr-section-summary' >Attributes: <span>(6)</span></label><div class='xr-section-inline-details'></div><div class='xr-section-details'><dl class='xr-attrs'><dt><span>AREA_OR_POINT :</span></dt><dd>Area</dd><dt><span>LAYER_TYPE :</span></dt><dd>thematic</dd><dt><span>OVERVIEWS_ALGORITHM :</span></dt><dd>IMAGINE Nearest Neighbor Resampling</dd><dt><span>scale_factor :</span></dt><dd>1.0</dd><dt><span>add_offset :</span></dt><dd>0.0</dd><dt><span>long_name :</span></dt><dd>Layer_1</dd></dl></div></li></ul></div></div>"
      ],
      "text/plain": [
       "<xarray.DataArray (band: 1, y: 166, x: 375)>\n",
       "[62250 values with dtype=uint8]\n",
       "Coordinates:\n",
       "  * band         (band) int64 1\n",
       "  * x            (x) float64 1.034e+06 1.034e+06 ... 1.045e+06 1.045e+06\n",
       "  * y            (y) float64 2.258e+06 2.258e+06 ... 2.253e+06 2.253e+06\n",
       "    spatial_ref  int64 0\n",
       "Attributes:\n",
       "    AREA_OR_POINT:        Area\n",
       "    LAYER_TYPE:           thematic\n",
       "    OVERVIEWS_ALGORITHM:  IMAGINE Nearest Neighbor Resampling\n",
       "    scale_factor:         1.0\n",
       "    add_offset:           0.0\n",
       "    long_name:            Layer_1"
      ]
     },
     "execution_count": 2,
     "metadata": {},
     "output_type": "execute_result"
    }
   ],
   "source": [
    "ou_landcover_2021_da = rioxarray.open_rasterio(Path(Path.cwd(), '../data', 'ou_land_cover_2021.tif'))\n",
    "ou_landcover_2021_da"
   ]
  },
  {
   "cell_type": "markdown",
   "id": "f6e3bbc7-3f21-4b71-8ddf-75c35259c420",
   "metadata": {},
   "source": [
    "We will use the same vector file containing place boundaries that we used in the last notebook. After reading in the place file for the state of Michigan, we'll query it to extract the boundaries for Auburn Hills and Rochester Hills."
   ]
  },
  {
   "cell_type": "code",
   "execution_count": 3,
   "id": "f4c1cfb6-2ec5-4e58-bc3e-fb5126d28a56",
   "metadata": {},
   "outputs": [
    {
     "data": {
      "text/html": [
       "<div>\n",
       "<style scoped>\n",
       "    .dataframe tbody tr th:only-of-type {\n",
       "        vertical-align: middle;\n",
       "    }\n",
       "\n",
       "    .dataframe tbody tr th {\n",
       "        vertical-align: top;\n",
       "    }\n",
       "\n",
       "    .dataframe thead th {\n",
       "        text-align: right;\n",
       "    }\n",
       "</style>\n",
       "<table border=\"1\" class=\"dataframe\">\n",
       "  <thead>\n",
       "    <tr style=\"text-align: right;\">\n",
       "      <th></th>\n",
       "      <th>STATEFP</th>\n",
       "      <th>PLACEFP</th>\n",
       "      <th>PLACENS</th>\n",
       "      <th>AFFGEOID</th>\n",
       "      <th>GEOID</th>\n",
       "      <th>NAME</th>\n",
       "      <th>NAMELSAD</th>\n",
       "      <th>STUSPS</th>\n",
       "      <th>STATE_NAME</th>\n",
       "      <th>LSAD</th>\n",
       "      <th>ALAND</th>\n",
       "      <th>AWATER</th>\n",
       "      <th>geometry</th>\n",
       "    </tr>\n",
       "  </thead>\n",
       "  <tbody>\n",
       "    <tr>\n",
       "      <th>471</th>\n",
       "      <td>26</td>\n",
       "      <td>04105</td>\n",
       "      <td>01625860</td>\n",
       "      <td>1600000US2604105</td>\n",
       "      <td>2604105</td>\n",
       "      <td>Auburn Hills</td>\n",
       "      <td>Auburn Hills city</td>\n",
       "      <td>MI</td>\n",
       "      <td>Michigan</td>\n",
       "      <td>25</td>\n",
       "      <td>43095047</td>\n",
       "      <td>113296</td>\n",
       "      <td>POLYGON ((-83.32895 42.70592, -83.30717 42.707...</td>\n",
       "    </tr>\n",
       "    <tr>\n",
       "      <th>731</th>\n",
       "      <td>26</td>\n",
       "      <td>69035</td>\n",
       "      <td>01626990</td>\n",
       "      <td>1600000US2669035</td>\n",
       "      <td>2669035</td>\n",
       "      <td>Rochester Hills</td>\n",
       "      <td>Rochester Hills city</td>\n",
       "      <td>MI</td>\n",
       "      <td>Michigan</td>\n",
       "      <td>25</td>\n",
       "      <td>84960992</td>\n",
       "      <td>254848</td>\n",
       "      <td>POLYGON ((-83.21403 42.70952, -83.19542 42.709...</td>\n",
       "    </tr>\n",
       "  </tbody>\n",
       "</table>\n",
       "</div>"
      ],
      "text/plain": [
       "    STATEFP PLACEFP   PLACENS          AFFGEOID    GEOID             NAME  \\\n",
       "471      26   04105  01625860  1600000US2604105  2604105     Auburn Hills   \n",
       "731      26   69035  01626990  1600000US2669035  2669035  Rochester Hills   \n",
       "\n",
       "                 NAMELSAD STUSPS STATE_NAME LSAD     ALAND  AWATER  \\\n",
       "471     Auburn Hills city     MI   Michigan   25  43095047  113296   \n",
       "731  Rochester Hills city     MI   Michigan   25  84960992  254848   \n",
       "\n",
       "                                              geometry  \n",
       "471  POLYGON ((-83.32895 42.70592, -83.30717 42.707...  \n",
       "731  POLYGON ((-83.21403 42.70952, -83.19542 42.709...  "
      ]
     },
     "execution_count": 3,
     "metadata": {},
     "output_type": "execute_result"
    }
   ],
   "source": [
    "mi_places_file = Path('../data', 'cb_2022_26_place_500k', 'cb_2022_26_place_500k.shp')\n",
    "mi_places_gdf = gpd.read_file(mi_places_file)\n",
    "\n",
    "ou_places_gdf = mi_places_gdf.query('NAME == \"Auburn Hills\" or NAME == \"Rochester Hills\"')\n",
    "ou_places_gdf"
   ]
  },
  {
   "cell_type": "markdown",
   "id": "cceec8f1-6a5c-42a0-89e4-523bcf210d32",
   "metadata": {},
   "source": [
    "Using the open source GIS package, [QGIS](), I manually created a vector layer containing a polygon corresponding to the OU campus. I exported the layer to a [GeoJSON]() file which is another common file format for storing vector data. Here's what the exported file looks like:"
   ]
  },
  {
   "cell_type": "markdown",
   "id": "bb5ce197-c3df-411e-8f17-981a91b8fa7c",
   "metadata": {},
   "source": [
    "```\n",
    "{\n",
    "\"type\": \"FeatureCollection\",\n",
    "\"name\": \"ou_boundary\",\n",
    "\"crs\": { \"type\": \"name\", \"properties\": { \"name\": \"urn:ogc:def:crs:OGC:1.3:CRS84\" } },\n",
    "\"features\": [\n",
    "{ \"type\": \"Feature\", \"properties\": { \"fid\": 1 }, \"geometry\": { \"type\": \"Polygon\", \"coordinates\": [ [ [ -83.220509168388844, 42.678653446491893 ], [ -83.214464053848729, 42.678723363504986 ], [ -83.210359202794379, 42.679828386721063 ], [ -83.194121952514863, 42.68031233903384 ], [ -83.193293099256138, 42.660199281509463 ], [ -83.19932851264484, 42.660173960983528 ], [ -83.219499255162631, 42.653238421627883 ], [ -83.216759168858616, 42.659141411113964 ], [ -83.217451868747403, 42.662629547726418 ], [ -83.218857978317274, 42.664900089508016 ], [ -83.21972258817641, 42.666806311613314 ], [ -83.220509168388844, 42.678653446491893 ] ] ] } }\n",
    "]\n",
    "}\n",
    "\n",
    "```"
   ]
  },
  {
   "cell_type": "markdown",
   "id": "119bc359-1e54-46a1-b1a4-9b9c6549bc81",
   "metadata": {},
   "source": [
    "It's essentially a dictionary (it is JSON, after all) with a `features` key that contains a list of dictionaries. Each of these dictionaries corresponds to one feature and has keys that include `geometry` which contains the actual data defining, in this case, our polygon. Just as with the shapefile, we can load this data into a `GeoDataFrame`. GeoPandas uses the file extension to infer the incoming data structure."
   ]
  },
  {
   "cell_type": "code",
   "execution_count": 4,
   "id": "e47ad356-5df8-46dd-94e8-3008bf441b29",
   "metadata": {},
   "outputs": [],
   "source": [
    "ou_boundary_file = Path('../data', 'ou_boundary.geojson')\n",
    "ou_boundary_gdf = gpd.read_file(ou_boundary_file)"
   ]
  },
  {
   "cell_type": "code",
   "execution_count": 5,
   "id": "8ebccb6d-6962-47db-b25f-014270febe9e",
   "metadata": {},
   "outputs": [
    {
     "data": {
      "text/plain": [
       "<Axes: >"
      ]
     },
     "execution_count": 5,
     "metadata": {},
     "output_type": "execute_result"
    },
    {
     "data": {
      "image/png": "[encoded data removed]",
      "text/plain": [
       "<Figure size 640x480 with 1 Axes>"
      ]
     },
     "metadata": {},
     "output_type": "display_data"
    }
   ],
   "source": [
    "ou_boundary_gdf.plot()"
   ]
  },
  {
   "cell_type": "code",
   "execution_count": 6,
   "id": "6845210a-4685-4fc0-b4f9-a0b6a97c3cc9",
   "metadata": {},
   "outputs": [
    {
     "data": {
      "text/plain": [
       "array([-83.22050917,  42.65323842, -83.1932931 ,  42.68031234])"
      ]
     },
     "execution_count": 6,
     "metadata": {},
     "output_type": "execute_result"
    }
   ],
   "source": [
    "ou_boundary_gdf.total_bounds"
   ]
  },
  {
   "cell_type": "code",
   "execution_count": 7,
   "id": "a13bb9fa-4f82-47d6-b59a-9d704c3eac18",
   "metadata": {},
   "outputs": [
    {
     "name": "stderr",
     "output_type": "stream",
     "text": [
      "/tmp/ipykernel_17567/2370587944.py:1: UserWarning: Geometry is in a geographic CRS. Results from 'centroid' are likely incorrect. Use 'GeoSeries.to_crs()' to re-project geometries to a projected CRS before this operation.\n",
      "\n",
      "  ou_boundary_gdf.centroid\n"
     ]
    },
    {
     "data": {
      "text/plain": [
       "0    POINT (-83.20694 42.66879)\n",
       "dtype: geometry"
      ]
     },
     "execution_count": 7,
     "metadata": {},
     "output_type": "execute_result"
    }
   ],
   "source": [
    "ou_boundary_gdf.centroid"
   ]
  },
  {
   "cell_type": "markdown",
   "id": "28b48e49-96dc-41d2-8436-b4147dc22ced",
   "metadata": {},
   "source": [
    "So, we have three different datasets:\n",
    "\n",
    "- a raster containing land use classification values\n",
    "- a vector containing the boundaries of Auburn Hills and Rochester Hills\n",
    "- a vector containing the boundaries of Oakland University (manually created in QGIS).\n",
    "\n",
    "In order to plot all three on the same map, we need to make sure we use a common CRS. First, let's confirm which CRS is being used for each."
   ]
  },
  {
   "cell_type": "markdown",
   "id": "c69a863f-b31c-4a52-abdd-a9768918ea7e",
   "metadata": {},
   "source": [
    "For raster data stored in an xarray `DataArray`, we use the rioxarray `rio` accessor to get the `crs` property. The `rio` accessor is how you use the geospatial functionality that rioxarray adds to xarray."
   ]
  },
  {
   "cell_type": "code",
   "execution_count": 8,
   "id": "ab5d7e93-a0f3-4c2b-ae51-47932c0279e0",
   "metadata": {},
   "outputs": [
    {
     "name": "stdout",
     "output_type": "stream",
     "text": [
      "PROJCS[\"Albers_Conical_Equal_Area\",GEOGCS[\"WGS 84\",DATUM[\"WGS_1984\",SPHEROID[\"WGS 84\",6378137,298.257223563,AUTHORITY[\"EPSG\",\"7030\"]],AUTHORITY[\"EPSG\",\"6326\"]],PRIMEM[\"Greenwich\",0],UNIT[\"degree\",0.0174532925199433,AUTHORITY[\"EPSG\",\"9122\"]],AUTHORITY[\"EPSG\",\"4326\"]],PROJECTION[\"Albers_Conic_Equal_Area\"],PARAMETER[\"latitude_of_center\",23],PARAMETER[\"longitude_of_center\",-96],PARAMETER[\"standard_parallel_1\",29.5],PARAMETER[\"standard_parallel_2\",45.5],PARAMETER[\"false_easting\",0],PARAMETER[\"false_northing\",0],UNIT[\"metre\",1,AUTHORITY[\"EPSG\",\"9001\"]],AXIS[\"Easting\",EAST],AXIS[\"Northing\",NORTH]]\n"
     ]
    }
   ],
   "source": [
    "print(ou_landcover_2021_da.rio.crs)"
   ]
  },
  {
   "cell_type": "markdown",
   "id": "9b6194f7-758b-499f-8e88-379d0c884cf8",
   "metadata": {},
   "source": [
    "The representation above is known as WKT, or [Well Known Text](https://en.wikipedia.org/wiki/Well-known_text_representation_of_coordinate_reference_systems). It is meant to be human readable as well as machine readable.\n",
    "\n",
    "From the above, we can determine that the [Albers Conical Equal Area](https://en.wikipedia.org/wiki/Albers_projection) projected CRS is being used for this raster data. This CRS is commonly used for North America and is one of the [projections used by the USGS](https://www.usgs.gov/publications/map-projections-used-us-geological-survey)."
   ]
  },
  {
   "cell_type": "markdown",
   "id": "759fa1c3-a8f4-4329-9d4f-c2ac667ca0c4",
   "metadata": {},
   "source": [
    "For the `GeoDataFrame` objects containing vector data, we can just use the `crs` property directly."
   ]
  },
  {
   "cell_type": "code",
   "execution_count": 11,
   "id": "07cf7a19-396f-4425-b392-5677c201f5c9",
   "metadata": {},
   "outputs": [
    {
     "name": "stdout",
     "output_type": "stream",
     "text": [
      "ou_places_gdf CRS: EPSG:4269\n"
     ]
    }
   ],
   "source": [
    "print(f'ou_places_gdf CRS: {ou_places_gdf.crs}')"
   ]
  },
  {
   "cell_type": "code",
   "execution_count": 12,
   "id": "6d06e757-de92-4ae5-a877-8f877cb86189",
   "metadata": {},
   "outputs": [
    {
     "name": "stdout",
     "output_type": "stream",
     "text": [
      "ou_boundary_gdf CRS: EPSG:4326\n"
     ]
    }
   ],
   "source": [
    "print(f'ou_boundary_gdf CRS: {ou_boundary_gdf.crs}')"
   ]
  },
  {
   "cell_type": "markdown",
   "id": "828acaf7-ecde-4ae5-9372-0c5e59742df3",
   "metadata": {},
   "source": [
    "Both of these CRSs seem to use longitude and latitude for their X and Y coordinate values. We know this is the case for EPSG:4326. What exactly is EPSG:4269? Googling \"EPSG:4326 vs EPSG:4269\" leads to this informative post on GIS StackExchange:\n",
    "\n",
    "- [https://gis.stackexchange.com/questions/170839/is-re-projection-needed-from-srid-4326-wgs-84-to-srid-4269-nad-83](https://gis.stackexchange.com/questions/170839/is-re-projection-needed-from-srid-4326-wgs-84-to-srid-4269-nad-83)\n",
    "\n",
    "While both projections use long/lat, they use different underlying datums (ellipsoid models of the earth). Regardless, we want to use the Albers Conical Equal Area projection for our plot as it is a projected CRS, whereas EPSG:4326 is not.\n",
    "\n",
    "How do we do this? Many geospatial analysis packages have reprojection capabilities - usually they are leveraging GDAL and PROJ. However, a few things to keep in mind:\n",
    "\n",
    "- reprojecting large raster files is computationally demanding. I've had problems doing such reprojections with Python packages and have had to resort to the GDAL command line utilities (which are awesome).\n",
    "- it can be tricky to correctly specify the textual code for a given CRS (more on this below)."
   ]
  },
  {
   "cell_type": "markdown",
   "id": "9e8b6802-c3cc-4c15-bd03-7dc2963c3a47",
   "metadata": {},
   "source": [
    "### Using GeoPandas to reproject vector data\n",
    "\n",
    "GeoPandas has a `to_crs` method that can reproject the `GeoDataFrame` to any projection we wish. "
   ]
  },
  {
   "cell_type": "code",
   "execution_count": 14,
   "id": "87f7c539-4b55-44be-b1ff-3b868ee79ab5",
   "metadata": {},
   "outputs": [
    {
     "name": "stdout",
     "output_type": "stream",
     "text": [
      "Help on method to_crs in module geopandas.geodataframe:\n",
      "\n",
      "to_crs(crs=None, epsg=None, inplace=False) method of geopandas.geodataframe.GeoDataFrame instance\n",
      "    Transform geometries to a new coordinate reference system.\n",
      "    \n",
      "    Transform all geometries in an active geometry column to a different coordinate\n",
      "    reference system.  The ``crs`` attribute on the current GeoSeries must\n",
      "    be set.  Either ``crs`` or ``epsg`` may be specified for output.\n",
      "    \n",
      "    This method will transform all points in all objects. It has no notion\n",
      "    of projecting entire geometries.  All segments joining points are\n",
      "    assumed to be lines in the current projection, not geodesics. Objects\n",
      "    crossing the dateline (or other projection boundary) will have\n",
      "    undesirable behavior.\n",
      "    \n",
      "    Parameters\n",
      "    ----------\n",
      "    crs : pyproj.CRS, optional if `epsg` is specified\n",
      "        The value can be anything accepted by\n",
      "        :meth:`pyproj.CRS.from_user_input() <pyproj.crs.CRS.from_user_input>`,\n",
      "        such as an authority string (eg \"EPSG:4326\") or a WKT string.\n",
      "    epsg : int, optional if `crs` is specified\n",
      "        EPSG code specifying output projection.\n",
      "    inplace : bool, optional, default: False\n",
      "        Whether to return a new GeoDataFrame or do the transformation in\n",
      "        place.\n",
      "    \n",
      "    Returns\n",
      "    -------\n",
      "    GeoDataFrame\n",
      "    \n",
      "    Examples\n",
      "    --------\n",
      "    >>> from shapely.geometry import Point\n",
      "    >>> d = {'col1': ['name1', 'name2'], 'geometry': [Point(1, 2), Point(2, 1)]}\n",
      "    >>> gdf = geopandas.GeoDataFrame(d, crs=4326)\n",
      "    >>> gdf\n",
      "        col1                 geometry\n",
      "    0  name1  POINT (1.00000 2.00000)\n",
      "    1  name2  POINT (2.00000 1.00000)\n",
      "    >>> gdf.crs  # doctest: +SKIP\n",
      "    <Geographic 2D CRS: EPSG:4326>\n",
      "    Name: WGS 84\n",
      "    Axis Info [ellipsoidal]:\n",
      "    - Lat[north]: Geodetic latitude (degree)\n",
      "    - Lon[east]: Geodetic longitude (degree)\n",
      "    Area of Use:\n",
      "    - name: World\n",
      "    - bounds: (-180.0, -90.0, 180.0, 90.0)\n",
      "    Datum: World Geodetic System 1984\n",
      "    - Ellipsoid: WGS 84\n",
      "    - Prime Meridian: Greenwich\n",
      "    \n",
      "    >>> gdf = gdf.to_crs(3857)\n",
      "    >>> gdf\n",
      "        col1                       geometry\n",
      "    0  name1  POINT (111319.491 222684.209)\n",
      "    1  name2  POINT (222638.982 111325.143)\n",
      "    >>> gdf.crs  # doctest: +SKIP\n",
      "    <Projected CRS: EPSG:3857>\n",
      "    Name: WGS 84 / Pseudo-Mercator\n",
      "    Axis Info [cartesian]:\n",
      "    - X[east]: Easting (metre)\n",
      "    - Y[north]: Northing (metre)\n",
      "    Area of Use:\n",
      "    - name: World - 85°S to 85°N\n",
      "    - bounds: (-180.0, -85.06, 180.0, 85.06)\n",
      "    Coordinate Operation:\n",
      "    - name: Popular Visualisation Pseudo-Mercator\n",
      "    - method: Popular Visualisation Pseudo Mercator\n",
      "    Datum: World Geodetic System 1984\n",
      "    - Ellipsoid: WGS 84\n",
      "    - Prime Meridian: Greenwich\n",
      "    \n",
      "    See also\n",
      "    --------\n",
      "    GeoDataFrame.set_crs : assign CRS without re-projection\n",
      "\n"
     ]
    }
   ],
   "source": [
    "help(ou_places_gdf.to_crs)"
   ]
  },
  {
   "cell_type": "markdown",
   "id": "afb0ccd3-6eae-440e-999f-257b95fe2a80",
   "metadata": {},
   "source": [
    "The first two arguments, `crs` and `epsg`, give us a few ways to specify the destination CRS. If you look closely at the `crs` argument, it expects a `pyproj.CRS` object or a valid text representation of the CRS such as \"EPSG:4326\" or a WKT string. Actually, there are a [whole lot of ways to specify the destination CRS](https://geopandas.org/en/stable/docs/user_guide/projections.html).\n",
    "\n",
    "What is `pyproj`?\n",
    "\n",
    "The [pyproj library](https://pyproj4.github.io/pyproj/stable/) is a:\n",
    "\n",
    "> Python interface to PROJ (cartographic projections and coordinate transformations library).\n",
    "\n",
    "According to the docus, `pyproj.crs.CRS` provides a \"Pythonic Coordinate Reference System manager\"."
   ]
  },
  {
   "cell_type": "code",
   "execution_count": 20,
   "id": "278fb3d9-a672-4dd5-88f0-e74dce3bea78",
   "metadata": {},
   "outputs": [
    {
     "name": "stdout",
     "output_type": "stream",
     "text": [
      "<class 'rasterio.crs.CRS'>\n"
     ]
    }
   ],
   "source": [
    "crs_land_use_raster = ou_landcover_2021_da.rio.crs\n",
    "print(type(crs_land_use_raster))"
   ]
  },
  {
   "cell_type": "markdown",
   "id": "c333604c-3e64-4bc4-8142-d89bb7888987",
   "metadata": {},
   "source": [
    "Now we can use this existing `CRS` object to specify the destination CRS for our vector data."
   ]
  },
  {
   "cell_type": "code",
   "execution_count": 14,
   "id": "6d97b989-f30c-4d90-9701-e12203cfb5fb",
   "metadata": {},
   "outputs": [],
   "source": [
    "ou_places_aea_gdf = ou_places_gdf.to_crs(crs_land_use_raster)\n",
    "ou_boundary_aea_gdf = ou_boundary_gdf.to_crs(crs_land_use_raster)"
   ]
  },
  {
   "cell_type": "code",
   "execution_count": null,
   "id": "5570cad9-6d6d-4080-a1b4-34709c4939c7",
   "metadata": {},
   "outputs": [],
   "source": []
  },
  {
   "cell_type": "markdown",
   "id": "2c858a3d-f04e-4e1a-8324-1e7fc8e28b45",
   "metadata": {},
   "source": [
    "### Question\n",
    "\n",
    "Check the CRS of the two vector dataframes."
   ]
  },
  {
   "cell_type": "code",
   "execution_count": null,
   "id": "57c3e6f4-acfc-4db4-8d60-fa80753380c3",
   "metadata": {},
   "outputs": [],
   "source": [
    "# CRS of the vector dataframes\n"
   ]
  },
  {
   "cell_type": "markdown",
   "id": "0950eab6-ae27-437e-813e-35d37bd30a03",
   "metadata": {
    "jp-MarkdownHeadingCollapsed": true
   },
   "source": [
    "### Answer"
   ]
  },
  {
   "cell_type": "code",
   "execution_count": null,
   "id": "b6bb0c78-d156-40db-ac59-4071b3291518",
   "metadata": {},
   "outputs": [],
   "source": [
    "print(ou_places_aea_gdf.crs)\n",
    "print(ou_boundary_aea_gdf.crs)"
   ]
  },
  {
   "cell_type": "markdown",
   "id": "75d8ee10-9134-42d3-9e00-54e615905534",
   "metadata": {},
   "source": [
    "### Plotting the data\n",
    "\n",
    "Let's plot these the two vector dataframes. They should overlap.\n",
    "\n",
    "GeoPandas has a built in `plot()` function that operates on `GeoDataFrames. See [https://geopandas.org/en/stable/docs/user_guide/mapping.html](https://geopandas.org/en/stable/docs/user_guide/mapping.html) for all the details. Most of the options are standard matplotlib things for controlling details of the plot appearance."
   ]
  },
  {
   "cell_type": "code",
   "execution_count": 22,
   "id": "1f944cb4-878a-48af-8016-e20d9aff2f42",
   "metadata": {},
   "outputs": [
    {
     "data": {
      "text/plain": [
       "<Axes: >"
      ]
     },
     "execution_count": 22,
     "metadata": {},
     "output_type": "execute_result"
    },
    {
     "data": {
      "image/png": "[encoded data removed]",
      "text/plain": [
       "<Figure size 640x480 with 1 Axes>"
      ]
     },
     "metadata": {},
     "output_type": "display_data"
    }
   ],
   "source": [
    "fig, ax = plt.subplots()\n",
    "ou_places_aea_gdf.plot(ax=ax)\n",
    "ou_boundary_aea_gdf.plot(ax=ax, color='gold')"
   ]
  },
  {
   "cell_type": "markdown",
   "id": "40fd732f-11a2-4f51-8619-e8b81532164e",
   "metadata": {},
   "source": [
    "The plot reveals something interesting. The OU campus straddles the border between Auburn Hills and Rochester Hills. "
   ]
  },
  {
   "cell_type": "code",
   "execution_count": 18,
   "id": "c7546890-a04b-46f9-850f-874feb314f27",
   "metadata": {},
   "outputs": [
    {
     "data": {
      "text/plain": [
       "<Axes: title={'center': 'band = 1, spatial_ref = 0'}, xlabel='x', ylabel='y'>"
      ]
     },
     "execution_count": 18,
     "metadata": {},
     "output_type": "execute_result"
    },
    {
     "data": {
      "image/png": "[encoded data removed]",
      "text/plain": [
       "<Figure size 640x480 with 2 Axes>"
      ]
     },
     "metadata": {},
     "output_type": "display_data"
    }
   ],
   "source": [
    "fig, ax = plt.subplots()\n",
    "ou_landcover_2021_da.plot(ax=ax, cmap='Pastel2', zorder=1)\n",
    "ou_places_aea_gdf.plot(ax=ax, alpha=0.5, zorder=2)\n",
    "ou_boundary_aea_gdf.plot(ax=ax, color='gold', alpha=0.8, zorder=3)\n"
   ]
  },
  {
   "cell_type": "markdown",
   "id": "d74c57b7-f89f-48d3-a357-8eb2cae26226",
   "metadata": {},
   "source": [
    "Seems like the default extent is being controlled by the size of the raster. Another option for geospatial plotting in Python is the [Cartopy](http://scitools.org.uk/cartopy/docs/latest/) package.\n",
    "\n",
    "From the [Cartopy docs](https://scitools.org.uk/cartopy/docs/latest/):\n",
    "\n",
    "> - Cartopy is a Python package designed for geospatial data processing in order to produce maps and other geospatial data analyses.\n",
    ">\n",
    "> - Cartopy makes use of the powerful PROJ, NumPy and Shapely libraries and includes a programmatic interface built on top of Matplotlib for the creation of publication quality maps.\n",
    ">\n",
    "> - Key features of cartopy are its object oriented projection definitions, and its ability to transform points, lines, vectors, polygons and images between those projections.\n",
    ">\n",
    "> - You will find cartopy especially useful for large area / small scale data, where Cartesian assumptions of spherical data traditionally break down. If you’ve ever experienced a singularity at the pole or a cut-off at the dateline, it is likely you will appreciate cartopy’s unique features!\n",
    "\n",
    "We won't go into much detail with Cartopy right now."
   ]
  },
  {
   "cell_type": "code",
   "execution_count": 22,
   "id": "0dbcb15a-64c8-4ff5-a8ee-1982d8a0336c",
   "metadata": {},
   "outputs": [],
   "source": [
    "import cartopy.crs as ccrs                   # import projections"
   ]
  },
  {
   "cell_type": "markdown",
   "id": "1ad2d0ef-a6c0-4b9e-bc31-7746e51824e8",
   "metadata": {},
   "source": [
    "We'll create a CRS object for our Albers projections. This will get used when we create the plot axes."
   ]
  },
  {
   "cell_type": "code",
   "execution_count": 23,
   "id": "1697a16d-4f9f-4ce1-8c53-71e418c8bac4",
   "metadata": {},
   "outputs": [],
   "source": [
    "crs_aea = ccrs.AlbersEqualArea()"
   ]
  },
  {
   "cell_type": "markdown",
   "id": "63510556-54cf-43a8-9c73-de75ee76b9c3",
   "metadata": {},
   "source": [
    "Cartopy makes it easy to set the map extent using a bounding box. However, it wants the elements of the box in a slightly different order than what we've used previously. Cartopy specifies extents with **(xmin, xmax, ymin, ymax)**. We can use the `ou_places_aea_gdf` dataframe as the basis for our extent,"
   ]
  },
  {
   "cell_type": "code",
   "execution_count": 24,
   "id": "598cca7b-bc19-4cec-9374-f610b622b9b9",
   "metadata": {},
   "outputs": [
    {
     "data": {
      "text/plain": [
       "array([1028821.72370821, 2249882.28354187, 1049224.58562468,\n",
       "       2261812.53566168])"
      ]
     },
     "execution_count": 24,
     "metadata": {},
     "output_type": "execute_result"
    }
   ],
   "source": [
    "# Notice xmin, ymin, xmax, ymax\n",
    "ou_places_aea_gdf.total_bounds"
   ]
  },
  {
   "cell_type": "code",
   "execution_count": 25,
   "id": "a207c921-9eb1-47b2-b677-3a79668b3890",
   "metadata": {},
   "outputs": [],
   "source": [
    "# Notice xmin, xmax, ymin, ymax\n",
    "ou_places_extent = (ou_places_aea_gdf.total_bounds[0], \n",
    "                    ou_places_aea_gdf.total_bounds[2], \n",
    "                    ou_places_aea_gdf.total_bounds[1], \n",
    "                    ou_places_aea_gdf.total_bounds[3])"
   ]
  },
  {
   "cell_type": "code",
   "execution_count": 26,
   "id": "62664be2-8ccf-4ac7-8734-03677d5d96f6",
   "metadata": {},
   "outputs": [
    {
     "data": {
      "image/png": "[encoded data removed]",
      "text/plain": [
       "<Figure size 1600x900 with 2 Axes>"
      ]
     },
     "metadata": {},
     "output_type": "display_data"
    }
   ],
   "source": [
    "# Create figure and set size\n",
    "fig1 = plt.figure()\n",
    "fig1.set_figheight(9)\n",
    "fig1.set_figwidth(16)\n",
    "\n",
    "# create a set of axes with desired projection  \n",
    "ax1 = plt.axes(projection = crs_aea)\n",
    "\n",
    "# Set map extent\n",
    "ax1.set_extent(ou_places_extent, crs = crs_aea)\n",
    "\n",
    "# Add vectors\n",
    "ax1.add_geometries(ou_places_aea_gdf.geometry, crs=crs_aea, \n",
    "                   facecolor=\"#a2d572\", edgecolor=\"grey\", linewidth=0.5, alpha=0.5) \n",
    "ax1.add_geometries(ou_boundary_aea_gdf.geometry, facecolor=\"none\", crs=crs_aea, edgecolor=\"black\", linewidth=0.5, alpha=0.5) \n",
    "\n",
    "# Add land use raster\n",
    "ou_landcover_2021_da.plot(ax=ax1, cmap='Pastel2')\n",
    "\n",
    "ax1.set_title(\"Combining vector and raster layers on a map\")                    \n",
    "plt.show()"
   ]
  },
  {
   "cell_type": "markdown",
   "id": "76d01337-ee18-4cac-91f4-099741468d66",
   "metadata": {},
   "source": [
    "The reprojections seem to have worked as we can see the raster and both vector layers on our plot. Obviously, more work is needed to make this usable. In later sections we'll learn how to clip data layers to just include the data we want to plot as well to fine turn our maps."
   ]
  },
  {
   "cell_type": "markdown",
   "id": "36d9ab64-7210-4e2a-859a-7c5e7d2e203d",
   "metadata": {},
   "source": [
    "## Next steps\n",
    "\n",
    "**TODO** Give overview of overall analysis that we'll do in the module as well as what we'll do in next section."
   ]
  },
  {
   "cell_type": "code",
   "execution_count": null,
   "id": "004dd7f7-ca7d-47ab-8ef7-b46e56a8bb63",
   "metadata": {},
   "outputs": [],
   "source": []
  },
  {
   "cell_type": "markdown",
   "id": "fffc2f0f-6980-485f-b13e-651189c84ac4",
   "metadata": {},
   "source": [
    "### Question\n",
    "\n",
    "Here's a question."
   ]
  },
  {
   "cell_type": "markdown",
   "id": "4fb81ecb-bbda-4304-9e2d-779fbdd47ca2",
   "metadata": {},
   "source": [
    "### Answer"
   ]
  },
  {
   "cell_type": "code",
   "execution_count": 1,
   "id": "4b757b8c-1364-4385-ab33-ef1aa2076450",
   "metadata": {},
   "outputs": [
    {
     "name": "stdout",
     "output_type": "stream",
     "text": [
      "here's the answer\n"
     ]
    }
   ],
   "source": [
    "print(\"here's the answer\")"
   ]
  },
  {
   "cell_type": "code",
   "execution_count": null,
   "id": "67c338b0-2706-423a-82bd-bfd4b4d83fd3",
   "metadata": {},
   "outputs": [],
   "source": []
  },
  {
   "cell_type": "code",
   "execution_count": null,
   "id": "06a1e199-6bdf-4596-8288-569859d648e8",
   "metadata": {},
   "outputs": [],
   "source": []
  },
  {
   "cell_type": "code",
   "execution_count": null,
   "id": "c4b80b60-e6fe-47fe-b7a6-8a7770737a08",
   "metadata": {},
   "outputs": [],
   "source": []
  }
 ],
 "metadata": {
  "kernelspec": {
   "display_name": "Python [conda env:quarto_eogeo_310]",
   "language": "python",
   "name": "conda-env-quarto_eogeo_310-py"
  },
  "language_info": {
   "codemirror_mode": {
    "name": "ipython",
    "version": 3
   },
   "file_extension": ".py",
   "mimetype": "text/x-python",
   "name": "python",
   "nbconvert_exporter": "python",
   "pygments_lexer": "ipython3",
   "version": "3.10.14"
  }
 },
 "nbformat": 4,
 "nbformat_minor": 5
}
